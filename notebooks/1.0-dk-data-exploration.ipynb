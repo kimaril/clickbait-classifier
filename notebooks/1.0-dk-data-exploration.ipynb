{
 "cells": [
  {
   "cell_type": "code",
   "execution_count": 1,
   "metadata": {},
   "outputs": [],
   "source": [
    "import pandas as pd\n",
    "import numpy as np\n",
    "import os\n",
    "import re\n",
    "from nltk import word_tokenize, sent_tokenize\n",
    "\n",
    "from sklearn.model_selection import train_test_split\n",
    "import seaborn as sns\n",
    "from tqdm._tqdm_notebook import tqdm_notebook\n",
    "\n",
    "#from utils import Word2vecProcessor\n",
    "import gzip\n",
    "\n",
    "import matplotlib.pyplot as plt # as seaborn doesn't seem to address any type of pie-plots\n",
    "%matplotlib inline"
   ]
  },
  {
   "cell_type": "code",
   "execution_count": 2,
   "metadata": {},
   "outputs": [],
   "source": [
    "# ignore futurewarning\n",
    "import warnings\n",
    "\n",
    "warnings.simplefilter(action='ignore', category=FutureWarning)"
   ]
  },
  {
   "cell_type": "markdown",
   "metadata": {},
   "source": [
    "# Fix & clean"
   ]
  },
  {
   "cell_type": "code",
   "execution_count": 2,
   "metadata": {},
   "outputs": [],
   "source": [
    "if not os.path.exists(\"../data/raw/fixed/\"):\n",
    "    os.mkdir(\"../data/raw/fixed\")"
   ]
  },
  {
   "cell_type": "code",
   "execution_count": 4,
   "metadata": {},
   "outputs": [],
   "source": [
    "# shell code for fixing files\n",
    "\n",
    "! sed -E -e 's/\\\\\\\\/\\\\/g' ../data/raw/newsdump/dni_ru.json > ../data/raw/fixed/dni_ru.fixed.json\n",
    "! sed -E -e 's/\\\\\\\\/\\\\/g' ../data/raw/newsdump/interfax_ru.json > ../data/raw/fixed/interfax_ru.fixed.json\n",
    "! sed -E -e 's/\\\\\\\\/\\\\/g' ../data/raw/newsdump/kp_ru.json > ../data/raw/fixed/kp_ru.fixed.json\n",
    "! sed -E -e 's/\\\\\\\\/\\\\/g' ../data/raw/newsdump/meduza_io.json > ../data/raw/fixed/meduza_io.fixed.json\n",
    "! sed -E -e 's/\\\\\\\\/\\\\/g' ../data/raw/newsdump/mk_ru.json > ../data/raw/fixed/mk_ru.fixed.json\n",
    "! sed -E -e 's/\\\\\\\\/\\\\/g' ../data/raw/newsdump/novayagazeta_ru.json > ../data/raw/fixed/novayagazeta_ru.fixed.json\n",
    "! sed -E -e 's/\\\\\\\\/\\\\/g' ../data/raw/newsdump/rg_ru.json > ../data/raw/fixed/rg_ru.fixed.json\n",
    "! sed -E -e 's/\\\\\\\\/\\\\/g' ../data/raw/newsdump/ria_ru.json > ../data/raw/fixed/ria_ru.fixed.json\n",
    "! sed -E -e 's/\\\\\\\\/\\\\/g' ../data/raw/newsdump/tass_ru.json > ../data/raw/fixed/tass_ru.fixed.json\n",
    "! sed -E -e 's/\\\\\\\\/\\\\/g' ../data/raw/newsdump/utro_ru.json > ../data/raw/fixed/utro_ru.fixed.json"
   ]
  },
  {
   "cell_type": "code",
   "execution_count": 5,
   "metadata": {},
   "outputs": [
    {
     "name": "stdout",
     "output_type": "stream",
     "text": [
      "Processing dni_ru.fixed.json ...\n",
      "Processing kp_ru.fixed.json ...\n",
      "Processing rg_ru.fixed.json ...\n",
      "Processing meduza_io.fixed.json ...\n",
      "Processing tass_ru.fixed.json ...\n",
      "Processing ria_ru.fixed.json ...\n",
      "Processing novayagazeta_ru.fixed.json ...\n",
      "Processing utro_ru.fixed.json ...\n",
      "Processing interfax_ru.fixed.json ...\n",
      "Processing mk_ru.fixed.json ...\n"
     ]
    }
   ],
   "source": [
    "! mkdir ../data/raw/cleaned\n",
    "\n",
    "for filename in os.listdir(\"../data/raw/fixed/\"):\n",
    "    with open(\"../data/raw/fixed/{0}\".format(filename)) as file:\n",
    "        print(\"Processing {0} ...\".format(filename))\n",
    "        df = pd.read_json(file, encoding=\"utf-8\", lines=True)\n",
    "        df = df.drop_duplicates(subset=[\"title\", \"docdate\", \"text\"]).sort_values(by=[\"docdate\"], ascending=False)\n",
    "        df.to_json(\"../data/raw/cleaned/{0}\".format(filename))"
   ]
  },
  {
   "cell_type": "markdown",
   "metadata": {},
   "source": [
    "## Интерфакс"
   ]
  },
  {
   "cell_type": "code",
   "execution_count": 3,
   "metadata": {},
   "outputs": [],
   "source": [
    "inter = pd.read_json(\"../data/raw/cleaned/interfax_ru.fixed.json\", encoding=\"utf-8\", lines=False)"
   ]
  },
  {
   "cell_type": "code",
   "execution_count": 4,
   "metadata": {},
   "outputs": [],
   "source": [
    "inter_sub = lambda text : re.sub(\"^.*-\\s\", \"\", text)"
   ]
  },
  {
   "cell_type": "code",
   "execution_count": 5,
   "metadata": {},
   "outputs": [
    {
     "data": {
      "application/vnd.jupyter.widget-view+json": {
       "model_id": "596fbe70a69e42c089802afbbe32d68f",
       "version_major": 2,
       "version_minor": 0
      },
      "text/plain": [
       "HBox(children=(IntProgress(value=0, description='Sub...', max=89681, style=ProgressStyle(description_width='in…"
      ]
     },
     "metadata": {},
     "output_type": "display_data"
    },
    {
     "name": "stdout",
     "output_type": "stream",
     "text": [
      "\n"
     ]
    }
   ],
   "source": [
    "tqdm_notebook.pandas(desc=\"Sub...\")\n",
    "\n",
    "inter[\"text\"] = inter[\"text\"].progress_apply(inter_sub)"
   ]
  },
  {
   "cell_type": "code",
   "execution_count": 6,
   "metadata": {},
   "outputs": [
    {
     "data": {
      "text/html": [
       "<div>\n",
       "<style scoped>\n",
       "    .dataframe tbody tr th:only-of-type {\n",
       "        vertical-align: middle;\n",
       "    }\n",
       "\n",
       "    .dataframe tbody tr th {\n",
       "        vertical-align: top;\n",
       "    }\n",
       "\n",
       "    .dataframe thead th {\n",
       "        text-align: right;\n",
       "    }\n",
       "</style>\n",
       "<table border=\"1\" class=\"dataframe\">\n",
       "  <thead>\n",
       "    <tr style=\"text-align: right;\">\n",
       "      <th></th>\n",
       "      <th>doc_id</th>\n",
       "      <th>docdate</th>\n",
       "      <th>text</th>\n",
       "      <th>title</th>\n",
       "      <th>url</th>\n",
       "    </tr>\n",
       "  </thead>\n",
       "  <tbody>\n",
       "    <tr>\n",
       "      <th>0</th>\n",
       "      <td>124272138</td>\n",
       "      <td>2018-11-20T15:23:00</td>\n",
       "      <td>Россия поставила Анголе четыре истреьителя Су-...</td>\n",
       "      <td>Россия поставила Анголе четыре истребителя Су-...</td>\n",
       "      <td>http://www.interfax.ru/world/638657</td>\n",
       "    </tr>\n",
       "    <tr>\n",
       "      <th>1</th>\n",
       "      <td>124272120</td>\n",
       "      <td>2018-11-20T15:10:00</td>\n",
       "      <td>Нерезиденты и дочерние иностранные банки в окт...</td>\n",
       "      <td>Нерезиденты в октябре купили ОФЗ на аукционах ...</td>\n",
       "      <td>http://www.interfax.ru/business/638658</td>\n",
       "    </tr>\n",
       "    <tr>\n",
       "      <th>10</th>\n",
       "      <td>124257606</td>\n",
       "      <td>2018-11-20T14:26:00</td>\n",
       "      <td>Отделение Пенсионного фонда России по Самарско...</td>\n",
       "      <td>Нескольких умерших жителей Самары по ошибке пр...</td>\n",
       "      <td>http://www.interfax.ru/russia/638651</td>\n",
       "    </tr>\n",
       "    <tr>\n",
       "      <th>100</th>\n",
       "      <td>124067142</td>\n",
       "      <td>2018-11-19T19:47:00</td>\n",
       "      <td>Глава дипломатии ЕС Федерика Могерини заявила,...</td>\n",
       "      <td>ЕС предпримет меры из-за \"чрезмерных инспекций...</td>\n",
       "      <td>http://www.interfax.ru/world/638545</td>\n",
       "    </tr>\n",
       "    <tr>\n",
       "      <th>1000</th>\n",
       "      <td>122766500</td>\n",
       "      <td>2018-11-14T18:45:00</td>\n",
       "      <td>Сотруднику Центрального научно-исследовательск...</td>\n",
       "      <td>Предложенная ученому Кудрявцеву сделка со след...</td>\n",
       "      <td>http://www.interfax.ru/russia/637890</td>\n",
       "    </tr>\n",
       "  </tbody>\n",
       "</table>\n",
       "</div>"
      ],
      "text/plain": [
       "         doc_id              docdate  \\\n",
       "0     124272138  2018-11-20T15:23:00   \n",
       "1     124272120  2018-11-20T15:10:00   \n",
       "10    124257606  2018-11-20T14:26:00   \n",
       "100   124067142  2018-11-19T19:47:00   \n",
       "1000  122766500  2018-11-14T18:45:00   \n",
       "\n",
       "                                                   text  \\\n",
       "0     Россия поставила Анголе четыре истреьителя Су-...   \n",
       "1     Нерезиденты и дочерние иностранные банки в окт...   \n",
       "10    Отделение Пенсионного фонда России по Самарско...   \n",
       "100   Глава дипломатии ЕС Федерика Могерини заявила,...   \n",
       "1000  Сотруднику Центрального научно-исследовательск...   \n",
       "\n",
       "                                                  title  \\\n",
       "0     Россия поставила Анголе четыре истребителя Су-...   \n",
       "1     Нерезиденты в октябре купили ОФЗ на аукционах ...   \n",
       "10    Нескольких умерших жителей Самары по ошибке пр...   \n",
       "100   ЕС предпримет меры из-за \"чрезмерных инспекций...   \n",
       "1000  Предложенная ученому Кудрявцеву сделка со след...   \n",
       "\n",
       "                                         url  \n",
       "0        http://www.interfax.ru/world/638657  \n",
       "1     http://www.interfax.ru/business/638658  \n",
       "10      http://www.interfax.ru/russia/638651  \n",
       "100      http://www.interfax.ru/world/638545  \n",
       "1000    http://www.interfax.ru/russia/637890  "
      ]
     },
     "execution_count": 6,
     "metadata": {},
     "output_type": "execute_result"
    }
   ],
   "source": [
    "inter.head() # beautiful'"
   ]
  },
  {
   "cell_type": "code",
   "execution_count": 8,
   "metadata": {},
   "outputs": [],
   "source": [
    "inter.to_json(\"../data/raw/cleaned/interfax_ru.fixed.json\", force_ascii=False)"
   ]
  },
  {
   "cell_type": "code",
   "execution_count": 143,
   "metadata": {},
   "outputs": [
    {
     "name": "stdout",
     "output_type": "stream",
     "text": [
      "Interfax.ru dump size: 89681\n"
     ]
    }
   ],
   "source": [
    "print(\"Interfax.ru dump size: {}\".format(inter.shape[0]))"
   ]
  },
  {
   "cell_type": "code",
   "execution_count": 99,
   "metadata": {},
   "outputs": [
    {
     "data": {
      "text/plain": [
       "Timestamp('2016-03-23 13:38:00')"
      ]
     },
     "execution_count": 99,
     "metadata": {},
     "output_type": "execute_result"
    }
   ],
   "source": [
    "inter.docdate.min()"
   ]
  },
  {
   "cell_type": "code",
   "execution_count": 104,
   "metadata": {},
   "outputs": [
    {
     "name": "stdout",
     "output_type": "stream",
     "text": [
      "News entries dated back in 2018: 42606\n"
     ]
    }
   ],
   "source": [
    "print(\"News entries dated back in 2018: {}\".format(inter[inter[\"docdate\"]>=pd.to_datetime(\"2018\", format=\"%Y\")].shape[0]))"
   ]
  },
  {
   "cell_type": "code",
   "execution_count": 101,
   "metadata": {},
   "outputs": [],
   "source": [
    "inter[\"source\"] = inter[\"url\"].apply(lambda x : \"Interfax\")"
   ]
  },
  {
   "cell_type": "markdown",
   "metadata": {},
   "source": [
    "## Dni.ru"
   ]
  },
  {
   "cell_type": "code",
   "execution_count": 142,
   "metadata": {},
   "outputs": [
    {
     "name": "stdout",
     "output_type": "stream",
     "text": [
      "Dni.ru dump size: 66503\n"
     ]
    },
    {
     "data": {
      "text/html": [
       "<div>\n",
       "<style scoped>\n",
       "    .dataframe tbody tr th:only-of-type {\n",
       "        vertical-align: middle;\n",
       "    }\n",
       "\n",
       "    .dataframe tbody tr th {\n",
       "        vertical-align: top;\n",
       "    }\n",
       "\n",
       "    .dataframe thead th {\n",
       "        text-align: right;\n",
       "    }\n",
       "</style>\n",
       "<table border=\"1\" class=\"dataframe\">\n",
       "  <thead>\n",
       "    <tr style=\"text-align: right;\">\n",
       "      <th></th>\n",
       "      <th>doc_id</th>\n",
       "      <th>docdate</th>\n",
       "      <th>text</th>\n",
       "      <th>title</th>\n",
       "      <th>url</th>\n",
       "      <th>source</th>\n",
       "    </tr>\n",
       "  </thead>\n",
       "  <tbody>\n",
       "    <tr>\n",
       "      <th>0</th>\n",
       "      <td>124036509</td>\n",
       "      <td>2018-11-19 17:52:00</td>\n",
       "      <td>Двусмысленные комментарии и туманные намеки зн...</td>\n",
       "      <td>Последние новости шоу-бизнеса на сегодня, 19 н...</td>\n",
       "      <td>http://www.dni.ru/showbiz/2018/11/19/411651.html</td>\n",
       "      <td>Dni.ru</td>\n",
       "    </tr>\n",
       "    <tr>\n",
       "      <th>1</th>\n",
       "      <td>124036520</td>\n",
       "      <td>2018-11-19 17:34:00</td>\n",
       "      <td>Ситуация в Азовском море нынче неспокойная. Ук...</td>\n",
       "      <td>Соловьев лихо унизил зарвавшихся украинцев</td>\n",
       "      <td>http://www.dni.ru/society/2018/11/19/411643.html</td>\n",
       "      <td>Dni.ru</td>\n",
       "    </tr>\n",
       "    <tr>\n",
       "      <th>10</th>\n",
       "      <td>124001932</td>\n",
       "      <td>2018-11-19 14:44:00</td>\n",
       "      <td>Первая российская чемпионка мира в женском оди...</td>\n",
       "      <td>Бутырская высказалась о лишних килограммах Заг...</td>\n",
       "      <td>http://www.dni.ru/sport/2018/11/19/411630.html</td>\n",
       "      <td>Dni.ru</td>\n",
       "    </tr>\n",
       "    <tr>\n",
       "      <th>100</th>\n",
       "      <td>123382924</td>\n",
       "      <td>2018-11-16 21:00:00</td>\n",
       "      <td>Певцу и композитору Игорю Корнелюку исполнилос...</td>\n",
       "      <td>Отпрыгался: памятник Корнелюку отольют из золота</td>\n",
       "      <td>http://www.dni.ru/showbiz/2018/11/16/411518.html</td>\n",
       "      <td>Dni.ru</td>\n",
       "    </tr>\n",
       "    <tr>\n",
       "      <th>1000</th>\n",
       "      <td>119573171</td>\n",
       "      <td>2018-10-29 17:12:00</td>\n",
       "      <td>В Незалежной продолжают строить планы по возвр...</td>\n",
       "      <td>На Украине озвучили план возвращения Крыма</td>\n",
       "      <td>http://www.dni.ru/polit/2018/10/29/410254.html</td>\n",
       "      <td>Dni.ru</td>\n",
       "    </tr>\n",
       "  </tbody>\n",
       "</table>\n",
       "</div>"
      ],
      "text/plain": [
       "         doc_id             docdate  \\\n",
       "0     124036509 2018-11-19 17:52:00   \n",
       "1     124036520 2018-11-19 17:34:00   \n",
       "10    124001932 2018-11-19 14:44:00   \n",
       "100   123382924 2018-11-16 21:00:00   \n",
       "1000  119573171 2018-10-29 17:12:00   \n",
       "\n",
       "                                                   text  \\\n",
       "0     Двусмысленные комментарии и туманные намеки зн...   \n",
       "1     Ситуация в Азовском море нынче неспокойная. Ук...   \n",
       "10    Первая российская чемпионка мира в женском оди...   \n",
       "100   Певцу и композитору Игорю Корнелюку исполнилос...   \n",
       "1000  В Незалежной продолжают строить планы по возвр...   \n",
       "\n",
       "                                                  title  \\\n",
       "0     Последние новости шоу-бизнеса на сегодня, 19 н...   \n",
       "1            Соловьев лихо унизил зарвавшихся украинцев   \n",
       "10    Бутырская высказалась о лишних килограммах Заг...   \n",
       "100    Отпрыгался: памятник Корнелюку отольют из золота   \n",
       "1000         На Украине озвучили план возвращения Крыма   \n",
       "\n",
       "                                                   url  source  \n",
       "0     http://www.dni.ru/showbiz/2018/11/19/411651.html  Dni.ru  \n",
       "1     http://www.dni.ru/society/2018/11/19/411643.html  Dni.ru  \n",
       "10      http://www.dni.ru/sport/2018/11/19/411630.html  Dni.ru  \n",
       "100   http://www.dni.ru/showbiz/2018/11/16/411518.html  Dni.ru  \n",
       "1000    http://www.dni.ru/polit/2018/10/29/410254.html  Dni.ru  "
      ]
     },
     "execution_count": 142,
     "metadata": {},
     "output_type": "execute_result"
    }
   ],
   "source": [
    "dni = pd.read_json(\"../data/raw/cleaned/dni_ru.fixed.json\", encoding=\"utf-8\", lines=False)\n",
    "dni[\"docdate\"] = dni[\"docdate\"].apply(pd.to_datetime)\n",
    "print(\"Dni.ru dump size: {0}\".format(dni.shape[0]))\n",
    "dni.head()"
   ]
  },
  {
   "cell_type": "code",
   "execution_count": 105,
   "metadata": {},
   "outputs": [
    {
     "name": "stdout",
     "output_type": "stream",
     "text": [
      "News entries dated back in 2018: 22251\n"
     ]
    }
   ],
   "source": [
    "print(\"News entries dated back in 2018: {}\".format(dni[dni[\"docdate\"]>=pd.to_datetime(\"2018\", format=\"%Y\")].shape[0]))"
   ]
  },
  {
   "cell_type": "code",
   "execution_count": 106,
   "metadata": {},
   "outputs": [
    {
     "data": {
      "text/plain": [
       "Timestamp('2014-08-05 15:31:00')"
      ]
     },
     "execution_count": 106,
     "metadata": {},
     "output_type": "execute_result"
    }
   ],
   "source": [
    "dni.docdate.min()"
   ]
  },
  {
   "cell_type": "code",
   "execution_count": 107,
   "metadata": {},
   "outputs": [],
   "source": [
    "dni[\"source\"] = dni[\"url\"].apply(lambda x : \"Dni.ru\")"
   ]
  },
  {
   "cell_type": "markdown",
   "metadata": {},
   "source": [
    "## КП"
   ]
  },
  {
   "cell_type": "code",
   "execution_count": 141,
   "metadata": {},
   "outputs": [
    {
     "name": "stdout",
     "output_type": "stream",
     "text": [
      "KP dump size: 88393\n"
     ]
    },
    {
     "data": {
      "text/html": [
       "<div>\n",
       "<style scoped>\n",
       "    .dataframe tbody tr th:only-of-type {\n",
       "        vertical-align: middle;\n",
       "    }\n",
       "\n",
       "    .dataframe tbody tr th {\n",
       "        vertical-align: top;\n",
       "    }\n",
       "\n",
       "    .dataframe thead th {\n",
       "        text-align: right;\n",
       "    }\n",
       "</style>\n",
       "<table border=\"1\" class=\"dataframe\">\n",
       "  <thead>\n",
       "    <tr style=\"text-align: right;\">\n",
       "      <th></th>\n",
       "      <th>doc_id</th>\n",
       "      <th>docdate</th>\n",
       "      <th>text</th>\n",
       "      <th>title</th>\n",
       "      <th>url</th>\n",
       "      <th>source</th>\n",
       "    </tr>\n",
       "  </thead>\n",
       "  <tbody>\n",
       "    <tr>\n",
       "      <th>0</th>\n",
       "      <td>56174222</td>\n",
       "      <td>2018-02-06 17:49:45</td>\n",
       "      <td>Варшава планирует ввести ответственность за ра...</td>\n",
       "      <td>Израиль надеется на корректировку нового польс...</td>\n",
       "      <td>https://www.kp.ru/online/news/3013897/</td>\n",
       "      <td>KP</td>\n",
       "    </tr>\n",
       "    <tr>\n",
       "      <th>1</th>\n",
       "      <td>56174248</td>\n",
       "      <td>2018-02-06 17:05:13</td>\n",
       "      <td>Владелец коровника и правоохранители поверили,...</td>\n",
       "      <td>Игрушечный тигр поверг в ужас фермера и полици...</td>\n",
       "      <td>https://www.kp.ru/online/news/3013831/</td>\n",
       "      <td>KP</td>\n",
       "    </tr>\n",
       "    <tr>\n",
       "      <th>10</th>\n",
       "      <td>56210221</td>\n",
       "      <td>2018-02-06 20:03:06</td>\n",
       "      <td>Новые суицидальные сообщества не успевают набр...</td>\n",
       "      <td>Роскомнадзор заблокировал около 14 000 «групп ...</td>\n",
       "      <td>https://www.kp.ru/online/news/3013989/</td>\n",
       "      <td>KP</td>\n",
       "    </tr>\n",
       "    <tr>\n",
       "      <th>100</th>\n",
       "      <td>208055</td>\n",
       "      <td>2017-02-21 01:00:00</td>\n",
       "      <td>Сегодня - 113 лет со дня рождения советского п...</td>\n",
       "      <td>Генеральная репетиция перестройки прошла еще п...</td>\n",
       "      <td>http://www.kp.ru/daily/26645/3665016/</td>\n",
       "      <td>KP</td>\n",
       "    </tr>\n",
       "    <tr>\n",
       "      <th>1000</th>\n",
       "      <td>840690</td>\n",
       "      <td>2017-03-09 00:14:00</td>\n",
       "      <td>8-го марта артист собрал полный «Крокус» и рас...</td>\n",
       "      <td>Александр Панайотов: В этом году на «Евровиден...</td>\n",
       "      <td>http://www.kp.ru/daily/26649.4/3671470/</td>\n",
       "      <td>KP</td>\n",
       "    </tr>\n",
       "  </tbody>\n",
       "</table>\n",
       "</div>"
      ],
      "text/plain": [
       "        doc_id             docdate  \\\n",
       "0     56174222 2018-02-06 17:49:45   \n",
       "1     56174248 2018-02-06 17:05:13   \n",
       "10    56210221 2018-02-06 20:03:06   \n",
       "100     208055 2017-02-21 01:00:00   \n",
       "1000    840690 2017-03-09 00:14:00   \n",
       "\n",
       "                                                   text  \\\n",
       "0     Варшава планирует ввести ответственность за ра...   \n",
       "1     Владелец коровника и правоохранители поверили,...   \n",
       "10    Новые суицидальные сообщества не успевают набр...   \n",
       "100   Сегодня - 113 лет со дня рождения советского п...   \n",
       "1000  8-го марта артист собрал полный «Крокус» и рас...   \n",
       "\n",
       "                                                  title  \\\n",
       "0     Израиль надеется на корректировку нового польс...   \n",
       "1     Игрушечный тигр поверг в ужас фермера и полици...   \n",
       "10    Роскомнадзор заблокировал около 14 000 «групп ...   \n",
       "100   Генеральная репетиция перестройки прошла еще п...   \n",
       "1000  Александр Панайотов: В этом году на «Евровиден...   \n",
       "\n",
       "                                          url source  \n",
       "0      https://www.kp.ru/online/news/3013897/     KP  \n",
       "1      https://www.kp.ru/online/news/3013831/     KP  \n",
       "10     https://www.kp.ru/online/news/3013989/     KP  \n",
       "100     http://www.kp.ru/daily/26645/3665016/     KP  \n",
       "1000  http://www.kp.ru/daily/26649.4/3671470/     KP  "
      ]
     },
     "execution_count": 141,
     "metadata": {},
     "output_type": "execute_result"
    }
   ],
   "source": [
    "kp = pd.read_json(\"../data/raw/cleaned/kp_ru.fixed.json\", encoding=\"utf-8\", lines=False)\n",
    "kp[\"docdate\"] = kp[\"docdate\"].apply(pd.to_datetime)\n",
    "print(\"KP dump size: {0}\".format(kp.shape[0]))\n",
    "kp.head()"
   ]
  },
  {
   "cell_type": "code",
   "execution_count": 109,
   "metadata": {},
   "outputs": [
    {
     "name": "stdout",
     "output_type": "stream",
     "text": [
      "News entries dated back in 2018: 35754\n"
     ]
    }
   ],
   "source": [
    "print(\"News entries dated back in 2018: {}\".format(kp[kp[\"docdate\"]>=pd.to_datetime(\"2018\", format=\"%Y\")].shape[0]))"
   ]
  },
  {
   "cell_type": "code",
   "execution_count": 110,
   "metadata": {},
   "outputs": [
    {
     "data": {
      "text/plain": [
       "Timestamp('2006-07-22 01:00:00')"
      ]
     },
     "execution_count": 110,
     "metadata": {},
     "output_type": "execute_result"
    }
   ],
   "source": [
    "kp.docdate.min()"
   ]
  },
  {
   "cell_type": "code",
   "execution_count": 111,
   "metadata": {},
   "outputs": [],
   "source": [
    "kp[\"source\"] = kp[\"url\"].apply(lambda x : \"KP\")"
   ]
  },
  {
   "cell_type": "markdown",
   "metadata": {},
   "source": [
    "## Meduza"
   ]
  },
  {
   "cell_type": "code",
   "execution_count": 140,
   "metadata": {
    "scrolled": true
   },
   "outputs": [
    {
     "name": "stdout",
     "output_type": "stream",
     "text": [
      "Meduza.io dump size: 15950\n"
     ]
    },
    {
     "data": {
      "text/html": [
       "<div>\n",
       "<style scoped>\n",
       "    .dataframe tbody tr th:only-of-type {\n",
       "        vertical-align: middle;\n",
       "    }\n",
       "\n",
       "    .dataframe tbody tr th {\n",
       "        vertical-align: top;\n",
       "    }\n",
       "\n",
       "    .dataframe thead th {\n",
       "        text-align: right;\n",
       "    }\n",
       "</style>\n",
       "<table border=\"1\" class=\"dataframe\">\n",
       "  <thead>\n",
       "    <tr style=\"text-align: right;\">\n",
       "      <th></th>\n",
       "      <th>doc_id</th>\n",
       "      <th>docdate</th>\n",
       "      <th>text</th>\n",
       "      <th>title</th>\n",
       "      <th>url</th>\n",
       "      <th>source</th>\n",
       "    </tr>\n",
       "  </thead>\n",
       "  <tbody>\n",
       "    <tr>\n",
       "      <th>0</th>\n",
       "      <td>124206356</td>\n",
       "      <td>2018-11-20 11:03:00</td>\n",
       "      <td>Предприятия пищевой промышленности России попр...</td>\n",
       "      <td>Производители мяса и молока предупредили об уб...</td>\n",
       "      <td>https://meduza.io/news/2018/11/20/proizvoditel...</td>\n",
       "      <td>Meduza</td>\n",
       "    </tr>\n",
       "    <tr>\n",
       "      <th>1</th>\n",
       "      <td>124205913</td>\n",
       "      <td>2018-11-20 10:54:00</td>\n",
       "      <td>Депутаты Госсовета Татарстана подготовили зако...</td>\n",
       "      <td>Госдуме предложили поднять возраст покупки ору...</td>\n",
       "      <td>https://meduza.io/news/2018/11/20/gosdume-pred...</td>\n",
       "      <td>Meduza</td>\n",
       "    </tr>\n",
       "    <tr>\n",
       "      <th>10</th>\n",
       "      <td>124172132</td>\n",
       "      <td>2018-11-20 08:45:00</td>\n",
       "      <td>Вооруженный преступник убил троих человек в бо...</td>\n",
       "      <td>При стрельбе в больнице Чикаго погибли три чел...</td>\n",
       "      <td>https://meduza.io/feature/2018/11/20/pri-strel...</td>\n",
       "      <td>Meduza</td>\n",
       "    </tr>\n",
       "    <tr>\n",
       "      <th>100</th>\n",
       "      <td>122478457</td>\n",
       "      <td>2018-11-13 18:16:00</td>\n",
       "      <td>Заместитель министра экономического развития, ...</td>\n",
       "      <td>«Трансперенси Интернешнл» рассказала о господд...</td>\n",
       "      <td>https://meduza.io/news/2018/11/13/transperensi...</td>\n",
       "      <td>Meduza</td>\n",
       "    </tr>\n",
       "    <tr>\n",
       "      <th>1000</th>\n",
       "      <td>110748816</td>\n",
       "      <td>2018-09-02 14:20:00</td>\n",
       "      <td>В Донецке 2 сентября проходит церемония прощан...</td>\n",
       "      <td>В Донецке хоронят Александра Захарченко. ДНР у...</td>\n",
       "      <td>https://meduza.io/short/2018/09/02/v-donetske-...</td>\n",
       "      <td>Meduza</td>\n",
       "    </tr>\n",
       "  </tbody>\n",
       "</table>\n",
       "</div>"
      ],
      "text/plain": [
       "         doc_id             docdate  \\\n",
       "0     124206356 2018-11-20 11:03:00   \n",
       "1     124205913 2018-11-20 10:54:00   \n",
       "10    124172132 2018-11-20 08:45:00   \n",
       "100   122478457 2018-11-13 18:16:00   \n",
       "1000  110748816 2018-09-02 14:20:00   \n",
       "\n",
       "                                                   text  \\\n",
       "0     Предприятия пищевой промышленности России попр...   \n",
       "1     Депутаты Госсовета Татарстана подготовили зако...   \n",
       "10    Вооруженный преступник убил троих человек в бо...   \n",
       "100   Заместитель министра экономического развития, ...   \n",
       "1000  В Донецке 2 сентября проходит церемония прощан...   \n",
       "\n",
       "                                                  title  \\\n",
       "0     Производители мяса и молока предупредили об уб...   \n",
       "1     Госдуме предложили поднять возраст покупки ору...   \n",
       "10    При стрельбе в больнице Чикаго погибли три чел...   \n",
       "100   «Трансперенси Интернешнл» рассказала о господд...   \n",
       "1000  В Донецке хоронят Александра Захарченко. ДНР у...   \n",
       "\n",
       "                                                    url  source  \n",
       "0     https://meduza.io/news/2018/11/20/proizvoditel...  Meduza  \n",
       "1     https://meduza.io/news/2018/11/20/gosdume-pred...  Meduza  \n",
       "10    https://meduza.io/feature/2018/11/20/pri-strel...  Meduza  \n",
       "100   https://meduza.io/news/2018/11/13/transperensi...  Meduza  \n",
       "1000  https://meduza.io/short/2018/09/02/v-donetske-...  Meduza  "
      ]
     },
     "execution_count": 140,
     "metadata": {},
     "output_type": "execute_result"
    }
   ],
   "source": [
    "meduza = pd.read_json(\"../data/raw/cleaned/meduza_io.fixed.json\", encoding=\"utf-8\", lines=False)\n",
    "meduza[\"docdate\"] = meduza[\"docdate\"].apply(pd.to_datetime)\n",
    "print(\"Meduza.io dump size: {0}\".format(meduza.shape[0]))\n",
    "meduza.head()"
   ]
  },
  {
   "cell_type": "code",
   "execution_count": 113,
   "metadata": {},
   "outputs": [
    {
     "data": {
      "text/plain": [
       "Timestamp('2014-11-21 16:26:00')"
      ]
     },
     "execution_count": 113,
     "metadata": {},
     "output_type": "execute_result"
    }
   ],
   "source": [
    "meduza.docdate.min()"
   ]
  },
  {
   "cell_type": "code",
   "execution_count": 114,
   "metadata": {},
   "outputs": [
    {
     "name": "stdout",
     "output_type": "stream",
     "text": [
      "News entries dated back in 2018: 4559\n"
     ]
    }
   ],
   "source": [
    "print(\"News entries dated back in 2018: {}\".format(meduza[meduza[\"docdate\"]>=pd.to_datetime(\"2018\", format=\"%Y\")].shape[0]))"
   ]
  },
  {
   "cell_type": "code",
   "execution_count": 115,
   "metadata": {},
   "outputs": [],
   "source": [
    "meduza[\"source\"] = meduza[\"url\"].apply(lambda x : \"Meduza\")"
   ]
  },
  {
   "cell_type": "markdown",
   "metadata": {},
   "source": [
    "## МК"
   ]
  },
  {
   "cell_type": "code",
   "execution_count": 116,
   "metadata": {},
   "outputs": [
    {
     "name": "stdout",
     "output_type": "stream",
     "text": [
      "MK dump size: 335\n"
     ]
    },
    {
     "data": {
      "text/html": [
       "<div>\n",
       "<style scoped>\n",
       "    .dataframe tbody tr th:only-of-type {\n",
       "        vertical-align: middle;\n",
       "    }\n",
       "\n",
       "    .dataframe tbody tr th {\n",
       "        vertical-align: top;\n",
       "    }\n",
       "\n",
       "    .dataframe thead th {\n",
       "        text-align: right;\n",
       "    }\n",
       "</style>\n",
       "<table border=\"1\" class=\"dataframe\">\n",
       "  <thead>\n",
       "    <tr style=\"text-align: right;\">\n",
       "      <th></th>\n",
       "      <th>doc_id</th>\n",
       "      <th>docdate</th>\n",
       "      <th>text</th>\n",
       "      <th>title</th>\n",
       "      <th>url</th>\n",
       "    </tr>\n",
       "  </thead>\n",
       "  <tbody>\n",
       "    <tr>\n",
       "      <th>0</th>\n",
       "      <td>83197039</td>\n",
       "      <td>2018-05-23</td>\n",
       "      <td>Магнитогорский металлургический комбинат удерж...</td>\n",
       "      <td>ММК удерживает лидирующие позиции на рынке под...</td>\n",
       "      <td>http://mmk.ru/press_center/73319/</td>\n",
       "    </tr>\n",
       "    <tr>\n",
       "      <th>1</th>\n",
       "      <td>81953263</td>\n",
       "      <td>2018-05-18</td>\n",
       "      <td>Группа ММК приступает к реализации масштабного...</td>\n",
       "      <td>Магнитка инвестирует 3 млрд рублей в новый эко...</td>\n",
       "      <td>http://mmk.ru/press_center/73306/</td>\n",
       "    </tr>\n",
       "    <tr>\n",
       "      <th>10</th>\n",
       "      <td>73993522</td>\n",
       "      <td>2018-04-12</td>\n",
       "      <td>Магнитогорский металлургический комбинат прини...</td>\n",
       "      <td>ММК на форуме в Челябинске поделился опытом пр...</td>\n",
       "      <td>http://mmk.ru/press_center/73029/</td>\n",
       "    </tr>\n",
       "    <tr>\n",
       "      <th>100</th>\n",
       "      <td>12677154</td>\n",
       "      <td>2017-05-29</td>\n",
       "      <td>Один из крупнейших мировых производителей стал...</td>\n",
       "      <td>НОВЫЙ УРОВЕНЬ ЭНЕРГОСБЕРЕЖЕНИЯ ММК</td>\n",
       "      <td>http://mmk.ru/press_center/publications/71332/</td>\n",
       "    </tr>\n",
       "    <tr>\n",
       "      <th>101</th>\n",
       "      <td>12620474</td>\n",
       "      <td>2017-05-29</td>\n",
       "      <td>Магнитогорский металлургический комбинат удост...</td>\n",
       "      <td>ММК удостоился наград салона «Архимед-2017»</td>\n",
       "      <td>http://mmk.ru/press_center/71245/</td>\n",
       "    </tr>\n",
       "  </tbody>\n",
       "</table>\n",
       "</div>"
      ],
      "text/plain": [
       "       doc_id    docdate                                               text  \\\n",
       "0    83197039 2018-05-23  Магнитогорский металлургический комбинат удерж...   \n",
       "1    81953263 2018-05-18  Группа ММК приступает к реализации масштабного...   \n",
       "10   73993522 2018-04-12  Магнитогорский металлургический комбинат прини...   \n",
       "100  12677154 2017-05-29  Один из крупнейших мировых производителей стал...   \n",
       "101  12620474 2017-05-29  Магнитогорский металлургический комбинат удост...   \n",
       "\n",
       "                                                 title  \\\n",
       "0    ММК удерживает лидирующие позиции на рынке под...   \n",
       "1    Магнитка инвестирует 3 млрд рублей в новый эко...   \n",
       "10   ММК на форуме в Челябинске поделился опытом пр...   \n",
       "100                 НОВЫЙ УРОВЕНЬ ЭНЕРГОСБЕРЕЖЕНИЯ ММК   \n",
       "101        ММК удостоился наград салона «Архимед-2017»   \n",
       "\n",
       "                                                url  \n",
       "0                 http://mmk.ru/press_center/73319/  \n",
       "1                 http://mmk.ru/press_center/73306/  \n",
       "10                http://mmk.ru/press_center/73029/  \n",
       "100  http://mmk.ru/press_center/publications/71332/  \n",
       "101               http://mmk.ru/press_center/71245/  "
      ]
     },
     "execution_count": 116,
     "metadata": {},
     "output_type": "execute_result"
    }
   ],
   "source": [
    "mk = pd.read_json(\"../data/raw/cleaned/mk_ru.fixed.json\", encoding=\"utf-8\", lines=False)\n",
    "mk[\"docdate\"] = mk[\"docdate\"].apply(pd.to_datetime)\n",
    "print(\"MK dump size: {0}\".format(mk.shape[0]))\n",
    "mk.head()"
   ]
  },
  {
   "cell_type": "code",
   "execution_count": 117,
   "metadata": {},
   "outputs": [
    {
     "data": {
      "text/plain": [
       "Timestamp('2016-03-21 00:00:00')"
      ]
     },
     "execution_count": 117,
     "metadata": {},
     "output_type": "execute_result"
    }
   ],
   "source": [
    "mk.docdate.min()"
   ]
  },
  {
   "cell_type": "code",
   "execution_count": 118,
   "metadata": {},
   "outputs": [
    {
     "name": "stdout",
     "output_type": "stream",
     "text": [
      "News entries dated back in 2018: 97\n"
     ]
    }
   ],
   "source": [
    "print(\"News entries dated back in 2018: {}\".format(mk[mk[\"docdate\"]>=pd.to_datetime(\"2018\", format=\"%Y\")].shape[0]))"
   ]
  },
  {
   "cell_type": "code",
   "execution_count": 119,
   "metadata": {},
   "outputs": [],
   "source": [
    "mk[\"source\"] = mk[\"url\"].apply(lambda x : \"МК\")"
   ]
  },
  {
   "cell_type": "markdown",
   "metadata": {},
   "source": [
    "## Новая газета"
   ]
  },
  {
   "cell_type": "code",
   "execution_count": 120,
   "metadata": {},
   "outputs": [
    {
     "name": "stdout",
     "output_type": "stream",
     "text": [
      "Novaya Gazeta dump size: 34482\n"
     ]
    },
    {
     "data": {
      "text/html": [
       "<div>\n",
       "<style scoped>\n",
       "    .dataframe tbody tr th:only-of-type {\n",
       "        vertical-align: middle;\n",
       "    }\n",
       "\n",
       "    .dataframe tbody tr th {\n",
       "        vertical-align: top;\n",
       "    }\n",
       "\n",
       "    .dataframe thead th {\n",
       "        text-align: right;\n",
       "    }\n",
       "</style>\n",
       "<table border=\"1\" class=\"dataframe\">\n",
       "  <thead>\n",
       "    <tr style=\"text-align: right;\">\n",
       "      <th></th>\n",
       "      <th>doc_id</th>\n",
       "      <th>docdate</th>\n",
       "      <th>text</th>\n",
       "      <th>title</th>\n",
       "      <th>url</th>\n",
       "    </tr>\n",
       "  </thead>\n",
       "  <tbody>\n",
       "    <tr>\n",
       "      <th>0</th>\n",
       "      <td>124205289</td>\n",
       "      <td>2018-11-20 11:07:00</td>\n",
       "      <td>Басманный суд Москвы заочно арестовал нескольк...</td>\n",
       "      <td>СМИ: российский суд заочно арестовал сирийцев ...</td>\n",
       "      <td>https://www.novayagazeta.ru/news/2018/11/20/14...</td>\n",
       "    </tr>\n",
       "    <tr>\n",
       "      <th>1</th>\n",
       "      <td>124198383</td>\n",
       "      <td>2018-11-20 10:45:00</td>\n",
       "      <td>В России за девять месяцев 2018 года от «прест...</td>\n",
       "      <td>СК: в 2018 году более 900 детей погибло от «пр...</td>\n",
       "      <td>https://www.novayagazeta.ru/news/2018/11/20/14...</td>\n",
       "    </tr>\n",
       "    <tr>\n",
       "      <th>10</th>\n",
       "      <td>124075255</td>\n",
       "      <td>2018-11-19 20:34:00</td>\n",
       "      <td>Спустя девять лет (!) после гибели в СИЗО Серг...</td>\n",
       "      <td>Прокуроры брызжут ядом</td>\n",
       "      <td>https://www.novayagazeta.ru/articles/2018/11/1...</td>\n",
       "    </tr>\n",
       "    <tr>\n",
       "      <th>100</th>\n",
       "      <td>123341715</td>\n",
       "      <td>2018-11-16 19:03:00</td>\n",
       "      <td>Предприниматель и общественный деятель Алексан...</td>\n",
       "      <td>«Без коллективного \"полковника Захарченко\" они...</td>\n",
       "      <td>https://www.novayagazeta.ru/articles/2018/11/1...</td>\n",
       "    </tr>\n",
       "    <tr>\n",
       "      <th>1000</th>\n",
       "      <td>118806384</td>\n",
       "      <td>2018-10-23 22:57:00</td>\n",
       "      <td>Сотрудники следственного комитета Ленинградско...</td>\n",
       "      <td>СМИ: попавшийся на взятке чиновник из Ленингра...</td>\n",
       "      <td>https://www.novayagazeta.ru/news/2018/10/23/14...</td>\n",
       "    </tr>\n",
       "  </tbody>\n",
       "</table>\n",
       "</div>"
      ],
      "text/plain": [
       "         doc_id             docdate  \\\n",
       "0     124205289 2018-11-20 11:07:00   \n",
       "1     124198383 2018-11-20 10:45:00   \n",
       "10    124075255 2018-11-19 20:34:00   \n",
       "100   123341715 2018-11-16 19:03:00   \n",
       "1000  118806384 2018-10-23 22:57:00   \n",
       "\n",
       "                                                   text  \\\n",
       "0     Басманный суд Москвы заочно арестовал нескольк...   \n",
       "1     В России за девять месяцев 2018 года от «прест...   \n",
       "10    Спустя девять лет (!) после гибели в СИЗО Серг...   \n",
       "100   Предприниматель и общественный деятель Алексан...   \n",
       "1000  Сотрудники следственного комитета Ленинградско...   \n",
       "\n",
       "                                                  title  \\\n",
       "0     СМИ: российский суд заочно арестовал сирийцев ...   \n",
       "1     СК: в 2018 году более 900 детей погибло от «пр...   \n",
       "10                               Прокуроры брызжут ядом   \n",
       "100   «Без коллективного \"полковника Захарченко\" они...   \n",
       "1000  СМИ: попавшийся на взятке чиновник из Ленингра...   \n",
       "\n",
       "                                                    url  \n",
       "0     https://www.novayagazeta.ru/news/2018/11/20/14...  \n",
       "1     https://www.novayagazeta.ru/news/2018/11/20/14...  \n",
       "10    https://www.novayagazeta.ru/articles/2018/11/1...  \n",
       "100   https://www.novayagazeta.ru/articles/2018/11/1...  \n",
       "1000  https://www.novayagazeta.ru/news/2018/10/23/14...  "
      ]
     },
     "execution_count": 120,
     "metadata": {},
     "output_type": "execute_result"
    }
   ],
   "source": [
    "novaya = pd.read_json(\"../data/raw/cleaned/novayagazeta_ru.fixed.json\", encoding=\"utf-8\", lines=False)\n",
    "novaya[\"docdate\"] = novaya[\"docdate\"].apply(pd.to_datetime)\n",
    "print(\"Novaya Gazeta dump size: {0}\".format(novaya.shape[0]))\n",
    "novaya.head()"
   ]
  },
  {
   "cell_type": "code",
   "execution_count": 121,
   "metadata": {},
   "outputs": [
    {
     "data": {
      "text/plain": [
       "Timestamp('2011-10-07 07:46:00')"
      ]
     },
     "execution_count": 121,
     "metadata": {},
     "output_type": "execute_result"
    }
   ],
   "source": [
    "novaya.docdate.min()"
   ]
  },
  {
   "cell_type": "code",
   "execution_count": 122,
   "metadata": {},
   "outputs": [
    {
     "name": "stdout",
     "output_type": "stream",
     "text": [
      "News entries dated back in 2018: 11925\n"
     ]
    }
   ],
   "source": [
    "print(\"News entries dated back in 2018: {}\".format(novaya[novaya[\"docdate\"]>=pd.to_datetime(\"2018\", format=\"%Y\")].shape[0]))"
   ]
  },
  {
   "cell_type": "code",
   "execution_count": 123,
   "metadata": {},
   "outputs": [],
   "source": [
    "novaya[\"source\"] = novaya[\"url\"].apply(lambda x : \"Novaya Gazeta\")"
   ]
  },
  {
   "cell_type": "markdown",
   "metadata": {},
   "source": [
    "## РГ"
   ]
  },
  {
   "cell_type": "code",
   "execution_count": 124,
   "metadata": {},
   "outputs": [
    {
     "name": "stdout",
     "output_type": "stream",
     "text": [
      "RG dump size: 190378\n"
     ]
    },
    {
     "data": {
      "text/html": [
       "<div>\n",
       "<style scoped>\n",
       "    .dataframe tbody tr th:only-of-type {\n",
       "        vertical-align: middle;\n",
       "    }\n",
       "\n",
       "    .dataframe tbody tr th {\n",
       "        vertical-align: top;\n",
       "    }\n",
       "\n",
       "    .dataframe thead th {\n",
       "        text-align: right;\n",
       "    }\n",
       "</style>\n",
       "<table border=\"1\" class=\"dataframe\">\n",
       "  <thead>\n",
       "    <tr style=\"text-align: right;\">\n",
       "      <th></th>\n",
       "      <th>doc_id</th>\n",
       "      <th>docdate</th>\n",
       "      <th>text</th>\n",
       "      <th>title</th>\n",
       "      <th>url</th>\n",
       "    </tr>\n",
       "  </thead>\n",
       "  <tbody>\n",
       "    <tr>\n",
       "      <th>0</th>\n",
       "      <td>56165297</td>\n",
       "      <td>2018-02-06 17:00:00</td>\n",
       "      <td>В Волгограде болельщиков ЧМ-2018 удивят мюзикл...</td>\n",
       "      <td>В Волгограде к ЧМ-2018 поставят мюзикл \"Легенд...</td>\n",
       "      <td>https://rg.ru/2018/02/06/reg-ufo/v-volgograde-...</td>\n",
       "    </tr>\n",
       "    <tr>\n",
       "      <th>1</th>\n",
       "      <td>56165793</td>\n",
       "      <td>2018-02-06 17:16:00</td>\n",
       "      <td>Всемирный день ювелира, который прошел 31 янва...</td>\n",
       "      <td>Как дагестанские ювелиры не дают исчезнуть сво...</td>\n",
       "      <td>https://rg.ru/2018/02/06/reg-skfo/kak-dagestan...</td>\n",
       "    </tr>\n",
       "    <tr>\n",
       "      <th>10</th>\n",
       "      <td>56194116</td>\n",
       "      <td>2018-02-06 19:08:00</td>\n",
       "      <td>Депутаты земельных парламентов ФРГ находящиеся...</td>\n",
       "      <td>Немецкие депутаты отметили в Крыму пятилетие с...</td>\n",
       "      <td>https://rg.ru/2018/02/06/reg-ufo/nemeckie-depu...</td>\n",
       "    </tr>\n",
       "    <tr>\n",
       "      <th>100</th>\n",
       "      <td>56224805</td>\n",
       "      <td>2018-02-06 21:04:00</td>\n",
       "      <td>Американский фондовый рынок накрыла волна расп...</td>\n",
       "      <td>Падение фондового рынка США лишило богачей 114...</td>\n",
       "      <td>https://rg.ru/2018/02/06/padenie-fondovogo-ryn...</td>\n",
       "    </tr>\n",
       "    <tr>\n",
       "      <th>1000</th>\n",
       "      <td>500141</td>\n",
       "      <td>2017-03-07 05:08:00</td>\n",
       "      <td>С космодрома Куру во Французской Гвиане запуще...</td>\n",
       "      <td>Старт ракеты-носителя Vega состоялся во Францу...</td>\n",
       "      <td>https://rg.ru/2017/03/07/start-rakety-nositeli...</td>\n",
       "    </tr>\n",
       "  </tbody>\n",
       "</table>\n",
       "</div>"
      ],
      "text/plain": [
       "        doc_id             docdate  \\\n",
       "0     56165297 2018-02-06 17:00:00   \n",
       "1     56165793 2018-02-06 17:16:00   \n",
       "10    56194116 2018-02-06 19:08:00   \n",
       "100   56224805 2018-02-06 21:04:00   \n",
       "1000    500141 2017-03-07 05:08:00   \n",
       "\n",
       "                                                   text  \\\n",
       "0     В Волгограде болельщиков ЧМ-2018 удивят мюзикл...   \n",
       "1     Всемирный день ювелира, который прошел 31 янва...   \n",
       "10    Депутаты земельных парламентов ФРГ находящиеся...   \n",
       "100   Американский фондовый рынок накрыла волна расп...   \n",
       "1000  С космодрома Куру во Французской Гвиане запуще...   \n",
       "\n",
       "                                                  title  \\\n",
       "0     В Волгограде к ЧМ-2018 поставят мюзикл \"Легенд...   \n",
       "1     Как дагестанские ювелиры не дают исчезнуть сво...   \n",
       "10    Немецкие депутаты отметили в Крыму пятилетие с...   \n",
       "100   Падение фондового рынка США лишило богачей 114...   \n",
       "1000  Старт ракеты-носителя Vega состоялся во Францу...   \n",
       "\n",
       "                                                    url  \n",
       "0     https://rg.ru/2018/02/06/reg-ufo/v-volgograde-...  \n",
       "1     https://rg.ru/2018/02/06/reg-skfo/kak-dagestan...  \n",
       "10    https://rg.ru/2018/02/06/reg-ufo/nemeckie-depu...  \n",
       "100   https://rg.ru/2018/02/06/padenie-fondovogo-ryn...  \n",
       "1000  https://rg.ru/2017/03/07/start-rakety-nositeli...  "
      ]
     },
     "execution_count": 124,
     "metadata": {},
     "output_type": "execute_result"
    }
   ],
   "source": [
    "rg = pd.read_json(\"../data/raw/cleaned/rg_ru.fixed.json\", encoding=\"utf-8\", lines=False)\n",
    "rg[\"docdate\"] = rg[\"docdate\"].apply(pd.to_datetime)\n",
    "print(\"RG dump size: {0}\".format(rg.shape[0]))\n",
    "rg.head()"
   ]
  },
  {
   "cell_type": "code",
   "execution_count": 125,
   "metadata": {},
   "outputs": [
    {
     "data": {
      "text/plain": [
       "Timestamp('2004-09-03 01:10:00')"
      ]
     },
     "execution_count": 125,
     "metadata": {},
     "output_type": "execute_result"
    }
   ],
   "source": [
    "rg.docdate.min()"
   ]
  },
  {
   "cell_type": "code",
   "execution_count": 126,
   "metadata": {},
   "outputs": [
    {
     "name": "stdout",
     "output_type": "stream",
     "text": [
      "News entries dated back in 2018: 88022\n"
     ]
    }
   ],
   "source": [
    "print(\"News entries dated back in 2018: {}\".format(rg[rg[\"docdate\"]>=pd.to_datetime(\"2018\", format=\"%Y\")].shape[0]))"
   ]
  },
  {
   "cell_type": "code",
   "execution_count": 127,
   "metadata": {},
   "outputs": [],
   "source": [
    "rg[\"source\"] = rg[\"url\"].apply(lambda x : \"RG\")"
   ]
  },
  {
   "cell_type": "markdown",
   "metadata": {},
   "source": [
    "## РИА"
   ]
  },
  {
   "cell_type": "code",
   "execution_count": 10,
   "metadata": {},
   "outputs": [
    {
     "name": "stdout",
     "output_type": "stream",
     "text": [
      "RIA dump size: 430292\n"
     ]
    },
    {
     "data": {
      "text/html": [
       "<div>\n",
       "<style scoped>\n",
       "    .dataframe tbody tr th:only-of-type {\n",
       "        vertical-align: middle;\n",
       "    }\n",
       "\n",
       "    .dataframe tbody tr th {\n",
       "        vertical-align: top;\n",
       "    }\n",
       "\n",
       "    .dataframe thead th {\n",
       "        text-align: right;\n",
       "    }\n",
       "</style>\n",
       "<table border=\"1\" class=\"dataframe\">\n",
       "  <thead>\n",
       "    <tr style=\"text-align: right;\">\n",
       "      <th></th>\n",
       "      <th>doc_id</th>\n",
       "      <th>docdate</th>\n",
       "      <th>text</th>\n",
       "      <th>title</th>\n",
       "      <th>url</th>\n",
       "    </tr>\n",
       "  </thead>\n",
       "  <tbody>\n",
       "    <tr>\n",
       "      <th>0</th>\n",
       "      <td>56165827</td>\n",
       "      <td>2018-02-06 17:34:00</td>\n",
       "      <td>РИА Новости. Бывший премьер Дагестана даже не ...</td>\n",
       "      <td>Бывший премьер Дагестана не будет обжаловать а...</td>\n",
       "      <td>https://ria.ru/incidents/20180206/1514094929.html</td>\n",
       "    </tr>\n",
       "    <tr>\n",
       "      <th>1</th>\n",
       "      <td>56165842</td>\n",
       "      <td>2018-02-06 17:34:00</td>\n",
       "      <td>МОСКВА, 6 фев — РИА Новости. Упавшие под тяжес...</td>\n",
       "      <td>На западе Москвы упавшие деревья повредили сра...</td>\n",
       "      <td>https://ria.ru/incidents/20180206/1514094855.html</td>\n",
       "    </tr>\n",
       "    <tr>\n",
       "      <th>10</th>\n",
       "      <td>56166595</td>\n",
       "      <td>2018-02-06 17:34:00</td>\n",
       "      <td>МОСКВА, 6 фев – РИА Новости. В Украинской прав...</td>\n",
       "      <td>УПЦ: подозреваемые в поджоге часовни в Киеве с...</td>\n",
       "      <td>https://ria.ru/religion/20180206/1514094969.html</td>\n",
       "    </tr>\n",
       "    <tr>\n",
       "      <th>100</th>\n",
       "      <td>56225114</td>\n",
       "      <td>2018-02-06 21:17:00</td>\n",
       "      <td>МОСКВА, 6 фев — РИА Новости. В Госдуме работаю...</td>\n",
       "      <td>В Госдуме работают над законопроектом о паспор...</td>\n",
       "      <td>https://ria.ru/society/20180206/1514108436.html</td>\n",
       "    </tr>\n",
       "    <tr>\n",
       "      <th>1000</th>\n",
       "      <td>442460</td>\n",
       "      <td>2017-03-06 20:00:00</td>\n",
       "      <td>РИА НОВОСТИ. ТРАМП ПОРУЧИЛ МИНИСТЕРСТВАМ США У...</td>\n",
       "      <td>Трамп поручил усилить проверку и отбор иностра...</td>\n",
       "      <td>http://ria.ru/world/20170306/1489420492.html</td>\n",
       "    </tr>\n",
       "  </tbody>\n",
       "</table>\n",
       "</div>"
      ],
      "text/plain": [
       "        doc_id             docdate  \\\n",
       "0     56165827 2018-02-06 17:34:00   \n",
       "1     56165842 2018-02-06 17:34:00   \n",
       "10    56166595 2018-02-06 17:34:00   \n",
       "100   56225114 2018-02-06 21:17:00   \n",
       "1000    442460 2017-03-06 20:00:00   \n",
       "\n",
       "                                                   text  \\\n",
       "0     РИА Новости. Бывший премьер Дагестана даже не ...   \n",
       "1     МОСКВА, 6 фев — РИА Новости. Упавшие под тяжес...   \n",
       "10    МОСКВА, 6 фев – РИА Новости. В Украинской прав...   \n",
       "100   МОСКВА, 6 фев — РИА Новости. В Госдуме работаю...   \n",
       "1000  РИА НОВОСТИ. ТРАМП ПОРУЧИЛ МИНИСТЕРСТВАМ США У...   \n",
       "\n",
       "                                                  title  \\\n",
       "0     Бывший премьер Дагестана не будет обжаловать а...   \n",
       "1     На западе Москвы упавшие деревья повредили сра...   \n",
       "10    УПЦ: подозреваемые в поджоге часовни в Киеве с...   \n",
       "100   В Госдуме работают над законопроектом о паспор...   \n",
       "1000  Трамп поручил усилить проверку и отбор иностра...   \n",
       "\n",
       "                                                    url  \n",
       "0     https://ria.ru/incidents/20180206/1514094929.html  \n",
       "1     https://ria.ru/incidents/20180206/1514094855.html  \n",
       "10     https://ria.ru/religion/20180206/1514094969.html  \n",
       "100     https://ria.ru/society/20180206/1514108436.html  \n",
       "1000       http://ria.ru/world/20170306/1489420492.html  "
      ]
     },
     "execution_count": 10,
     "metadata": {},
     "output_type": "execute_result"
    }
   ],
   "source": [
    "ria = pd.read_json(\"../data/raw/cleaned/ria_ru.fixed.json\", encoding=\"utf-8\", lines=False)\n",
    "ria[\"docdate\"] = ria[\"docdate\"].apply(pd.to_datetime)\n",
    "print(\"RIA dump size: {0}\".format(ria.shape[0]))\n",
    "ria.head()"
   ]
  },
  {
   "cell_type": "code",
   "execution_count": 24,
   "metadata": {},
   "outputs": [],
   "source": [
    "ria_sub = lambda text : re.sub(\"^.*РИА Новости. \", \"\", text)"
   ]
  },
  {
   "cell_type": "code",
   "execution_count": 31,
   "metadata": {},
   "outputs": [
    {
     "data": {
      "application/vnd.jupyter.widget-view+json": {
       "model_id": "ff3405fb80c14363b277f0bdbed53c76",
       "version_major": 2,
       "version_minor": 0
      },
      "text/plain": [
       "HBox(children=(IntProgress(value=0, description='Sub...', max=430231, style=ProgressStyle(description_width='i…"
      ]
     },
     "metadata": {},
     "output_type": "display_data"
    }
   ],
   "source": [
    "tqdm_notebook.pandas(desc=\"Sub...\")\n",
    "\n",
    "ria = ria.dropna(subset=[\"text\"]).copy(deep=True)\n",
    "ria[\"text\"] = ria[\"text\"].progress_apply(ria_sub)"
   ]
  },
  {
   "cell_type": "code",
   "execution_count": 32,
   "metadata": {},
   "outputs": [],
   "source": [
    "ria.to_json(\"../data/raw/cleaned/ria_ru.fixed.json\", force_ascii=False)"
   ]
  },
  {
   "cell_type": "code",
   "execution_count": 129,
   "metadata": {},
   "outputs": [
    {
     "data": {
      "text/plain": [
       "Timestamp('2011-04-01 11:51:00')"
      ]
     },
     "execution_count": 129,
     "metadata": {},
     "output_type": "execute_result"
    }
   ],
   "source": [
    "ria.docdate.min()"
   ]
  },
  {
   "cell_type": "code",
   "execution_count": 130,
   "metadata": {},
   "outputs": [
    {
     "name": "stdout",
     "output_type": "stream",
     "text": [
      "News entries dated back in 2018: 150088\n"
     ]
    }
   ],
   "source": [
    "print(\"News entries dated back in 2018: {}\".format(ria[ria[\"docdate\"]>=pd.to_datetime(\"2018\", format=\"%Y\")].shape[0]))"
   ]
  },
  {
   "cell_type": "code",
   "execution_count": 131,
   "metadata": {},
   "outputs": [],
   "source": [
    "ria[\"source\"] = ria[\"url\"].apply(lambda x : \"RIA\")"
   ]
  },
  {
   "cell_type": "markdown",
   "metadata": {},
   "source": [
    "## ТАСС"
   ]
  },
  {
   "cell_type": "code",
   "execution_count": 132,
   "metadata": {
    "scrolled": true
   },
   "outputs": [
    {
     "name": "stdout",
     "output_type": "stream",
     "text": [
      "TASS dump size: 282487\n"
     ]
    },
    {
     "data": {
      "text/html": [
       "<div>\n",
       "<style scoped>\n",
       "    .dataframe tbody tr th:only-of-type {\n",
       "        vertical-align: middle;\n",
       "    }\n",
       "\n",
       "    .dataframe tbody tr th {\n",
       "        vertical-align: top;\n",
       "    }\n",
       "\n",
       "    .dataframe thead th {\n",
       "        text-align: right;\n",
       "    }\n",
       "</style>\n",
       "<table border=\"1\" class=\"dataframe\">\n",
       "  <thead>\n",
       "    <tr style=\"text-align: right;\">\n",
       "      <th></th>\n",
       "      <th>doc_id</th>\n",
       "      <th>docdate</th>\n",
       "      <th>text</th>\n",
       "      <th>title</th>\n",
       "      <th>url</th>\n",
       "    </tr>\n",
       "  </thead>\n",
       "  <tbody>\n",
       "    <tr>\n",
       "      <th>0</th>\n",
       "      <td>5267</td>\n",
       "      <td>2017-03-05 13:25:00</td>\n",
       "      <td>Единственный мяч на 32-й минуте забил Эрик Бик...</td>\n",
       "      <td>Урал\" обыграл \"Амкар\" в матче чемпионата России</td>\n",
       "      <td>http://tass.ru/sport/4071850</td>\n",
       "    </tr>\n",
       "    <tr>\n",
       "      <th>1</th>\n",
       "      <td>5511</td>\n",
       "      <td>2017-03-05 12:54:00</td>\n",
       "      <td>Пресс-секретарь президента РФ Дмитрий Песков п...</td>\n",
       "      <td>Путин 9 марта встретится в Москве с Нетаньяху</td>\n",
       "      <td>http://tass.ru/politika/4071824</td>\n",
       "    </tr>\n",
       "    <tr>\n",
       "      <th>10</th>\n",
       "      <td>5327</td>\n",
       "      <td>2017-03-04 16:01:00</td>\n",
       "      <td>Проект распоряжения уже направлен на рассмотре...</td>\n",
       "      <td>Минкавказ подготовил проект развития каспийско...</td>\n",
       "      <td>http://tass.ru/ekonomika/4071063</td>\n",
       "    </tr>\n",
       "    <tr>\n",
       "      <th>100</th>\n",
       "      <td>5365</td>\n",
       "      <td>2017-03-03 16:56:00</td>\n",
       "      <td>Если на начало 2011 года в списке разыскиваемы...</td>\n",
       "      <td>В России до рекордного минимума сократилось чи...</td>\n",
       "      <td>http://tass.ru/armiya-i-opk/4069349</td>\n",
       "    </tr>\n",
       "    <tr>\n",
       "      <th>1000</th>\n",
       "      <td>437966</td>\n",
       "      <td>2017-03-06 15:23:00</td>\n",
       "      <td>В ведомстве сообщили, что к настоящему времени...</td>\n",
       "      <td>МИД РФ выразил признательность всем, кто содей...</td>\n",
       "      <td>http://tass.ru/politika/4074041</td>\n",
       "    </tr>\n",
       "  </tbody>\n",
       "</table>\n",
       "</div>"
      ],
      "text/plain": [
       "      doc_id             docdate  \\\n",
       "0       5267 2017-03-05 13:25:00   \n",
       "1       5511 2017-03-05 12:54:00   \n",
       "10      5327 2017-03-04 16:01:00   \n",
       "100     5365 2017-03-03 16:56:00   \n",
       "1000  437966 2017-03-06 15:23:00   \n",
       "\n",
       "                                                   text  \\\n",
       "0     Единственный мяч на 32-й минуте забил Эрик Бик...   \n",
       "1     Пресс-секретарь президента РФ Дмитрий Песков п...   \n",
       "10    Проект распоряжения уже направлен на рассмотре...   \n",
       "100   Если на начало 2011 года в списке разыскиваемы...   \n",
       "1000  В ведомстве сообщили, что к настоящему времени...   \n",
       "\n",
       "                                                  title  \\\n",
       "0       Урал\" обыграл \"Амкар\" в матче чемпионата России   \n",
       "1         Путин 9 марта встретится в Москве с Нетаньяху   \n",
       "10    Минкавказ подготовил проект развития каспийско...   \n",
       "100   В России до рекордного минимума сократилось чи...   \n",
       "1000  МИД РФ выразил признательность всем, кто содей...   \n",
       "\n",
       "                                      url  \n",
       "0            http://tass.ru/sport/4071850  \n",
       "1         http://tass.ru/politika/4071824  \n",
       "10       http://tass.ru/ekonomika/4071063  \n",
       "100   http://tass.ru/armiya-i-opk/4069349  \n",
       "1000      http://tass.ru/politika/4074041  "
      ]
     },
     "execution_count": 132,
     "metadata": {},
     "output_type": "execute_result"
    }
   ],
   "source": [
    "tass = pd.read_json(\"../data/raw/cleaned/tass_ru.fixed.json\", encoding=\"utf-8\", lines=False)\n",
    "tass[\"docdate\"] = tass[\"docdate\"].apply(pd.to_datetime)\n",
    "print(\"TASS dump size: {0}\".format(tass.shape[0]))\n",
    "tass.head()"
   ]
  },
  {
   "cell_type": "code",
   "execution_count": 133,
   "metadata": {},
   "outputs": [
    {
     "data": {
      "text/plain": [
       "Timestamp('2016-01-02 03:43:00')"
      ]
     },
     "execution_count": 133,
     "metadata": {},
     "output_type": "execute_result"
    }
   ],
   "source": [
    "tass.docdate.min()"
   ]
  },
  {
   "cell_type": "code",
   "execution_count": 134,
   "metadata": {},
   "outputs": [
    {
     "name": "stdout",
     "output_type": "stream",
     "text": [
      "News entries dated back in 2018: 144657\n"
     ]
    }
   ],
   "source": [
    "print(\"News entries dated back in 2018: {}\".format(tass[tass[\"docdate\"]>=pd.to_datetime(\"2018\", format=\"%Y\")].shape[0]))"
   ]
  },
  {
   "cell_type": "code",
   "execution_count": 135,
   "metadata": {},
   "outputs": [],
   "source": [
    "tass[\"source\"] = tass[\"url\"].apply(lambda x : \"TASS\")"
   ]
  },
  {
   "cell_type": "markdown",
   "metadata": {},
   "source": [
    "## Utro.ru"
   ]
  },
  {
   "cell_type": "code",
   "execution_count": 136,
   "metadata": {},
   "outputs": [
    {
     "name": "stdout",
     "output_type": "stream",
     "text": [
      "Utro.ru dump size: 39946\n"
     ]
    },
    {
     "data": {
      "text/html": [
       "<div>\n",
       "<style scoped>\n",
       "    .dataframe tbody tr th:only-of-type {\n",
       "        vertical-align: middle;\n",
       "    }\n",
       "\n",
       "    .dataframe tbody tr th {\n",
       "        vertical-align: top;\n",
       "    }\n",
       "\n",
       "    .dataframe thead th {\n",
       "        text-align: right;\n",
       "    }\n",
       "</style>\n",
       "<table border=\"1\" class=\"dataframe\">\n",
       "  <thead>\n",
       "    <tr style=\"text-align: right;\">\n",
       "      <th></th>\n",
       "      <th>doc_id</th>\n",
       "      <th>docdate</th>\n",
       "      <th>text</th>\n",
       "      <th>title</th>\n",
       "      <th>url</th>\n",
       "    </tr>\n",
       "  </thead>\n",
       "  <tbody>\n",
       "    <tr>\n",
       "      <th>0</th>\n",
       "      <td>124197845</td>\n",
       "      <td>2018-11-20 10:18:00</td>\n",
       "      <td>Оперная певица дала откровенное интервью извес...</td>\n",
       "      <td>Максакова вышла из себя</td>\n",
       "      <td>https://www.utro.ru/showbiz/2018/11/20/1381202...</td>\n",
       "    </tr>\n",
       "    <tr>\n",
       "      <th>1</th>\n",
       "      <td>124197822</td>\n",
       "      <td>2018-11-20 10:10:00</td>\n",
       "      <td>На полуострове то и дело открывается дыра в пр...</td>\n",
       "      <td>Портал в другие миры: тайну Крыма раскрыли</td>\n",
       "      <td>https://www.utro.ru/life/2018/11/20/1381203.shtml</td>\n",
       "    </tr>\n",
       "    <tr>\n",
       "      <th>100</th>\n",
       "      <td>124001947</td>\n",
       "      <td>2018-11-19 15:39:00</td>\n",
       "      <td>Жителей срочно эвакуируют \\n\\nПожар произошел ...</td>\n",
       "      <td>В московской многоэтажке загорелась квартира</td>\n",
       "      <td>https://www.utro.ru/accidents/2018/11/19/13811...</td>\n",
       "    </tr>\n",
       "    <tr>\n",
       "      <th>10003</th>\n",
       "      <td>110306362</td>\n",
       "      <td>2018-08-31 13:21:00</td>\n",
       "      <td>ЧП на оборонном предприятии может повториться ...</td>\n",
       "      <td>Дзержинску угрожает новый взрыв на заводе</td>\n",
       "      <td>https://www.utro.ru/accidents/2018/08/31/13723...</td>\n",
       "    </tr>\n",
       "    <tr>\n",
       "      <th>10004</th>\n",
       "      <td>110306349</td>\n",
       "      <td>2018-08-31 13:13:00</td>\n",
       "      <td>Украину придется смириться с тем, что Запад бо...</td>\n",
       "      <td>Киев в бешенстве: Европа отказалась воевать с ...</td>\n",
       "      <td>https://www.utro.ru/politics/2018/08/31/137232...</td>\n",
       "    </tr>\n",
       "  </tbody>\n",
       "</table>\n",
       "</div>"
      ],
      "text/plain": [
       "          doc_id             docdate  \\\n",
       "0      124197845 2018-11-20 10:18:00   \n",
       "1      124197822 2018-11-20 10:10:00   \n",
       "100    124001947 2018-11-19 15:39:00   \n",
       "10003  110306362 2018-08-31 13:21:00   \n",
       "10004  110306349 2018-08-31 13:13:00   \n",
       "\n",
       "                                                    text  \\\n",
       "0      Оперная певица дала откровенное интервью извес...   \n",
       "1      На полуострове то и дело открывается дыра в пр...   \n",
       "100    Жителей срочно эвакуируют \\n\\nПожар произошел ...   \n",
       "10003  ЧП на оборонном предприятии может повториться ...   \n",
       "10004  Украину придется смириться с тем, что Запад бо...   \n",
       "\n",
       "                                                   title  \\\n",
       "0                                Максакова вышла из себя   \n",
       "1             Портал в другие миры: тайну Крыма раскрыли   \n",
       "100         В московской многоэтажке загорелась квартира   \n",
       "10003          Дзержинску угрожает новый взрыв на заводе   \n",
       "10004  Киев в бешенстве: Европа отказалась воевать с ...   \n",
       "\n",
       "                                                     url  \n",
       "0      https://www.utro.ru/showbiz/2018/11/20/1381202...  \n",
       "1      https://www.utro.ru/life/2018/11/20/1381203.shtml  \n",
       "100    https://www.utro.ru/accidents/2018/11/19/13811...  \n",
       "10003  https://www.utro.ru/accidents/2018/08/31/13723...  \n",
       "10004  https://www.utro.ru/politics/2018/08/31/137232...  "
      ]
     },
     "execution_count": 136,
     "metadata": {},
     "output_type": "execute_result"
    }
   ],
   "source": [
    "utro = pd.read_json(\"../data/raw/cleaned/utro_ru.fixed.json\", encoding=\"utf-8\", lines=False)\n",
    "utro[\"docdate\"] = utro[\"docdate\"].apply(pd.to_datetime)\n",
    "print(\"Utro.ru dump size: {0}\".format(utro.shape[0]))\n",
    "utro.head()"
   ]
  },
  {
   "cell_type": "code",
   "execution_count": 137,
   "metadata": {},
   "outputs": [
    {
     "data": {
      "text/plain": [
       "Timestamp('2012-07-20 16:14:00')"
      ]
     },
     "execution_count": 137,
     "metadata": {},
     "output_type": "execute_result"
    }
   ],
   "source": [
    "utro.docdate.min()"
   ]
  },
  {
   "cell_type": "code",
   "execution_count": 138,
   "metadata": {},
   "outputs": [
    {
     "name": "stdout",
     "output_type": "stream",
     "text": [
      "News entries dated back in 2018: 18186\n"
     ]
    }
   ],
   "source": [
    "print(\"News entries dated back in 2018: {}\".format(utro[utro[\"docdate\"]>=pd.to_datetime(\"2018\", format=\"%Y\")].shape[0]))"
   ]
  },
  {
   "cell_type": "code",
   "execution_count": 139,
   "metadata": {},
   "outputs": [],
   "source": [
    "utro[\"source\"] = utro[\"url\"].apply(lambda x : \"Utro.ru\")"
   ]
  },
  {
   "cell_type": "markdown",
   "metadata": {},
   "source": [
    "# Graphs"
   ]
  },
  {
   "cell_type": "code",
   "execution_count": 215,
   "metadata": {},
   "outputs": [],
   "source": [
    "news = pd.concat([inter, dni, kp, meduza, mk, novaya, rg, ria, tass, utro])"
   ]
  },
  {
   "cell_type": "code",
   "execution_count": 217,
   "metadata": {},
   "outputs": [],
   "source": [
    "news = news.reset_index(drop=True).copy(deep=True)"
   ]
  },
  {
   "cell_type": "code",
   "execution_count": 148,
   "metadata": {},
   "outputs": [
    {
     "name": "stdout",
     "output_type": "stream",
     "text": [
      "Size of full news dump: 1238447 entities\n"
     ]
    }
   ],
   "source": [
    "print(\"Size of full news dump: {} entities\".format(news.shape[0]))"
   ]
  },
  {
   "cell_type": "code",
   "execution_count": 218,
   "metadata": {},
   "outputs": [],
   "source": [
    "news.to_json(\"../data/raw/newsdump.json\", force_ascii=False, compression='gzip')"
   ]
  },
  {
   "cell_type": "code",
   "execution_count": 152,
   "metadata": {},
   "outputs": [
    {
     "data": {
      "application/vnd.jupyter.widget-view+json": {
       "model_id": "e4f9fce2dae748dbb72a293a4daba5cc",
       "version_major": 2,
       "version_minor": 0
      },
      "text/plain": [
       "HBox(children=(IntProgress(value=0, description='Date format preprocess', max=1238447, style=ProgressStyle(des…"
      ]
     },
     "metadata": {},
     "output_type": "display_data"
    },
    {
     "name": "stdout",
     "output_type": "stream",
     "text": [
      "\n"
     ]
    },
    {
     "data": {
      "text/html": [
       "<div>\n",
       "<style scoped>\n",
       "    .dataframe tbody tr th:only-of-type {\n",
       "        vertical-align: middle;\n",
       "    }\n",
       "\n",
       "    .dataframe tbody tr th {\n",
       "        vertical-align: top;\n",
       "    }\n",
       "\n",
       "    .dataframe thead th {\n",
       "        text-align: right;\n",
       "    }\n",
       "</style>\n",
       "<table border=\"1\" class=\"dataframe\">\n",
       "  <thead>\n",
       "    <tr style=\"text-align: right;\">\n",
       "      <th></th>\n",
       "      <th>doc_id</th>\n",
       "      <th>docdate</th>\n",
       "      <th>text</th>\n",
       "      <th>title</th>\n",
       "      <th>url</th>\n",
       "      <th>source</th>\n",
       "      <th>year</th>\n",
       "    </tr>\n",
       "  </thead>\n",
       "  <tbody>\n",
       "    <tr>\n",
       "      <th>0</th>\n",
       "      <td>124272138</td>\n",
       "      <td>2018-11-20 15:23:00</td>\n",
       "      <td>Россия поставила Анголе четыре истреьителя Су-...</td>\n",
       "      <td>Россия поставила Анголе четыре истребителя Су-...</td>\n",
       "      <td>http://www.interfax.ru/world/638657</td>\n",
       "      <td>Interfax</td>\n",
       "      <td>2018</td>\n",
       "    </tr>\n",
       "    <tr>\n",
       "      <th>1</th>\n",
       "      <td>124272120</td>\n",
       "      <td>2018-11-20 15:10:00</td>\n",
       "      <td>Нерезиденты и дочерние иностранные банки в окт...</td>\n",
       "      <td>Нерезиденты в октябре купили ОФЗ на аукционах ...</td>\n",
       "      <td>http://www.interfax.ru/business/638658</td>\n",
       "      <td>Interfax</td>\n",
       "      <td>2018</td>\n",
       "    </tr>\n",
       "    <tr>\n",
       "      <th>2</th>\n",
       "      <td>124257606</td>\n",
       "      <td>2018-11-20 14:26:00</td>\n",
       "      <td>Отделение Пенсионного фонда России по Самарско...</td>\n",
       "      <td>Нескольких умерших жителей Самары по ошибке пр...</td>\n",
       "      <td>http://www.interfax.ru/russia/638651</td>\n",
       "      <td>Interfax</td>\n",
       "      <td>2018</td>\n",
       "    </tr>\n",
       "    <tr>\n",
       "      <th>3</th>\n",
       "      <td>124067142</td>\n",
       "      <td>2018-11-19 19:47:00</td>\n",
       "      <td>Глава дипломатии ЕС Федерика Могерини заявила,...</td>\n",
       "      <td>ЕС предпримет меры из-за \"чрезмерных инспекций...</td>\n",
       "      <td>http://www.interfax.ru/world/638545</td>\n",
       "      <td>Interfax</td>\n",
       "      <td>2018</td>\n",
       "    </tr>\n",
       "    <tr>\n",
       "      <th>4</th>\n",
       "      <td>122766500</td>\n",
       "      <td>2018-11-14 18:45:00</td>\n",
       "      <td>Сотруднику Центрального научно-исследовательск...</td>\n",
       "      <td>Предложенная ученому Кудрявцеву сделка со след...</td>\n",
       "      <td>http://www.interfax.ru/russia/637890</td>\n",
       "      <td>Interfax</td>\n",
       "      <td>2018</td>\n",
       "    </tr>\n",
       "  </tbody>\n",
       "</table>\n",
       "</div>"
      ],
      "text/plain": [
       "      doc_id             docdate  \\\n",
       "0  124272138 2018-11-20 15:23:00   \n",
       "1  124272120 2018-11-20 15:10:00   \n",
       "2  124257606 2018-11-20 14:26:00   \n",
       "3  124067142 2018-11-19 19:47:00   \n",
       "4  122766500 2018-11-14 18:45:00   \n",
       "\n",
       "                                                text  \\\n",
       "0  Россия поставила Анголе четыре истреьителя Су-...   \n",
       "1  Нерезиденты и дочерние иностранные банки в окт...   \n",
       "2  Отделение Пенсионного фонда России по Самарско...   \n",
       "3  Глава дипломатии ЕС Федерика Могерини заявила,...   \n",
       "4  Сотруднику Центрального научно-исследовательск...   \n",
       "\n",
       "                                               title  \\\n",
       "0  Россия поставила Анголе четыре истребителя Су-...   \n",
       "1  Нерезиденты в октябре купили ОФЗ на аукционах ...   \n",
       "2  Нескольких умерших жителей Самары по ошибке пр...   \n",
       "3  ЕС предпримет меры из-за \"чрезмерных инспекций...   \n",
       "4  Предложенная ученому Кудрявцеву сделка со след...   \n",
       "\n",
       "                                      url    source  year  \n",
       "0     http://www.interfax.ru/world/638657  Interfax  2018  \n",
       "1  http://www.interfax.ru/business/638658  Interfax  2018  \n",
       "2    http://www.interfax.ru/russia/638651  Interfax  2018  \n",
       "3     http://www.interfax.ru/world/638545  Interfax  2018  \n",
       "4    http://www.interfax.ru/russia/637890  Interfax  2018  "
      ]
     },
     "execution_count": 152,
     "metadata": {},
     "output_type": "execute_result"
    }
   ],
   "source": [
    "tqdm_notebook.pandas(desc=\"Date format preprocess\")\n",
    "news[\"year\"] = news[\"docdate\"].progress_apply(lambda x : int(str(x)[:4]))\n",
    "news.head()"
   ]
  },
  {
   "cell_type": "code",
   "execution_count": 153,
   "metadata": {
    "scrolled": false
   },
   "outputs": [
    {
     "data": {
      "text/plain": [
       "<matplotlib.axes._subplots.AxesSubplot at 0x7fe8673a90b8>"
      ]
     },
     "execution_count": 153,
     "metadata": {},
     "output_type": "execute_result"
    },
    {
     "data": {
      "image/png": "[encoded data removed]",
      "text/plain": [
       "<Figure size 432x288 with 1 Axes>"
      ]
     },
     "metadata": {
      "needs_background": "light"
     },
     "output_type": "display_data"
    }
   ],
   "source": [
    "g = sns.boxplot(x=\"source\", y=\"year\", data=news, palette=sns.color_palette(\"cubehelix\", len(news.source.unique())))\n",
    "g.set_xticklabels(labels=news[\"source\"].unique(), rotation=50)\n",
    "g.set_xlabel(\"Media source\")\n",
    "g.set_ylabel(\"Year\")\n",
    "g"
   ]
  },
  {
   "cell_type": "markdown",
   "metadata": {},
   "source": [
    "#### idk why i've done the following but it may be useful in some way someday"
   ]
  },
  {
   "cell_type": "code",
   "execution_count": 71,
   "metadata": {},
   "outputs": [],
   "source": [
    "november = news[news[\"docdate\"]>pd.to_datetime(\"2018-11-15\")]"
   ]
  },
  {
   "cell_type": "code",
   "execution_count": 72,
   "metadata": {},
   "outputs": [
    {
     "name": "stdout",
     "output_type": "stream",
     "text": [
      "Размер дампа позже середины ноября 2018: 9735\n"
     ]
    }
   ],
   "source": [
    "print(\"Размер дампа позже середины ноября 2018: {}\".format(november.shape[0]))"
   ]
  },
  {
   "cell_type": "code",
   "execution_count": 86,
   "metadata": {},
   "outputs": [
    {
     "name": "stdout",
     "output_type": "stream",
     "text": [
      "Источник \"Интерфакс\": 679\n",
      "Источник \"Dni.ru\": 305\n",
      "Источник \"КП\": 622\n",
      "Источник \"Meduza\": 174\n",
      "Источник \"МК\": 2\n",
      "Источник \"Новая Газета\": 175\n",
      "Источник \"РГ\": 1600\n",
      "Источник \"РИА\": 2335\n",
      "Источник \"ТАСС\": 3527\n",
      "Источник \"Утро.ру\": 316\n",
      "\n",
      "Потенциального кликбейта: 1243 или 12.8%\n"
     ]
    }
   ],
   "source": [
    "for s in news.source.unique():\n",
    "    print(\"Источник \\\"{0}\\\": {1}\".format(s, november[november[\"source\"]==s].shape[0]))\n",
    "    \n",
    "    \n",
    "num_bait = november[(november[\"source\"]==\"Dni.ru\") | \n",
    "                (november[\"source\"]==\"Утро.ру\") | \n",
    "                (november[\"source\"]==\"КП\")].shape[0]    \n",
    "\n",
    "print(\"\\nПотенциального кликбейта: {0} или {1}%\".format(num_bait, round(num_bait/november.shape[0]*100, ndigits=1)))"
   ]
  },
  {
   "cell_type": "code",
   "execution_count": 87,
   "metadata": {},
   "outputs": [],
   "source": [
    "november.to_json(\"data/november.json\", force_ascii=False, compression='zip')"
   ]
  },
  {
   "cell_type": "markdown",
   "metadata": {},
   "source": [
    "## Pie-chart on news dated back in 2018"
   ]
  },
  {
   "cell_type": "code",
   "execution_count": 219,
   "metadata": {},
   "outputs": [
    {
     "name": "stdout",
     "output_type": "stream",
     "text": [
      "Size of 2018 news dump: 518144 entities\n"
     ]
    },
    {
     "data": {
      "text/html": [
       "<div>\n",
       "<style scoped>\n",
       "    .dataframe tbody tr th:only-of-type {\n",
       "        vertical-align: middle;\n",
       "    }\n",
       "\n",
       "    .dataframe tbody tr th {\n",
       "        vertical-align: top;\n",
       "    }\n",
       "\n",
       "    .dataframe thead th {\n",
       "        text-align: right;\n",
       "    }\n",
       "</style>\n",
       "<table border=\"1\" class=\"dataframe\">\n",
       "  <thead>\n",
       "    <tr style=\"text-align: right;\">\n",
       "      <th></th>\n",
       "      <th>doc_id</th>\n",
       "      <th>docdate</th>\n",
       "      <th>text</th>\n",
       "      <th>title</th>\n",
       "      <th>url</th>\n",
       "      <th>source</th>\n",
       "    </tr>\n",
       "  </thead>\n",
       "  <tbody>\n",
       "    <tr>\n",
       "      <th>0</th>\n",
       "      <td>124272138</td>\n",
       "      <td>2018-11-20 15:23:00</td>\n",
       "      <td>Россия поставила Анголе четыре истреьителя Су-...</td>\n",
       "      <td>Россия поставила Анголе четыре истребителя Су-...</td>\n",
       "      <td>http://www.interfax.ru/world/638657</td>\n",
       "      <td>Interfax</td>\n",
       "    </tr>\n",
       "    <tr>\n",
       "      <th>1</th>\n",
       "      <td>124272120</td>\n",
       "      <td>2018-11-20 15:10:00</td>\n",
       "      <td>Нерезиденты и дочерние иностранные банки в окт...</td>\n",
       "      <td>Нерезиденты в октябре купили ОФЗ на аукционах ...</td>\n",
       "      <td>http://www.interfax.ru/business/638658</td>\n",
       "      <td>Interfax</td>\n",
       "    </tr>\n",
       "    <tr>\n",
       "      <th>2</th>\n",
       "      <td>124257606</td>\n",
       "      <td>2018-11-20 14:26:00</td>\n",
       "      <td>Отделение Пенсионного фонда России по Самарско...</td>\n",
       "      <td>Нескольких умерших жителей Самары по ошибке пр...</td>\n",
       "      <td>http://www.interfax.ru/russia/638651</td>\n",
       "      <td>Interfax</td>\n",
       "    </tr>\n",
       "    <tr>\n",
       "      <th>3</th>\n",
       "      <td>124067142</td>\n",
       "      <td>2018-11-19 19:47:00</td>\n",
       "      <td>Глава дипломатии ЕС Федерика Могерини заявила,...</td>\n",
       "      <td>ЕС предпримет меры из-за \"чрезмерных инспекций...</td>\n",
       "      <td>http://www.interfax.ru/world/638545</td>\n",
       "      <td>Interfax</td>\n",
       "    </tr>\n",
       "    <tr>\n",
       "      <th>4</th>\n",
       "      <td>122766500</td>\n",
       "      <td>2018-11-14 18:45:00</td>\n",
       "      <td>Сотруднику Центрального научно-исследовательск...</td>\n",
       "      <td>Предложенная ученому Кудрявцеву сделка со след...</td>\n",
       "      <td>http://www.interfax.ru/russia/637890</td>\n",
       "      <td>Interfax</td>\n",
       "    </tr>\n",
       "  </tbody>\n",
       "</table>\n",
       "</div>"
      ],
      "text/plain": [
       "      doc_id             docdate  \\\n",
       "0  124272138 2018-11-20 15:23:00   \n",
       "1  124272120 2018-11-20 15:10:00   \n",
       "2  124257606 2018-11-20 14:26:00   \n",
       "3  124067142 2018-11-19 19:47:00   \n",
       "4  122766500 2018-11-14 18:45:00   \n",
       "\n",
       "                                                text  \\\n",
       "0  Россия поставила Анголе четыре истреьителя Су-...   \n",
       "1  Нерезиденты и дочерние иностранные банки в окт...   \n",
       "2  Отделение Пенсионного фонда России по Самарско...   \n",
       "3  Глава дипломатии ЕС Федерика Могерини заявила,...   \n",
       "4  Сотруднику Центрального научно-исследовательск...   \n",
       "\n",
       "                                               title  \\\n",
       "0  Россия поставила Анголе четыре истребителя Су-...   \n",
       "1  Нерезиденты в октябре купили ОФЗ на аукционах ...   \n",
       "2  Нескольких умерших жителей Самары по ошибке пр...   \n",
       "3  ЕС предпримет меры из-за \"чрезмерных инспекций...   \n",
       "4  Предложенная ученому Кудрявцеву сделка со след...   \n",
       "\n",
       "                                      url    source  \n",
       "0     http://www.interfax.ru/world/638657  Interfax  \n",
       "1  http://www.interfax.ru/business/638658  Interfax  \n",
       "2    http://www.interfax.ru/russia/638651  Interfax  \n",
       "3     http://www.interfax.ru/world/638545  Interfax  \n",
       "4    http://www.interfax.ru/russia/637890  Interfax  "
      ]
     },
     "execution_count": 219,
     "metadata": {},
     "output_type": "execute_result"
    }
   ],
   "source": [
    "news18 = news[news[\"docdate\"]>pd.to_datetime(\"2018\", format=\"%Y\")].reset_index(drop=True)\n",
    "print(\"Size of 2018 news dump: {} entities\".format(news18.shape[0]))\n",
    "news18.head()"
   ]
  },
  {
   "cell_type": "code",
   "execution_count": 220,
   "metadata": {},
   "outputs": [],
   "source": [
    "news18.to_json(\"../data/raw/cleaned/newsdump18.json\", force_ascii=False, compression='zip')"
   ]
  },
  {
   "cell_type": "code",
   "execution_count": 158,
   "metadata": {},
   "outputs": [
    {
     "name": "stdout",
     "output_type": "stream",
     "text": [
      "Possibly untrustworthy: 22251\n"
     ]
    }
   ],
   "source": [
    "num_bait = news18[(news18[\"source\"]==\"Dni.ru\") | \n",
    "                (news18[\"source\"]==\"Утро.ру\")].shape[0]    \n",
    "\n",
    "print(\"Possibly untrustworthy: {}\".format(num_bait))"
   ]
  },
  {
   "cell_type": "code",
   "execution_count": 159,
   "metadata": {},
   "outputs": [
    {
     "name": "stdout",
     "output_type": "stream",
     "text": [
      "Possibly trustworthy: 495893\n"
     ]
    }
   ],
   "source": [
    "num_ok = news18.shape[0] - num_bait\n",
    "\n",
    "print(\"Possibly trustworthy: {}\".format(num_ok))"
   ]
  },
  {
   "cell_type": "code",
   "execution_count": 160,
   "metadata": {},
   "outputs": [],
   "source": [
    "names= 'Trustworthy', 'Clickbait',\n",
    "size=[num_ok, num_bait]"
   ]
  },
  {
   "cell_type": "code",
   "execution_count": 161,
   "metadata": {},
   "outputs": [
    {
     "data": {
      "image/png": "[encoded data removed]",
      "text/plain": [
       "<Figure size 432x288 with 1 Axes>"
      ]
     },
     "metadata": {},
     "output_type": "display_data"
    }
   ],
   "source": [
    "fig=plt.Circle((0,0), 0.7, color='white')\n",
    "\n",
    "plt.pie(size, labels=names, colors=['teal', 'rosybrown'])\n",
    "p=plt.gcf()\n",
    "p.gca().add_artist(fig)\n",
    "plt.show()"
   ]
  },
  {
   "cell_type": "code",
   "execution_count": 169,
   "metadata": {},
   "outputs": [],
   "source": [
    "sent_count = lambda x : 0 if x is None else len([s for s in sent_tokenize(x) if s is not None])\n",
    "word_count = lambda x :  0 if x is None else len([w for w in word_tokenize(x) if w.isalpha() and w is not None])"
   ]
  },
  {
   "cell_type": "code",
   "execution_count": 162,
   "metadata": {},
   "outputs": [],
   "source": [
    "news18 = news18.dropna(subset=['text', 'title']).copy(deep=True)"
   ]
  },
  {
   "cell_type": "code",
   "execution_count": 167,
   "metadata": {},
   "outputs": [
    {
     "data": {
      "application/vnd.jupyter.widget-view+json": {
       "model_id": "72274dd2780b4801a9affa9c8ecf6792",
       "version_major": 2,
       "version_minor": 0
      },
      "text/plain": [
       "HBox(children=(IntProgress(value=0, description='Length (sentences)', max=1238447, style=ProgressStyle(descrip…"
      ]
     },
     "metadata": {},
     "output_type": "display_data"
    },
    {
     "name": "stdout",
     "output_type": "stream",
     "text": [
      "\n"
     ]
    }
   ],
   "source": [
    "tqdm_notebook.pandas(desc=\"Length (sentences)\")\n",
    "\n",
    "news[\"sent-len\"] = news.text.progress_apply(sent_count)"
   ]
  },
  {
   "cell_type": "code",
   "execution_count": 170,
   "metadata": {
    "scrolled": false
   },
   "outputs": [
    {
     "data": {
      "application/vnd.jupyter.widget-view+json": {
       "model_id": "b6b56e156a0a49eaad4fcc1910fecc96",
       "version_major": 2,
       "version_minor": 0
      },
      "text/plain": [
       "HBox(children=(IntProgress(value=0, description='Length (words)', max=1238447, style=ProgressStyle(description…"
      ]
     },
     "metadata": {},
     "output_type": "display_data"
    },
    {
     "name": "stdout",
     "output_type": "stream",
     "text": [
      "\n"
     ]
    }
   ],
   "source": [
    "tqdm_notebook.pandas(desc=\"Length (words)\")\n",
    "\n",
    "news[\"word-len\"] = news.text.progress_apply(word_count)"
   ]
  },
  {
   "cell_type": "code",
   "execution_count": 171,
   "metadata": {},
   "outputs": [
    {
     "data": {
      "text/html": [
       "<div>\n",
       "<style scoped>\n",
       "    .dataframe tbody tr th:only-of-type {\n",
       "        vertical-align: middle;\n",
       "    }\n",
       "\n",
       "    .dataframe tbody tr th {\n",
       "        vertical-align: top;\n",
       "    }\n",
       "\n",
       "    .dataframe thead th {\n",
       "        text-align: right;\n",
       "    }\n",
       "</style>\n",
       "<table border=\"1\" class=\"dataframe\">\n",
       "  <thead>\n",
       "    <tr style=\"text-align: right;\">\n",
       "      <th></th>\n",
       "      <th>doc_id</th>\n",
       "      <th>docdate</th>\n",
       "      <th>text</th>\n",
       "      <th>title</th>\n",
       "      <th>url</th>\n",
       "      <th>source</th>\n",
       "      <th>year</th>\n",
       "      <th>sent-len</th>\n",
       "      <th>word-len</th>\n",
       "    </tr>\n",
       "  </thead>\n",
       "  <tbody>\n",
       "    <tr>\n",
       "      <th>0</th>\n",
       "      <td>124272138</td>\n",
       "      <td>2018-11-20 15:23:00</td>\n",
       "      <td>Россия поставила Анголе четыре истреьителя Су-...</td>\n",
       "      <td>Россия поставила Анголе четыре истребителя Су-...</td>\n",
       "      <td>http://www.interfax.ru/world/638657</td>\n",
       "      <td>Interfax</td>\n",
       "      <td>2018</td>\n",
       "      <td>11</td>\n",
       "      <td>183</td>\n",
       "    </tr>\n",
       "    <tr>\n",
       "      <th>1</th>\n",
       "      <td>124272120</td>\n",
       "      <td>2018-11-20 15:10:00</td>\n",
       "      <td>Нерезиденты и дочерние иностранные банки в окт...</td>\n",
       "      <td>Нерезиденты в октябре купили ОФЗ на аукционах ...</td>\n",
       "      <td>http://www.interfax.ru/business/638658</td>\n",
       "      <td>Interfax</td>\n",
       "      <td>2018</td>\n",
       "      <td>12</td>\n",
       "      <td>239</td>\n",
       "    </tr>\n",
       "    <tr>\n",
       "      <th>2</th>\n",
       "      <td>124257606</td>\n",
       "      <td>2018-11-20 14:26:00</td>\n",
       "      <td>Отделение Пенсионного фонда России по Самарско...</td>\n",
       "      <td>Нескольких умерших жителей Самары по ошибке пр...</td>\n",
       "      <td>http://www.interfax.ru/russia/638651</td>\n",
       "      <td>Interfax</td>\n",
       "      <td>2018</td>\n",
       "      <td>3</td>\n",
       "      <td>89</td>\n",
       "    </tr>\n",
       "    <tr>\n",
       "      <th>3</th>\n",
       "      <td>124067142</td>\n",
       "      <td>2018-11-19 19:47:00</td>\n",
       "      <td>Глава дипломатии ЕС Федерика Могерини заявила,...</td>\n",
       "      <td>ЕС предпримет меры из-за \"чрезмерных инспекций...</td>\n",
       "      <td>http://www.interfax.ru/world/638545</td>\n",
       "      <td>Interfax</td>\n",
       "      <td>2018</td>\n",
       "      <td>8</td>\n",
       "      <td>159</td>\n",
       "    </tr>\n",
       "    <tr>\n",
       "      <th>4</th>\n",
       "      <td>122766500</td>\n",
       "      <td>2018-11-14 18:45:00</td>\n",
       "      <td>Сотруднику Центрального научно-исследовательск...</td>\n",
       "      <td>Предложенная ученому Кудрявцеву сделка со след...</td>\n",
       "      <td>http://www.interfax.ru/russia/637890</td>\n",
       "      <td>Interfax</td>\n",
       "      <td>2018</td>\n",
       "      <td>20</td>\n",
       "      <td>371</td>\n",
       "    </tr>\n",
       "    <tr>\n",
       "      <th>5</th>\n",
       "      <td>111234126</td>\n",
       "      <td>2018-09-04 11:17:00</td>\n",
       "      <td>Министр цифрового развития, связи и массовых к...</td>\n",
       "      <td>В Минкомсвязи заявили об отсутствии причин мен...</td>\n",
       "      <td>http://www.interfax.ru/russia/627814</td>\n",
       "      <td>Interfax</td>\n",
       "      <td>2018</td>\n",
       "      <td>20</td>\n",
       "      <td>378</td>\n",
       "    </tr>\n",
       "    <tr>\n",
       "      <th>6</th>\n",
       "      <td>111234125</td>\n",
       "      <td>2018-09-04 11:11:00</td>\n",
       "      <td>Немногим более половины россиян знают о ситуац...</td>\n",
       "      <td>Половина россиян оказалась не в курсе ситуации...</td>\n",
       "      <td>http://www.interfax.ru/russia/627813</td>\n",
       "      <td>Interfax</td>\n",
       "      <td>2018</td>\n",
       "      <td>8</td>\n",
       "      <td>183</td>\n",
       "    </tr>\n",
       "    <tr>\n",
       "      <th>7</th>\n",
       "      <td>111234101</td>\n",
       "      <td>2018-09-04 11:28:00</td>\n",
       "      <td>Следственное управление СКР по Самарской облас...</td>\n",
       "      <td>СК возбудил дело после гибели рабочих на двига...</td>\n",
       "      <td>http://www.interfax.ru/russia/627815</td>\n",
       "      <td>Interfax</td>\n",
       "      <td>2018</td>\n",
       "      <td>7</td>\n",
       "      <td>149</td>\n",
       "    </tr>\n",
       "    <tr>\n",
       "      <th>8</th>\n",
       "      <td>111233244</td>\n",
       "      <td>2018-09-04 10:31:00</td>\n",
       "      <td>Доллар США растет, евро стабилен на Московской...</td>\n",
       "      <td>Рубль умеренно снизился к бивалютной корзине н...</td>\n",
       "      <td>http://www.interfax.ru/business/627806</td>\n",
       "      <td>Interfax</td>\n",
       "      <td>2018</td>\n",
       "      <td>17</td>\n",
       "      <td>324</td>\n",
       "    </tr>\n",
       "    <tr>\n",
       "      <th>9</th>\n",
       "      <td>111233239</td>\n",
       "      <td>2018-09-04 10:30:00</td>\n",
       "      <td>Страховая компания \"Ингосстрах\" начала принима...</td>\n",
       "      <td>Ингосстрах\" начал принимать заявления от клиен...</td>\n",
       "      <td>http://www.interfax.ru/business/627805</td>\n",
       "      <td>Interfax</td>\n",
       "      <td>2018</td>\n",
       "      <td>15</td>\n",
       "      <td>313</td>\n",
       "    </tr>\n",
       "  </tbody>\n",
       "</table>\n",
       "</div>"
      ],
      "text/plain": [
       "      doc_id             docdate  \\\n",
       "0  124272138 2018-11-20 15:23:00   \n",
       "1  124272120 2018-11-20 15:10:00   \n",
       "2  124257606 2018-11-20 14:26:00   \n",
       "3  124067142 2018-11-19 19:47:00   \n",
       "4  122766500 2018-11-14 18:45:00   \n",
       "5  111234126 2018-09-04 11:17:00   \n",
       "6  111234125 2018-09-04 11:11:00   \n",
       "7  111234101 2018-09-04 11:28:00   \n",
       "8  111233244 2018-09-04 10:31:00   \n",
       "9  111233239 2018-09-04 10:30:00   \n",
       "\n",
       "                                                text  \\\n",
       "0  Россия поставила Анголе четыре истреьителя Су-...   \n",
       "1  Нерезиденты и дочерние иностранные банки в окт...   \n",
       "2  Отделение Пенсионного фонда России по Самарско...   \n",
       "3  Глава дипломатии ЕС Федерика Могерини заявила,...   \n",
       "4  Сотруднику Центрального научно-исследовательск...   \n",
       "5  Министр цифрового развития, связи и массовых к...   \n",
       "6  Немногим более половины россиян знают о ситуац...   \n",
       "7  Следственное управление СКР по Самарской облас...   \n",
       "8  Доллар США растет, евро стабилен на Московской...   \n",
       "9  Страховая компания \"Ингосстрах\" начала принима...   \n",
       "\n",
       "                                               title  \\\n",
       "0  Россия поставила Анголе четыре истребителя Су-...   \n",
       "1  Нерезиденты в октябре купили ОФЗ на аукционах ...   \n",
       "2  Нескольких умерших жителей Самары по ошибке пр...   \n",
       "3  ЕС предпримет меры из-за \"чрезмерных инспекций...   \n",
       "4  Предложенная ученому Кудрявцеву сделка со след...   \n",
       "5  В Минкомсвязи заявили об отсутствии причин мен...   \n",
       "6  Половина россиян оказалась не в курсе ситуации...   \n",
       "7  СК возбудил дело после гибели рабочих на двига...   \n",
       "8  Рубль умеренно снизился к бивалютной корзине н...   \n",
       "9  Ингосстрах\" начал принимать заявления от клиен...   \n",
       "\n",
       "                                      url    source  year  sent-len  word-len  \n",
       "0     http://www.interfax.ru/world/638657  Interfax  2018        11       183  \n",
       "1  http://www.interfax.ru/business/638658  Interfax  2018        12       239  \n",
       "2    http://www.interfax.ru/russia/638651  Interfax  2018         3        89  \n",
       "3     http://www.interfax.ru/world/638545  Interfax  2018         8       159  \n",
       "4    http://www.interfax.ru/russia/637890  Interfax  2018        20       371  \n",
       "5    http://www.interfax.ru/russia/627814  Interfax  2018        20       378  \n",
       "6    http://www.interfax.ru/russia/627813  Interfax  2018         8       183  \n",
       "7    http://www.interfax.ru/russia/627815  Interfax  2018         7       149  \n",
       "8  http://www.interfax.ru/business/627806  Interfax  2018        17       324  \n",
       "9  http://www.interfax.ru/business/627805  Interfax  2018        15       313  "
      ]
     },
     "execution_count": 171,
     "metadata": {},
     "output_type": "execute_result"
    }
   ],
   "source": [
    "news.to_json(\"../data/interim/newsdump-word-sent-count.json\", force_ascii=False, compression='gzip')\n",
    "news.head(10)"
   ]
  },
  {
   "cell_type": "code",
   "execution_count": 172,
   "metadata": {},
   "outputs": [],
   "source": [
    "news = news[news[\"word-len\"]>5].copy(deep=True)"
   ]
  },
  {
   "cell_type": "code",
   "execution_count": 174,
   "metadata": {},
   "outputs": [
    {
     "name": "stdout",
     "output_type": "stream",
     "text": [
      "Size of dataframe: 1238106\n",
      "Average number of sentences: 15.35\n",
      "Maximum number of sentences: 1857\n",
      "Minimum number of sentences: 1\n"
     ]
    }
   ],
   "source": [
    "print(\"Size of dataframe: {}\".format(news.shape[0]))\n",
    "print(\"Average number of sentences: {}\".format(round(np.mean(news[\"sent-len\"].tolist()), ndigits=2)))\n",
    "print(\"Maximum number of sentences: {}\".format(max(news[\"sent-len\"].tolist())))\n",
    "print(\"Minimum number of sentences: {}\".format(min(news[\"sent-len\"].tolist())))"
   ]
  },
  {
   "cell_type": "code",
   "execution_count": 175,
   "metadata": {},
   "outputs": [
    {
     "name": "stdout",
     "output_type": "stream",
     "text": [
      "Average number of words: 247.15\n",
      "Maximum number of words: 26778\n",
      "Minimum number of words: 6\n"
     ]
    }
   ],
   "source": [
    "print(\"Average number of words: {}\".format(round(np.mean(news[\"word-len\"].tolist()), ndigits=2)))\n",
    "print(\"Maximum number of words: {}\".format(max(news[\"word-len\"].tolist())))\n",
    "print(\"Minimum number of words: {}\".format(min(news[\"word-len\"].tolist())))"
   ]
  },
  {
   "cell_type": "code",
   "execution_count": 177,
   "metadata": {},
   "outputs": [
    {
     "name": "stdout",
     "output_type": "stream",
     "text": [
      "Highest bound for number of sentences in text: 54\n",
      "Highest bound for number of words in text: 795\n"
     ]
    }
   ],
   "source": [
    "bound_s = int(np.mean(news[\"sent-len\"].tolist()) + 2 * np.std(news[\"sent-len\"].tolist()))\n",
    "bound_w = int(np.mean(news[\"word-len\"].tolist()) + 2 * np.std(news[\"word-len\"].tolist()))\n",
    "\n",
    "print(\"Highest bound for number of sentences in text: {}\".format(bound_s))\n",
    "print(\"Highest bound for number of words in text: {}\".format(bound_w))"
   ]
  },
  {
   "cell_type": "code",
   "execution_count": 180,
   "metadata": {},
   "outputs": [
    {
     "name": "stdout",
     "output_type": "stream",
     "text": [
      "Number of empty (?) texts: 63\n"
     ]
    },
    {
     "data": {
      "text/html": [
       "<div>\n",
       "<style scoped>\n",
       "    .dataframe tbody tr th:only-of-type {\n",
       "        vertical-align: middle;\n",
       "    }\n",
       "\n",
       "    .dataframe tbody tr th {\n",
       "        vertical-align: top;\n",
       "    }\n",
       "\n",
       "    .dataframe thead th {\n",
       "        text-align: right;\n",
       "    }\n",
       "</style>\n",
       "<table border=\"1\" class=\"dataframe\">\n",
       "  <thead>\n",
       "    <tr style=\"text-align: right;\">\n",
       "      <th></th>\n",
       "      <th>doc_id</th>\n",
       "      <th>docdate</th>\n",
       "      <th>text</th>\n",
       "      <th>title</th>\n",
       "      <th>url</th>\n",
       "      <th>source</th>\n",
       "      <th>year</th>\n",
       "      <th>sent-len</th>\n",
       "      <th>word-len</th>\n",
       "    </tr>\n",
       "  </thead>\n",
       "  <tbody>\n",
       "    <tr>\n",
       "      <th>89448</th>\n",
       "      <td>122825823</td>\n",
       "      <td>2018-11-14 11:00:00</td>\n",
       "      <td>новые акценты в работе налоговых органов\".</td>\n",
       "      <td>Пресс-конференция в \"Интерфаксе\" руководителя ...</td>\n",
       "      <td>http://www.interfax.ru/presscenter/announce/2471</td>\n",
       "      <td>Interfax</td>\n",
       "      <td>2018</td>\n",
       "      <td>1</td>\n",
       "      <td>6</td>\n",
       "    </tr>\n",
       "    <tr>\n",
       "      <th>159716</th>\n",
       "      <td>9885227</td>\n",
       "      <td>2017-05-07 15:59:00</td>\n",
       "      <td>Победный гол на 49-й минуте забил Лобжанидзе</td>\n",
       "      <td>Футболисты \"Оренбурга\" победили \"Краснодар\" 1:...</td>\n",
       "      <td>http://www.kp.ru/online/news/2738348/</td>\n",
       "      <td>KP</td>\n",
       "      <td>2017</td>\n",
       "      <td>1</td>\n",
       "      <td>6</td>\n",
       "    </tr>\n",
       "    <tr>\n",
       "      <th>250838</th>\n",
       "      <td>2573246</td>\n",
       "      <td>2017-03-20 10:09:00</td>\n",
       "      <td>Фото: Евгений Фельдман для кампании Навального</td>\n",
       "      <td>Навального облили зеленкой в Барнауле. Фотография</td>\n",
       "      <td>https://meduza.io/short/2017/03/20/navalnogo-o...</td>\n",
       "      <td>Meduza</td>\n",
       "      <td>2017</td>\n",
       "      <td>1</td>\n",
       "      <td>6</td>\n",
       "    </tr>\n",
       "    <tr>\n",
       "      <th>276712</th>\n",
       "      <td>1309307</td>\n",
       "      <td>2016-03-07 13:47:00</td>\n",
       "      <td>Фотоистория Евгения Фельдмана \\n\\nФотоистория ...</td>\n",
       "      <td>Новый Орлеан, Луизиана. Джаз, бокс, Трамп и Кл...</td>\n",
       "      <td>http://www.novayagazeta.ru/photos/72127.html?p...</td>\n",
       "      <td>Novaya Gazeta</td>\n",
       "      <td>2016</td>\n",
       "      <td>1</td>\n",
       "      <td>6</td>\n",
       "    </tr>\n",
       "    <tr>\n",
       "      <th>281234</th>\n",
       "      <td>111338683</td>\n",
       "      <td>2018-09-04 18:31:00</td>\n",
       "      <td>Новые (старые) методы агитации на выборы</td>\n",
       "      <td>Явка на шашлыки</td>\n",
       "      <td>https://www.novayagazeta.ru/articles/2018/09/0...</td>\n",
       "      <td>Novaya Gazeta</td>\n",
       "      <td>2018</td>\n",
       "      <td>1</td>\n",
       "      <td>6</td>\n",
       "    </tr>\n",
       "    <tr>\n",
       "      <th>289232</th>\n",
       "      <td>99825320</td>\n",
       "      <td>2018-07-23 00:47:00</td>\n",
       "      <td>*Роман Якобсон, «Статуя в поэтической мифологи...</td>\n",
       "      <td>70-й день бессрочной голодовки</td>\n",
       "      <td>https://www.novayagazeta.ru/articles/2018/07/2...</td>\n",
       "      <td>Novaya Gazeta</td>\n",
       "      <td>2018</td>\n",
       "      <td>1</td>\n",
       "      <td>6</td>\n",
       "    </tr>\n",
       "    <tr>\n",
       "      <th>294318</th>\n",
       "      <td>70980728</td>\n",
       "      <td>2018-03-30 11:42:00</td>\n",
       "      <td>Арсений ​Рогинский​ — о себе и о стране</td>\n",
       "      <td>Право на Память. Фильм</td>\n",
       "      <td>https://www.novayagazeta.ru/articles/2018/03/3...</td>\n",
       "      <td>Novaya Gazeta</td>\n",
       "      <td>2018</td>\n",
       "      <td>1</td>\n",
       "      <td>6</td>\n",
       "    </tr>\n",
       "    <tr>\n",
       "      <th>375846</th>\n",
       "      <td>61515570</td>\n",
       "      <td>2018-02-26 18:15:00</td>\n",
       "      <td>Источник: Локальный центр МГУ имени М.В. Ломон...</td>\n",
       "      <td>Пройдите тест на знание русского языка для пол...</td>\n",
       "      <td>https://rg.ru/2018/02/26/projdite-test-na-znan...</td>\n",
       "      <td>RG</td>\n",
       "      <td>2018</td>\n",
       "      <td>2</td>\n",
       "      <td>6</td>\n",
       "    </tr>\n",
       "    <tr>\n",
       "      <th>496685</th>\n",
       "      <td>689686</td>\n",
       "      <td>2016-12-23 12:30:00</td>\n",
       "      <td>Освобожденный от террористов Алеппо — в фотоле...</td>\n",
       "      <td>Праздник победы над террористами в освобожденн...</td>\n",
       "      <td>http://ria.ru/syria_mm/20161223/1484396752.html</td>\n",
       "      <td>RIA</td>\n",
       "      <td>2016</td>\n",
       "      <td>1</td>\n",
       "      <td>6</td>\n",
       "    </tr>\n",
       "    <tr>\n",
       "      <th>500657</th>\n",
       "      <td>693652</td>\n",
       "      <td>2017-02-14 16:52:00</td>\n",
       "      <td>ПАРЛАМЕНТ ЕГИПТА СМЕНИЛ ДЕВЯТЬ МИНИСТРОВ — ТВ</td>\n",
       "      <td>Египетский парламент сменил девять министров</td>\n",
       "      <td>http://ria.ru/world/20170214/1487958609.html</td>\n",
       "      <td>RIA</td>\n",
       "      <td>2017</td>\n",
       "      <td>1</td>\n",
       "      <td>6</td>\n",
       "    </tr>\n",
       "    <tr>\n",
       "      <th>502162</th>\n",
       "      <td>694605</td>\n",
       "      <td>2016-07-16 01:10:00</td>\n",
       "      <td>ЗДАНИЕ ПАРЛАМЕНТА ТУРЦИИ ОКРУЖЕНО ТАНКАМИ — АГ...</td>\n",
       "      <td>Танки окружили здание парламента Турции</td>\n",
       "      <td>http://ria.ru/world/20160716/1467115863.html</td>\n",
       "      <td>RIA</td>\n",
       "      <td>2016</td>\n",
       "      <td>1</td>\n",
       "      <td>6</td>\n",
       "    </tr>\n",
       "    <tr>\n",
       "      <th>503583</th>\n",
       "      <td>591219</td>\n",
       "      <td>2016-12-08 17:52:00</td>\n",
       "      <td>Митинг Федерации профсоюзов Украины — в фотоле...</td>\n",
       "      <td>Европейским ценам - европейские зарплаты: в Ки...</td>\n",
       "      <td>http://ria.ru/photolents/20161208/1483155454.html</td>\n",
       "      <td>RIA</td>\n",
       "      <td>2016</td>\n",
       "      <td>1</td>\n",
       "      <td>6</td>\n",
       "    </tr>\n",
       "    <tr>\n",
       "      <th>503855</th>\n",
       "      <td>696421</td>\n",
       "      <td>2016-07-13 20:31:00</td>\n",
       "      <td>ПОЛИТИКА НАТО ГРОЗИТ ГОНКОЙ ВООРУЖЕНИЙ — ГРУШКО</td>\n",
       "      <td>Грушко: политика НАТО грозит гонкой вооружений</td>\n",
       "      <td>http://ria.ru/world/20160713/1465427082.html</td>\n",
       "      <td>RIA</td>\n",
       "      <td>2016</td>\n",
       "      <td>1</td>\n",
       "      <td>6</td>\n",
       "    </tr>\n",
       "    <tr>\n",
       "      <th>515589</th>\n",
       "      <td>706755</td>\n",
       "      <td>2016-09-09 17:00:00</td>\n",
       "      <td>ОБАМА ОСУДИЛ ПРОВЕДЕННОЕ КНДР ЯДЕРНОЕ ИСПЫТАНИЕ</td>\n",
       "      <td>Обама: США никогда не будут воспринимать КНДР ...</td>\n",
       "      <td>http://ria.ru/world/20160909/1476534589.html</td>\n",
       "      <td>RIA</td>\n",
       "      <td>2016</td>\n",
       "      <td>1</td>\n",
       "      <td>6</td>\n",
       "    </tr>\n",
       "    <tr>\n",
       "      <th>523284</th>\n",
       "      <td>713744</td>\n",
       "      <td>2016-07-29 13:40:00</td>\n",
       "      <td>СНИЖЕНИЕ ИНФЛЯЦИОННЫХ ОЖИДАНИЙ ПРИОСТАНОВИЛОСЬ...</td>\n",
       "      <td>Инфляционные ожидания перестали снижаться, счи...</td>\n",
       "      <td>http://ria.ru/economy/20160729/1473157363.html</td>\n",
       "      <td>RIA</td>\n",
       "      <td>2016</td>\n",
       "      <td>1</td>\n",
       "      <td>6</td>\n",
       "    </tr>\n",
       "    <tr>\n",
       "      <th>523478</th>\n",
       "      <td>713983</td>\n",
       "      <td>2016-07-27 12:46:00</td>\n",
       "      <td>Самые необычные церемонии бракосочетания — в ф...</td>\n",
       "      <td>Любовь за решеткой, в небесах, под водой. Самы...</td>\n",
       "      <td>http://ria.ru/photolents/20160727/1472897737.html</td>\n",
       "      <td>RIA</td>\n",
       "      <td>2016</td>\n",
       "      <td>1</td>\n",
       "      <td>6</td>\n",
       "    </tr>\n",
       "    <tr>\n",
       "      <th>539937</th>\n",
       "      <td>594544</td>\n",
       "      <td>2017-01-24 11:40:00</td>\n",
       "      <td>Наводнение в кубинской столице – в фотоленте R...</td>\n",
       "      <td>Разгул стихии. Наводнение в Гаване</td>\n",
       "      <td>http://ria.ru/photolents/20170124/1486336627.html</td>\n",
       "      <td>RIA</td>\n",
       "      <td>2017</td>\n",
       "      <td>1</td>\n",
       "      <td>6</td>\n",
       "    </tr>\n",
       "    <tr>\n",
       "      <th>543813</th>\n",
       "      <td>3487846</td>\n",
       "      <td>2017-01-09 10:32:00</td>\n",
       "      <td>Аномальные морозы в Москве — в фотоленте Ria.ru.</td>\n",
       "      <td>Московские морозы</td>\n",
       "      <td>https://ria.ru/photolents/20170109/1485281330....</td>\n",
       "      <td>RIA</td>\n",
       "      <td>2017</td>\n",
       "      <td>1</td>\n",
       "      <td>6</td>\n",
       "    </tr>\n",
       "    <tr>\n",
       "      <th>566227</th>\n",
       "      <td>8259631</td>\n",
       "      <td>2017-04-26 15:17:00</td>\n",
       "      <td>Ситуация в осажденном боевиками Дейр-эз-Зоре —...</td>\n",
       "      <td>Сирийская армия на подступах к осажденному Дей...</td>\n",
       "      <td>https://ria.ru/syria/20170426/1493153056.html</td>\n",
       "      <td>RIA</td>\n",
       "      <td>2017</td>\n",
       "      <td>1</td>\n",
       "      <td>6</td>\n",
       "    </tr>\n",
       "    <tr>\n",
       "      <th>570434</th>\n",
       "      <td>597606</td>\n",
       "      <td>2016-08-04 17:32:00</td>\n",
       "      <td>РИА НОВОСТИ/ПРАЙМ/ ПРИВАТИЗАЦИЯ БАШНЕФТИ СОСТО...</td>\n",
       "      <td>Приватизация \"Башнефти\" состоится в сентябре-о...</td>\n",
       "      <td>http://ria.ru/economy/20160804/1473613304.html</td>\n",
       "      <td>RIA</td>\n",
       "      <td>2016</td>\n",
       "      <td>1</td>\n",
       "      <td>6</td>\n",
       "    </tr>\n",
       "    <tr>\n",
       "      <th>607439</th>\n",
       "      <td>600914</td>\n",
       "      <td>2016-09-24 14:31:00</td>\n",
       "      <td>МЕДВЕДЕВ ПРЕДЛОЖИЛ ИСАЕВА НА ДОЛЖНОСТЬ ВИЦЕ-СП...</td>\n",
       "      <td>Медведев предложил кандидатуру Исаева на должн...</td>\n",
       "      <td>http://ria.ru/politics/20160924/1477778393.html</td>\n",
       "      <td>RIA</td>\n",
       "      <td>2016</td>\n",
       "      <td>1</td>\n",
       "      <td>6</td>\n",
       "    </tr>\n",
       "    <tr>\n",
       "      <th>614606</th>\n",
       "      <td>70225173</td>\n",
       "      <td>2018-03-27 19:06:00</td>\n",
       "      <td>БЕЛЬГИЯ МОЖЕТ ВЫСЛАТЬ \"ОДНОГО-ДВУХ\" ДИПЛОМАТОВ...</td>\n",
       "      <td>Бельгия может выслать до двух российских дипло...</td>\n",
       "      <td>https://ria.ru/world/20180327/1517402033.html</td>\n",
       "      <td>RIA</td>\n",
       "      <td>2018</td>\n",
       "      <td>1</td>\n",
       "      <td>6</td>\n",
       "    </tr>\n",
       "    <tr>\n",
       "      <th>614986</th>\n",
       "      <td>18228265</td>\n",
       "      <td>2017-07-04 20:19:00</td>\n",
       "      <td>ПАРЛАМЕНТ ФРАНЦИИ ВЫРАЗИЛ ДОВЕРИЕ ПРАВИТЕЛЬСТВ...</td>\n",
       "      <td>Парламент Франции выразил доверие правительств...</td>\n",
       "      <td>https://ria.ru/world/20170704/1497835560.html</td>\n",
       "      <td>RIA</td>\n",
       "      <td>2017</td>\n",
       "      <td>1</td>\n",
       "      <td>6</td>\n",
       "    </tr>\n",
       "    <tr>\n",
       "      <th>663904</th>\n",
       "      <td>82018541</td>\n",
       "      <td>2018-05-18 14:08:00</td>\n",
       "      <td>МЕДВЕДЕВ ПРЕДЛОЖИЛ НАЗНАЧИТЬ МУТКО ВИЦЕ-ПРЕМЬЕ...</td>\n",
       "      <td>Медведев предложил назначить Мутко вице-премье...</td>\n",
       "      <td>https://ria.ru/politics/20180518/1520842788.html</td>\n",
       "      <td>RIA</td>\n",
       "      <td>2018</td>\n",
       "      <td>1</td>\n",
       "      <td>6</td>\n",
       "    </tr>\n",
       "    <tr>\n",
       "      <th>664085</th>\n",
       "      <td>82030670</td>\n",
       "      <td>2018-05-18 15:04:00</td>\n",
       "      <td>ПУТИН ПЕРЕНАЗНАЧИЛ КОЛОБКОВА МИНИСТРОМ СПОРТА ...</td>\n",
       "      <td>Путин переназначил Колобкова министром спорта</td>\n",
       "      <td>https://ria.ru/politics/20180518/1520852380.html</td>\n",
       "      <td>RIA</td>\n",
       "      <td>2018</td>\n",
       "      <td>1</td>\n",
       "      <td>6</td>\n",
       "    </tr>\n",
       "    <tr>\n",
       "      <th>674439</th>\n",
       "      <td>607082</td>\n",
       "      <td>2016-11-28 12:16:00</td>\n",
       "      <td>Рождественская ярмарка во Вроцлаве — в фотолен...</td>\n",
       "      <td>Рождественская ярмарка во Вроцлаве</td>\n",
       "      <td>http://ria.ru/photolents/20161128/1482300029.html</td>\n",
       "      <td>RIA</td>\n",
       "      <td>2016</td>\n",
       "      <td>1</td>\n",
       "      <td>6</td>\n",
       "    </tr>\n",
       "    <tr>\n",
       "      <th>675863</th>\n",
       "      <td>85437049</td>\n",
       "      <td>2018-05-31 12:04:00</td>\n",
       "      <td>ПУТИН 1 ИЮНЯ ПРИМЕТ НАСЛЕДНОГО ПРИНЦА АБУ-ДАБИ...</td>\n",
       "      <td>Путин 1 июня примет наследного принца Абу-Даби</td>\n",
       "      <td>https://ria.ru/world/20180531/1521763758.html</td>\n",
       "      <td>RIA</td>\n",
       "      <td>2018</td>\n",
       "      <td>1</td>\n",
       "      <td>6</td>\n",
       "    </tr>\n",
       "    <tr>\n",
       "      <th>688771</th>\n",
       "      <td>608481</td>\n",
       "      <td>2016-12-14 11:32:00</td>\n",
       "      <td>Ситуация в сирийском Алеппо — в фотоленте Ria.ru.</td>\n",
       "      <td>Освобожденные от боевиков кварталы Алеппо</td>\n",
       "      <td>http://ria.ru/syria_mm/20161214/1483556055.html</td>\n",
       "      <td>RIA</td>\n",
       "      <td>2016</td>\n",
       "      <td>1</td>\n",
       "      <td>6</td>\n",
       "    </tr>\n",
       "    <tr>\n",
       "      <th>688827</th>\n",
       "      <td>88931773</td>\n",
       "      <td>2018-06-13 16:12:00</td>\n",
       "      <td>Президент Моралес пригласил Путина посетить Бо...</td>\n",
       "      <td>Моралес пригласил Путина посетить Боливию</td>\n",
       "      <td>https://ria.ru/politics/20180613/1522634692.html</td>\n",
       "      <td>RIA</td>\n",
       "      <td>2018</td>\n",
       "      <td>1</td>\n",
       "      <td>6</td>\n",
       "    </tr>\n",
       "    <tr>\n",
       "      <th>713269</th>\n",
       "      <td>34862013</td>\n",
       "      <td>2017-09-25 13:30:00</td>\n",
       "      <td>ЭКС-ГЛАВА \"РУСГИДРО\" ДОД ОСВОБОЖДЕН ИЗ-ПОД ДОМ...</td>\n",
       "      <td>Источник: экс-главу \"Русгидро\" Дода освободили...</td>\n",
       "      <td>https://ria.ru/incidents/20170925/1505495886.html</td>\n",
       "      <td>RIA</td>\n",
       "      <td>2017</td>\n",
       "      <td>1</td>\n",
       "      <td>6</td>\n",
       "    </tr>\n",
       "    <tr>\n",
       "      <th>...</th>\n",
       "      <td>...</td>\n",
       "      <td>...</td>\n",
       "      <td>...</td>\n",
       "      <td>...</td>\n",
       "      <td>...</td>\n",
       "      <td>...</td>\n",
       "      <td>...</td>\n",
       "      <td>...</td>\n",
       "      <td>...</td>\n",
       "    </tr>\n",
       "    <tr>\n",
       "      <th>753088</th>\n",
       "      <td>41725097</td>\n",
       "      <td>2017-11-05 16:12:00</td>\n",
       "      <td>ПУЧДЕМОН ЗАКЛЮЧЕН ПОД СТРАЖУ — ПРОКУРАТУРА БЕЛ...</td>\n",
       "      <td>В Брюсселе заключили под стражу экс-главу Ката...</td>\n",
       "      <td>https://ria.ru/world/20171105/1508239994.html</td>\n",
       "      <td>RIA</td>\n",
       "      <td>2017</td>\n",
       "      <td>1</td>\n",
       "      <td>6</td>\n",
       "    </tr>\n",
       "    <tr>\n",
       "      <th>773345</th>\n",
       "      <td>44979974</td>\n",
       "      <td>2017-11-28 16:00:00</td>\n",
       "      <td>ГОСОБВИНИТЕЛЬ 4 ДЕКАБРЯ ЗАПРОСИТ НАКАЗАНИЕ ДЛЯ...</td>\n",
       "      <td>Прокурор 4 декабря запросит наказание для Улюк...</td>\n",
       "      <td>https://ria.ru/incidents/20171128/1509761739.html</td>\n",
       "      <td>RIA</td>\n",
       "      <td>2017</td>\n",
       "      <td>1</td>\n",
       "      <td>6</td>\n",
       "    </tr>\n",
       "    <tr>\n",
       "      <th>789343</th>\n",
       "      <td>47989095</td>\n",
       "      <td>2017-12-15 14:04:00</td>\n",
       "      <td>РИА НОВОСТИ. УЛЮКАЕВ НАЗВАЛ ПРИГОВОР НЕСПРАВЕД...</td>\n",
       "      <td>Улюкаев назвал приговор несправедливым</td>\n",
       "      <td>https://ria.ru/incidents/20171215/1511032311.html</td>\n",
       "      <td>RIA</td>\n",
       "      <td>2017</td>\n",
       "      <td>2</td>\n",
       "      <td>6</td>\n",
       "    </tr>\n",
       "    <tr>\n",
       "      <th>803409</th>\n",
       "      <td>50234358</td>\n",
       "      <td>2017-12-28 20:23:00</td>\n",
       "      <td>ПРЕЗИДЕНТ ИТАЛИИ РАСПУСТИЛ НАЦИОНАЛЬНЫЙ ПАРЛАМ...</td>\n",
       "      <td>Президент Италии распустил Национальный парламент</td>\n",
       "      <td>https://ria.ru/world/20171228/1511929769.html</td>\n",
       "      <td>RIA</td>\n",
       "      <td>2017</td>\n",
       "      <td>1</td>\n",
       "      <td>6</td>\n",
       "    </tr>\n",
       "    <tr>\n",
       "      <th>839548</th>\n",
       "      <td>54474698</td>\n",
       "      <td>2018-01-31 11:16:00</td>\n",
       "      <td>Суд отказался отменять развод Джигарханяна с Ц...</td>\n",
       "      <td>Суд отказался отменять развод Джигарханяна с Ц...</td>\n",
       "      <td>https://ria.ru/culture/20180131/1513674403.html</td>\n",
       "      <td>RIA</td>\n",
       "      <td>2018</td>\n",
       "      <td>1</td>\n",
       "      <td>6</td>\n",
       "    </tr>\n",
       "    <tr>\n",
       "      <th>853360</th>\n",
       "      <td>583981</td>\n",
       "      <td>2016-09-21 23:43:00</td>\n",
       "      <td>ПРОИСХОДЯЩЕЕ НА УКРАИНЕ СЛИШКОМ ТРАГИЧНО — ЗАХ...</td>\n",
       "      <td>Захарова считает, что происходящее на Украине ...</td>\n",
       "      <td>http://ria.ru/world/20160921/1477555527.html</td>\n",
       "      <td>RIA</td>\n",
       "      <td>2016</td>\n",
       "      <td>1</td>\n",
       "      <td>6</td>\n",
       "    </tr>\n",
       "    <tr>\n",
       "      <th>857185</th>\n",
       "      <td>626789</td>\n",
       "      <td>2017-02-21 11:32:00</td>\n",
       "      <td>АЛИЕВ НАЗНАЧИЛ ПЕРВУЮ ЛЕДИ АЗЕРБАЙДЖАНА ПЕРВЫМ...</td>\n",
       "      <td>Алиев назначил жену первым вице-президентом ст...</td>\n",
       "      <td>http://ria.ru/world/20170221/1488470999.html</td>\n",
       "      <td>RIA</td>\n",
       "      <td>2017</td>\n",
       "      <td>1</td>\n",
       "      <td>6</td>\n",
       "    </tr>\n",
       "    <tr>\n",
       "      <th>858210</th>\n",
       "      <td>627602</td>\n",
       "      <td>2017-02-25 12:50:00</td>\n",
       "      <td>Вручение французской кинопремии \"Сезар\" — в фо...</td>\n",
       "      <td>Вручение премии \"Сезар\" в Париже</td>\n",
       "      <td>http://ria.ru/photolents/20170225/1488728554.html</td>\n",
       "      <td>RIA</td>\n",
       "      <td>2017</td>\n",
       "      <td>1</td>\n",
       "      <td>6</td>\n",
       "    </tr>\n",
       "    <tr>\n",
       "      <th>863761</th>\n",
       "      <td>634431</td>\n",
       "      <td>2016-11-08 15:35:00</td>\n",
       "      <td>РИА НОВОСТИ/ПРАЙМ. СБЕРБАНК ИСПЫТЫВАЕТ ИЗБЫТОК...</td>\n",
       "      <td>Сбербанк испытывает избыток ликвидности</td>\n",
       "      <td>http://ria.ru/economy/20161108/1480892285.html</td>\n",
       "      <td>RIA</td>\n",
       "      <td>2016</td>\n",
       "      <td>2</td>\n",
       "      <td>6</td>\n",
       "    </tr>\n",
       "    <tr>\n",
       "      <th>865198</th>\n",
       "      <td>634381</td>\n",
       "      <td>2016-11-08 17:20:00</td>\n",
       "      <td>Самые узнаваемые мосты мира — в фотоленте Ria.ru.</td>\n",
       "      <td>Самые узнаваемые мосты мира</td>\n",
       "      <td>http://ria.ru/photolents/20161108/1480887105.html</td>\n",
       "      <td>RIA</td>\n",
       "      <td>2016</td>\n",
       "      <td>1</td>\n",
       "      <td>6</td>\n",
       "    </tr>\n",
       "    <tr>\n",
       "      <th>867195</th>\n",
       "      <td>636066</td>\n",
       "      <td>2016-11-15 10:42:00</td>\n",
       "      <td>Изобразительное искусство Азербайджана 1960-19...</td>\n",
       "      <td>Энергетика искусства Азербайджана в \"Созвездии...</td>\n",
       "      <td>http://ria.ru/photolents/20161115/1481374986.html</td>\n",
       "      <td>RIA</td>\n",
       "      <td>2016</td>\n",
       "      <td>1</td>\n",
       "      <td>6</td>\n",
       "    </tr>\n",
       "    <tr>\n",
       "      <th>872132</th>\n",
       "      <td>640135</td>\n",
       "      <td>2017-01-11 11:13:00</td>\n",
       "      <td>Самая красивая деревня России Кинерма- в фотол...</td>\n",
       "      <td>Самая красивая деревня России</td>\n",
       "      <td>http://ria.ru/photolents/20170111/1485463262.html</td>\n",
       "      <td>RIA</td>\n",
       "      <td>2017</td>\n",
       "      <td>1</td>\n",
       "      <td>6</td>\n",
       "    </tr>\n",
       "    <tr>\n",
       "      <th>886191</th>\n",
       "      <td>653086</td>\n",
       "      <td>2016-12-04 14:10:00</td>\n",
       "      <td>В Узбекистане 4 декабря проходят президентские...</td>\n",
       "      <td>Выборы президента Узбекистана</td>\n",
       "      <td>http://ria.ru/photolents/20161204/1482793325.html</td>\n",
       "      <td>RIA</td>\n",
       "      <td>2016</td>\n",
       "      <td>1</td>\n",
       "      <td>6</td>\n",
       "    </tr>\n",
       "    <tr>\n",
       "      <th>887451</th>\n",
       "      <td>654017</td>\n",
       "      <td>2016-12-20 12:00:00</td>\n",
       "      <td>Выставка Василия Кандинского \"Багатели\" — в фо...</td>\n",
       "      <td>Багатели\" Василия Кандинского</td>\n",
       "      <td>http://ria.ru/photolents/20161220/1484074957.html</td>\n",
       "      <td>RIA</td>\n",
       "      <td>2016</td>\n",
       "      <td>1</td>\n",
       "      <td>6</td>\n",
       "    </tr>\n",
       "    <tr>\n",
       "      <th>894672</th>\n",
       "      <td>660556</td>\n",
       "      <td>2016-08-25 13:17:00</td>\n",
       "      <td>ПУТИН: РФ БУДЕТ СОВЕРШЕНСТВОВАТЬ АНТИДОПИНГОВЫ...</td>\n",
       "      <td>Путин заявил, что в России будут совершенствов...</td>\n",
       "      <td>http://ria.ru/olympics2016/20160825/1475240218...</td>\n",
       "      <td>RIA</td>\n",
       "      <td>2016</td>\n",
       "      <td>1</td>\n",
       "      <td>6</td>\n",
       "    </tr>\n",
       "    <tr>\n",
       "      <th>895534</th>\n",
       "      <td>661252</td>\n",
       "      <td>2016-08-19 10:30:00</td>\n",
       "      <td>19 августа отмечает 70-летие 42-й президент СШ...</td>\n",
       "      <td>Демократ и любитель джаза, 42-й президент США ...</td>\n",
       "      <td>http://ria.ru/photolents/20160819/1474223873.html</td>\n",
       "      <td>RIA</td>\n",
       "      <td>2016</td>\n",
       "      <td>1</td>\n",
       "      <td>6</td>\n",
       "    </tr>\n",
       "    <tr>\n",
       "      <th>901821</th>\n",
       "      <td>666917</td>\n",
       "      <td>2016-11-18 10:10:00</td>\n",
       "      <td>Новости из мира животных — в фотоленте Ria.ru.</td>\n",
       "      <td>Прическа а-ля Трамп, сватовство медведя и друг...</td>\n",
       "      <td>http://ria.ru/photolents/20161118/1481593431.html</td>\n",
       "      <td>RIA</td>\n",
       "      <td>2016</td>\n",
       "      <td>1</td>\n",
       "      <td>6</td>\n",
       "    </tr>\n",
       "    <tr>\n",
       "      <th>903539</th>\n",
       "      <td>668419</td>\n",
       "      <td>2016-12-10 10:00:00</td>\n",
       "      <td>Международный кремлевский кадетский бал — в фо...</td>\n",
       "      <td>Первый Международный кремлевский кадетский бал</td>\n",
       "      <td>http://ria.ru/photolents/20161210/1483198771.html</td>\n",
       "      <td>RIA</td>\n",
       "      <td>2016</td>\n",
       "      <td>1</td>\n",
       "      <td>6</td>\n",
       "    </tr>\n",
       "    <tr>\n",
       "      <th>904775</th>\n",
       "      <td>669563</td>\n",
       "      <td>2016-12-06 11:23:00</td>\n",
       "      <td>Конкурс профессиональных манекенщиц \"Топ-модел...</td>\n",
       "      <td>Новые лица модной индустрии России</td>\n",
       "      <td>http://ria.ru/photolents/20161206/1482922791.html</td>\n",
       "      <td>RIA</td>\n",
       "      <td>2016</td>\n",
       "      <td>1</td>\n",
       "      <td>6</td>\n",
       "    </tr>\n",
       "    <tr>\n",
       "      <th>910442</th>\n",
       "      <td>589162</td>\n",
       "      <td>2016-11-09 19:44:00</td>\n",
       "      <td>КЛИНТОН ЗАЯВИЛА, ЧТО РАЗОЧАРОВАНА ИСХОДОМ ВЫБОРОВ</td>\n",
       "      <td>Клинтон заявила, что разочарована исходом выборов</td>\n",
       "      <td>http://ria.ru/us_elections2016/20161109/148103...</td>\n",
       "      <td>RIA</td>\n",
       "      <td>2016</td>\n",
       "      <td>1</td>\n",
       "      <td>6</td>\n",
       "    </tr>\n",
       "    <tr>\n",
       "      <th>944619</th>\n",
       "      <td>85248612</td>\n",
       "      <td>2018-05-30 17:21:05</td>\n",
       "      <td>Аркадий Бабченко выжил после покушения - СБУ.</td>\n",
       "      <td>В СБУ сообщили, что Аркадий Бабченко выжил пос...</td>\n",
       "      <td>http://tass.ru/proisshestviya/5249472</td>\n",
       "      <td>TASS</td>\n",
       "      <td>2018</td>\n",
       "      <td>1</td>\n",
       "      <td>6</td>\n",
       "    </tr>\n",
       "    <tr>\n",
       "      <th>981971</th>\n",
       "      <td>97078661</td>\n",
       "      <td>2018-07-12 09:11:00</td>\n",
       "      <td>Грузия станет членом НАТО, убежден Столтенберг.</td>\n",
       "      <td>Столтенберг убежден, что Грузия станет членом ...</td>\n",
       "      <td>http://tass.ru/mezhdunarodnaya-panorama/5367110</td>\n",
       "      <td>TASS</td>\n",
       "      <td>2018</td>\n",
       "      <td>1</td>\n",
       "      <td>6</td>\n",
       "    </tr>\n",
       "    <tr>\n",
       "      <th>982137</th>\n",
       "      <td>97122432</td>\n",
       "      <td>2018-07-12 13:51:00</td>\n",
       "      <td>Путин может когда-нибудь стать моим другом - Т...</td>\n",
       "      <td>Трамп: Путин может когда-нибудь стать моим дру...</td>\n",
       "      <td>http://tass.ru/mezhdunarodnaya-panorama/5368121</td>\n",
       "      <td>TASS</td>\n",
       "      <td>2018</td>\n",
       "      <td>1</td>\n",
       "      <td>6</td>\n",
       "    </tr>\n",
       "    <tr>\n",
       "      <th>1006741</th>\n",
       "      <td>40688896</td>\n",
       "      <td>2017-10-30 13:01:00</td>\n",
       "      <td>Сертификат эксплуатанта \"ВИМ Авиа\" приостановл...</td>\n",
       "      <td>Сертификат эксплуатанта «ВИМ-Авиа» приостановл...</td>\n",
       "      <td>http://tass.ru/ekonomika/4687265</td>\n",
       "      <td>TASS</td>\n",
       "      <td>2017</td>\n",
       "      <td>1</td>\n",
       "      <td>6</td>\n",
       "    </tr>\n",
       "    <tr>\n",
       "      <th>1033971</th>\n",
       "      <td>46272231</td>\n",
       "      <td>2017-12-05 21:35:00</td>\n",
       "      <td>МОК приостановил членство Жукова в организации.</td>\n",
       "      <td>МОК приостановил членство главы ОКР Жукова в о...</td>\n",
       "      <td>http://tass.ru/sport/4786923</td>\n",
       "      <td>TASS</td>\n",
       "      <td>2017</td>\n",
       "      <td>1</td>\n",
       "      <td>6</td>\n",
       "    </tr>\n",
       "    <tr>\n",
       "      <th>1062608</th>\n",
       "      <td>114502582</td>\n",
       "      <td>2018-09-22 18:16:14</td>\n",
       "      <td>Исполнение сделки ОПЕК+ в августе составило 12...</td>\n",
       "      <td>Новак: исполнение сделки ОПЕК+ в августе соста...</td>\n",
       "      <td>http://tass.ru/ekonomika/5594132</td>\n",
       "      <td>TASS</td>\n",
       "      <td>2018</td>\n",
       "      <td>1</td>\n",
       "      <td>6</td>\n",
       "    </tr>\n",
       "    <tr>\n",
       "      <th>1077405</th>\n",
       "      <td>116228054</td>\n",
       "      <td>2018-10-05 09:41:08</td>\n",
       "      <td>Белоруссия объявила персонами нон-грата двух и...</td>\n",
       "      <td>Белоруссия объявила персонами нон-грата двух и...</td>\n",
       "      <td>https://tass.ru/mezhdunarodnaya-panorama/5641002</td>\n",
       "      <td>TASS</td>\n",
       "      <td>2018</td>\n",
       "      <td>1</td>\n",
       "      <td>6</td>\n",
       "    </tr>\n",
       "    <tr>\n",
       "      <th>1086671</th>\n",
       "      <td>117558722</td>\n",
       "      <td>2018-10-15 11:10:20</td>\n",
       "      <td>Росгосстрах\" покупает компанию \"Эрго жизнь\" - ...</td>\n",
       "      <td>Росгосстрах\" покупает компанию \"ЭРГО Жизнь\" - ...</td>\n",
       "      <td>https://tass.ru/ekonomika/5674442</td>\n",
       "      <td>TASS</td>\n",
       "      <td>2018</td>\n",
       "      <td>1</td>\n",
       "      <td>6</td>\n",
       "    </tr>\n",
       "    <tr>\n",
       "      <th>1098776</th>\n",
       "      <td>119189323</td>\n",
       "      <td>2018-10-26 15:44:56</td>\n",
       "      <td>Комиссия озвучит причины аварии \"Союза-ФГ\" 31 ...</td>\n",
       "      <td>Комиссия озвучит причины аварии \"Союза-ФГ\" 31 ...</td>\n",
       "      <td>https://tass.ru/kosmos/5725376</td>\n",
       "      <td>TASS</td>\n",
       "      <td>2018</td>\n",
       "      <td>1</td>\n",
       "      <td>6</td>\n",
       "    </tr>\n",
       "    <tr>\n",
       "      <th>1220301</th>\n",
       "      <td>28645566</td>\n",
       "      <td>2017-08-21 13:50:00</td>\n",
       "      <td>Появились видео страшного пожара в Ростове.</td>\n",
       "      <td>Появилось видео с пожара в Ростове</td>\n",
       "      <td>https://www.utro.ru/news/2017/08/21/1337347.shtml</td>\n",
       "      <td>Utro.ru</td>\n",
       "      <td>2017</td>\n",
       "      <td>1</td>\n",
       "      <td>6</td>\n",
       "    </tr>\n",
       "  </tbody>\n",
       "</table>\n",
       "<p>63 rows × 9 columns</p>\n",
       "</div>"
      ],
      "text/plain": [
       "            doc_id             docdate  \\\n",
       "89448    122825823 2018-11-14 11:00:00   \n",
       "159716     9885227 2017-05-07 15:59:00   \n",
       "250838     2573246 2017-03-20 10:09:00   \n",
       "276712     1309307 2016-03-07 13:47:00   \n",
       "281234   111338683 2018-09-04 18:31:00   \n",
       "289232    99825320 2018-07-23 00:47:00   \n",
       "294318    70980728 2018-03-30 11:42:00   \n",
       "375846    61515570 2018-02-26 18:15:00   \n",
       "496685      689686 2016-12-23 12:30:00   \n",
       "500657      693652 2017-02-14 16:52:00   \n",
       "502162      694605 2016-07-16 01:10:00   \n",
       "503583      591219 2016-12-08 17:52:00   \n",
       "503855      696421 2016-07-13 20:31:00   \n",
       "515589      706755 2016-09-09 17:00:00   \n",
       "523284      713744 2016-07-29 13:40:00   \n",
       "523478      713983 2016-07-27 12:46:00   \n",
       "539937      594544 2017-01-24 11:40:00   \n",
       "543813     3487846 2017-01-09 10:32:00   \n",
       "566227     8259631 2017-04-26 15:17:00   \n",
       "570434      597606 2016-08-04 17:32:00   \n",
       "607439      600914 2016-09-24 14:31:00   \n",
       "614606    70225173 2018-03-27 19:06:00   \n",
       "614986    18228265 2017-07-04 20:19:00   \n",
       "663904    82018541 2018-05-18 14:08:00   \n",
       "664085    82030670 2018-05-18 15:04:00   \n",
       "674439      607082 2016-11-28 12:16:00   \n",
       "675863    85437049 2018-05-31 12:04:00   \n",
       "688771      608481 2016-12-14 11:32:00   \n",
       "688827    88931773 2018-06-13 16:12:00   \n",
       "713269    34862013 2017-09-25 13:30:00   \n",
       "...            ...                 ...   \n",
       "753088    41725097 2017-11-05 16:12:00   \n",
       "773345    44979974 2017-11-28 16:00:00   \n",
       "789343    47989095 2017-12-15 14:04:00   \n",
       "803409    50234358 2017-12-28 20:23:00   \n",
       "839548    54474698 2018-01-31 11:16:00   \n",
       "853360      583981 2016-09-21 23:43:00   \n",
       "857185      626789 2017-02-21 11:32:00   \n",
       "858210      627602 2017-02-25 12:50:00   \n",
       "863761      634431 2016-11-08 15:35:00   \n",
       "865198      634381 2016-11-08 17:20:00   \n",
       "867195      636066 2016-11-15 10:42:00   \n",
       "872132      640135 2017-01-11 11:13:00   \n",
       "886191      653086 2016-12-04 14:10:00   \n",
       "887451      654017 2016-12-20 12:00:00   \n",
       "894672      660556 2016-08-25 13:17:00   \n",
       "895534      661252 2016-08-19 10:30:00   \n",
       "901821      666917 2016-11-18 10:10:00   \n",
       "903539      668419 2016-12-10 10:00:00   \n",
       "904775      669563 2016-12-06 11:23:00   \n",
       "910442      589162 2016-11-09 19:44:00   \n",
       "944619    85248612 2018-05-30 17:21:05   \n",
       "981971    97078661 2018-07-12 09:11:00   \n",
       "982137    97122432 2018-07-12 13:51:00   \n",
       "1006741   40688896 2017-10-30 13:01:00   \n",
       "1033971   46272231 2017-12-05 21:35:00   \n",
       "1062608  114502582 2018-09-22 18:16:14   \n",
       "1077405  116228054 2018-10-05 09:41:08   \n",
       "1086671  117558722 2018-10-15 11:10:20   \n",
       "1098776  119189323 2018-10-26 15:44:56   \n",
       "1220301   28645566 2017-08-21 13:50:00   \n",
       "\n",
       "                                                      text  \\\n",
       "89448           новые акценты в работе налоговых органов\".   \n",
       "159716        Победный гол на 49-й минуте забил Лобжанидзе   \n",
       "250838      Фото: Евгений Фельдман для кампании Навального   \n",
       "276712   Фотоистория Евгения Фельдмана \\n\\nФотоистория ...   \n",
       "281234            Новые (старые) методы агитации на выборы   \n",
       "289232   *Роман Якобсон, «Статуя в поэтической мифологи...   \n",
       "294318             Арсений ​Рогинский​ — о себе и о стране   \n",
       "375846   Источник: Локальный центр МГУ имени М.В. Ломон...   \n",
       "496685   Освобожденный от террористов Алеппо — в фотоле...   \n",
       "500657       ПАРЛАМЕНТ ЕГИПТА СМЕНИЛ ДЕВЯТЬ МИНИСТРОВ — ТВ   \n",
       "502162   ЗДАНИЕ ПАРЛАМЕНТА ТУРЦИИ ОКРУЖЕНО ТАНКАМИ — АГ...   \n",
       "503583   Митинг Федерации профсоюзов Украины — в фотоле...   \n",
       "503855     ПОЛИТИКА НАТО ГРОЗИТ ГОНКОЙ ВООРУЖЕНИЙ — ГРУШКО   \n",
       "515589     ОБАМА ОСУДИЛ ПРОВЕДЕННОЕ КНДР ЯДЕРНОЕ ИСПЫТАНИЕ   \n",
       "523284   СНИЖЕНИЕ ИНФЛЯЦИОННЫХ ОЖИДАНИЙ ПРИОСТАНОВИЛОСЬ...   \n",
       "523478   Самые необычные церемонии бракосочетания — в ф...   \n",
       "539937   Наводнение в кубинской столице – в фотоленте R...   \n",
       "543813    Аномальные морозы в Москве — в фотоленте Ria.ru.   \n",
       "566227   Ситуация в осажденном боевиками Дейр-эз-Зоре —...   \n",
       "570434   РИА НОВОСТИ/ПРАЙМ/ ПРИВАТИЗАЦИЯ БАШНЕФТИ СОСТО...   \n",
       "607439   МЕДВЕДЕВ ПРЕДЛОЖИЛ ИСАЕВА НА ДОЛЖНОСТЬ ВИЦЕ-СП...   \n",
       "614606   БЕЛЬГИЯ МОЖЕТ ВЫСЛАТЬ \"ОДНОГО-ДВУХ\" ДИПЛОМАТОВ...   \n",
       "614986   ПАРЛАМЕНТ ФРАНЦИИ ВЫРАЗИЛ ДОВЕРИЕ ПРАВИТЕЛЬСТВ...   \n",
       "663904   МЕДВЕДЕВ ПРЕДЛОЖИЛ НАЗНАЧИТЬ МУТКО ВИЦЕ-ПРЕМЬЕ...   \n",
       "664085   ПУТИН ПЕРЕНАЗНАЧИЛ КОЛОБКОВА МИНИСТРОМ СПОРТА ...   \n",
       "674439   Рождественская ярмарка во Вроцлаве — в фотолен...   \n",
       "675863   ПУТИН 1 ИЮНЯ ПРИМЕТ НАСЛЕДНОГО ПРИНЦА АБУ-ДАБИ...   \n",
       "688771   Ситуация в сирийском Алеппо — в фотоленте Ria.ru.   \n",
       "688827   Президент Моралес пригласил Путина посетить Бо...   \n",
       "713269   ЭКС-ГЛАВА \"РУСГИДРО\" ДОД ОСВОБОЖДЕН ИЗ-ПОД ДОМ...   \n",
       "...                                                    ...   \n",
       "753088   ПУЧДЕМОН ЗАКЛЮЧЕН ПОД СТРАЖУ — ПРОКУРАТУРА БЕЛ...   \n",
       "773345   ГОСОБВИНИТЕЛЬ 4 ДЕКАБРЯ ЗАПРОСИТ НАКАЗАНИЕ ДЛЯ...   \n",
       "789343   РИА НОВОСТИ. УЛЮКАЕВ НАЗВАЛ ПРИГОВОР НЕСПРАВЕД...   \n",
       "803409   ПРЕЗИДЕНТ ИТАЛИИ РАСПУСТИЛ НАЦИОНАЛЬНЫЙ ПАРЛАМ...   \n",
       "839548   Суд отказался отменять развод Джигарханяна с Ц...   \n",
       "853360   ПРОИСХОДЯЩЕЕ НА УКРАИНЕ СЛИШКОМ ТРАГИЧНО — ЗАХ...   \n",
       "857185   АЛИЕВ НАЗНАЧИЛ ПЕРВУЮ ЛЕДИ АЗЕРБАЙДЖАНА ПЕРВЫМ...   \n",
       "858210   Вручение французской кинопремии \"Сезар\" — в фо...   \n",
       "863761   РИА НОВОСТИ/ПРАЙМ. СБЕРБАНК ИСПЫТЫВАЕТ ИЗБЫТОК...   \n",
       "865198   Самые узнаваемые мосты мира — в фотоленте Ria.ru.   \n",
       "867195   Изобразительное искусство Азербайджана 1960-19...   \n",
       "872132   Самая красивая деревня России Кинерма- в фотол...   \n",
       "886191   В Узбекистане 4 декабря проходят президентские...   \n",
       "887451   Выставка Василия Кандинского \"Багатели\" — в фо...   \n",
       "894672   ПУТИН: РФ БУДЕТ СОВЕРШЕНСТВОВАТЬ АНТИДОПИНГОВЫ...   \n",
       "895534   19 августа отмечает 70-летие 42-й президент СШ...   \n",
       "901821      Новости из мира животных — в фотоленте Ria.ru.   \n",
       "903539   Международный кремлевский кадетский бал — в фо...   \n",
       "904775   Конкурс профессиональных манекенщиц \"Топ-модел...   \n",
       "910442   КЛИНТОН ЗАЯВИЛА, ЧТО РАЗОЧАРОВАНА ИСХОДОМ ВЫБОРОВ   \n",
       "944619       Аркадий Бабченко выжил после покушения - СБУ.   \n",
       "981971     Грузия станет членом НАТО, убежден Столтенберг.   \n",
       "982137   Путин может когда-нибудь стать моим другом - Т...   \n",
       "1006741  Сертификат эксплуатанта \"ВИМ Авиа\" приостановл...   \n",
       "1033971    МОК приостановил членство Жукова в организации.   \n",
       "1062608  Исполнение сделки ОПЕК+ в августе составило 12...   \n",
       "1077405  Белоруссия объявила персонами нон-грата двух и...   \n",
       "1086671  Росгосстрах\" покупает компанию \"Эрго жизнь\" - ...   \n",
       "1098776  Комиссия озвучит причины аварии \"Союза-ФГ\" 31 ...   \n",
       "1220301        Появились видео страшного пожара в Ростове.   \n",
       "\n",
       "                                                     title  \\\n",
       "89448    Пресс-конференция в \"Интерфаксе\" руководителя ...   \n",
       "159716   Футболисты \"Оренбурга\" победили \"Краснодар\" 1:...   \n",
       "250838   Навального облили зеленкой в Барнауле. Фотография   \n",
       "276712   Новый Орлеан, Луизиана. Джаз, бокс, Трамп и Кл...   \n",
       "281234                                     Явка на шашлыки   \n",
       "289232                      70-й день бессрочной голодовки   \n",
       "294318                              Право на Память. Фильм   \n",
       "375846   Пройдите тест на знание русского языка для пол...   \n",
       "496685   Праздник победы над террористами в освобожденн...   \n",
       "500657        Египетский парламент сменил девять министров   \n",
       "502162             Танки окружили здание парламента Турции   \n",
       "503583   Европейским ценам - европейские зарплаты: в Ки...   \n",
       "503855      Грушко: политика НАТО грозит гонкой вооружений   \n",
       "515589   Обама: США никогда не будут воспринимать КНДР ...   \n",
       "523284   Инфляционные ожидания перестали снижаться, счи...   \n",
       "523478   Любовь за решеткой, в небесах, под водой. Самы...   \n",
       "539937                  Разгул стихии. Наводнение в Гаване   \n",
       "543813                                   Московские морозы   \n",
       "566227   Сирийская армия на подступах к осажденному Дей...   \n",
       "570434   Приватизация \"Башнефти\" состоится в сентябре-о...   \n",
       "607439   Медведев предложил кандидатуру Исаева на должн...   \n",
       "614606   Бельгия может выслать до двух российских дипло...   \n",
       "614986   Парламент Франции выразил доверие правительств...   \n",
       "663904   Медведев предложил назначить Мутко вице-премье...   \n",
       "664085       Путин переназначил Колобкова министром спорта   \n",
       "674439                  Рождественская ярмарка во Вроцлаве   \n",
       "675863      Путин 1 июня примет наследного принца Абу-Даби   \n",
       "688771           Освобожденные от боевиков кварталы Алеппо   \n",
       "688827           Моралес пригласил Путина посетить Боливию   \n",
       "713269   Источник: экс-главу \"Русгидро\" Дода освободили...   \n",
       "...                                                    ...   \n",
       "753088   В Брюсселе заключили под стражу экс-главу Ката...   \n",
       "773345   Прокурор 4 декабря запросит наказание для Улюк...   \n",
       "789343              Улюкаев назвал приговор несправедливым   \n",
       "803409   Президент Италии распустил Национальный парламент   \n",
       "839548   Суд отказался отменять развод Джигарханяна с Ц...   \n",
       "853360   Захарова считает, что происходящее на Украине ...   \n",
       "857185   Алиев назначил жену первым вице-президентом ст...   \n",
       "858210                    Вручение премии \"Сезар\" в Париже   \n",
       "863761             Сбербанк испытывает избыток ликвидности   \n",
       "865198                         Самые узнаваемые мосты мира   \n",
       "867195   Энергетика искусства Азербайджана в \"Созвездии...   \n",
       "872132                       Самая красивая деревня России   \n",
       "886191                       Выборы президента Узбекистана   \n",
       "887451                       Багатели\" Василия Кандинского   \n",
       "894672   Путин заявил, что в России будут совершенствов...   \n",
       "895534   Демократ и любитель джаза, 42-й президент США ...   \n",
       "901821   Прическа а-ля Трамп, сватовство медведя и друг...   \n",
       "903539      Первый Международный кремлевский кадетский бал   \n",
       "904775                  Новые лица модной индустрии России   \n",
       "910442   Клинтон заявила, что разочарована исходом выборов   \n",
       "944619   В СБУ сообщили, что Аркадий Бабченко выжил пос...   \n",
       "981971   Столтенберг убежден, что Грузия станет членом ...   \n",
       "982137   Трамп: Путин может когда-нибудь стать моим дру...   \n",
       "1006741  Сертификат эксплуатанта «ВИМ-Авиа» приостановл...   \n",
       "1033971  МОК приостановил членство главы ОКР Жукова в о...   \n",
       "1062608  Новак: исполнение сделки ОПЕК+ в августе соста...   \n",
       "1077405  Белоруссия объявила персонами нон-грата двух и...   \n",
       "1086671  Росгосстрах\" покупает компанию \"ЭРГО Жизнь\" - ...   \n",
       "1098776  Комиссия озвучит причины аварии \"Союза-ФГ\" 31 ...   \n",
       "1220301                 Появилось видео с пожара в Ростове   \n",
       "\n",
       "                                                       url         source  \\\n",
       "89448     http://www.interfax.ru/presscenter/announce/2471       Interfax   \n",
       "159716               http://www.kp.ru/online/news/2738348/             KP   \n",
       "250838   https://meduza.io/short/2017/03/20/navalnogo-o...         Meduza   \n",
       "276712   http://www.novayagazeta.ru/photos/72127.html?p...  Novaya Gazeta   \n",
       "281234   https://www.novayagazeta.ru/articles/2018/09/0...  Novaya Gazeta   \n",
       "289232   https://www.novayagazeta.ru/articles/2018/07/2...  Novaya Gazeta   \n",
       "294318   https://www.novayagazeta.ru/articles/2018/03/3...  Novaya Gazeta   \n",
       "375846   https://rg.ru/2018/02/26/projdite-test-na-znan...             RG   \n",
       "496685     http://ria.ru/syria_mm/20161223/1484396752.html            RIA   \n",
       "500657        http://ria.ru/world/20170214/1487958609.html            RIA   \n",
       "502162        http://ria.ru/world/20160716/1467115863.html            RIA   \n",
       "503583   http://ria.ru/photolents/20161208/1483155454.html            RIA   \n",
       "503855        http://ria.ru/world/20160713/1465427082.html            RIA   \n",
       "515589        http://ria.ru/world/20160909/1476534589.html            RIA   \n",
       "523284      http://ria.ru/economy/20160729/1473157363.html            RIA   \n",
       "523478   http://ria.ru/photolents/20160727/1472897737.html            RIA   \n",
       "539937   http://ria.ru/photolents/20170124/1486336627.html            RIA   \n",
       "543813   https://ria.ru/photolents/20170109/1485281330....            RIA   \n",
       "566227       https://ria.ru/syria/20170426/1493153056.html            RIA   \n",
       "570434      http://ria.ru/economy/20160804/1473613304.html            RIA   \n",
       "607439     http://ria.ru/politics/20160924/1477778393.html            RIA   \n",
       "614606       https://ria.ru/world/20180327/1517402033.html            RIA   \n",
       "614986       https://ria.ru/world/20170704/1497835560.html            RIA   \n",
       "663904    https://ria.ru/politics/20180518/1520842788.html            RIA   \n",
       "664085    https://ria.ru/politics/20180518/1520852380.html            RIA   \n",
       "674439   http://ria.ru/photolents/20161128/1482300029.html            RIA   \n",
       "675863       https://ria.ru/world/20180531/1521763758.html            RIA   \n",
       "688771     http://ria.ru/syria_mm/20161214/1483556055.html            RIA   \n",
       "688827    https://ria.ru/politics/20180613/1522634692.html            RIA   \n",
       "713269   https://ria.ru/incidents/20170925/1505495886.html            RIA   \n",
       "...                                                    ...            ...   \n",
       "753088       https://ria.ru/world/20171105/1508239994.html            RIA   \n",
       "773345   https://ria.ru/incidents/20171128/1509761739.html            RIA   \n",
       "789343   https://ria.ru/incidents/20171215/1511032311.html            RIA   \n",
       "803409       https://ria.ru/world/20171228/1511929769.html            RIA   \n",
       "839548     https://ria.ru/culture/20180131/1513674403.html            RIA   \n",
       "853360        http://ria.ru/world/20160921/1477555527.html            RIA   \n",
       "857185        http://ria.ru/world/20170221/1488470999.html            RIA   \n",
       "858210   http://ria.ru/photolents/20170225/1488728554.html            RIA   \n",
       "863761      http://ria.ru/economy/20161108/1480892285.html            RIA   \n",
       "865198   http://ria.ru/photolents/20161108/1480887105.html            RIA   \n",
       "867195   http://ria.ru/photolents/20161115/1481374986.html            RIA   \n",
       "872132   http://ria.ru/photolents/20170111/1485463262.html            RIA   \n",
       "886191   http://ria.ru/photolents/20161204/1482793325.html            RIA   \n",
       "887451   http://ria.ru/photolents/20161220/1484074957.html            RIA   \n",
       "894672   http://ria.ru/olympics2016/20160825/1475240218...            RIA   \n",
       "895534   http://ria.ru/photolents/20160819/1474223873.html            RIA   \n",
       "901821   http://ria.ru/photolents/20161118/1481593431.html            RIA   \n",
       "903539   http://ria.ru/photolents/20161210/1483198771.html            RIA   \n",
       "904775   http://ria.ru/photolents/20161206/1482922791.html            RIA   \n",
       "910442   http://ria.ru/us_elections2016/20161109/148103...            RIA   \n",
       "944619               http://tass.ru/proisshestviya/5249472           TASS   \n",
       "981971     http://tass.ru/mezhdunarodnaya-panorama/5367110           TASS   \n",
       "982137     http://tass.ru/mezhdunarodnaya-panorama/5368121           TASS   \n",
       "1006741                   http://tass.ru/ekonomika/4687265           TASS   \n",
       "1033971                       http://tass.ru/sport/4786923           TASS   \n",
       "1062608                   http://tass.ru/ekonomika/5594132           TASS   \n",
       "1077405   https://tass.ru/mezhdunarodnaya-panorama/5641002           TASS   \n",
       "1086671                  https://tass.ru/ekonomika/5674442           TASS   \n",
       "1098776                     https://tass.ru/kosmos/5725376           TASS   \n",
       "1220301  https://www.utro.ru/news/2017/08/21/1337347.shtml        Utro.ru   \n",
       "\n",
       "         year  sent-len  word-len  \n",
       "89448    2018         1         6  \n",
       "159716   2017         1         6  \n",
       "250838   2017         1         6  \n",
       "276712   2016         1         6  \n",
       "281234   2018         1         6  \n",
       "289232   2018         1         6  \n",
       "294318   2018         1         6  \n",
       "375846   2018         2         6  \n",
       "496685   2016         1         6  \n",
       "500657   2017         1         6  \n",
       "502162   2016         1         6  \n",
       "503583   2016         1         6  \n",
       "503855   2016         1         6  \n",
       "515589   2016         1         6  \n",
       "523284   2016         1         6  \n",
       "523478   2016         1         6  \n",
       "539937   2017         1         6  \n",
       "543813   2017         1         6  \n",
       "566227   2017         1         6  \n",
       "570434   2016         1         6  \n",
       "607439   2016         1         6  \n",
       "614606   2018         1         6  \n",
       "614986   2017         1         6  \n",
       "663904   2018         1         6  \n",
       "664085   2018         1         6  \n",
       "674439   2016         1         6  \n",
       "675863   2018         1         6  \n",
       "688771   2016         1         6  \n",
       "688827   2018         1         6  \n",
       "713269   2017         1         6  \n",
       "...       ...       ...       ...  \n",
       "753088   2017         1         6  \n",
       "773345   2017         1         6  \n",
       "789343   2017         2         6  \n",
       "803409   2017         1         6  \n",
       "839548   2018         1         6  \n",
       "853360   2016         1         6  \n",
       "857185   2017         1         6  \n",
       "858210   2017         1         6  \n",
       "863761   2016         2         6  \n",
       "865198   2016         1         6  \n",
       "867195   2016         1         6  \n",
       "872132   2017         1         6  \n",
       "886191   2016         1         6  \n",
       "887451   2016         1         6  \n",
       "894672   2016         1         6  \n",
       "895534   2016         1         6  \n",
       "901821   2016         1         6  \n",
       "903539   2016         1         6  \n",
       "904775   2016         1         6  \n",
       "910442   2016         1         6  \n",
       "944619   2018         1         6  \n",
       "981971   2018         1         6  \n",
       "982137   2018         1         6  \n",
       "1006741  2017         1         6  \n",
       "1033971  2017         1         6  \n",
       "1062608  2018         1         6  \n",
       "1077405  2018         1         6  \n",
       "1086671  2018         1         6  \n",
       "1098776  2018         1         6  \n",
       "1220301  2017         1         6  \n",
       "\n",
       "[63 rows x 9 columns]"
      ]
     },
     "execution_count": 180,
     "metadata": {},
     "output_type": "execute_result"
    }
   ],
   "source": [
    "print(\"Number of empty (?) texts: {}\".format(news[news[\"word-len\"]<7].shape[0]))\n",
    "news[news[\"word-len\"]<7]"
   ]
  },
  {
   "cell_type": "code",
   "execution_count": 186,
   "metadata": {},
   "outputs": [
    {
     "data": {
      "text/plain": [
       "<Figure size 432x288 with 0 Axes>"
      ]
     },
     "metadata": {},
     "output_type": "display_data"
    },
    {
     "data": {
      "image/png": "[encoded data removed]",
      "text/plain": [
       "<Figure size 1080x360 with 2 Axes>"
      ]
     },
     "metadata": {
      "needs_background": "light"
     },
     "output_type": "display_data"
    }
   ],
   "source": [
    "# clear current figure\n",
    "plt.clf()\n",
    "\n",
    "# create plt.Figure with 2 subplots\n",
    "fig, axes = plt.subplots(1,2, figsize=(15,5))\n",
    "sns.set_color_codes(palette=\"bright\")\n",
    "\n",
    "# create Number Of Sentences distplot \n",
    "plt1 = sns.distplot(news[\"sent-len\"].tolist(), ax=axes[0], color=\"g\")\n",
    "plt1.set(xlabel = \"Number of sentences\", ylabel=\"Density\")\n",
    "plt1.set_title(\"Distribution of sentence count (full dump)\")\n",
    "\n",
    "# create Number Of Words distplot \n",
    "plt2 = sns.distplot(news[\"word-len\"].tolist(), ax=axes[1], color=\"b\")\n",
    "plt2.set(xlabel = \"Number of words\", ylabel=\"Density\")\n",
    "plt2.set_title(\"Distribution of word count (full dump)\")\n",
    "\n",
    "#show graphs\n",
    "plt.show()"
   ]
  },
  {
   "cell_type": "code",
   "execution_count": 188,
   "metadata": {},
   "outputs": [
    {
     "name": "stdout",
     "output_type": "stream",
     "text": [
      "Large by sent-count (over 54 sentences): 2.992% of dataset\n",
      "Large by word-count (over 795 words): 3.679% of dataset\n"
     ]
    }
   ],
   "source": [
    "print(\"Large by sent-count (over {0} sentences): {1}% of dataset\".format(bound_s, \n",
    "                                                                         round(news[news[\"sent-len\"]>bound_s].shape[0]*100/news.shape[0], \n",
    "                                                                               ndigits=3)))\n",
    "print(\"Large by word-count (over {0} words): {1}% of dataset\".format(bound_w, \n",
    "                                                                     round(news[news[\"word-len\"]>bound_w].shape[0]*100/news.shape[0], \n",
    "                                                                           ndigits=3)))"
   ]
  },
  {
   "cell_type": "markdown",
   "metadata": {},
   "source": [
    "#### ok, drop big bois"
   ]
  },
  {
   "cell_type": "code",
   "execution_count": 203,
   "metadata": {
    "scrolled": true
   },
   "outputs": [
    {
     "data": {
      "text/plain": [
       "<Figure size 432x288 with 0 Axes>"
      ]
     },
     "metadata": {},
     "output_type": "display_data"
    },
    {
     "data": {
      "image/png": "[encoded data removed]",
      "text/plain": [
       "<Figure size 1080x360 with 2 Axes>"
      ]
     },
     "metadata": {
      "needs_background": "light"
     },
     "output_type": "display_data"
    }
   ],
   "source": [
    "# clear current figure\n",
    "plt.clf()\n",
    "\n",
    "# create plt.Figure with 2 subplots\n",
    "fig, axes = plt.subplots(1,2, figsize=(15,5))\n",
    "sns.set_color_codes(palette=\"colorblind\")\n",
    "\n",
    "# create Number Of Sentences distplot\n",
    "plt1 = sns.distplot(news[news[\"sent-len\"]<=bound_s][\"sent-len\"].tolist(), ax=axes[0], color=\"g\")\n",
    "plt1.set(xlabel = \"Number of sentences\", ylabel=\"Density\")\n",
    "plt1.set_title(\"Distribution of sentence count (no outliers)\")\n",
    "\n",
    "# create Number Of Words distplot \n",
    "plt2 = sns.distplot(news[news[\"word-len\"]<=bound_w][\"word-len\"].tolist(), ax=axes[1], color=\"b\")\n",
    "plt2.set(xlabel = \"Number of words\", ylabel=\"Density\")\n",
    "plt2.set_title(\"Distribution of word count (no outliers)\")\n",
    "\n",
    "# show graphs\n",
    "plt.show()"
   ]
  },
  {
   "cell_type": "markdown",
   "metadata": {},
   "source": [
    "## So it's probably wise to drop all outliers by sentence/word count"
   ]
  },
  {
   "cell_type": "code",
   "execution_count": 198,
   "metadata": {},
   "outputs": [
    {
     "name": "stdout",
     "output_type": "stream",
     "text": [
      "Size of DataFrame: 1205656\n"
     ]
    }
   ],
   "source": [
    "news = news[(news[\"sent-len\"] <= bound_s) | (news[\"word-len\"] <= bound_w)]\n",
    "print(\"Size of DataFrame: {}\".format(news.shape[0]))"
   ]
  },
  {
   "cell_type": "markdown",
   "metadata": {},
   "source": [
    "## And same old graph story for 2018 part of dataset"
   ]
  },
  {
   "cell_type": "code",
   "execution_count": 199,
   "metadata": {},
   "outputs": [
    {
     "name": "stdout",
     "output_type": "stream",
     "text": [
      "News dated back in 2018: 504485\n"
     ]
    },
    {
     "data": {
      "text/html": [
       "<div>\n",
       "<style scoped>\n",
       "    .dataframe tbody tr th:only-of-type {\n",
       "        vertical-align: middle;\n",
       "    }\n",
       "\n",
       "    .dataframe tbody tr th {\n",
       "        vertical-align: top;\n",
       "    }\n",
       "\n",
       "    .dataframe thead th {\n",
       "        text-align: right;\n",
       "    }\n",
       "</style>\n",
       "<table border=\"1\" class=\"dataframe\">\n",
       "  <thead>\n",
       "    <tr style=\"text-align: right;\">\n",
       "      <th></th>\n",
       "      <th>doc_id</th>\n",
       "      <th>docdate</th>\n",
       "      <th>text</th>\n",
       "      <th>title</th>\n",
       "      <th>url</th>\n",
       "      <th>source</th>\n",
       "      <th>year</th>\n",
       "      <th>sent-len</th>\n",
       "      <th>word-len</th>\n",
       "    </tr>\n",
       "  </thead>\n",
       "  <tbody>\n",
       "    <tr>\n",
       "      <th>0</th>\n",
       "      <td>124272138</td>\n",
       "      <td>2018-11-20 15:23:00</td>\n",
       "      <td>Россия поставила Анголе четыре истреьителя Су-...</td>\n",
       "      <td>Россия поставила Анголе четыре истребителя Су-...</td>\n",
       "      <td>http://www.interfax.ru/world/638657</td>\n",
       "      <td>Interfax</td>\n",
       "      <td>2018</td>\n",
       "      <td>11</td>\n",
       "      <td>183</td>\n",
       "    </tr>\n",
       "    <tr>\n",
       "      <th>1</th>\n",
       "      <td>124272120</td>\n",
       "      <td>2018-11-20 15:10:00</td>\n",
       "      <td>Нерезиденты и дочерние иностранные банки в окт...</td>\n",
       "      <td>Нерезиденты в октябре купили ОФЗ на аукционах ...</td>\n",
       "      <td>http://www.interfax.ru/business/638658</td>\n",
       "      <td>Interfax</td>\n",
       "      <td>2018</td>\n",
       "      <td>12</td>\n",
       "      <td>239</td>\n",
       "    </tr>\n",
       "    <tr>\n",
       "      <th>2</th>\n",
       "      <td>124257606</td>\n",
       "      <td>2018-11-20 14:26:00</td>\n",
       "      <td>Отделение Пенсионного фонда России по Самарско...</td>\n",
       "      <td>Нескольких умерших жителей Самары по ошибке пр...</td>\n",
       "      <td>http://www.interfax.ru/russia/638651</td>\n",
       "      <td>Interfax</td>\n",
       "      <td>2018</td>\n",
       "      <td>3</td>\n",
       "      <td>89</td>\n",
       "    </tr>\n",
       "    <tr>\n",
       "      <th>3</th>\n",
       "      <td>124067142</td>\n",
       "      <td>2018-11-19 19:47:00</td>\n",
       "      <td>Глава дипломатии ЕС Федерика Могерини заявила,...</td>\n",
       "      <td>ЕС предпримет меры из-за \"чрезмерных инспекций...</td>\n",
       "      <td>http://www.interfax.ru/world/638545</td>\n",
       "      <td>Interfax</td>\n",
       "      <td>2018</td>\n",
       "      <td>8</td>\n",
       "      <td>159</td>\n",
       "    </tr>\n",
       "    <tr>\n",
       "      <th>4</th>\n",
       "      <td>122766500</td>\n",
       "      <td>2018-11-14 18:45:00</td>\n",
       "      <td>Сотруднику Центрального научно-исследовательск...</td>\n",
       "      <td>Предложенная ученому Кудрявцеву сделка со след...</td>\n",
       "      <td>http://www.interfax.ru/russia/637890</td>\n",
       "      <td>Interfax</td>\n",
       "      <td>2018</td>\n",
       "      <td>20</td>\n",
       "      <td>371</td>\n",
       "    </tr>\n",
       "    <tr>\n",
       "      <th>5</th>\n",
       "      <td>111234126</td>\n",
       "      <td>2018-09-04 11:17:00</td>\n",
       "      <td>Министр цифрового развития, связи и массовых к...</td>\n",
       "      <td>В Минкомсвязи заявили об отсутствии причин мен...</td>\n",
       "      <td>http://www.interfax.ru/russia/627814</td>\n",
       "      <td>Interfax</td>\n",
       "      <td>2018</td>\n",
       "      <td>20</td>\n",
       "      <td>378</td>\n",
       "    </tr>\n",
       "    <tr>\n",
       "      <th>6</th>\n",
       "      <td>111234125</td>\n",
       "      <td>2018-09-04 11:11:00</td>\n",
       "      <td>Немногим более половины россиян знают о ситуац...</td>\n",
       "      <td>Половина россиян оказалась не в курсе ситуации...</td>\n",
       "      <td>http://www.interfax.ru/russia/627813</td>\n",
       "      <td>Interfax</td>\n",
       "      <td>2018</td>\n",
       "      <td>8</td>\n",
       "      <td>183</td>\n",
       "    </tr>\n",
       "    <tr>\n",
       "      <th>7</th>\n",
       "      <td>111234101</td>\n",
       "      <td>2018-09-04 11:28:00</td>\n",
       "      <td>Следственное управление СКР по Самарской облас...</td>\n",
       "      <td>СК возбудил дело после гибели рабочих на двига...</td>\n",
       "      <td>http://www.interfax.ru/russia/627815</td>\n",
       "      <td>Interfax</td>\n",
       "      <td>2018</td>\n",
       "      <td>7</td>\n",
       "      <td>149</td>\n",
       "    </tr>\n",
       "    <tr>\n",
       "      <th>8</th>\n",
       "      <td>111233244</td>\n",
       "      <td>2018-09-04 10:31:00</td>\n",
       "      <td>Доллар США растет, евро стабилен на Московской...</td>\n",
       "      <td>Рубль умеренно снизился к бивалютной корзине н...</td>\n",
       "      <td>http://www.interfax.ru/business/627806</td>\n",
       "      <td>Interfax</td>\n",
       "      <td>2018</td>\n",
       "      <td>17</td>\n",
       "      <td>324</td>\n",
       "    </tr>\n",
       "    <tr>\n",
       "      <th>9</th>\n",
       "      <td>111233239</td>\n",
       "      <td>2018-09-04 10:30:00</td>\n",
       "      <td>Страховая компания \"Ингосстрах\" начала принима...</td>\n",
       "      <td>Ингосстрах\" начал принимать заявления от клиен...</td>\n",
       "      <td>http://www.interfax.ru/business/627805</td>\n",
       "      <td>Interfax</td>\n",
       "      <td>2018</td>\n",
       "      <td>15</td>\n",
       "      <td>313</td>\n",
       "    </tr>\n",
       "  </tbody>\n",
       "</table>\n",
       "</div>"
      ],
      "text/plain": [
       "      doc_id             docdate  \\\n",
       "0  124272138 2018-11-20 15:23:00   \n",
       "1  124272120 2018-11-20 15:10:00   \n",
       "2  124257606 2018-11-20 14:26:00   \n",
       "3  124067142 2018-11-19 19:47:00   \n",
       "4  122766500 2018-11-14 18:45:00   \n",
       "5  111234126 2018-09-04 11:17:00   \n",
       "6  111234125 2018-09-04 11:11:00   \n",
       "7  111234101 2018-09-04 11:28:00   \n",
       "8  111233244 2018-09-04 10:31:00   \n",
       "9  111233239 2018-09-04 10:30:00   \n",
       "\n",
       "                                                text  \\\n",
       "0  Россия поставила Анголе четыре истреьителя Су-...   \n",
       "1  Нерезиденты и дочерние иностранные банки в окт...   \n",
       "2  Отделение Пенсионного фонда России по Самарско...   \n",
       "3  Глава дипломатии ЕС Федерика Могерини заявила,...   \n",
       "4  Сотруднику Центрального научно-исследовательск...   \n",
       "5  Министр цифрового развития, связи и массовых к...   \n",
       "6  Немногим более половины россиян знают о ситуац...   \n",
       "7  Следственное управление СКР по Самарской облас...   \n",
       "8  Доллар США растет, евро стабилен на Московской...   \n",
       "9  Страховая компания \"Ингосстрах\" начала принима...   \n",
       "\n",
       "                                               title  \\\n",
       "0  Россия поставила Анголе четыре истребителя Су-...   \n",
       "1  Нерезиденты в октябре купили ОФЗ на аукционах ...   \n",
       "2  Нескольких умерших жителей Самары по ошибке пр...   \n",
       "3  ЕС предпримет меры из-за \"чрезмерных инспекций...   \n",
       "4  Предложенная ученому Кудрявцеву сделка со след...   \n",
       "5  В Минкомсвязи заявили об отсутствии причин мен...   \n",
       "6  Половина россиян оказалась не в курсе ситуации...   \n",
       "7  СК возбудил дело после гибели рабочих на двига...   \n",
       "8  Рубль умеренно снизился к бивалютной корзине н...   \n",
       "9  Ингосстрах\" начал принимать заявления от клиен...   \n",
       "\n",
       "                                      url    source  year  sent-len  word-len  \n",
       "0     http://www.interfax.ru/world/638657  Interfax  2018        11       183  \n",
       "1  http://www.interfax.ru/business/638658  Interfax  2018        12       239  \n",
       "2    http://www.interfax.ru/russia/638651  Interfax  2018         3        89  \n",
       "3     http://www.interfax.ru/world/638545  Interfax  2018         8       159  \n",
       "4    http://www.interfax.ru/russia/637890  Interfax  2018        20       371  \n",
       "5    http://www.interfax.ru/russia/627814  Interfax  2018        20       378  \n",
       "6    http://www.interfax.ru/russia/627813  Interfax  2018         8       183  \n",
       "7    http://www.interfax.ru/russia/627815  Interfax  2018         7       149  \n",
       "8  http://www.interfax.ru/business/627806  Interfax  2018        17       324  \n",
       "9  http://www.interfax.ru/business/627805  Interfax  2018        15       313  "
      ]
     },
     "execution_count": 199,
     "metadata": {},
     "output_type": "execute_result"
    }
   ],
   "source": [
    "news18 = news[news[\"docdate\"]>pd.to_datetime(\"2018\", format=\"%Y\")]\n",
    "print(\"News dated back in 2018: {}\".format(news18.shape[0]))\n",
    "news18.head(10)"
   ]
  },
  {
   "cell_type": "code",
   "execution_count": 205,
   "metadata": {},
   "outputs": [
    {
     "data": {
      "text/plain": [
       "<Figure size 432x288 with 0 Axes>"
      ]
     },
     "metadata": {},
     "output_type": "display_data"
    },
    {
     "data": {
      "image/png": "[encoded data removed]",
      "text/plain": [
       "<Figure size 1080x360 with 2 Axes>"
      ]
     },
     "metadata": {
      "needs_background": "light"
     },
     "output_type": "display_data"
    }
   ],
   "source": [
    "# clear current figure\n",
    "plt.clf()\n",
    "\n",
    "# create plt.Figure with 2 subplots\n",
    "fig, axes = plt.subplots(1,2, figsize=(15,5))\n",
    "sns.set_color_codes(palette=\"deep\")\n",
    "\n",
    "# create Number Of Sentences distplot\n",
    "plt1 = sns.distplot(news18[news18[\"sent-len\"]<=bound_s][\"sent-len\"].tolist(), ax=axes[0], color=\"g\")\n",
    "plt1.set(xlabel = \"Number of sentences\", ylabel=\"Density\")\n",
    "plt1.set_title(\"Distribution of sentence count (2018 only, bounded)\")\n",
    "\n",
    "# create Number Of Words distplot \n",
    "plt2 = sns.distplot(news18[news18[\"word-len\"]<=bound_w][\"word-len\"].tolist(), ax=axes[1], color=\"b\")\n",
    "plt2.set(xlabel = \"Number of words\", ylabel=\"Density\")\n",
    "plt2.set_title(\"Distribution of word count (2018 only, bounded)\")\n",
    "\n",
    "# show graphs\n",
    "plt.show()"
   ]
  },
  {
   "cell_type": "code",
   "execution_count": 207,
   "metadata": {
    "scrolled": true
   },
   "outputs": [
    {
     "data": {
      "text/plain": [
       "<Figure size 432x288 with 0 Axes>"
      ]
     },
     "metadata": {},
     "output_type": "display_data"
    },
    {
     "data": {
      "image/png": "[encoded data removed]",
      "text/plain": [
       "<Figure size 1080x360 with 2 Axes>"
      ]
     },
     "metadata": {
      "needs_background": "light"
     },
     "output_type": "display_data"
    }
   ],
   "source": [
    "# clear current figure\n",
    "plt.clf()\n",
    "\n",
    "# create plt.Figure with 2 subplots\n",
    "fig, axes = plt.subplots(1,2, figsize=(15,5))\n",
    "sns.set_color_codes(palette=\"pastel\")\n",
    "\n",
    "# create Number Of Sentences distplot\n",
    "plt1 = sns.distplot(news18[\"sent-len\"].tolist(), ax=axes[0], color=\"g\")\n",
    "plt1.set(xlabel = \"Number of sentences\", ylabel=\"Density\")\n",
    "plt1.set_title(\"Distribution of sentence count (2018 only, full)\")\n",
    "\n",
    "# create Number Of Words distplot \n",
    "plt2 = sns.distplot(news18[\"word-len\"].tolist(), ax=axes[1], color=\"b\")\n",
    "plt2.set(xlabel = \"Number of words\", ylabel=\"Density\")\n",
    "plt2.set_title(\"Distribution of word count (2018 only, full)\")\n",
    "\n",
    "# show graphs\n",
    "plt.show()"
   ]
  },
  {
   "cell_type": "code",
   "execution_count": 210,
   "metadata": {},
   "outputs": [],
   "source": [
    "unlabeled, to_label = train_test_split(news18, test_size=0.01, stratify=news18[\"source\"])"
   ]
  },
  {
   "cell_type": "code",
   "execution_count": 227,
   "metadata": {},
   "outputs": [],
   "source": [
    "to_label.to_json(\"../data/interim/to-label.json\", force_ascii=False)"
   ]
  },
  {
   "cell_type": "code",
   "execution_count": 228,
   "metadata": {},
   "outputs": [],
   "source": [
    "to_label.to_csv(\"../data/interim/to-label.csv\", encoding=\"utf-8\")"
   ]
  },
  {
   "cell_type": "code",
   "execution_count": null,
   "metadata": {},
   "outputs": [],
   "source": [
    "unlabeled.to_json(\"../data/interim/unlabeled.json\", force_ascii=False, compression='zip')"
   ]
  },
  {
   "cell_type": "markdown",
   "metadata": {},
   "source": [
    "## Exploring RuStance a bit"
   ]
  },
  {
   "cell_type": "code",
   "execution_count": 5,
   "metadata": {},
   "outputs": [],
   "source": [
    "rustance = pd.read_csv(\"../data/external/rustance.csv\", sep=\";\", error_bad_lines=False)"
   ]
  },
  {
   "cell_type": "code",
   "execution_count": 6,
   "metadata": {},
   "outputs": [
    {
     "data": {
      "text/html": [
       "<div>\n",
       "<style scoped>\n",
       "    .dataframe tbody tr th:only-of-type {\n",
       "        vertical-align: middle;\n",
       "    }\n",
       "\n",
       "    .dataframe tbody tr th {\n",
       "        vertical-align: top;\n",
       "    }\n",
       "\n",
       "    .dataframe thead th {\n",
       "        text-align: right;\n",
       "    }\n",
       "</style>\n",
       "<table border=\"1\" class=\"dataframe\">\n",
       "  <thead>\n",
       "    <tr style=\"text-align: right;\">\n",
       "      <th></th>\n",
       "      <th>Stance</th>\n",
       "      <th>Text</th>\n",
       "      <th>Title</th>\n",
       "    </tr>\n",
       "  </thead>\n",
       "  <tbody>\n",
       "    <tr>\n",
       "      <th>0</th>\n",
       "      <td>c</td>\n",
       "      <td>Волки, волки!!</td>\n",
       "      <td>Минобороны обвинило «гражданского сотрудника» ...</td>\n",
       "    </tr>\n",
       "    <tr>\n",
       "      <th>1</th>\n",
       "      <td>c</td>\n",
       "      <td>@(Vitaly Stativ) ту мач, суток хватит</td>\n",
       "      <td>Минобороны обвинило «гражданского сотрудника» ...</td>\n",
       "    </tr>\n",
       "    <tr>\n",
       "      <th>2</th>\n",
       "      <td>c</td>\n",
       "      <td>@(Terkin Vasily) Ну, в Арме таких конвоев длин...</td>\n",
       "      <td>Минобороны обвинило «гражданского сотрудника» ...</td>\n",
       "    </tr>\n",
       "    <tr>\n",
       "      <th>3</th>\n",
       "      <td>c</td>\n",
       "      <td>МО скинуло афтершоку цветные фотки https://aft...</td>\n",
       "      <td>Минобороны обвинило «гражданского сотрудника» ...</td>\n",
       "    </tr>\n",
       "    <tr>\n",
       "      <th>4</th>\n",
       "      <td>c</td>\n",
       "      <td>а нет звезде</td>\n",
       "      <td>Минобороны обвинило «гражданского сотрудника» ...</td>\n",
       "    </tr>\n",
       "  </tbody>\n",
       "</table>\n",
       "</div>"
      ],
      "text/plain": [
       "  Stance                                               Text  \\\n",
       "0      c                                     Волки, волки!!   \n",
       "1      c              @(Vitaly Stativ) ту мач, суток хватит   \n",
       "2      c  @(Terkin Vasily) Ну, в Арме таких конвоев длин...   \n",
       "3      c  МО скинуло афтершоку цветные фотки https://aft...   \n",
       "4      c                                       а нет звезде   \n",
       "\n",
       "                                               Title  \n",
       "0  Минобороны обвинило «гражданского сотрудника» ...  \n",
       "1  Минобороны обвинило «гражданского сотрудника» ...  \n",
       "2  Минобороны обвинило «гражданского сотрудника» ...  \n",
       "3  Минобороны обвинило «гражданского сотрудника» ...  \n",
       "4  Минобороны обвинило «гражданского сотрудника» ...  "
      ]
     },
     "execution_count": 6,
     "metadata": {},
     "output_type": "execute_result"
    }
   ],
   "source": [
    "rustance.head()"
   ]
  },
  {
   "cell_type": "code",
   "execution_count": 7,
   "metadata": {},
   "outputs": [
    {
     "data": {
      "text/plain": [
       "958"
      ]
     },
     "execution_count": 7,
     "metadata": {},
     "output_type": "execute_result"
    }
   ],
   "source": [
    "rustance.shape[0]"
   ]
  },
  {
   "cell_type": "code",
   "execution_count": null,
   "metadata": {},
   "outputs": [],
   "source": []
  }
 ],
 "metadata": {
  "kernelspec": {
   "display_name": "Python 3",
   "language": "python",
   "name": "python3"
  },
  "language_info": {
   "codemirror_mode": {
    "name": "ipython",
    "version": 3
   },
   "file_extension": ".py",
   "mimetype": "text/x-python",
   "name": "python",
   "nbconvert_exporter": "python",
   "pygments_lexer": "ipython3",
   "version": "3.7.1"
  }
 },
 "nbformat": 4,
 "nbformat_minor": 2
}
