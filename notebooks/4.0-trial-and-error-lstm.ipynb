{
 "cells": [
  {
   "cell_type": "code",
   "execution_count": 1,
   "metadata": {},
   "outputs": [
    {
     "name": "stderr",
     "output_type": "stream",
     "text": [
      "Using TensorFlow backend.\n"
     ]
    }
   ],
   "source": [
    "import sys\n",
    "import os\n",
    "import pandas as pd\n",
    "import numpy as np\n",
    "from razdel import sentenize\n",
    "import zipfile\n",
    "from gensim.models import KeyedVectors\n",
    "from feature_extraction import gen_or_load_feats, cosine_features, polarity_features\n",
    "from feature_extraction import hand_features, word_overlap_features, rouge_features\n",
    "\n",
    "from tqdm._tqdm_notebook import tqdm_notebook, tqdm\n",
    "\n",
    "from sklearn.preprocessing import LabelBinarizer\n",
    "from keras.preprocessing.text import Tokenizer\n",
    "from keras.preprocessing.sequence import pad_sequences\n",
    "# from keras.utils import to_categorical\n",
    "\n",
    "from keras.layers import Bidirectional, Embedding, LSTM, Masking, Dense, Dropout\n",
    "from keras.layers import GlobalMaxPooling1D, Input, TimeDistributed\n",
    "from keras.layers import concatenate, multiply, subtract\n",
    "from keras.callbacks import EarlyStopping\n",
    "\n",
    "from keras.utils import to_categorical\n",
    "from keras.optimizers import Adam\n",
    "from keras.models import Model, load_model\n",
    "\n",
    "import tensorflow as tf\n",
    "gpu_options = tf.GPUOptions(allow_growth=True)\n",
    "session = tf.InteractiveSession(config=tf.ConfigProto(gpu_options=gpu_options))\n",
    "\n",
    "import ipywidgets as widgets\n",
    "from ipywidgets import interact\n",
    "\n",
    "from text_preprocessing import Preprocessor\n",
    "from plot_tools import plot_cm\n",
    "from my_layers import GlobalMaxPooling1DMasked"
   ]
  },
  {
   "cell_type": "code",
   "execution_count": 2,
   "metadata": {},
   "outputs": [],
   "source": [
    "with open(\"../data/external/stopwords.txt\", mode=\"r\") as f:\n",
    "    stopwords = [s.replace(\"\\n\", \"\") for s in f.readlines()]\n",
    "    \n",
    "stopwords.remove(\"не\") # несильно влияет на качество, но для отдельных примеров мб решающим\n",
    "stopwords.remove(\"нет\")\n",
    "\n",
    "p = Preprocessor(stopwords=stopwords)"
   ]
  },
  {
   "cell_type": "code",
   "execution_count": null,
   "metadata": {},
   "outputs": [],
   "source": [
    "data = pd.read_json(\"../data/raw/final-raw-for-senior-thesis.json\", orient='records', lines=True)"
   ]
  },
  {
   "cell_type": "code",
   "execution_count": 4,
   "metadata": {
    "scrolled": true
   },
   "outputs": [
    {
     "data": {
      "application/vnd.jupyter.widget-view+json": {
       "model_id": "4faa046f02784f1bb9715480bd21814f",
       "version_major": 2,
       "version_minor": 0
      },
      "text/plain": [
       "interactive(children=(Dropdown(description='source', options=('interfax.ru', 'dni.ru', 'utro.ru', 'artificial'…"
      ]
     },
     "metadata": {},
     "output_type": "display_data"
    }
   ],
   "source": [
    "@interact\n",
    "def show_by_source(source=data.source.unique()):\n",
    "    df=data\n",
    "    print(\"Total number of posts: {}\".format(df.shape[0]))\n",
    "    print(\"Number of posts from source {0}: {1}\".format(source, df[df[\"source\"]==source].shape[0]))\n",
    "    return df[df[\"source\"]==source].head(10)"
   ]
  },
  {
   "cell_type": "markdown",
   "metadata": {},
   "source": [
    "# Preprocessing"
   ]
  },
  {
   "cell_type": "code",
   "execution_count": 5,
   "metadata": {},
   "outputs": [],
   "source": [
    "# эта штука разбивает текст на предложения\n",
    "get_sentences = lambda body : [substring.text for substring in list(sentenize(body))]\n",
    "# эта штука нормализует разбитый текст\n",
    "normalize_sentences = lambda text : [p.beautify(sentence, normalize_text=True) for sentence in text]"
   ]
  },
  {
   "cell_type": "code",
   "execution_count": 6,
   "metadata": {},
   "outputs": [
    {
     "data": {
      "application/vnd.jupyter.widget-view+json": {
       "model_id": "cf202b85c56f4a519872917903829180",
       "version_major": 2,
       "version_minor": 0
      },
      "text/plain": [
       "HBox(children=(IntProgress(value=0, description='Separating text into sentences', max=12575, style=ProgressSty…"
      ]
     },
     "metadata": {},
     "output_type": "display_data"
    },
    {
     "name": "stdout",
     "output_type": "stream",
     "text": [
      "\n"
     ]
    }
   ],
   "source": [
    "tqdm_notebook.pandas(desc=\"Separating text into sentences\")\n",
    "\n",
    "data[\"body_sentences\"] = data[\"text\"].progress_apply(lambda x : get_sentences(x)) # resulting in list of sentences\n",
    "data[\"lead\"] = data[\"body_sentences\"].apply(lambda x : \" \".join(x[:2])) # resulting in two first sentences _s_t_r_i_n_g_"
   ]
  },
  {
   "cell_type": "code",
   "execution_count": 7,
   "metadata": {
    "scrolled": false
   },
   "outputs": [
    {
     "data": {
      "application/vnd.jupyter.widget-view+json": {
       "model_id": "50facb3fd83d44ada0785158ab9fdc78",
       "version_major": 2,
       "version_minor": 0
      },
      "text/plain": [
       "HBox(children=(IntProgress(value=0, description='Normalizing titles', max=12575, style=ProgressStyle(descripti…"
      ]
     },
     "metadata": {},
     "output_type": "display_data"
    },
    {
     "name": "stdout",
     "output_type": "stream",
     "text": [
      "\n"
     ]
    },
    {
     "data": {
      "application/vnd.jupyter.widget-view+json": {
       "model_id": "90b48585cd9d470583a6dfe1848bc971",
       "version_major": 2,
       "version_minor": 0
      },
      "text/plain": [
       "HBox(children=(IntProgress(value=0, description='Normalizing leads', max=12575, style=ProgressStyle(descriptio…"
      ]
     },
     "metadata": {},
     "output_type": "display_data"
    },
    {
     "name": "stdout",
     "output_type": "stream",
     "text": [
      "\n"
     ]
    },
    {
     "data": {
      "application/vnd.jupyter.widget-view+json": {
       "model_id": "bd2eb8fc10ba42c79f3db7fb07ea8c1f",
       "version_major": 2,
       "version_minor": 0
      },
      "text/plain": [
       "HBox(children=(IntProgress(value=0, description='Normalizing texts', max=12575, style=ProgressStyle(descriptio…"
      ]
     },
     "metadata": {},
     "output_type": "display_data"
    },
    {
     "name": "stdout",
     "output_type": "stream",
     "text": [
      "\n"
     ]
    }
   ],
   "source": [
    "tqdm_notebook.pandas(desc=\"Normalizing titles\")\n",
    "data[\"title_norm\"] = data[\"title\"].progress_apply(lambda x : p.beautify(x, normalize_text=True))\n",
    "\n",
    "tqdm_notebook.pandas(desc=\"Normalizing leads\")\n",
    "data[\"lead_norm\"] = data[\"lead\"].progress_apply(lambda x : p.beautify(x, normalize_text=True))\n",
    "\n",
    "tqdm_notebook.pandas(desc=\"Normalizing texts\")\n",
    "data[\"body_sentences_norm\"] = data[\"body_sentences\"].progress_apply(normalize_sentences)\n",
    "data[\"text_norm\"] = data[\"body_sentences_norm\"].apply(lambda x : \" \".join(x))"
   ]
  },
  {
   "cell_type": "code",
   "execution_count": 34,
   "metadata": {},
   "outputs": [],
   "source": [
    "data.to_json(\"../data/interim/data-for-fucking-lstm.json\", force_ascii=False, orient='records', lines=True)"
   ]
  },
  {
   "cell_type": "code",
   "execution_count": 2,
   "metadata": {},
   "outputs": [],
   "source": [
    "data = pd.read_json(\"../data/interim/data-for-fucking-lstm.json\", orient='records', lines=True)"
   ]
  },
  {
   "cell_type": "markdown",
   "metadata": {},
   "source": [
    "# Feature Extraction"
   ]
  },
  {
   "cell_type": "code",
   "execution_count": 3,
   "metadata": {},
   "outputs": [],
   "source": [
    "if not os.path.exists(\"../data/interim/features/fucking-lstm\"):\n",
    "    os.mkdir(\"../data/interim/features/fucking-lstm\")"
   ]
  },
  {
   "cell_type": "markdown",
   "metadata": {},
   "source": [
    "### Headline-body pairwise features"
   ]
  },
  {
   "cell_type": "code",
   "execution_count": 4,
   "metadata": {},
   "outputs": [],
   "source": [
    "overlap_body = gen_or_load_feats(word_overlap_features,\n",
    "                                 data.title_norm.tolist(), \n",
    "                                 data.text_norm.tolist(), \n",
    "                                 \"../data/interim/features/fucking-lstm/bodies.overlap.npy\")\n",
    "\n",
    "polarity_body = gen_or_load_feats(polarity_features,\n",
    "                                  data.title_norm.tolist(), \n",
    "                                  data.text_norm.tolist(), \n",
    "                                  \"../data/interim/features/fucking-lstm/bodies.polarity.npy\")\n",
    "\n",
    "hand_body = gen_or_load_feats(hand_features, \n",
    "                              data.title_norm.tolist(), \n",
    "                              data.text_norm.tolist(), \n",
    "                              \"../data/interim/features/fucking-lstm/bodies.hand.npy\")\n",
    "\n",
    "cosine_body = gen_or_load_feats(cosine_features, \n",
    "                                data.title_norm.tolist(), \n",
    "                                data.text_norm.tolist(), \n",
    "                                \"../data/interim/features/fucking-lstm/bodies.cosine.npy\")\n",
    "\n",
    "rouge_body = gen_or_load_feats(rouge_features, \n",
    "                               data.title_norm.tolist(), \n",
    "                               data.text_norm.tolist(), \n",
    "                               \"../data/interim/features/fucking-lstm/bodies.rouge.npy\")"
   ]
  },
  {
   "cell_type": "markdown",
   "metadata": {},
   "source": [
    "### Headline-lead pairwise features"
   ]
  },
  {
   "cell_type": "code",
   "execution_count": 5,
   "metadata": {},
   "outputs": [],
   "source": [
    "overlap_lead = gen_or_load_feats(word_overlap_features,\n",
    "                                 data.title_norm.tolist(), \n",
    "                                 data.lead_norm.tolist(), \n",
    "                                 \"../data/interim/features/fucking-lstm/leads.overlap.npy\")\n",
    "\n",
    "polarity_lead = gen_or_load_feats(polarity_features,\n",
    "                                  data.title_norm.tolist(), \n",
    "                                  data.lead_norm.tolist(), \n",
    "                                  \"../data/interim/features/fucking-lstm/leads.polarity.npy\")\n",
    "\n",
    "hand_lead = gen_or_load_feats(hand_features, \n",
    "                              data.title_norm.tolist(), \n",
    "                              data.lead_norm.tolist(), \n",
    "                              \"../data/interim/features/fucking-lstm/leads.hand.npy\")\n",
    "\n",
    "cosine_lead = gen_or_load_feats(cosine_features, \n",
    "                                data.title_norm.tolist(), \n",
    "                                data.lead_norm.tolist(), \n",
    "                                \"../data/interim/features/fucking-lstm/leads.cosine.npy\")\n",
    "\n",
    "rouge_lead = gen_or_load_feats(rouge_features, \n",
    "                               data.title_norm.tolist(),\n",
    "                               data.lead_norm.tolist(), \n",
    "                               \"../data/interim/features/fucking-lstm/leads.rouge.npy\")"
   ]
  },
  {
   "cell_type": "markdown",
   "metadata": {},
   "source": [
    "#### Let's take a look at the length range of sentences in texts and number of sentences"
   ]
  },
  {
   "cell_type": "code",
   "execution_count": 6,
   "metadata": {},
   "outputs": [],
   "source": [
    "get_average_sentence_len = lambda text : np.array([len(sentence.split()) for sentence in text]).mean(dtype=int)"
   ]
  },
  {
   "cell_type": "code",
   "execution_count": 7,
   "metadata": {},
   "outputs": [],
   "source": [
    "data[\"average_sentence\"] = data[\"body_sentences_norm\"].apply(get_average_sentence_len)\n",
    "data[\"number_of_sentences\"] = data[\"body_sentences_norm\"].apply(lambda x : len(x))\n",
    "data[\"average_title\"] = data[\"title_norm\"].apply(lambda x : len(x.split()))\n",
    "data[\"average_lead\"] = data[\"lead_norm\"].apply(lambda x : len(x.split()))"
   ]
  },
  {
   "cell_type": "markdown",
   "metadata": {},
   "source": [
    "Так как в среднем лид длиннее, чем предложение в тексте, будем брать его как ограничение одного вектора токенов по длине. Текст ограничим исходя из среднего числа предложений в тексте + 2 сигмы."
   ]
  },
  {
   "cell_type": "code",
   "execution_count": 8,
   "metadata": {
    "scrolled": true
   },
   "outputs": [
    {
     "name": "stdout",
     "output_type": "stream",
     "text": [
      "Max padded sequence length: 51\n",
      "Max number of sentences: 29\n"
     ]
    }
   ],
   "source": [
    "# get maximum sequence length\n",
    "avg_lead = data.average_lead.mean()\n",
    "std_lead = data.average_lead.std()\n",
    "max_seq_len = int(round(avg_lead + 2*std_lead))\n",
    "\n",
    "# get maximum number of sentences in text\n",
    "avg_sents = data.number_of_sentences.mean()\n",
    "std_sents = data.number_of_sentences.std()\n",
    "max_sents = int(round(avg_sents + 2*std_sents))\n",
    "\n",
    "print(\"Max padded sequence length: {}\".format(max_seq_len))\n",
    "print(\"Max number of sentences: {}\".format(max_sents))"
   ]
  },
  {
   "cell_type": "markdown",
   "metadata": {},
   "source": [
    "### Texts tokenization and padding"
   ]
  },
  {
   "cell_type": "markdown",
   "metadata": {},
   "source": [
    "Так как токенизируются уже очищенные и нормализованные тексты, токенайзер будет дефолтным."
   ]
  },
  {
   "cell_type": "code",
   "execution_count": 9,
   "metadata": {},
   "outputs": [],
   "source": [
    "t = Tokenizer()\n",
    "t.fit_on_texts((data[\"title_norm\"].astype(str) + data[\"text_norm\"].astype(str)).tolist())"
   ]
  },
  {
   "cell_type": "code",
   "execution_count": 25,
   "metadata": {},
   "outputs": [],
   "source": [
    "pad_texts = lambda x : pad_sequences(sequences=np.array([np.array(seq) for seq in t.texts_to_sequences(x)]), \n",
    "                                     maxlen=max_seq_len)"
   ]
  },
  {
   "cell_type": "code",
   "execution_count": null,
   "metadata": {},
   "outputs": [
    {
     "data": {
      "application/vnd.jupyter.widget-view+json": {
       "model_id": "f6540c9949c64975902de9940f327022",
       "version_major": 2,
       "version_minor": 0
      },
      "text/plain": [
       "HBox(children=(IntProgress(value=0, description='Tokenization & padding', max=12575, style=ProgressStyle(descr…"
      ]
     },
     "metadata": {},
     "output_type": "display_data"
    },
    {
     "name": "stdout",
     "output_type": "stream",
     "text": [
      "\n"
     ]
    }
   ],
   "source": [
    "tqdm_notebook.pandas(desc=\"Tokenization & padding\")\n",
    "\n",
    "bodies = data[\"body_sentences_norm\"].progress_apply(lambda x : pad_texts(x[:max_sents]))\n",
    "leads = pad_texts(data[\"lead_norm\"].tolist())\n",
    "headlines = pad_texts(data[\"title_norm\"].tolist())"
   ]
  },
  {
   "cell_type": "code",
   "execution_count": null,
   "metadata": {},
   "outputs": [],
   "source": [
    "def pad_bodies(b):\n",
    "    while b.shape[0] < max_sents:\n",
    "        b = np.vstack([b, np.zeros_like(b[0])])\n",
    "    return b"
   ]
  },
  {
   "cell_type": "code",
   "execution_count": null,
   "metadata": {},
   "outputs": [],
   "source": [
    "bodies = np.array([pad_bodies(b) for b in bodies])"
   ]
  },
  {
   "cell_type": "markdown",
   "metadata": {},
   "source": [
    "### Target variable"
   ]
  },
  {
   "cell_type": "code",
   "execution_count": null,
   "metadata": {},
   "outputs": [],
   "source": [
    "lb = LabelBinarizer()\n",
    "y = lb.fit_transform(data[\"label\"].values)"
   ]
  },
  {
   "cell_type": "markdown",
   "metadata": {},
   "source": [
    "# Model"
   ]
  },
  {
   "cell_type": "code",
   "execution_count": null,
   "metadata": {},
   "outputs": [],
   "source": [
    "with zipfile.ZipFile(\"../data/external/184.zip\", 'r') as archive:\n",
    "        stream = archive.open('model.bin')\n",
    "        word2vec = KeyedVectors.load_word2vec_format(stream, binary=True)"
   ]
  },
  {
   "cell_type": "code",
   "execution_count": null,
   "metadata": {},
   "outputs": [],
   "source": [
    "hidden_units=100"
   ]
  },
  {
   "cell_type": "code",
   "execution_count": null,
   "metadata": {},
   "outputs": [],
   "source": [
    "input_headline = Input(shape=(max_seq_len,))\n",
    "input_body = Input(shape=(max_sents, max_seq_len))\n",
    "input_lead = Input(shape=(max_seq_len,))\n",
    "\n",
    "input_overlap_body = Input(shape=(1,))\n",
    "input_overlap_lead = Input(shape=(1,))\n",
    "\n",
    "input_polarity_body = Input(shape=(2,))\n",
    "input_polarity_lead = Input(shape=(2,))\n",
    "\n",
    "input_hand_body = Input(shape=(26,))\n",
    "input_hand_lead = Input(shape=(26,))\n",
    "\n",
    "input_cos_body = Input(shape=(1,))\n",
    "input_cos_lead = Input(shape=(1,))\n",
    "\n",
    "input_rouge_body = Input(shape=(3,))\n",
    "input_rouge_lead = Input(shape=(3,))"
   ]
  },
  {
   "cell_type": "code",
   "execution_count": null,
   "metadata": {},
   "outputs": [],
   "source": [
    "early_stop = EarlyStopping(monitor='loss', patience=2, verbose=1, restore_best_weights=True)\n",
    "embedding_layer = word2vec.get_keras_embedding(train_embeddings=False)\n",
    "lstm1 = LSTM(hidden_units, implementation=2, return_sequences=True, name='lstm1' )\n",
    "lstm1 = Bidirectional(lstm1, name='bilstm1')\n",
    "right_branch_lstm1 = LSTM(hidden_units, implementation=2, return_sequences=True )\n",
    "right_branch_lstm1 = Bidirectional(right_branch_lstm1)"
   ]
  },
  {
   "cell_type": "code",
   "execution_count": 30,
   "metadata": {},
   "outputs": [],
   "source": [
    "mask = Masking(mask_value=0, input_shape=(max_seq_len,))(input_headline)\n",
    "embed = embedding_layer(mask)\n",
    "l1 = lstm1(embed)\n",
    "drop1 = Dropout(0.1)(l1)\n",
    "maxim = GlobalMaxPooling1D()(drop1)\n",
    "HeadlineEncoder = Model(input_headline, maxim, name='HeadlineEncoder')"
   ]
  },
  {
   "cell_type": "code",
   "execution_count": 31,
   "metadata": {},
   "outputs": [],
   "source": [
    "body_sentence = TimeDistributed(HeadlineEncoder)(input_body)\n",
    "body_g1 = right_branch_lstm1(body_sentence)\n",
    "body_g1 = Dropout(0.1)(body_g1)\n",
    "body_maxim = GlobalMaxPooling1D()(body_g1)\n",
    "DocumentEncoder = Model(input_body, body_maxim, name='DocumentEncoder')\n",
    "\n",
    "##############################\n",
    "\n",
    "# Combining both representations #\n",
    "\n",
    "headline_representation = HeadlineEncoder(input_headline)\n",
    "document_representation = DocumentEncoder(input_body)\n",
    "\n",
    "# Match between headline and first two sentences from body #\n",
    "\n",
    "lead_representation = HeadlineEncoder(input_lead)\n",
    "concat_lead = concatenate([headline_representation, lead_representation])\n",
    "mul_lead = multiply([headline_representation, lead_representation])\n",
    "dif_lead = subtract([headline_representation, lead_representation])\n",
    "final_merge_lead = concatenate([concat_lead, mul_lead, dif_lead, input_overlap_lead, input_polarity_lead, \n",
    "                                input_hand_lead, input_cos_lead, input_rouge_lead])\n",
    "drop3_lead = Dropout(0.1)(final_merge_lead)\n",
    "dense1_lead = Dense(hidden_units*2, activation='relu')(drop3_lead)\n",
    "drop4_lead = Dropout(0.1)(dense1_lead)\n",
    "dense2_lead = Dense(hidden_units, activation='relu')(drop4_lead)\n",
    "match = Dropout(0.1)(dense2_lead)\n",
    "\n",
    "# layer_dict -- это, видимо, штука с весами предобученными на MultiNLI\n",
    "#####################################################\n",
    "\n",
    "concat = concatenate([headline_representation, document_representation])\n",
    "mul = multiply([headline_representation, document_representation])\n",
    "dif = subtract([headline_representation, document_representation])\n",
    "final_merge = concatenate([concat, mul, dif, input_overlap_body, \n",
    "                           input_polarity_body, input_hand_body, \n",
    "                           input_cos_body, input_rouge_body])\n",
    "drop3 = Dropout(0.1)(final_merge)\n",
    "dense1 = Dense(hidden_units*2, activation='relu', name='dense1')(drop3)\n",
    "drop4 = Dropout(0.1)(dense1)\n",
    "dense2 = Dense(hidden_units, activation='relu', name='dense2')(drop4)\n",
    "drop5 = Dropout(0.1)(dense2)\n",
    "concat_final = concatenate([drop5, match])\n",
    "\n",
    "drop6 = Dropout(0.1)(concat_final)\n",
    "dense3 = Dense(3, activation='softmax')(drop6)\n",
    "final_model = Model([input_headline, input_body, input_overlap_body, input_polarity_body, \n",
    "                     input_hand_body, input_cos_body, input_cos_lead, input_rouge_body, \n",
    "                     input_lead, input_overlap_lead, \n",
    "                     input_polarity_lead, input_hand_lead, input_rouge_lead], dense3)"
   ]
  },
  {
   "cell_type": "code",
   "execution_count": 32,
   "metadata": {
    "scrolled": true
   },
   "outputs": [
    {
     "name": "stdout",
     "output_type": "stream",
     "text": [
      "__________________________________________________________________________________________________\n",
      "Layer (type)                    Output Shape         Param #     Connected to                     \n",
      "==================================================================================================\n",
      "input_1 (InputLayer)            (None, 51)           0                                            \n",
      "__________________________________________________________________________________________________\n",
      "input_2 (InputLayer)            (None, 29, 51)       0                                            \n",
      "__________________________________________________________________________________________________\n",
      "input_3 (InputLayer)            (None, 51)           0                                            \n",
      "__________________________________________________________________________________________________\n",
      "HeadlineEncoder (Model)         (None, 200)          75116200    input_1[0][0]                    \n",
      "                                                                 input_3[0][0]                    \n",
      "__________________________________________________________________________________________________\n",
      "DocumentEncoder (Model)         (None, 200)          75357000    input_2[0][0]                    \n",
      "__________________________________________________________________________________________________\n",
      "concatenate_8 (Concatenate)     (None, 400)          0           HeadlineEncoder[1][0]            \n",
      "                                                                 DocumentEncoder[1][0]            \n",
      "__________________________________________________________________________________________________\n",
      "multiply_4 (Multiply)           (None, 200)          0           HeadlineEncoder[1][0]            \n",
      "                                                                 DocumentEncoder[1][0]            \n",
      "__________________________________________________________________________________________________\n",
      "subtract_4 (Subtract)           (None, 200)          0           HeadlineEncoder[1][0]            \n",
      "                                                                 DocumentEncoder[1][0]            \n",
      "__________________________________________________________________________________________________\n",
      "input_4 (InputLayer)            (None, 1)            0                                            \n",
      "__________________________________________________________________________________________________\n",
      "input_6 (InputLayer)            (None, 2)            0                                            \n",
      "__________________________________________________________________________________________________\n",
      "input_8 (InputLayer)            (None, 26)           0                                            \n",
      "__________________________________________________________________________________________________\n",
      "input_10 (InputLayer)           (None, 1)            0                                            \n",
      "__________________________________________________________________________________________________\n",
      "input_12 (InputLayer)           (None, 3)            0                                            \n",
      "__________________________________________________________________________________________________\n",
      "concatenate_6 (Concatenate)     (None, 400)          0           HeadlineEncoder[1][0]            \n",
      "                                                                 HeadlineEncoder[2][0]            \n",
      "__________________________________________________________________________________________________\n",
      "multiply_3 (Multiply)           (None, 200)          0           HeadlineEncoder[1][0]            \n",
      "                                                                 HeadlineEncoder[2][0]            \n",
      "__________________________________________________________________________________________________\n",
      "subtract_3 (Subtract)           (None, 200)          0           HeadlineEncoder[1][0]            \n",
      "                                                                 HeadlineEncoder[2][0]            \n",
      "__________________________________________________________________________________________________\n",
      "input_5 (InputLayer)            (None, 1)            0                                            \n",
      "__________________________________________________________________________________________________\n",
      "input_7 (InputLayer)            (None, 2)            0                                            \n",
      "__________________________________________________________________________________________________\n",
      "input_9 (InputLayer)            (None, 26)           0                                            \n",
      "__________________________________________________________________________________________________\n",
      "input_11 (InputLayer)           (None, 1)            0                                            \n",
      "__________________________________________________________________________________________________\n",
      "input_13 (InputLayer)           (None, 3)            0                                            \n",
      "__________________________________________________________________________________________________\n",
      "concatenate_9 (Concatenate)     (None, 833)          0           concatenate_8[0][0]              \n",
      "                                                                 multiply_4[0][0]                 \n",
      "                                                                 subtract_4[0][0]                 \n",
      "                                                                 input_4[0][0]                    \n",
      "                                                                 input_6[0][0]                    \n",
      "                                                                 input_8[0][0]                    \n",
      "                                                                 input_10[0][0]                   \n",
      "                                                                 input_12[0][0]                   \n",
      "__________________________________________________________________________________________________\n",
      "concatenate_7 (Concatenate)     (None, 833)          0           concatenate_6[0][0]              \n",
      "                                                                 multiply_3[0][0]                 \n",
      "                                                                 subtract_3[0][0]                 \n",
      "                                                                 input_5[0][0]                    \n",
      "                                                                 input_7[0][0]                    \n",
      "                                                                 input_9[0][0]                    \n",
      "                                                                 input_11[0][0]                   \n",
      "                                                                 input_13[0][0]                   \n",
      "__________________________________________________________________________________________________\n",
      "dropout_15 (Dropout)            (None, 833)          0           concatenate_9[0][0]              \n",
      "__________________________________________________________________________________________________\n",
      "dropout_12 (Dropout)            (None, 833)          0           concatenate_7[0][0]              \n",
      "__________________________________________________________________________________________________\n",
      "dense1 (Dense)                  (None, 200)          166800      dropout_15[0][0]                 \n",
      "__________________________________________________________________________________________________\n",
      "dense_4 (Dense)                 (None, 200)          166800      dropout_12[0][0]                 \n",
      "__________________________________________________________________________________________________\n",
      "dropout_16 (Dropout)            (None, 200)          0           dense1[0][0]                     \n",
      "__________________________________________________________________________________________________\n",
      "dropout_13 (Dropout)            (None, 200)          0           dense_4[0][0]                    \n",
      "__________________________________________________________________________________________________\n",
      "dense2 (Dense)                  (None, 100)          20100       dropout_16[0][0]                 \n",
      "__________________________________________________________________________________________________\n",
      "dense_5 (Dense)                 (None, 100)          20100       dropout_13[0][0]                 \n",
      "__________________________________________________________________________________________________\n",
      "dropout_17 (Dropout)            (None, 100)          0           dense2[0][0]                     \n",
      "__________________________________________________________________________________________________\n",
      "dropout_14 (Dropout)            (None, 100)          0           dense_5[0][0]                    \n",
      "__________________________________________________________________________________________________\n",
      "concatenate_10 (Concatenate)    (None, 200)          0           dropout_17[0][0]                 \n",
      "                                                                 dropout_14[0][0]                 \n",
      "__________________________________________________________________________________________________\n",
      "dropout_18 (Dropout)            (None, 200)          0           concatenate_10[0][0]             \n",
      "__________________________________________________________________________________________________\n",
      "dense_6 (Dense)                 (None, 3)            603         dropout_18[0][0]                 \n",
      "==================================================================================================\n",
      "Total params: 75,731,403\n",
      "Trainable params: 936,003\n",
      "Non-trainable params: 74,795,400\n",
      "__________________________________________________________________________________________________\n"
     ]
    }
   ],
   "source": [
    "final_model.summary()"
   ]
  },
  {
   "cell_type": "code",
   "execution_count": 33,
   "metadata": {},
   "outputs": [],
   "source": [
    "final_model.compile(optimizer=Adam(amsgrad=True), loss='categorical_crossentropy', metrics=['accuracy'])"
   ]
  },
  {
   "cell_type": "code",
   "execution_count": 34,
   "metadata": {},
   "outputs": [],
   "source": [
    "X = [headlines[:1000], bodies[:1000], overlap_body[:1000], polarity_body[:1000], hand_body[:1000], cosine_body[:1000],\n",
    "     cosine_lead[:1000], rouge_body[:1000], leads[:1000], overlap_lead[:1000], polarity_lead[:1000], hand_lead[:1000], \n",
    "     rouge_lead[:1000]]"
   ]
  },
  {
   "cell_type": "code",
   "execution_count": 35,
   "metadata": {},
   "outputs": [
    {
     "name": "stdout",
     "output_type": "stream",
     "text": [
      "Train on 800 samples, validate on 200 samples\n",
      "Epoch 1/4\n"
     ]
    },
    {
     "ename": "ResourceExhaustedError",
     "evalue": "OOM when allocating tensor with shape[1856,300] and type float on /job:localhost/replica:0/task:0/device:GPU:0 by allocator GPU_0_bfc\n\t [[{{node DocumentEncoder_1/time_distributed_2/bilstm1/TensorArrayUnstack/TensorArrayScatter/TensorArrayScatterV3}} = TensorArrayScatterV3[T=DT_FLOAT, _class=[\"loc:@DocumentEncoder_1/time_distributed_2/bilstm1/transpose\"], _device=\"/job:localhost/replica:0/task:0/device:GPU:0\"](DocumentEncoder_1/time_distributed_2/bilstm1/TensorArray_1, DocumentEncoder_1/time_distributed_2/bilstm1/TensorArrayUnstack/range, DocumentEncoder_1/time_distributed_2/bilstm1/transpose, DocumentEncoder_1/time_distributed_2/bilstm1/TensorArray_1:1)]]\nHint: If you want to see a list of allocated tensors when OOM happens, add report_tensor_allocations_upon_oom to RunOptions for current allocation info.\n\n\t [[{{node metrics_2/acc/Mean/_1121}} = _Recv[client_terminated=false, recv_device=\"/job:localhost/replica:0/task:0/device:CPU:0\", send_device=\"/job:localhost/replica:0/task:0/device:GPU:0\", send_device_incarnation=1, tensor_name=\"edge_12128_metrics_2/acc/Mean\", tensor_type=DT_FLOAT, _device=\"/job:localhost/replica:0/task:0/device:CPU:0\"]()]]\nHint: If you want to see a list of allocated tensors when OOM happens, add report_tensor_allocations_upon_oom to RunOptions for current allocation info.\n",
     "output_type": "error",
     "traceback": [
      "\u001b[0;31m---------------------------------------------------------------------------\u001b[0m",
      "\u001b[0;31mResourceExhaustedError\u001b[0m                    Traceback (most recent call last)",
      "\u001b[0;32m<ipython-input-35-10be18662aed>\u001b[0m in \u001b[0;36m<module>\u001b[0;34m\u001b[0m\n\u001b[1;32m      1\u001b[0m final_model.fit(x=X, y=y[:1000], validation_split=0.2, \n\u001b[0;32m----> 2\u001b[0;31m                  batch_size=64, epochs=4, verbose=2)\n\u001b[0m\u001b[1;32m      3\u001b[0m \u001b[0;34m\u001b[0m\u001b[0m\n\u001b[1;32m      4\u001b[0m \u001b[0;31m# add callbacks\u001b[0m\u001b[0;34m\u001b[0m\u001b[0;34m\u001b[0m\u001b[0;34m\u001b[0m\u001b[0m\n",
      "\u001b[0;32m~/anaconda3/envs/tf-gpu/lib/python3.6/site-packages/keras/engine/training.py\u001b[0m in \u001b[0;36mfit\u001b[0;34m(self, x, y, batch_size, epochs, verbose, callbacks, validation_split, validation_data, shuffle, class_weight, sample_weight, initial_epoch, steps_per_epoch, validation_steps, **kwargs)\u001b[0m\n\u001b[1;32m   1037\u001b[0m                                         \u001b[0minitial_epoch\u001b[0m\u001b[0;34m=\u001b[0m\u001b[0minitial_epoch\u001b[0m\u001b[0;34m,\u001b[0m\u001b[0;34m\u001b[0m\u001b[0;34m\u001b[0m\u001b[0m\n\u001b[1;32m   1038\u001b[0m                                         \u001b[0msteps_per_epoch\u001b[0m\u001b[0;34m=\u001b[0m\u001b[0msteps_per_epoch\u001b[0m\u001b[0;34m,\u001b[0m\u001b[0;34m\u001b[0m\u001b[0;34m\u001b[0m\u001b[0m\n\u001b[0;32m-> 1039\u001b[0;31m                                         validation_steps=validation_steps)\n\u001b[0m\u001b[1;32m   1040\u001b[0m \u001b[0;34m\u001b[0m\u001b[0m\n\u001b[1;32m   1041\u001b[0m     def evaluate(self, x=None, y=None,\n",
      "\u001b[0;32m~/anaconda3/envs/tf-gpu/lib/python3.6/site-packages/keras/engine/training_arrays.py\u001b[0m in \u001b[0;36mfit_loop\u001b[0;34m(model, f, ins, out_labels, batch_size, epochs, verbose, callbacks, val_f, val_ins, shuffle, callback_metrics, initial_epoch, steps_per_epoch, validation_steps)\u001b[0m\n\u001b[1;32m    197\u001b[0m                     \u001b[0mins_batch\u001b[0m\u001b[0;34m[\u001b[0m\u001b[0mi\u001b[0m\u001b[0;34m]\u001b[0m \u001b[0;34m=\u001b[0m \u001b[0mins_batch\u001b[0m\u001b[0;34m[\u001b[0m\u001b[0mi\u001b[0m\u001b[0;34m]\u001b[0m\u001b[0;34m.\u001b[0m\u001b[0mtoarray\u001b[0m\u001b[0;34m(\u001b[0m\u001b[0;34m)\u001b[0m\u001b[0;34m\u001b[0m\u001b[0;34m\u001b[0m\u001b[0m\n\u001b[1;32m    198\u001b[0m \u001b[0;34m\u001b[0m\u001b[0m\n\u001b[0;32m--> 199\u001b[0;31m                 \u001b[0mouts\u001b[0m \u001b[0;34m=\u001b[0m \u001b[0mf\u001b[0m\u001b[0;34m(\u001b[0m\u001b[0mins_batch\u001b[0m\u001b[0;34m)\u001b[0m\u001b[0;34m\u001b[0m\u001b[0;34m\u001b[0m\u001b[0m\n\u001b[0m\u001b[1;32m    200\u001b[0m                 \u001b[0mouts\u001b[0m \u001b[0;34m=\u001b[0m \u001b[0mto_list\u001b[0m\u001b[0;34m(\u001b[0m\u001b[0mouts\u001b[0m\u001b[0;34m)\u001b[0m\u001b[0;34m\u001b[0m\u001b[0;34m\u001b[0m\u001b[0m\n\u001b[1;32m    201\u001b[0m                 \u001b[0;32mfor\u001b[0m \u001b[0ml\u001b[0m\u001b[0;34m,\u001b[0m \u001b[0mo\u001b[0m \u001b[0;32min\u001b[0m \u001b[0mzip\u001b[0m\u001b[0;34m(\u001b[0m\u001b[0mout_labels\u001b[0m\u001b[0;34m,\u001b[0m \u001b[0mouts\u001b[0m\u001b[0;34m)\u001b[0m\u001b[0;34m:\u001b[0m\u001b[0;34m\u001b[0m\u001b[0;34m\u001b[0m\u001b[0m\n",
      "\u001b[0;32m~/anaconda3/envs/tf-gpu/lib/python3.6/site-packages/keras/backend/tensorflow_backend.py\u001b[0m in \u001b[0;36m__call__\u001b[0;34m(self, inputs)\u001b[0m\n\u001b[1;32m   2713\u001b[0m                 \u001b[0;32mreturn\u001b[0m \u001b[0mself\u001b[0m\u001b[0;34m.\u001b[0m\u001b[0m_legacy_call\u001b[0m\u001b[0;34m(\u001b[0m\u001b[0minputs\u001b[0m\u001b[0;34m)\u001b[0m\u001b[0;34m\u001b[0m\u001b[0;34m\u001b[0m\u001b[0m\n\u001b[1;32m   2714\u001b[0m \u001b[0;34m\u001b[0m\u001b[0m\n\u001b[0;32m-> 2715\u001b[0;31m             \u001b[0;32mreturn\u001b[0m \u001b[0mself\u001b[0m\u001b[0;34m.\u001b[0m\u001b[0m_call\u001b[0m\u001b[0;34m(\u001b[0m\u001b[0minputs\u001b[0m\u001b[0;34m)\u001b[0m\u001b[0;34m\u001b[0m\u001b[0;34m\u001b[0m\u001b[0m\n\u001b[0m\u001b[1;32m   2716\u001b[0m         \u001b[0;32melse\u001b[0m\u001b[0;34m:\u001b[0m\u001b[0;34m\u001b[0m\u001b[0;34m\u001b[0m\u001b[0m\n\u001b[1;32m   2717\u001b[0m             \u001b[0;32mif\u001b[0m \u001b[0mpy_any\u001b[0m\u001b[0;34m(\u001b[0m\u001b[0mis_tensor\u001b[0m\u001b[0;34m(\u001b[0m\u001b[0mx\u001b[0m\u001b[0;34m)\u001b[0m \u001b[0;32mfor\u001b[0m \u001b[0mx\u001b[0m \u001b[0;32min\u001b[0m \u001b[0minputs\u001b[0m\u001b[0;34m)\u001b[0m\u001b[0;34m:\u001b[0m\u001b[0;34m\u001b[0m\u001b[0;34m\u001b[0m\u001b[0m\n",
      "\u001b[0;32m~/anaconda3/envs/tf-gpu/lib/python3.6/site-packages/keras/backend/tensorflow_backend.py\u001b[0m in \u001b[0;36m_call\u001b[0;34m(self, inputs)\u001b[0m\n\u001b[1;32m   2673\u001b[0m             \u001b[0mfetched\u001b[0m \u001b[0;34m=\u001b[0m \u001b[0mself\u001b[0m\u001b[0;34m.\u001b[0m\u001b[0m_callable_fn\u001b[0m\u001b[0;34m(\u001b[0m\u001b[0;34m*\u001b[0m\u001b[0marray_vals\u001b[0m\u001b[0;34m,\u001b[0m \u001b[0mrun_metadata\u001b[0m\u001b[0;34m=\u001b[0m\u001b[0mself\u001b[0m\u001b[0;34m.\u001b[0m\u001b[0mrun_metadata\u001b[0m\u001b[0;34m)\u001b[0m\u001b[0;34m\u001b[0m\u001b[0;34m\u001b[0m\u001b[0m\n\u001b[1;32m   2674\u001b[0m         \u001b[0;32melse\u001b[0m\u001b[0;34m:\u001b[0m\u001b[0;34m\u001b[0m\u001b[0;34m\u001b[0m\u001b[0m\n\u001b[0;32m-> 2675\u001b[0;31m             \u001b[0mfetched\u001b[0m \u001b[0;34m=\u001b[0m \u001b[0mself\u001b[0m\u001b[0;34m.\u001b[0m\u001b[0m_callable_fn\u001b[0m\u001b[0;34m(\u001b[0m\u001b[0;34m*\u001b[0m\u001b[0marray_vals\u001b[0m\u001b[0;34m)\u001b[0m\u001b[0;34m\u001b[0m\u001b[0;34m\u001b[0m\u001b[0m\n\u001b[0m\u001b[1;32m   2676\u001b[0m         \u001b[0;32mreturn\u001b[0m \u001b[0mfetched\u001b[0m\u001b[0;34m[\u001b[0m\u001b[0;34m:\u001b[0m\u001b[0mlen\u001b[0m\u001b[0;34m(\u001b[0m\u001b[0mself\u001b[0m\u001b[0;34m.\u001b[0m\u001b[0moutputs\u001b[0m\u001b[0;34m)\u001b[0m\u001b[0;34m]\u001b[0m\u001b[0;34m\u001b[0m\u001b[0;34m\u001b[0m\u001b[0m\n\u001b[1;32m   2677\u001b[0m \u001b[0;34m\u001b[0m\u001b[0m\n",
      "\u001b[0;32m~/anaconda3/envs/tf-gpu/lib/python3.6/site-packages/tensorflow/python/client/session.py\u001b[0m in \u001b[0;36m__call__\u001b[0;34m(self, *args, **kwargs)\u001b[0m\n\u001b[1;32m   1437\u001b[0m           ret = tf_session.TF_SessionRunCallable(\n\u001b[1;32m   1438\u001b[0m               \u001b[0mself\u001b[0m\u001b[0;34m.\u001b[0m\u001b[0m_session\u001b[0m\u001b[0;34m.\u001b[0m\u001b[0m_session\u001b[0m\u001b[0;34m,\u001b[0m \u001b[0mself\u001b[0m\u001b[0;34m.\u001b[0m\u001b[0m_handle\u001b[0m\u001b[0;34m,\u001b[0m \u001b[0margs\u001b[0m\u001b[0;34m,\u001b[0m \u001b[0mstatus\u001b[0m\u001b[0;34m,\u001b[0m\u001b[0;34m\u001b[0m\u001b[0;34m\u001b[0m\u001b[0m\n\u001b[0;32m-> 1439\u001b[0;31m               run_metadata_ptr)\n\u001b[0m\u001b[1;32m   1440\u001b[0m         \u001b[0;32mif\u001b[0m \u001b[0mrun_metadata\u001b[0m\u001b[0;34m:\u001b[0m\u001b[0;34m\u001b[0m\u001b[0;34m\u001b[0m\u001b[0m\n\u001b[1;32m   1441\u001b[0m           \u001b[0mproto_data\u001b[0m \u001b[0;34m=\u001b[0m \u001b[0mtf_session\u001b[0m\u001b[0;34m.\u001b[0m\u001b[0mTF_GetBuffer\u001b[0m\u001b[0;34m(\u001b[0m\u001b[0mrun_metadata_ptr\u001b[0m\u001b[0;34m)\u001b[0m\u001b[0;34m\u001b[0m\u001b[0;34m\u001b[0m\u001b[0m\n",
      "\u001b[0;32m~/anaconda3/envs/tf-gpu/lib/python3.6/site-packages/tensorflow/python/framework/errors_impl.py\u001b[0m in \u001b[0;36m__exit__\u001b[0;34m(self, type_arg, value_arg, traceback_arg)\u001b[0m\n\u001b[1;32m    526\u001b[0m             \u001b[0;32mNone\u001b[0m\u001b[0;34m,\u001b[0m \u001b[0;32mNone\u001b[0m\u001b[0;34m,\u001b[0m\u001b[0;34m\u001b[0m\u001b[0;34m\u001b[0m\u001b[0m\n\u001b[1;32m    527\u001b[0m             \u001b[0mcompat\u001b[0m\u001b[0;34m.\u001b[0m\u001b[0mas_text\u001b[0m\u001b[0;34m(\u001b[0m\u001b[0mc_api\u001b[0m\u001b[0;34m.\u001b[0m\u001b[0mTF_Message\u001b[0m\u001b[0;34m(\u001b[0m\u001b[0mself\u001b[0m\u001b[0;34m.\u001b[0m\u001b[0mstatus\u001b[0m\u001b[0;34m.\u001b[0m\u001b[0mstatus\u001b[0m\u001b[0;34m)\u001b[0m\u001b[0;34m)\u001b[0m\u001b[0;34m,\u001b[0m\u001b[0;34m\u001b[0m\u001b[0;34m\u001b[0m\u001b[0m\n\u001b[0;32m--> 528\u001b[0;31m             c_api.TF_GetCode(self.status.status))\n\u001b[0m\u001b[1;32m    529\u001b[0m     \u001b[0;31m# Delete the underlying status object from memory otherwise it stays alive\u001b[0m\u001b[0;34m\u001b[0m\u001b[0;34m\u001b[0m\u001b[0;34m\u001b[0m\u001b[0m\n\u001b[1;32m    530\u001b[0m     \u001b[0;31m# as there is a reference to status from this from the traceback due to\u001b[0m\u001b[0;34m\u001b[0m\u001b[0;34m\u001b[0m\u001b[0;34m\u001b[0m\u001b[0m\n",
      "\u001b[0;31mResourceExhaustedError\u001b[0m: OOM when allocating tensor with shape[1856,300] and type float on /job:localhost/replica:0/task:0/device:GPU:0 by allocator GPU_0_bfc\n\t [[{{node DocumentEncoder_1/time_distributed_2/bilstm1/TensorArrayUnstack/TensorArrayScatter/TensorArrayScatterV3}} = TensorArrayScatterV3[T=DT_FLOAT, _class=[\"loc:@DocumentEncoder_1/time_distributed_2/bilstm1/transpose\"], _device=\"/job:localhost/replica:0/task:0/device:GPU:0\"](DocumentEncoder_1/time_distributed_2/bilstm1/TensorArray_1, DocumentEncoder_1/time_distributed_2/bilstm1/TensorArrayUnstack/range, DocumentEncoder_1/time_distributed_2/bilstm1/transpose, DocumentEncoder_1/time_distributed_2/bilstm1/TensorArray_1:1)]]\nHint: If you want to see a list of allocated tensors when OOM happens, add report_tensor_allocations_upon_oom to RunOptions for current allocation info.\n\n\t [[{{node metrics_2/acc/Mean/_1121}} = _Recv[client_terminated=false, recv_device=\"/job:localhost/replica:0/task:0/device:CPU:0\", send_device=\"/job:localhost/replica:0/task:0/device:GPU:0\", send_device_incarnation=1, tensor_name=\"edge_12128_metrics_2/acc/Mean\", tensor_type=DT_FLOAT, _device=\"/job:localhost/replica:0/task:0/device:CPU:0\"]()]]\nHint: If you want to see a list of allocated tensors when OOM happens, add report_tensor_allocations_upon_oom to RunOptions for current allocation info.\n"
     ]
    }
   ],
   "source": [
    "final_model.fit(x=X, y=y[:1000], validation_split=0.2, \n",
    "                 batch_size=64, epochs=4, verbose=2)\n",
    "\n",
    "# add callbacks"
   ]
  },
  {
   "cell_type": "code",
   "execution_count": 47,
   "metadata": {},
   "outputs": [],
   "source": [
    "data.to_json(\"../data/interim/training-lstm-w-lengths-11-04.json\", force_ascii=False, lines=True, orient='records')"
   ]
  },
  {
   "cell_type": "markdown",
   "metadata": {},
   "source": [
    "___"
   ]
  }
 ],
 "metadata": {
  "kernelspec": {
   "display_name": "Python2 (tf-gpu)",
   "language": "python",
   "name": "testenv"
  },
  "language_info": {
   "codemirror_mode": {
    "name": "ipython",
    "version": 3
   },
   "file_extension": ".py",
   "mimetype": "text/x-python",
   "name": "python",
   "nbconvert_exporter": "python",
   "pygments_lexer": "ipython3",
   "version": "3.6.8"
  }
 },
 "nbformat": 4,
 "nbformat_minor": 2
}
