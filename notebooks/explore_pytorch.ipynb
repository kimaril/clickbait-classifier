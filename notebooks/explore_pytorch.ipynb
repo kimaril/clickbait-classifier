{
 "cells": [
  {
   "cell_type": "code",
   "execution_count": 1,
   "metadata": {},
   "outputs": [
    {
     "name": "stdout",
     "output_type": "stream",
     "text": [
      "Collecting package metadata: done\n",
      "Solving environment: done\n",
      "\n",
      "## Package Plan ##\n",
      "\n",
      "  environment location: /home/kim/anaconda3\n",
      "\n",
      "  added / updated specs:\n",
      "    - cudatoolkit=9.0\n",
      "    - pytorch\n",
      "    - torchvision\n",
      "\n",
      "\n",
      "The following packages will be downloaded:\n",
      "\n",
      "    package                    |            build\n",
      "    ---------------------------|-----------------\n",
      "    conda-4.6.7                |           py37_0         1.7 MB\n",
      "    cudatoolkit-9.0            |       h13b8566_0       340.4 MB\n",
      "    ninja-1.8.2                |   py37h6bb024c_1         1.3 MB\n",
      "    pytorch-1.0.1              |py3.7_cuda9.0.176_cudnn7.4.2_2       320.4 MB  pytorch\n",
      "    torchvision-0.2.2          |             py_3          44 KB  pytorch\n",
      "    ------------------------------------------------------------\n",
      "                                           Total:       663.9 MB\n",
      "\n",
      "The following NEW packages will be INSTALLED:\n",
      "\n",
      "  cudatoolkit        pkgs/main/linux-64::cudatoolkit-9.0-h13b8566_0\n",
      "  ninja              pkgs/main/linux-64::ninja-1.8.2-py37h6bb024c_1\n",
      "  pytorch            pytorch/linux-64::pytorch-1.0.1-py3.7_cuda9.0.176_cudnn7.4.2_2\n",
      "  torchvision        pytorch/noarch::torchvision-0.2.2-py_3\n",
      "\n",
      "The following packages will be UPDATED:\n",
      "\n",
      "  conda                                        4.6.1-py37_0 --> 4.6.7-py37_0\n",
      "\n",
      "\n",
      "Proceed ([y]/n)? ^C\n",
      "\n",
      "\n",
      "Operation aborted.  Exiting.\n",
      "\n"
     ]
    }
   ],
   "source": [
    "# !conda install pytorch torchvision cudatoolkit=9.0 -c pytorch"
   ]
  },
  {
   "cell_type": "code",
   "execution_count": null,
   "metadata": {},
   "outputs": [],
   "source": []
  }
 ],
 "metadata": {
  "kernelspec": {
   "display_name": "Python 3",
   "language": "python",
   "name": "python3"
  },
  "language_info": {
   "codemirror_mode": {
    "name": "ipython",
    "version": 3
   },
   "file_extension": ".py",
   "mimetype": "text/x-python",
   "name": "python",
   "nbconvert_exporter": "python",
   "pygments_lexer": "ipython3",
   "version": "3.7.1"
  }
 },
 "nbformat": 4,
 "nbformat_minor": 2
}
