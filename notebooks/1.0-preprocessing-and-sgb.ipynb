{
 "cells": [
  {
   "cell_type": "code",
   "execution_count": 135,
   "metadata": {},
   "outputs": [],
   "source": [
    "import pandas as pd\n",
    "import os\n",
    "import re\n",
    "import glob\n",
    "import json\n",
    "import matplotlib.pyplot as plt \n",
    "from tqdm._tqdm_notebook import tqdm_notebook\n",
    "import numpy as np\n",
    "from scipy.sparse import hstack, vstack\n",
    "import seaborn as sns\n",
    "\n",
    "from sklearn.feature_extraction.text import TfidfVectorizer\n",
    "from feature_extraction import hand_features, gen_or_load_feats, word_overlap_features, cosine_features\n",
    "from sklearn.ensemble import GradientBoostingClassifier\n",
    "from sklearn.model_selection import train_test_split, GridSearchCV\n",
    "\n",
    "from sklearn.preprocessing import LabelEncoder\n",
    "from sklearn.metrics import confusion_matrix\n",
    "from sklearn.externals import joblib\n",
    "\n",
    "%matplotlib inline"
   ]
  },
  {
   "cell_type": "code",
   "execution_count": 2,
   "metadata": {},
   "outputs": [],
   "source": [
    "import ipywidgets as widgets\n",
    "from ipywidgets import interact"
   ]
  },
  {
   "cell_type": "code",
   "execution_count": 3,
   "metadata": {},
   "outputs": [],
   "source": [
    "import sys\n",
    "\n",
    "my_utils_path = '/home/kim/spam-detector/src/utils'\n",
    "if my_utils_path not in sys.path:\n",
    "    sys.path.append(my_utils_path)\n",
    "\n",
    "from text_preprocessing import Preprocessor\n",
    "from plot_tools import plot_cm"
   ]
  },
  {
   "cell_type": "code",
   "execution_count": 7,
   "metadata": {},
   "outputs": [
    {
     "name": "stdout",
     "output_type": "stream",
     "text": [
      "HEADLINE: Сбитый над Донбассом \"Боинг\" выбрали спецслужбы\n",
      "\n",
      "ARTICLE: \n",
      "Среди погибших не было граждан США и Израиля \n",
      "\n",
      "Операцию по крушению пассажирского лайнера над Донбассом Украина готовила совместно с западными спецслужбами. Только упасть самолет должен был в Ростовской области. Но исполнители немного не рассчитали, и малазийский \"Боинг\" до России не дотянул, рухнул на украинской территории. Поэтому обвинить Россию в терроризме в 2014 году не удалось, отмечает военный эксперт Алексей Леонков. \n",
      "\n",
      "\"Здесь была грамотная работа специальных служб, которые способны выстроить сложный сценарий. По нему самолет должен был упасть на территории Ростовской области. И тогда неопровержимые доказательства того, что Россия причастна к этому, были бы предъявлены всему миру. Но что-то пошло не так\", – приводит \"Царьград\" слова Леонкова. По теме Казнить нельзя, помиловать: украинцам простят сбитый под Донбассом \"Боинг\" \"Боинг\" над Донбассом сбила Украина. LIVE \n",
      "\n",
      "Он обращает внимание, что на борту сбитого лайнера были граждане многих стран, однако – ни одного американца или жителя Израиля. По мнению эксперта, тут дело не только в том, что Израиль – союзник США. Просто украинцы в 2001 г. уже сбивали пассажирский самолет. Тогда погибли 78 человек, из них 51 - гражданин Израиля. \"Она сбила самолет своим комплексом С-200 во время учений. Не закрыла небо в том месте, где проводила учения\", – напомнил Леонков. \n",
      "\n",
      "Небо над Донбассом, где в 2014 г. шла настоящая война, Киев также \"забывчиво\" не закрыл. Однако подстраховался и проследил, чтобы на сбитом лайнере не было пассажиров из стран, отношения с которыми портить никак нельзя. \n",
      "\n",
      "Накануне Минобороны РФ обнародовало информацию, согласно которой \"Боинг\" Малазийских авиалиний был сбит из \"Бука\", принадлежащего украинской армии.\n",
      "\n",
      "LINK: https:\\/\\/www.utro.ru\\/politics\\/2018\\/09\\/18\\/1374232.shtml\n"
     ]
    }
   ],
   "source": [
    "fake_headline = \"Сбитый над Донбассом \\\"Боинг\\\" выбрали спецслужбы\"\n",
    "fake_body = \"Среди погибших не было граждан США и Израиля \\n\\nОперацию по крушению пассажирского лайнера над Донбассом Украина готовила совместно с западными спецслужбами. Только упасть самолет должен был в Ростовской области. Но исполнители немного не рассчитали, и малазийский \\\"Боинг\\\" до России не дотянул, рухнул на украинской территории. Поэтому обвинить Россию в терроризме в 2014 году не удалось, отмечает военный эксперт Алексей Леонков. \\n\\n\\\"Здесь была грамотная работа специальных служб, которые способны выстроить сложный сценарий. По нему самолет должен был упасть на территории Ростовской области. И тогда неопровержимые доказательства того, что Россия причастна к этому, были бы предъявлены всему миру. Но что-то пошло не так\\\", – приводит \\\"Царьград\\\" слова Леонкова. По теме Казнить нельзя, помиловать: украинцам простят сбитый под Донбассом \\\"Боинг\\\" \\\"Боинг\\\" над Донбассом сбила Украина. LIVE \\n\\nОн обращает внимание, что на борту сбитого лайнера были граждане многих стран, однако – ни одного американца или жителя Израиля. По мнению эксперта, тут дело не только в том, что Израиль – союзник США. Просто украинцы в 2001 г. уже сбивали пассажирский самолет. Тогда погибли 78 человек, из них 51 - гражданин Израиля. \\\"Она сбила самолет своим комплексом С-200 во время учений. Не закрыла небо в том месте, где проводила учения\\\", – напомнил Леонков. \\n\\nНебо над Донбассом, где в 2014 г. шла настоящая война, Киев также \\\"забывчиво\\\" не закрыл. Однако подстраховался и проследил, чтобы на сбитом лайнере не было пассажиров из стран, отношения с которыми портить никак нельзя. \\n\\nНакануне Минобороны РФ обнародовало информацию, согласно которой \\\"Боинг\\\" Малазийских авиалиний был сбит из \\\"Бука\\\", принадлежащего украинской армии.\"\n",
    "fake_url = \"https:\\/\\/www.utro.ru\\/politics\\/2018\\/09\\/18\\/1374232.shtml\"\n",
    "\n",
    "print(\"HEADLINE: {0}\\n\\nARTICLE: \\n{1}\\n\\nLINK: {2}\".format(fake_headline, fake_body, fake_url))"
   ]
  },
  {
   "cell_type": "markdown",
   "metadata": {},
   "source": [
    "# More bait "
   ]
  },
  {
   "cell_type": "code",
   "execution_count": 4,
   "metadata": {},
   "outputs": [],
   "source": [
    "bait=pd.concat([pd.read_json(\"../data/labeling/bait_merged.json\", encoding='utf-8', orient='records', typ='frame'), \n",
    "                pd.read_json(\"../data/labeling/utro_bait_merged.json\", encoding='utf-8', orient='records', typ='frame')])"
   ]
  },
  {
   "cell_type": "markdown",
   "metadata": {},
   "source": [
    "Let's beautify clickbait articles dataframe"
   ]
  },
  {
   "cell_type": "markdown",
   "metadata": {},
   "source": [
    "Define a function to extract source name"
   ]
  },
  {
   "cell_type": "code",
   "execution_count": 5,
   "metadata": {},
   "outputs": [],
   "source": [
    "get_source_url = lambda x : re.sub(\"\\n\", \"\", re.sub(\"www.\", \"\", re.sub(r\"/.*\", \"\", re.sub(r\"http(.*)://\", \"\", str(x)))))"
   ]
  },
  {
   "cell_type": "code",
   "execution_count": 6,
   "metadata": {},
   "outputs": [
    {
     "data": {
      "application/vnd.jupyter.widget-view+json": {
       "model_id": "fa59b54c89e94754b92342599dbb0b34",
       "version_major": 2,
       "version_minor": 0
      },
      "text/plain": [
       "HBox(children=(IntProgress(value=0, description='replace_commas', max=1575, style=ProgressStyle(description_wi…"
      ]
     },
     "metadata": {},
     "output_type": "display_data"
    },
    {
     "name": "stdout",
     "output_type": "stream",
     "text": [
      "\n"
     ]
    },
    {
     "data": {
      "application/vnd.jupyter.widget-view+json": {
       "model_id": "1bfd8f22e09a41c58dbfed2e7a0ab5b3",
       "version_major": 2,
       "version_minor": 0
      },
      "text/plain": [
       "HBox(children=(IntProgress(value=0, description='get source', max=1575, style=ProgressStyle(description_width=…"
      ]
     },
     "metadata": {},
     "output_type": "display_data"
    },
    {
     "name": "stdout",
     "output_type": "stream",
     "text": [
      "\n"
     ]
    }
   ],
   "source": [
    "bait.columns = [\"id\", \"title\", \"text\", \"url\"]\n",
    "\n",
    "tqdm_notebook.pandas(desc=\"replace_commas\")\n",
    "bait[\"url\"] = bait.url.progress_apply(lambda x : x.replace(\"\\\"\", \"\").replace(\"\\\\\", \"\"))\n",
    "\n",
    "tqdm_notebook.pandas(desc=\"get source\")\n",
    "bait[\"source\"] = bait.url.progress_apply(get_source_url)"
   ]
  },
  {
   "cell_type": "code",
   "execution_count": 7,
   "metadata": {},
   "outputs": [
    {
     "data": {
      "application/vnd.jupyter.widget-view+json": {
       "model_id": "5ae51db5705c4200a5b434554981ad50",
       "version_major": 2,
       "version_minor": 0
      },
      "text/plain": [
       "interactive(children=(Dropdown(description='source', options=('dni.ru', 'utro.ru'), value='dni.ru'), Output())…"
      ]
     },
     "metadata": {},
     "output_type": "display_data"
    }
   ],
   "source": [
    "@interact\n",
    "def show_by_source(source=bait.source.unique()):\n",
    "    df=bait\n",
    "    print(\"Total number of posts: {}\".format(df.shape[0]))\n",
    "    print(\"Number of posts from source {0}: {1}\".format(source, df[df[\"source\"]==source].shape[0]))\n",
    "    return df[df[\"source\"]==source].head(10)"
   ]
  },
  {
   "cell_type": "code",
   "execution_count": 9,
   "metadata": {},
   "outputs": [],
   "source": [
    "agencies = pd.read_json(\"../data/raw/cleaned/newsdump18.json\", encoding='utf-8', lines=True, typ='frame')\n",
    "inter = agencies[agencies[\"source\"]==\"Interfax\"].head(10000).copy(deep=True)\n",
    "inter = inter[[\"doc_id\", \"title\", \"text\", \"url\"]]"
   ]
  },
  {
   "cell_type": "code",
   "execution_count": 10,
   "metadata": {},
   "outputs": [
    {
     "data": {
      "application/vnd.jupyter.widget-view+json": {
       "model_id": "706d314450984a67a04539340752c969",
       "version_major": 2,
       "version_minor": 0
      },
      "text/plain": [
       "HBox(children=(IntProgress(value=0, description='replace_commas', max=10000, style=ProgressStyle(description_w…"
      ]
     },
     "metadata": {},
     "output_type": "display_data"
    },
    {
     "name": "stdout",
     "output_type": "stream",
     "text": [
      "\n"
     ]
    }
   ],
   "source": [
    "inter.columns = [\"id\", \"title\", \"text\", \"url\"]\n",
    "\n",
    "tqdm_notebook.pandas(desc=\"replace_commas\")\n",
    "inter[\"url\"] = inter.url.progress_apply(lambda x : x.replace(\"\\\"\", \"\").replace(\"\\\\\", \"\"))"
   ]
  },
  {
   "cell_type": "code",
   "execution_count": 12,
   "metadata": {},
   "outputs": [
    {
     "data": {
      "application/vnd.jupyter.widget-view+json": {
       "model_id": "0010c7800897453497bf153d1b007ee4",
       "version_major": 2,
       "version_minor": 0
      },
      "text/plain": [
       "HBox(children=(IntProgress(value=0, description='get source', max=10000, style=ProgressStyle(description_width…"
      ]
     },
     "metadata": {},
     "output_type": "display_data"
    },
    {
     "name": "stdout",
     "output_type": "stream",
     "text": [
      "\n"
     ]
    }
   ],
   "source": [
    "tqdm_notebook.pandas(desc=\"get source\")\n",
    "\n",
    "inter[\"source\"] = inter.url.progress_apply(get_source_url)"
   ]
  },
  {
   "cell_type": "code",
   "execution_count": 13,
   "metadata": {
    "scrolled": true
   },
   "outputs": [
    {
     "data": {
      "application/vnd.jupyter.widget-view+json": {
       "model_id": "952d0ce9041c443284eb519f1ad6504b",
       "version_major": 2,
       "version_minor": 0
      },
      "text/plain": [
       "interactive(children=(Dropdown(description='source', options=('Interfax', 'Dni.ru', 'TASS', 'Utro.ru', 'KP', '…"
      ]
     },
     "metadata": {},
     "output_type": "display_data"
    }
   ],
   "source": [
    "@interact\n",
    "def show_by_source(source=agencies.source.unique()):\n",
    "    df=agencies\n",
    "    print(\"Total number of posts: {}\".format(df.shape[0]))\n",
    "    print(\"Number of posts from source {0}: {1}\".format(source, df[df[\"source\"]==source].shape[0]))\n",
    "    return df[df[\"source\"]==source].head(10)"
   ]
  },
  {
   "cell_type": "markdown",
   "metadata": {},
   "source": [
    "### Merge DataFrames"
   ]
  },
  {
   "cell_type": "code",
   "execution_count": 14,
   "metadata": {},
   "outputs": [],
   "source": [
    "artificial = pd.read_json(\"../data/raw/artificial.json\", lines=True, orient='records')"
   ]
  },
  {
   "cell_type": "code",
   "execution_count": 28,
   "metadata": {},
   "outputs": [],
   "source": [
    "artificial[\"source\"] = artificial.text.apply(lambda t : \"artificial\")"
   ]
  },
  {
   "cell_type": "code",
   "execution_count": 30,
   "metadata": {},
   "outputs": [],
   "source": [
    "columns = [\"id\", \"title\", \"text\", \"url\",\"source\"]"
   ]
  },
  {
   "cell_type": "code",
   "execution_count": 31,
   "metadata": {},
   "outputs": [],
   "source": [
    "data = pd.concat([inter[columns], bait[columns], artificial.rename(index=str, columns={\"doc_id\" : \"id\"})[columns]])"
   ]
  },
  {
   "cell_type": "code",
   "execution_count": 32,
   "metadata": {},
   "outputs": [
    {
     "data": {
      "application/vnd.jupyter.widget-view+json": {
       "model_id": "d93632d400824c76b9dfb09c896f2f8e",
       "version_major": 2,
       "version_minor": 0
      },
      "text/plain": [
       "interactive(children=(Dropdown(description='source', options=('interfax.ru', 'dni.ru', 'utro.ru', 'artificial'…"
      ]
     },
     "metadata": {},
     "output_type": "display_data"
    }
   ],
   "source": [
    "@interact\n",
    "def show_by_source(source=data.source.unique()):\n",
    "    df=data\n",
    "    print(\"Total number of posts: {}\".format(df.shape[0]))\n",
    "    print(\"Number of posts from source {0}: {1}\".format(source, df[df[\"source\"]==source].shape[0]))\n",
    "    return df[df[\"source\"]==source].head(10)"
   ]
  },
  {
   "cell_type": "markdown",
   "metadata": {},
   "source": [
    "## Preprocessing 2.0"
   ]
  },
  {
   "cell_type": "code",
   "execution_count": 33,
   "metadata": {},
   "outputs": [],
   "source": [
    "with open(\"../data/external/stopwords.txt\", mode=\"r\") as f:\n",
    "    stopwords = [s.replace(\"\\n\", \"\") for s in f.readlines()]\n",
    "\n",
    "p = Preprocessor(stopwords=stopwords)"
   ]
  },
  {
   "cell_type": "code",
   "execution_count": 34,
   "metadata": {},
   "outputs": [
    {
     "data": {
      "application/vnd.jupyter.widget-view+json": {
       "model_id": "5808fccc7dad4fb1b7a4cb19bb1eb7d8",
       "version_major": 2,
       "version_minor": 0
      },
      "text/plain": [
       "HBox(children=(IntProgress(value=0, description='Beautify', max=12575, style=ProgressStyle(description_width='…"
      ]
     },
     "metadata": {},
     "output_type": "display_data"
    },
    {
     "name": "stdout",
     "output_type": "stream",
     "text": [
      "\n"
     ]
    },
    {
     "data": {
      "application/vnd.jupyter.widget-view+json": {
       "model_id": "dcd0d0d87bee4f1bb02b1ef1461fb077",
       "version_major": 2,
       "version_minor": 0
      },
      "text/plain": [
       "HBox(children=(IntProgress(value=0, description='Beautify', max=12575, style=ProgressStyle(description_width='…"
      ]
     },
     "metadata": {},
     "output_type": "display_data"
    },
    {
     "name": "stdout",
     "output_type": "stream",
     "text": [
      "\n"
     ]
    }
   ],
   "source": [
    "tqdm_notebook.pandas(desc=\"Beautify\")\n",
    "\n",
    "data[\"text_norm\"] = data.text.progress_apply(lambda t : p.beautify(t, normalize_text=True))\n",
    "data[\"title_norm\"] = data.title.progress_apply(lambda t : p.beautify(t, normalize_text=True))"
   ]
  },
  {
   "cell_type": "code",
   "execution_count": 35,
   "metadata": {},
   "outputs": [
    {
     "name": "stderr",
     "output_type": "stream",
     "text": [
      "12575it [01:53, 110.48it/s]\n",
      "12575it [03:14, 64.67it/s]\n",
      "12575it [02:19, 90.38it/s]\n"
     ]
    }
   ],
   "source": [
    "overlap = gen_or_load_feats(word_overlap_features,\n",
    "                            data.title_norm.tolist(), \n",
    "                            data.text_norm.tolist(), \n",
    "                            \"../data/interim/features/overlap.npy\")\n",
    "\n",
    "hand = gen_or_load_feats(hand_features,\n",
    "                         data.title_norm.tolist(), \n",
    "                         data.text_norm.tolist(), \n",
    "                         \"../data/interim/features/hand.npy\")\n",
    "\n",
    "cosine = gen_or_load_feats(cosine_features, \n",
    "                           data.title_norm.tolist(), \n",
    "                           data.text_norm.tolist(), \n",
    "                           \"../data/interim/features/cosine.npy\")"
   ]
  },
  {
   "cell_type": "code",
   "execution_count": 36,
   "metadata": {},
   "outputs": [],
   "source": [
    "generated_features = np.hstack((overlap, hand, cosine.reshape(-1,1)))   \n",
    "np.save(\"../data/interim/matrixform/generated_features.npy\", generated_features)"
   ]
  },
  {
   "cell_type": "code",
   "execution_count": 40,
   "metadata": {},
   "outputs": [],
   "source": [
    "def label_data(source):\n",
    "    if source==\"interfax.ru\":\n",
    "        return \"Journalism\"\n",
    "    elif source==\"artificial\":\n",
    "        return \"Artificial\"\n",
    "    else:\n",
    "        return \"Clickbait\""
   ]
  },
  {
   "cell_type": "code",
   "execution_count": 41,
   "metadata": {},
   "outputs": [],
   "source": [
    "data[\"label\"] = data.source.apply(label_data)"
   ]
  },
  {
   "cell_type": "code",
   "execution_count": 42,
   "metadata": {
    "scrolled": true
   },
   "outputs": [
    {
     "data": {
      "application/vnd.jupyter.widget-view+json": {
       "model_id": "54dc2f6b54bf44539d61fe6ceb0f72ca",
       "version_major": 2,
       "version_minor": 0
      },
      "text/plain": [
       "interactive(children=(Dropdown(description='label', options=('Journalism', 'Clickbait', 'Artificial'), value='…"
      ]
     },
     "metadata": {},
     "output_type": "display_data"
    }
   ],
   "source": [
    "@interact\n",
    "def show_by_label(label=data.label.unique()):\n",
    "    df=data\n",
    "    print(\"Total number of posts: {}\".format(df.shape[0]))\n",
    "    print(\"Number of posts labeled {0}: {1}\".format(label, df[df[\"label\"]==label].shape[0]))\n",
    "    return df[df[\"label\"]==label].head(10)"
   ]
  },
  {
   "cell_type": "code",
   "execution_count": 44,
   "metadata": {},
   "outputs": [],
   "source": [
    "le = LabelEncoder()\n",
    "y = le.fit_transform(data[\"label\"].tolist())"
   ]
  },
  {
   "cell_type": "markdown",
   "metadata": {},
   "source": [
    "### Train Stochastic Gradient Boosting Classifier on generated features"
   ]
  },
  {
   "cell_type": "code",
   "execution_count": 73,
   "metadata": {},
   "outputs": [],
   "source": [
    "X_train, X_test, y_train, y_test = train_test_split(generated_features, y, test_size=0.2)"
   ]
  },
  {
   "cell_type": "code",
   "execution_count": 74,
   "metadata": {},
   "outputs": [],
   "source": [
    "parameters = {\"n_estimators\" : 50*np.linspace(start=2, stop=8, num=6, dtype=int),\n",
    "              \"subsample\" : 0.1*np.linspace(start=5, stop=9, num=5, dtype=int)}\n",
    "\n",
    "clf = GradientBoostingClassifier(random_state=42, verbose=False)\n",
    "gb_gs = GridSearchCV(estimator=clf, param_grid=parameters, cv=5, verbose=1, n_jobs=8)"
   ]
  },
  {
   "cell_type": "code",
   "execution_count": 75,
   "metadata": {},
   "outputs": [
    {
     "name": "stdout",
     "output_type": "stream",
     "text": [
      "Fitting 5 folds for each of 30 candidates, totalling 150 fits\n"
     ]
    },
    {
     "name": "stderr",
     "output_type": "stream",
     "text": [
      "[Parallel(n_jobs=8)]: Using backend LokyBackend with 8 concurrent workers.\n",
      "[Parallel(n_jobs=8)]: Done  34 tasks      | elapsed:   11.7s\n",
      "[Parallel(n_jobs=8)]: Done 150 out of 150 | elapsed:  1.4min finished\n"
     ]
    },
    {
     "data": {
      "text/plain": [
       "GridSearchCV(cv=5, error_score='raise-deprecating',\n",
       "       estimator=GradientBoostingClassifier(criterion='friedman_mse', init=None,\n",
       "              learning_rate=0.1, loss='deviance', max_depth=3,\n",
       "              max_features=None, max_leaf_nodes=None,\n",
       "              min_impurity_decrease=0.0, min_impurity_split=None,\n",
       "              min_samples_leaf=1, min_sampl...  subsample=1.0, tol=0.0001, validation_fraction=0.1,\n",
       "              verbose=False, warm_start=False),\n",
       "       fit_params=None, iid='warn', n_jobs=8,\n",
       "       param_grid={'n_estimators': array([100, 150, 200, 250, 300, 400]), 'subsample': array([0.5, 0.6, 0.7, 0.8, 0.9])},\n",
       "       pre_dispatch='2*n_jobs', refit=True, return_train_score='warn',\n",
       "       scoring=None, verbose=1)"
      ]
     },
     "execution_count": 75,
     "metadata": {},
     "output_type": "execute_result"
    }
   ],
   "source": [
    "gb_gs.fit(X_train, y_train)"
   ]
  },
  {
   "cell_type": "code",
   "execution_count": 76,
   "metadata": {},
   "outputs": [
    {
     "data": {
      "text/plain": [
       "0.8985089463220676"
      ]
     },
     "execution_count": 76,
     "metadata": {},
     "output_type": "execute_result"
    }
   ],
   "source": [
    "gb_gs.best_score_"
   ]
  },
  {
   "cell_type": "code",
   "execution_count": 77,
   "metadata": {},
   "outputs": [
    {
     "data": {
      "text/plain": [
       "{'n_estimators': 100, 'subsample': 0.9}"
      ]
     },
     "execution_count": 77,
     "metadata": {},
     "output_type": "execute_result"
    }
   ],
   "source": [
    "gb_gs.best_params_"
   ]
  },
  {
   "cell_type": "code",
   "execution_count": 78,
   "metadata": {
    "scrolled": false
   },
   "outputs": [
    {
     "data": {
      "image/png": "[encoded data removed]",
      "text/plain": [
       "<Figure size 720x504 with 2 Axes>"
      ]
     },
     "metadata": {
      "needs_background": "light"
     },
     "output_type": "display_data"
    }
   ],
   "source": [
    "plot_cm(confusion_matrix(y_test, gb_gs.best_estimator_.predict(X_test)), \n",
    "        classes=gb_gs.classes_, classifier_name=\"Stochastic Gradient Boosting\")"
   ]
  },
  {
   "cell_type": "markdown",
   "metadata": {},
   "source": [
    "## With TF-IDF"
   ]
  },
  {
   "cell_type": "code",
   "execution_count": 79,
   "metadata": {},
   "outputs": [],
   "source": [
    "tfidf = TfidfVectorizer(min_df=0.001, max_df=0.9, ngram_range=(1,2))\n",
    "text_tfidf = tfidf.fit_transform(data.title_norm.values.flatten())\n",
    "title_tfidf = tfidf.transform(data.text_norm.values.flatten())"
   ]
  },
  {
   "cell_type": "code",
   "execution_count": 80,
   "metadata": {},
   "outputs": [
    {
     "data": {
      "text/plain": [
       "1631"
      ]
     },
     "execution_count": 80,
     "metadata": {},
     "output_type": "execute_result"
    }
   ],
   "source": [
    "len(tfidf.vocabulary_)"
   ]
  },
  {
   "cell_type": "code",
   "execution_count": 81,
   "metadata": {},
   "outputs": [],
   "source": [
    "X = hstack((title_tfidf, text_tfidf, generated_features))"
   ]
  },
  {
   "cell_type": "code",
   "execution_count": 82,
   "metadata": {},
   "outputs": [],
   "source": [
    "X_train, X_test, y_train, y_test = train_test_split(X, y, test_size=0.2)"
   ]
  },
  {
   "cell_type": "code",
   "execution_count": 89,
   "metadata": {},
   "outputs": [],
   "source": [
    "parameters = {#\"n_estimators\" : 50*np.linspace(start=2, stop=8, num=6, dtype=int),\n",
    "              \"subsample\" : 0.1*np.linspace(start=5, stop=9, num=5, dtype=int)}\n",
    "\n",
    "clf = GradientBoostingClassifier(n_estimators=300, random_state=42, verbose=True)\n",
    "gb_tfidf_gs = GridSearchCV(estimator=clf, param_grid=parameters, cv=5, verbose=1, n_jobs=-1)"
   ]
  },
  {
   "cell_type": "code",
   "execution_count": 90,
   "metadata": {
    "scrolled": true
   },
   "outputs": [
    {
     "name": "stdout",
     "output_type": "stream",
     "text": [
      "Fitting 5 folds for each of 5 candidates, totalling 25 fits\n"
     ]
    },
    {
     "name": "stderr",
     "output_type": "stream",
     "text": [
      "[Parallel(n_jobs=-1)]: Using backend LokyBackend with 16 concurrent workers.\n",
      "[Parallel(n_jobs=-1)]: Done  20 out of  25 | elapsed:  3.4min remaining:   50.7s\n",
      "[Parallel(n_jobs=-1)]: Done  25 out of  25 | elapsed:  3.7min finished\n"
     ]
    },
    {
     "name": "stdout",
     "output_type": "stream",
     "text": [
      "      Iter       Train Loss      OOB Improve   Remaining Time \n",
      "         1        6686.2025          90.0277            2.50m\n",
      "         2        5991.6831          72.5474            2.31m\n",
      "         3        5417.3474          62.8031            2.22m\n",
      "         4        4939.4700          51.7346            2.15m\n",
      "         5        4542.5681          43.7231            2.12m\n",
      "         6        4189.7182          38.3491            2.09m\n",
      "         7        3880.4957          33.5705            2.08m\n",
      "         8        3600.4001          26.4004            2.05m\n",
      "         9        3376.6428          25.1018            2.04m\n",
      "        10        3174.9919          19.6184            2.02m\n",
      "        20        2005.5828           7.0507            1.92m\n",
      "        30        1523.8796           1.7429            1.84m\n",
      "        40        1240.4336           0.9224            1.76m\n",
      "        50        1048.2818           0.5892            1.69m\n",
      "        60         936.9374           0.0297            1.63m\n",
      "        70         846.0238           0.0887            1.55m\n",
      "        80         788.7964           0.0591            1.48m\n",
      "        90         735.0697           0.0351            1.41m\n",
      "       100         688.6852           0.1391            1.34m\n",
      "       200         467.5151          -0.0227           40.04s\n",
      "       300         353.7130          -0.0310            0.00s\n"
     ]
    },
    {
     "data": {
      "text/plain": [
       "GridSearchCV(cv=5, error_score='raise-deprecating',\n",
       "       estimator=GradientBoostingClassifier(criterion='friedman_mse', init=None,\n",
       "              learning_rate=0.1, loss='deviance', max_depth=3,\n",
       "              max_features=None, max_leaf_nodes=None,\n",
       "              min_impurity_decrease=0.0, min_impurity_split=None,\n",
       "              min_samples_leaf=1, min_sampl...   subsample=1.0, tol=0.0001, validation_fraction=0.1,\n",
       "              verbose=True, warm_start=False),\n",
       "       fit_params=None, iid='warn', n_jobs=-1,\n",
       "       param_grid={'subsample': array([0.5, 0.6, 0.7, 0.8, 0.9])},\n",
       "       pre_dispatch='2*n_jobs', refit=True, return_train_score='warn',\n",
       "       scoring=None, verbose=1)"
      ]
     },
     "execution_count": 90,
     "metadata": {},
     "output_type": "execute_result"
    }
   ],
   "source": [
    "gb_tfidf_gs.fit(X_train, y_train)"
   ]
  },
  {
   "cell_type": "code",
   "execution_count": 91,
   "metadata": {},
   "outputs": [
    {
     "data": {
      "text/plain": [
       "{'subsample': 0.9}"
      ]
     },
     "execution_count": 91,
     "metadata": {},
     "output_type": "execute_result"
    }
   ],
   "source": [
    "gb_tfidf_gs.best_params_"
   ]
  },
  {
   "cell_type": "code",
   "execution_count": 92,
   "metadata": {
    "scrolled": false
   },
   "outputs": [
    {
     "data": {
      "image/png": "[encoded data removed]",
      "text/plain": [
       "<Figure size 720x504 with 2 Axes>"
      ]
     },
     "metadata": {
      "needs_background": "light"
     },
     "output_type": "display_data"
    }
   ],
   "source": [
    "plot_cm(confusion_matrix(y_test, gb_tfidf_gs.best_estimator_.predict(X_test)), \n",
    "        classes=gb_gs.classes_, classifier_name=\"Stochastic Gradient Boosting\")"
   ]
  },
  {
   "cell_type": "markdown",
   "metadata": {},
   "source": [
    "Let's save our data and models and souls"
   ]
  },
  {
   "cell_type": "code",
   "execution_count": 138,
   "metadata": {},
   "outputs": [],
   "source": [
    "np.save(\"../data/interim/matrixform/text-tfidf-02-04.npy\", text_tfidf)\n",
    "np.save(\"../data/interim/matrixform/title-tfidf-02-04.npy\", title_tfidf)"
   ]
  },
  {
   "cell_type": "code",
   "execution_count": 139,
   "metadata": {},
   "outputs": [],
   "source": [
    "data.to_json(\"../data/interim/training-gbc-normalized-02-04.json\", force_ascii=False, orient='records', lines=True)"
   ]
  },
  {
   "cell_type": "code",
   "execution_count": 222,
   "metadata": {},
   "outputs": [
    {
     "data": {
      "text/plain": [
       "['../models/ensemble/gbc-generated-feats-with-tf-idf-04-04.pkl']"
      ]
     },
     "execution_count": 222,
     "metadata": {},
     "output_type": "execute_result"
    }
   ],
   "source": [
    "if not os.path.exists(\"../models/ensemble\"):\n",
    "    os.mkdir(\"../models/ensemble\")\n",
    "\n",
    "joblib.dump(gb_gs.best_estimator_, \"../models/ensemble/gbc-generated-feats-no-tf-idf-04-04.pkl\")\n",
    "joblib.dump(gb_tfidf_gs.best_estimator_, \"../models/ensemble/gbc-generated-feats-with-tf-idf-04-04.pkl\")"
   ]
  },
  {
   "cell_type": "markdown",
   "metadata": {},
   "source": [
    "### Test on completly new unseen data"
   ]
  },
  {
   "cell_type": "markdown",
   "metadata": {},
   "source": [
    "**NB:** NaN cosine distance values will be replaced with 0.5"
   ]
  },
  {
   "cell_type": "markdown",
   "metadata": {},
   "source": [
    "### 1st example"
   ]
  },
  {
   "cell_type": "code",
   "execution_count": 98,
   "metadata": {},
   "outputs": [],
   "source": [
    "example_title = \"Звезду первого советского фильма ужасов убило проклятье\"\n",
    "example_body = \"В студенческие годы она напророчила Анатолию Ромашину трех жен, столько же детей (двух дочерей и сына) и смерть в 83 года. Сбылось все, кроме последнего. Актер погиб не старым – в 69 лет. А виною всему, по мнению поклонников, – его роковые роли.\\n\\nАктер не раз \\\"умирал\\\" и на театральной сцене, и в кино. Жизнь Анатолия Владимировича оборвала наполовину подпиленная сосна, которая упала на него, и он мгновенно скончался. После этого пошли слухи, что актер перед смертью выглядел подавленным, как будто что-то предчувствовал. И фанаты тут же заговорили о проклятье, пишет \\\"Телепрограмма\\\".\\n\\nОдну из самых заметных ролей Ромашин сыграл в фильме Станислава Говорухина \\\"Десять негритят\\\", вышедшем на экраны в 1987 г. и называемом первым советским триллером. В нем герой актера погиб страшной смертью – его сбросили со скалы. \\n\\nКак рассказывали тогда, Анатолий Владимирович отказался сниматься в этом эпизоде, и его заменил дублер, который во время съемок едва не погиб. Потом ушли из жизни партнеры Ромашина по этой картине, два Александра – Кайдановский и Абдулов, и сразу заговорили о \\\"нехорошей мистике\\\" и \\\"проклятии\\\" фильма. \\n\\nШирокую популярность Ромашину принесла роль царя Николая II в фильме \\\"Агония\\\". Она тоже, по мнению многих была роковой, так как рано покинули этот мир другие советские актеры, сыигравшие самодержца. После четырех инсультов в 66 лет умер Бронислав Брондуков. Запил и в 42 года скончался Юрий Демич. В 45 лет, сорвавшись со скалы через два года после гибели Ромашина, ушел из жизни Андрей Ростоцкий. А еще одного \\\"Романова\\\" – Олега Янковского - в 65 лет сжег рак.\\n\\nНо самым мистическим многие считают еще одно совпадение. Незадолго до несчастного случая, повлекшего смерть актера, Ромашин снялся в фильме Булата Мансурова \\\"Сага древних булгар\\\". Там сыгранного им героя – русского князя – раздавливает деревянный настил. \\n\\nИ, когда Анатолия Владимировича не стало, эту роль назвали пророческой. Появились даже рассказы о некоем древнем проклятии, которое сгубило полного сил и замыслов талантливого и любимого человека...\""
   ]
  },
  {
   "cell_type": "code",
   "execution_count": 142,
   "metadata": {
    "scrolled": false
   },
   "outputs": [
    {
     "name": "stdout",
     "output_type": "stream",
     "text": [
      "HEADLINE: Звезду первого советского фильма ужасов убило проклятье\n",
      "\n",
      "ARTICLE: В студенческие годы она напророчила Анатолию Ромашину трех жен, столько же детей (двух дочерей и сына) и смерть в 83 года. Сбылось все, кроме последнего. Актер погиб не старым – в 69 лет. А виною всему, по мнению поклонников, – его роковые роли.\n",
      "\n",
      "Актер не раз \"умирал\" и на театральной сцене, и в кино. Жизнь Анатолия Владимировича оборвала наполовину подпиленная сосна, которая упала на него, и он мгновенно скончался. После этого пошли слухи, что актер перед смертью выглядел подавленным, как будто что-то предчувствовал. И фанаты тут же заговорили о проклятье, пишет \"Телепрограмма\".\n",
      "\n",
      "Одну из самых заметных ролей Ромашин сыграл в фильме Станислава Говорухина \"Десять негритят\", вышедшем на экраны в 1987 г. и называемом первым советским триллером. В нем герой актера погиб страшной смертью – его сбросили со скалы. \n",
      "\n",
      "Как рассказывали тогда, Анатолий Владимирович отказался сниматься в этом эпизоде, и его заменил дублер, который во время съемок едва не погиб. Потом ушли из жизни партнеры Ромашина по этой картине, два Александра – Кайдановский и Абдулов, и сразу заговорили о \"нехорошей мистике\" и \"проклятии\" фильма. \n",
      "\n",
      "Широкую популярность Ромашину принесла роль царя Николая II в фильме \"Агония\". Она тоже, по мнению многих была роковой, так как рано покинули этот мир другие советские актеры, сыигравшие самодержца. После четырех инсультов в 66 лет умер Бронислав Брондуков. Запил и в 42 года скончался Юрий Демич. В 45 лет, сорвавшись со скалы через два года после гибели Ромашина, ушел из жизни Андрей Ростоцкий. А еще одного \"Романова\" – Олега Янковского - в 65 лет сжег рак.\n",
      "\n",
      "Но самым мистическим многие считают еще одно совпадение. Незадолго до несчастного случая, повлекшего смерть актера, Ромашин снялся в фильме Булата Мансурова \"Сага древних булгар\". Там сыгранного им героя – русского князя – раздавливает деревянный настил. \n",
      "\n",
      "И, когда Анатолия Владимировича не стало, эту роль назвали пророческой. Появились даже рассказы о некоем древнем проклятии, которое сгубило полного сил и замыслов талантливого и любимого человека...\n"
     ]
    }
   ],
   "source": [
    "print(\"HEADLINE: {0}\\n\\nARTICLE: {1}\".format(example_title, example_body))"
   ]
  },
  {
   "cell_type": "code",
   "execution_count": 99,
   "metadata": {},
   "outputs": [],
   "source": [
    "example_tfidf_title = tfidf.transform([\" \".join(p.normalize_text(p.beautify(example_title, normalize_text=True)))])\n",
    "example_tfidf_text = tfidf.transform([\" \".join(p.normalize_text(p.beautify(example_body, normalize_text=True)))])\n",
    "\n",
    "example_overlap = gen_or_load_feats(word_overlap_features,\n",
    "                                    [\" \".join(p.normalize(p.beautify(example_title, normalize_text=True)))],\n",
    "                                    [\" \".join(p.normalize(p.beautify(example_body, normalize_text=True)))], \n",
    "                                    \"../data/interim/overlap.example.npy\")\n",
    "\n",
    "example_hand = gen_or_load_feats(hand_features,\n",
    "                                 [\" \".join(p.normalize(p.beautify(example_title, normalize_text=True)))],\n",
    "                                 [\" \".join(p.normalize(p.beautify(example_body, normalize_text=True)))],\n",
    "                                 \"../data/interim/hand.example.npy\")\n",
    "\n",
    "example_cosine = gen_or_load_feats(cosine_features,\n",
    "                                   [\" \".join(p.normalize(p.beautify(example_title, normalize_text=True)))],\n",
    "                                   [\" \".join(p.normalize(p.beautify(example_body, normalize_text=True)))], \n",
    "                                   \"../data/interim/cosine.example.npy\")"
   ]
  },
  {
   "cell_type": "code",
   "execution_count": 120,
   "metadata": {},
   "outputs": [],
   "source": [
    "if np.isnan(example_cosine[0]):\n",
    "    example_cosine[0]=0.5"
   ]
  },
  {
   "cell_type": "code",
   "execution_count": 121,
   "metadata": {},
   "outputs": [],
   "source": [
    "example_feats = hstack((example_tfidf_title, example_tfidf_text, example_overlap, example_hand, example_cosine.reshape(-1,1)))"
   ]
  },
  {
   "cell_type": "markdown",
   "metadata": {},
   "source": [
    "#### Prediction"
   ]
  },
  {
   "cell_type": "code",
   "execution_count": 122,
   "metadata": {},
   "outputs": [
    {
     "data": {
      "text/plain": [
       "array(['Clickbait'], dtype='<U10')"
      ]
     },
     "execution_count": 122,
     "metadata": {},
     "output_type": "execute_result"
    }
   ],
   "source": [
    "le.inverse_transform(gb_tfidf_gs.best_estimator_.predict(example_feats))"
   ]
  },
  {
   "cell_type": "code",
   "execution_count": 123,
   "metadata": {
    "scrolled": true
   },
   "outputs": [
    {
     "data": {
      "text/plain": [
       "array([[0.02319583, 0.76925377, 0.20755041]])"
      ]
     },
     "execution_count": 123,
     "metadata": {},
     "output_type": "execute_result"
    }
   ],
   "source": [
    "gb_tfidf_gs.best_estimator_.predict_proba(example_feats)"
   ]
  },
  {
   "cell_type": "markdown",
   "metadata": {},
   "source": [
    "### 2nd example"
   ]
  },
  {
   "cell_type": "code",
   "execution_count": 124,
   "metadata": {},
   "outputs": [],
   "source": [
    "example_title_2 = \"Адвокат уверен, что он докажет невиновность Бутиной, и ее освободят\"\n",
    "example_body_2 = \"Суд в США оставил обвиняемую в шпионаже россиянку под стражей из-за «риска побега» \\n\\n \\n\\nРоссиянку Марию Бутину, задержанную в Вашингтоне по подозрению в шпионаже, оставили под стражей до начала судебного разбирательства по ее делу, однако адвокат Нил Дрисколл не сомневается, что ему удастся доказать невиновность своей подзащитной, и в итоге девушку освободят. \\n\\n«Она не является агентом российского правительства, Российской Федерации. Она невиновна в том, что ей инкриминируют», - заявил он.\""
   ]
  },
  {
   "cell_type": "code",
   "execution_count": null,
   "metadata": {},
   "outputs": [],
   "source": [
    "print(\"HEADLINE: {0}\\n\\nARTICLE: {1}\".format(example_title_2, example_body_2))"
   ]
  },
  {
   "cell_type": "code",
   "execution_count": 125,
   "metadata": {},
   "outputs": [
    {
     "name": "stderr",
     "output_type": "stream",
     "text": [
      "1it [00:00,  1.63it/s]\n",
      "1it [00:00, 371.14it/s]\n",
      "0it [00:00, ?it/s]/home/kim/anaconda3/lib/python3.7/site-packages/numpy/core/fromnumeric.py:2920: RuntimeWarning: Mean of empty slice.\n",
      "  out=out, **kwargs)\n",
      "/home/kim/anaconda3/lib/python3.7/site-packages/numpy/core/_methods.py:85: RuntimeWarning: invalid value encountered in double_scalars\n",
      "  ret = ret.dtype.type(ret / rcount)\n",
      "1it [00:00,  1.77it/s]\n"
     ]
    }
   ],
   "source": [
    "example_tfidf_title_2 = tfidf.transform([\" \".join(p.normalize_text(p.beautify(example_title_2, normalize_text=True)))])\n",
    "example_tfidf_text_2 = tfidf.transform([\" \".join(p.normalize_text(p.beautify(example_body_2, normalize_text=True)))])\n",
    "\n",
    "example_overlap_2 = gen_or_load_feats(word_overlap_features,\n",
    "                                    [\" \".join(p.normalize(p.beautify(example_title_2, normalize_text=True)))],\n",
    "                                    [\" \".join(p.normalize(p.beautify(example_body_2, normalize_text=True)))], \n",
    "                                    \"../data/interim/overlap.example_2.npy\")\n",
    "\n",
    "example_hand_2 = gen_or_load_feats(hand_features,\n",
    "                                 [\" \".join(p.normalize(p.beautify(example_title_2, normalize_text=True)))],\n",
    "                                 [\" \".join(p.normalize(p.beautify(example_body_2, normalize_text=True)))],\n",
    "                                 \"../data/interim/hand.example_2.npy\")\n",
    "\n",
    "example_cosine_2 = gen_or_load_feats(cosine_features,\n",
    "                                   [\" \".join(p.normalize(p.beautify(example_title_2, normalize_text=True)))],\n",
    "                                   [\" \".join(p.normalize(p.beautify(example_body_2, normalize_text=True)))], \n",
    "                                   \"../data/interim/cosine.example_2.npy\")"
   ]
  },
  {
   "cell_type": "code",
   "execution_count": 127,
   "metadata": {},
   "outputs": [],
   "source": [
    "if np.isnan(example_cosine_2[0]):\n",
    "    example_cosine_2[0]=0.5"
   ]
  },
  {
   "cell_type": "code",
   "execution_count": 129,
   "metadata": {},
   "outputs": [],
   "source": [
    "example_feats_2 = hstack((example_tfidf_title_2, example_tfidf_text_2, \n",
    "                          example_overlap_2, example_hand_2, example_cosine_2.reshape(-1,1)))"
   ]
  },
  {
   "cell_type": "markdown",
   "metadata": {},
   "source": [
    "#### Prediction"
   ]
  },
  {
   "cell_type": "code",
   "execution_count": 153,
   "metadata": {},
   "outputs": [
    {
     "data": {
      "text/plain": [
       "array(['Journalism'], dtype='<U10')"
      ]
     },
     "execution_count": 153,
     "metadata": {},
     "output_type": "execute_result"
    }
   ],
   "source": [
    "le.inverse_transform(gb_tfidf_gs.best_estimator_.predict(example_feats_2))"
   ]
  },
  {
   "cell_type": "code",
   "execution_count": 152,
   "metadata": {},
   "outputs": [
    {
     "data": {
      "text/plain": [
       "array([[0.0296033 , 0.43389278, 0.53650392]])"
      ]
     },
     "execution_count": 152,
     "metadata": {},
     "output_type": "execute_result"
    }
   ],
   "source": [
    "gb_tfidf_gs.best_estimator_.predict_proba(example_feats_2)"
   ]
  },
  {
   "cell_type": "markdown",
   "metadata": {},
   "source": [
    "### 3rd example "
   ]
  },
  {
   "cell_type": "code",
   "execution_count": 217,
   "metadata": {},
   "outputs": [
    {
     "name": "stdout",
     "output_type": "stream",
     "text": [
      "HEADLINE: Кто подставил Путина: в Британии ищут виновников\n",
      "\n",
      "ARTICLE: Жители Соединенного Королевства все чаще сомневаются, что Скрипалей отравили по приказу Кремля \n",
      "\n",
      "Спустя три с половиной месяца после инцидента с бывшим офицером ГРУ Сергеем Скрипалем и его дочерью Юлией, обитатели Солсбери все чаще приходят к выводу, что Россия не виновата в случившемся. \n",
      "\n",
      "Путин – \"не глупый человек\", если бы он хотел убить кого-тот, тот был бы уже мертв, \"кто-то его подставил\", – приводит The New York Times слова жительницы Солсбери Лизы Кэри. Издание отмечает, что сразу после отравления Скрипалей правительство Великобритании выглядело победителем в в пиар-войне: союзники поддержали Терезу Мэй, и к концу марта из стран Евросоюза, США и Канады были высланы более 100 российских дипломатов. По теме Отец прикрылся Юлией Скрипаль Разгадку тайны Скрипалей нашли у США Англия боится повторить судьбу Скрипалей на ЧМ-2018 разведчик Сергей Скрипаль \n",
      "\n",
      "Однако затем Британия утратила контроль над информацией, сетует американский журналист, – российские издания начали активно продвигать альтернативные объяснения трагедии в Солсбери, – например, что за отравлением Скрипалей стоит Лондон, а сделано все это для того, чтобы отвлечь внимание от брексита.\n",
      "\n",
      "В итоге, жители Солсбери начали гадать, отчего Россия пытается найти причины ЧП, а правительство Соединенного Королевства не отвечает на выдвинутые версии. На нестыковки в деле Скрипалей ранее указывали и британские журналисты. Пока еще большинство жителей верят объяснениям официального Лондона, однако все больше становится тех, кто отмечает. что много вопросов остались без ответа. \n",
      "\n",
      "Так, горожане гадают, где сейчас находится полицейский Ник Бэйли (Nick Bailey), который первым попытался помочь Скрипалям и пострадал от нервно-паралитического газа. Других заботит, что стало с утками, которые плавали рядом с тем местом, где произошло ЧП. Власти утверждают, что утки просто улетели, но кое-кто подозревает, что их уничтожили, как кошку и морских свинок экс-шпиона.\n",
      "\n",
      "Также непонятно, одни места, которые посещали Скрипали в роковой для них день, одни были закрыты для людей, другие – нет. По мнению ряда местных жителей, есть ощущение, что им навязывают то, что к отравлению бывшего ГРУ и его дочери причастна Россия, однако в этой истории чего-то не хватает. \n",
      "\n",
      "Издание подчеркивает, что доверие британцев к своим институтам начало уменьшаться еще во время войны в Ираке, а сейчас Россия сделала максимум возможного, чтобы посеять в умах британцев недоверие к властям. Однако упомянутая выше Лиза Кэри утверждает, что она никогда не читала российские СМИ. А другие подчеркивают, что нападение на Скрипалей не было спецоперацией Москвы, потому что оно было \"слишком нескладным и безрассудным\".\n"
     ]
    }
   ],
   "source": [
    "example_title_3 = \"В Сочи пройдет зимняя Олимпиада\" \n",
    "example_body_3 =\"Спортивные соревнования предложили вновь провести на российском курорте \\n\\nВ 2026 г. на Красной Поляне могут пройти олимпийские соревнования по бобслею, скелетону и санному спорту. Это произойдет в том случае, если право принять у себя зимние Олимпийские игры получит турецкий город Эрзурум.\\n\\n\\n\\\"Мы много работаем, чтобы получить право на проведение Олимпиады. Мы думаем о том, чтобы провести Игры совместно с Сочи. В Сочи есть спортивные объекты, которых нет в Эрзуруме. Строить их у нас было бы слишком дорогой инвестицией, поэтому мы можем принять соревнования вместе \\\", - сообщил губернатор провинции Эрзурум Сейфеттин Азизоглу. Его слова приводит Inside the Games. По теме Россию обвинили в баснословных тратах на мегапроекты Олимпиада разорит хозяев \\n\\nВ Федерации санного спорта России с энтузиазмом восприняли эту идею.\\n\\n\\\"Отлично отношусь к этой идее и, как президент Федерации санного спорта России, ее поддерживаю. Россия – гостеприимная страна, мы всегда рады проведению мероприятий. А нам в родных стенах приятнее выступать. Но, к сожалению, этот вопрос решаю не я. Я бы каждый год международные соревнования проводила в Сочи\\\", – сообщила агентству \\\"Р-Спорт\\\" руководитель федерации Наталья Гарт. \\n\\nЭрзурум находится на северо-востоке Турции. Расстояние от него до Сочи по прямой, через горы и Черное море, составляет 431 километр. Если часть соревнований на играх в Эрзуруме будет отдана российскому курорту, то их участникам придется добираться до столицы Олимпиады и обратно на авиационном транспорте.\\n\\nСоревнования по указанным Азизоглу видам спорта во время сочинской Олимпиады проходили в центре \\\"Санки\\\", расположенном в Красной Поляне, в 60 км от аэропорта в Адлере. Объект был построен специально к играм. После Олимпиады на нем регулярно проводятся международные старты.\\n\\nТак, в сезоне 2014\\/15 гг. трасса \\\"Санки\\\" приняла этап Кубка мира по бобслею и скелетону, в 2015 г. – чемпионат Европы по санному спорту, а в сезоне-2015\\/16 – этап Кубка мира по санному спорту. В феврале 2017 г. в Сочи должен был пройти чемпионат мира по бобслею и скелетону, но Международная федерация бобслея и скелетона из-за допинг-скандала перенесла турнир в немецкий Кенигзее.\\n\\nНа проведение зимней Олимпиады в 2026 г. претендуют пять городов. Их список был обнародован в апреле этого года. Претендентами являются австрийский Грац, канадский Калгари, японский Саппоро, шведский Стокгольм, швейцарский Сьон и турецкий Эрзурум. Место проведения игр будет определено в сентябре 2019 года.\" \"https:\\/\\/www.utro.ru\\/sport\\/2018\\/09\\/25\\/1375031.shtml\"\n",
    "\n",
    "print(\"HEADLINE: {0}\\n\\nARTICLE: {1}\".format(example_title_3, example_body_3))"
   ]
  },
  {
   "cell_type": "code",
   "execution_count": 218,
   "metadata": {},
   "outputs": [
    {
     "name": "stderr",
     "output_type": "stream",
     "text": [
      "1it [00:00, 239.10it/s]\n",
      "1it [00:00, 263.94it/s]\n",
      "1it [00:00, 346.12it/s]\n"
     ]
    }
   ],
   "source": [
    "example_tfidf_title_3 = tfidf.transform([\" \".join(p.normalize_text(p.beautify(example_title_3, normalize_text=False)))])\n",
    "example_tfidf_text_3 = tfidf.transform([\" \".join(p.normalize_text(p.beautify(example_body_3, normalize_text=False)))])\n",
    "\n",
    "example_overlap_3 = gen_or_load_feats(word_overlap_features,\n",
    "                                    [\" \".join(p.normalize(p.beautify(example_title_3, normalize_text=False)))],\n",
    "                                    [\" \".join(p.normalize(p.beautify(example_body_3, normalize_text=False)))], \n",
    "                                    \"../data/interim/overlap.example_3.npy\")\n",
    "\n",
    "example_hand_3 = gen_or_load_feats(hand_features,\n",
    "                                 [\" \".join(p.normalize(p.beautify(example_title_3, normalize_text=False)))],\n",
    "                                 [\" \".join(p.normalize(p.beautify(example_body_3, normalize_text=False)))],\n",
    "                                 \"../data/interim/hand.example_3.npy\")\n",
    "\n",
    "example_cosine_3 = gen_or_load_feats(cosine_features,\n",
    "                                   [\" \".join(p.normalize(p.beautify(example_title_3, normalize_text=False)))],\n",
    "                                   [\" \".join(p.normalize(p.beautify(example_body_3, normalize_text=False)))], \n",
    "                                   \"../data/interim/cosine.example_3.npy\")"
   ]
  },
  {
   "cell_type": "code",
   "execution_count": 219,
   "metadata": {},
   "outputs": [],
   "source": [
    "if np.isnan(example_cosine_3[0]):\n",
    "    example_cosine_3[0]=0.5\n",
    "    \n",
    "example_feats_3 = hstack((example_tfidf_title_3, example_tfidf_text_3, \n",
    "                          example_overlap_3, example_hand_3, example_cosine_3.reshape(-1,1)))"
   ]
  },
  {
   "cell_type": "markdown",
   "metadata": {},
   "source": [
    "#### Prediction"
   ]
  },
  {
   "cell_type": "code",
   "execution_count": 220,
   "metadata": {},
   "outputs": [
    {
     "data": {
      "text/plain": [
       "array(['Journalism'], dtype='<U10')"
      ]
     },
     "execution_count": 220,
     "metadata": {},
     "output_type": "execute_result"
    }
   ],
   "source": [
    "le.inverse_transform(gb_tfidf_gs.best_estimator_.predict(example_feats_3))"
   ]
  },
  {
   "cell_type": "code",
   "execution_count": 221,
   "metadata": {},
   "outputs": [
    {
     "data": {
      "text/plain": [
       "array([[0.00124192, 0.02566426, 0.97309382]])"
      ]
     },
     "execution_count": 221,
     "metadata": {},
     "output_type": "execute_result"
    }
   ],
   "source": [
    "gb_tfidf_gs.best_estimator_.predict_proba(example_feats_3)"
   ]
  }
 ],
 "metadata": {
  "kernelspec": {
   "display_name": "Python 3",
   "language": "python",
   "name": "python3"
  },
  "language_info": {
   "codemirror_mode": {
    "name": "ipython",
    "version": 3
   },
   "file_extension": ".py",
   "mimetype": "text/x-python",
   "name": "python",
   "nbconvert_exporter": "python",
   "pygments_lexer": "ipython3",
   "version": "3.7.1"
  }
 },
 "nbformat": 4,
 "nbformat_minor": 2
}
