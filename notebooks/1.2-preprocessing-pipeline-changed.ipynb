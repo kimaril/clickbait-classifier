{
 "cells": [
  {
   "cell_type": "code",
   "execution_count": 1,
   "metadata": {},
   "outputs": [],
   "source": [
    "import pandas as pd\n",
    "import os\n",
    "import re\n",
    "import glob\n",
    "import json\n",
    "import matplotlib.pyplot as plt \n",
    "from tqdm._tqdm_notebook import tqdm_notebook\n",
    "import numpy as np\n",
    "from scipy.sparse import hstack, vstack\n",
    "import seaborn as sns\n",
    "\n",
    "from sklearn.feature_extraction.text import TfidfVectorizer\n",
    "from feature_extraction import hand_features,  word_overlap_features, cosine_features\n",
    "from feature_extraction import gen_or_load_feats, polarity_features, bait_features\n",
    "from sklearn.ensemble import GradientBoostingClassifier\n",
    "from sklearn.model_selection import train_test_split, GridSearchCV\n",
    "\n",
    "from sklearn.preprocessing import LabelEncoder\n",
    "from sklearn.metrics import confusion_matrix\n",
    "from sklearn.externals import joblib\n",
    "\n",
    "%matplotlib inline"
   ]
  },
  {
   "cell_type": "code",
   "execution_count": 2,
   "metadata": {},
   "outputs": [],
   "source": [
    "import ipywidgets as widgets\n",
    "from ipywidgets import interact"
   ]
  },
  {
   "cell_type": "code",
   "execution_count": 3,
   "metadata": {},
   "outputs": [],
   "source": [
    "import sys\n",
    "\n",
    "my_utils_path = '/home/kim/spam-detector/src/utils'\n",
    "if my_utils_path not in sys.path:\n",
    "    sys.path.append(my_utils_path)\n",
    "\n",
    "from text_preprocessing import Preprocessor\n",
    "from plot_tools import plot_cm"
   ]
  },
  {
   "cell_type": "code",
   "execution_count": 4,
   "metadata": {},
   "outputs": [
    {
     "name": "stdout",
     "output_type": "stream",
     "text": [
      "HEADLINE: Сбитый над Донбассом \"Боинг\" выбрали спецслужбы\n",
      "\n",
      "ARTICLE: \n",
      "Среди погибших не было граждан США и Израиля \n",
      "\n",
      "Операцию по крушению пассажирского лайнера над Донбассом Украина готовила совместно с западными спецслужбами. Только упасть самолет должен был в Ростовской области. Но исполнители немного не рассчитали, и малазийский \"Боинг\" до России не дотянул, рухнул на украинской территории. Поэтому обвинить Россию в терроризме в 2014 году не удалось, отмечает военный эксперт Алексей Леонков. \n",
      "\n",
      "\"Здесь была грамотная работа специальных служб, которые способны выстроить сложный сценарий. По нему самолет должен был упасть на территории Ростовской области. И тогда неопровержимые доказательства того, что Россия причастна к этому, были бы предъявлены всему миру. Но что-то пошло не так\", – приводит \"Царьград\" слова Леонкова. По теме Казнить нельзя, помиловать: украинцам простят сбитый под Донбассом \"Боинг\" \"Боинг\" над Донбассом сбила Украина. LIVE \n",
      "\n",
      "Он обращает внимание, что на борту сбитого лайнера были граждане многих стран, однако – ни одного американца или жителя Израиля. По мнению эксперта, тут дело не только в том, что Израиль – союзник США. Просто украинцы в 2001 г. уже сбивали пассажирский самолет. Тогда погибли 78 человек, из них 51 - гражданин Израиля. \"Она сбила самолет своим комплексом С-200 во время учений. Не закрыла небо в том месте, где проводила учения\", – напомнил Леонков. \n",
      "\n",
      "Небо над Донбассом, где в 2014 г. шла настоящая война, Киев также \"забывчиво\" не закрыл. Однако подстраховался и проследил, чтобы на сбитом лайнере не было пассажиров из стран, отношения с которыми портить никак нельзя. \n",
      "\n",
      "Накануне Минобороны РФ обнародовало информацию, согласно которой \"Боинг\" Малазийских авиалиний был сбит из \"Бука\", принадлежащего украинской армии.\n",
      "\n",
      "LINK: https:\\/\\/www.utro.ru\\/politics\\/2018\\/09\\/18\\/1374232.shtml\n"
     ]
    }
   ],
   "source": [
    "fake_headline = \"Сбитый над Донбассом \\\"Боинг\\\" выбрали спецслужбы\"\n",
    "fake_body = \"Среди погибших не было граждан США и Израиля \\n\\nОперацию по крушению пассажирского лайнера над Донбассом Украина готовила совместно с западными спецслужбами. Только упасть самолет должен был в Ростовской области. Но исполнители немного не рассчитали, и малазийский \\\"Боинг\\\" до России не дотянул, рухнул на украинской территории. Поэтому обвинить Россию в терроризме в 2014 году не удалось, отмечает военный эксперт Алексей Леонков. \\n\\n\\\"Здесь была грамотная работа специальных служб, которые способны выстроить сложный сценарий. По нему самолет должен был упасть на территории Ростовской области. И тогда неопровержимые доказательства того, что Россия причастна к этому, были бы предъявлены всему миру. Но что-то пошло не так\\\", – приводит \\\"Царьград\\\" слова Леонкова. По теме Казнить нельзя, помиловать: украинцам простят сбитый под Донбассом \\\"Боинг\\\" \\\"Боинг\\\" над Донбассом сбила Украина. LIVE \\n\\nОн обращает внимание, что на борту сбитого лайнера были граждане многих стран, однако – ни одного американца или жителя Израиля. По мнению эксперта, тут дело не только в том, что Израиль – союзник США. Просто украинцы в 2001 г. уже сбивали пассажирский самолет. Тогда погибли 78 человек, из них 51 - гражданин Израиля. \\\"Она сбила самолет своим комплексом С-200 во время учений. Не закрыла небо в том месте, где проводила учения\\\", – напомнил Леонков. \\n\\nНебо над Донбассом, где в 2014 г. шла настоящая война, Киев также \\\"забывчиво\\\" не закрыл. Однако подстраховался и проследил, чтобы на сбитом лайнере не было пассажиров из стран, отношения с которыми портить никак нельзя. \\n\\nНакануне Минобороны РФ обнародовало информацию, согласно которой \\\"Боинг\\\" Малазийских авиалиний был сбит из \\\"Бука\\\", принадлежащего украинской армии.\"\n",
    "fake_url = \"https:\\/\\/www.utro.ru\\/politics\\/2018\\/09\\/18\\/1374232.shtml\"\n",
    "\n",
    "print(\"HEADLINE: {0}\\n\\nARTICLE: \\n{1}\\n\\nLINK: {2}\".format(fake_headline, fake_body, fake_url))"
   ]
  },
  {
   "cell_type": "markdown",
   "metadata": {},
   "source": [
    "# More bait "
   ]
  },
  {
   "cell_type": "code",
   "execution_count": 5,
   "metadata": {},
   "outputs": [],
   "source": [
    "data = pd.read_json(\"../data/interim/training-gbc-normalized-02-04.json\", orient='records', lines=True)"
   ]
  },
  {
   "cell_type": "code",
   "execution_count": 6,
   "metadata": {},
   "outputs": [
    {
     "data": {
      "application/vnd.jupyter.widget-view+json": {
       "model_id": "9fc769fe92534e24bfa5c225313608ef",
       "version_major": 2,
       "version_minor": 0
      },
      "text/plain": [
       "interactive(children=(Dropdown(description='label', options=('Journalism', 'Clickbait', 'Artificial'), value='…"
      ]
     },
     "metadata": {},
     "output_type": "display_data"
    }
   ],
   "source": [
    "@interact\n",
    "def show_by_source(label=data.label.unique()):\n",
    "    df=data\n",
    "    print(\"Total number of posts: {}\".format(df.shape[0]))\n",
    "    print(\"Number of posts from source {0}: {1}\".format(label, df[df[\"label\"]==label].shape[0]))\n",
    "    return df[df[\"label\"]==label].head(10)"
   ]
  },
  {
   "cell_type": "markdown",
   "metadata": {},
   "source": [
    "## Preprocessing 2.0"
   ]
  },
  {
   "cell_type": "code",
   "execution_count": 7,
   "metadata": {},
   "outputs": [],
   "source": [
    "with open(\"../data/external/stopwords.txt\", mode=\"r\") as f:\n",
    "    stopwords = [s.replace(\"\\n\", \"\") for s in f.readlines()]\n",
    "\n",
    "p = Preprocessor(stopwords=stopwords)"
   ]
  },
  {
   "cell_type": "code",
   "execution_count": 8,
   "metadata": {},
   "outputs": [],
   "source": [
    "bait = gen_or_load_feats(bait_features, \n",
    "                         data.title.tolist(),\n",
    "                         data.text.tolist(),\n",
    "                         \"../data/interim/features/bait_.npy\")"
   ]
  },
  {
   "cell_type": "code",
   "execution_count": 9,
   "metadata": {
    "scrolled": true
   },
   "outputs": [
    {
     "name": "stderr",
     "output_type": "stream",
     "text": [
      "12575it [03:05, 67.92it/s]\n"
     ]
    }
   ],
   "source": [
    "polarity = gen_or_load_feats(polarity_features,\n",
    "                             data.title.tolist(),\n",
    "                             data.text.tolist(),\n",
    "                             \"../data/interim/features/polar_.npy\")"
   ]
  },
  {
   "cell_type": "code",
   "execution_count": 10,
   "metadata": {},
   "outputs": [
    {
     "name": "stderr",
     "output_type": "stream",
     "text": [
      "12575it [03:05, 67.95it/s]\n",
      "12575it [03:32, 59.18it/s]\n",
      "0it [00:00, ?it/s]/home/kim/anaconda3/lib/python3.7/site-packages/numpy/core/fromnumeric.py:2920: RuntimeWarning: Mean of empty slice.\n",
      "  out=out, **kwargs)\n",
      "/home/kim/anaconda3/lib/python3.7/site-packages/numpy/core/_methods.py:85: RuntimeWarning: invalid value encountered in double_scalars\n",
      "  ret = ret.dtype.type(ret / rcount)\n",
      "12575it [00:43, 286.18it/s]\n"
     ]
    }
   ],
   "source": [
    "overlap = gen_or_load_feats(word_overlap_features,\n",
    "                            data.title.tolist(), \n",
    "                            data.text.tolist(), \n",
    "                            \"../data/interim/features/overlap.fixed.npy\")\n",
    "\n",
    "hand = gen_or_load_feats(hand_features,\n",
    "                         data.title.tolist(), \n",
    "                         data.text.tolist(), \n",
    "                         \"../data/interim/features/hand.fixed.npy\")\n",
    "\n",
    "cosine = gen_or_load_feats(cosine_features, \n",
    "                           data.title.tolist(), \n",
    "                           data.text.tolist(), \n",
    "                           \"../data/interim/features/cosine.fixed.npy\")"
   ]
  },
  {
   "cell_type": "code",
   "execution_count": 27,
   "metadata": {},
   "outputs": [],
   "source": [
    "generated_features = np.hstack((bait, polarity, overlap, hand))   \n",
    "np.save(\"../data/interim/matrixform/generated_features.fixed.npy\", generated_features)"
   ]
  },
  {
   "cell_type": "code",
   "execution_count": 28,
   "metadata": {},
   "outputs": [],
   "source": [
    "le = LabelEncoder()\n",
    "y = le.fit_transform(data[\"label\"].tolist())"
   ]
  },
  {
   "cell_type": "markdown",
   "metadata": {},
   "source": [
    "### Train Stochastic Gradient Boosting Classifier on generated features"
   ]
  },
  {
   "cell_type": "code",
   "execution_count": 29,
   "metadata": {},
   "outputs": [],
   "source": [
    "X_train, X_test, y_train, y_test = train_test_split(generated_features, y, test_size=0.2)"
   ]
  },
  {
   "cell_type": "code",
   "execution_count": 30,
   "metadata": {},
   "outputs": [],
   "source": [
    "parameters = {'min_samples_split' : range(100, 1000, 200), \n",
    "              'min_samples_leaf' : range(30, 71, 10)}\n",
    "\n",
    "clf = GradientBoostingClassifier(n_estimators=300, random_state=42, verbose=False)\n",
    "gb_gs = GridSearchCV(estimator=clf, param_grid=parameters, cv=5, verbose=1, n_jobs=8)"
   ]
  },
  {
   "cell_type": "code",
   "execution_count": null,
   "metadata": {},
   "outputs": [],
   "source": [
    "gb_gs.fit(X_train, y_train)"
   ]
  },
  {
   "cell_type": "code",
   "execution_count": 33,
   "metadata": {},
   "outputs": [
    {
     "data": {
      "text/plain": [
       "0.8830019880715706"
      ]
     },
     "execution_count": 33,
     "metadata": {},
     "output_type": "execute_result"
    }
   ],
   "source": [
    "gb_gs.best_score_"
   ]
  },
  {
   "cell_type": "code",
   "execution_count": 34,
   "metadata": {},
   "outputs": [
    {
     "data": {
      "text/plain": [
       "{'min_samples_leaf': 60, 'min_samples_split': 700}"
      ]
     },
     "execution_count": 34,
     "metadata": {},
     "output_type": "execute_result"
    }
   ],
   "source": [
    "gb_gs.best_params_"
   ]
  },
  {
   "cell_type": "code",
   "execution_count": 35,
   "metadata": {
    "scrolled": false
   },
   "outputs": [
    {
     "data": {
      "image/png": "[encoded data removed]",
      "text/plain": [
       "<Figure size 720x504 with 2 Axes>"
      ]
     },
     "metadata": {
      "needs_background": "light"
     },
     "output_type": "display_data"
    }
   ],
   "source": [
    "plot_cm(confusion_matrix(y_test, gb_gs.best_estimator_.predict(X_test)), \n",
    "        classes=gb_gs.classes_, classifier_name=\"Stochastic Gradient Boosting\")"
   ]
  },
  {
   "cell_type": "markdown",
   "metadata": {},
   "source": [
    "## With TF-IDF"
   ]
  },
  {
   "cell_type": "code",
   "execution_count": 36,
   "metadata": {},
   "outputs": [],
   "source": [
    "tfidf = TfidfVectorizer(min_df=0.001, max_df=0.9, ngram_range=(1,2))\n",
    "text_tfidf = tfidf.fit_transform(data.title_norm.values.flatten())\n",
    "title_tfidf = tfidf.transform(data.text_norm.values.flatten())"
   ]
  },
  {
   "cell_type": "code",
   "execution_count": 37,
   "metadata": {},
   "outputs": [
    {
     "data": {
      "text/plain": [
       "1631"
      ]
     },
     "execution_count": 37,
     "metadata": {},
     "output_type": "execute_result"
    }
   ],
   "source": [
    "len(tfidf.vocabulary_)"
   ]
  },
  {
   "cell_type": "code",
   "execution_count": 38,
   "metadata": {},
   "outputs": [],
   "source": [
    "X = hstack((title_tfidf, text_tfidf, generated_features))"
   ]
  },
  {
   "cell_type": "code",
   "execution_count": 39,
   "metadata": {},
   "outputs": [],
   "source": [
    "X_train, X_test, y_train, y_test = train_test_split(X, y, test_size=0.2)"
   ]
  },
  {
   "cell_type": "code",
   "execution_count": 42,
   "metadata": {},
   "outputs": [],
   "source": [
    "parameters = {#\"n_estimators\" : 50*np.linspace(start=2, stop=8, num=6, dtype=int),\n",
    "              \"subsample\" : 0.1*np.linspace(start=5, stop=9, num=5, dtype=int)}\n",
    "\n",
    "clf = GradientBoostingClassifier(n_estimators=300, random_state=42, verbose=True)\n",
    "gb_tfidf_gs = GridSearchCV(estimator=clf, param_grid=parameters, cv=5, verbose=1, n_jobs=10)"
   ]
  },
  {
   "cell_type": "code",
   "execution_count": 43,
   "metadata": {
    "scrolled": true
   },
   "outputs": [
    {
     "name": "stdout",
     "output_type": "stream",
     "text": [
      "Fitting 5 folds for each of 5 candidates, totalling 25 fits\n"
     ]
    },
    {
     "name": "stderr",
     "output_type": "stream",
     "text": [
      "[Parallel(n_jobs=10)]: Using backend LokyBackend with 10 concurrent workers.\n",
      "[Parallel(n_jobs=10)]: Done  25 out of  25 | elapsed:  4.4min finished\n"
     ]
    },
    {
     "name": "stdout",
     "output_type": "stream",
     "text": [
      "      Iter       Train Loss      OOB Improve   Remaining Time \n",
      "         1        6805.4270          85.0968            2.44m\n",
      "         2        6178.5886          72.1892            2.27m\n",
      "         3        5632.0604          59.3272            2.18m\n",
      "         4        5170.0739          47.8776            2.28m\n",
      "         5        4784.0592          43.6013            2.21m\n",
      "         6        4426.6882          36.8440            2.16m\n",
      "         7        4124.9397          31.0750            2.13m\n",
      "         8        3870.2059          26.8581            2.10m\n",
      "         9        3639.1639          23.5269            2.07m\n",
      "        10        3432.4278          19.3639            2.06m\n",
      "        20        2321.5318           7.3120            1.97m\n",
      "        30        1837.3563           3.4626            1.88m\n",
      "        40        1529.7079           1.7326            1.79m\n",
      "        50        1372.6826           0.6159            1.71m\n",
      "        60        1231.5538           0.4093            1.63m\n",
      "        70        1134.6582           0.0630            1.56m\n",
      "        80        1087.1835           0.0524            1.50m\n",
      "        90        1013.0194          -0.0070            1.42m\n",
      "       100         970.6398           0.1174            1.35m\n",
      "       200         686.7622          -0.0207           40.03s\n",
      "       300         530.7559          -0.1336            0.00s\n"
     ]
    },
    {
     "data": {
      "text/plain": [
       "GridSearchCV(cv=5, error_score='raise-deprecating',\n",
       "       estimator=GradientBoostingClassifier(criterion='friedman_mse', init=None,\n",
       "              learning_rate=0.1, loss='deviance', max_depth=3,\n",
       "              max_features=None, max_leaf_nodes=None,\n",
       "              min_impurity_decrease=0.0, min_impurity_split=None,\n",
       "              min_samples_leaf=1, min_sampl...   subsample=1.0, tol=0.0001, validation_fraction=0.1,\n",
       "              verbose=True, warm_start=False),\n",
       "       fit_params=None, iid='warn', n_jobs=10,\n",
       "       param_grid={'subsample': array([0.5, 0.6, 0.7, 0.8, 0.9])},\n",
       "       pre_dispatch='2*n_jobs', refit=True, return_train_score='warn',\n",
       "       scoring=None, verbose=1)"
      ]
     },
     "execution_count": 43,
     "metadata": {},
     "output_type": "execute_result"
    }
   ],
   "source": [
    "gb_tfidf_gs.fit(X_train, y_train)"
   ]
  },
  {
   "cell_type": "code",
   "execution_count": 44,
   "metadata": {},
   "outputs": [
    {
     "data": {
      "text/plain": [
       "{'subsample': 0.9}"
      ]
     },
     "execution_count": 44,
     "metadata": {},
     "output_type": "execute_result"
    }
   ],
   "source": [
    "gb_tfidf_gs.best_params_"
   ]
  },
  {
   "cell_type": "code",
   "execution_count": 45,
   "metadata": {
    "scrolled": true
   },
   "outputs": [
    {
     "data": {
      "image/png": "[encoded data removed]",
      "text/plain": [
       "<Figure size 720x504 with 2 Axes>"
      ]
     },
     "metadata": {
      "needs_background": "light"
     },
     "output_type": "display_data"
    }
   ],
   "source": [
    "plot_cm(confusion_matrix(y_test, gb_tfidf_gs.best_estimator_.predict(X_test)), \n",
    "        classes=gb_gs.classes_, classifier_name=\"Stochastic Gradient Boosting\")"
   ]
  },
  {
   "cell_type": "markdown",
   "metadata": {},
   "source": [
    "Let's save our data and models and souls"
   ]
  },
  {
   "cell_type": "code",
   "execution_count": 47,
   "metadata": {},
   "outputs": [],
   "source": [
    "np.save(\"../data/interim/matrixform/text-tfidf-and-generated-05-04.npy\", X)"
   ]
  },
  {
   "cell_type": "code",
   "execution_count": 222,
   "metadata": {},
   "outputs": [
    {
     "data": {
      "text/plain": [
       "['../models/ensemble/gbc-generated-feats-with-tf-idf-04-04.pkl']"
      ]
     },
     "execution_count": 222,
     "metadata": {},
     "output_type": "execute_result"
    }
   ],
   "source": [
    "if not os.path.exists(\"../models/ensemble\"):\n",
    "    os.mkdir(\"../models/ensemble\")\n",
    "\n",
    "joblib.dump(gb_gs.best_estimator_, \"../models/ensemble/gbc-generated-feats-no-tf-idf-05-04.pkl\")\n",
    "joblib.dump(gb_tfidf_gs.best_estimator_, \"../models/ensemble/gbc-generated-feats-with-tf-idf-05-04.pkl\")"
   ]
  },
  {
   "cell_type": "markdown",
   "metadata": {},
   "source": [
    "### Test on completly new unseen data"
   ]
  },
  {
   "cell_type": "markdown",
   "metadata": {},
   "source": [
    "**NB:** NaN cosine distance values will be replaced with 0.5"
   ]
  },
  {
   "cell_type": "markdown",
   "metadata": {},
   "source": [
    "### 1st example"
   ]
  },
  {
   "cell_type": "code",
   "execution_count": 48,
   "metadata": {},
   "outputs": [],
   "source": [
    "example_title = \"Звезду первого советского фильма ужасов убило проклятье\"\n",
    "example_body = \"В студенческие годы она напророчила Анатолию Ромашину трех жен, столько же детей (двух дочерей и сына) и смерть в 83 года. Сбылось все, кроме последнего. Актер погиб не старым – в 69 лет. А виною всему, по мнению поклонников, – его роковые роли.\\n\\nАктер не раз \\\"умирал\\\" и на театральной сцене, и в кино. Жизнь Анатолия Владимировича оборвала наполовину подпиленная сосна, которая упала на него, и он мгновенно скончался. После этого пошли слухи, что актер перед смертью выглядел подавленным, как будто что-то предчувствовал. И фанаты тут же заговорили о проклятье, пишет \\\"Телепрограмма\\\".\\n\\nОдну из самых заметных ролей Ромашин сыграл в фильме Станислава Говорухина \\\"Десять негритят\\\", вышедшем на экраны в 1987 г. и называемом первым советским триллером. В нем герой актера погиб страшной смертью – его сбросили со скалы. \\n\\nКак рассказывали тогда, Анатолий Владимирович отказался сниматься в этом эпизоде, и его заменил дублер, который во время съемок едва не погиб. Потом ушли из жизни партнеры Ромашина по этой картине, два Александра – Кайдановский и Абдулов, и сразу заговорили о \\\"нехорошей мистике\\\" и \\\"проклятии\\\" фильма. \\n\\nШирокую популярность Ромашину принесла роль царя Николая II в фильме \\\"Агония\\\". Она тоже, по мнению многих была роковой, так как рано покинули этот мир другие советские актеры, сыигравшие самодержца. После четырех инсультов в 66 лет умер Бронислав Брондуков. Запил и в 42 года скончался Юрий Демич. В 45 лет, сорвавшись со скалы через два года после гибели Ромашина, ушел из жизни Андрей Ростоцкий. А еще одного \\\"Романова\\\" – Олега Янковского - в 65 лет сжег рак.\\n\\nНо самым мистическим многие считают еще одно совпадение. Незадолго до несчастного случая, повлекшего смерть актера, Ромашин снялся в фильме Булата Мансурова \\\"Сага древних булгар\\\". Там сыгранного им героя – русского князя – раздавливает деревянный настил. \\n\\nИ, когда Анатолия Владимировича не стало, эту роль назвали пророческой. Появились даже рассказы о некоем древнем проклятии, которое сгубило полного сил и замыслов талантливого и любимого человека...\""
   ]
  },
  {
   "cell_type": "code",
   "execution_count": 49,
   "metadata": {
    "scrolled": false
   },
   "outputs": [
    {
     "name": "stdout",
     "output_type": "stream",
     "text": [
      "HEADLINE: Звезду первого советского фильма ужасов убило проклятье\n",
      "\n",
      "ARTICLE: В студенческие годы она напророчила Анатолию Ромашину трех жен, столько же детей (двух дочерей и сына) и смерть в 83 года. Сбылось все, кроме последнего. Актер погиб не старым – в 69 лет. А виною всему, по мнению поклонников, – его роковые роли.\n",
      "\n",
      "Актер не раз \"умирал\" и на театральной сцене, и в кино. Жизнь Анатолия Владимировича оборвала наполовину подпиленная сосна, которая упала на него, и он мгновенно скончался. После этого пошли слухи, что актер перед смертью выглядел подавленным, как будто что-то предчувствовал. И фанаты тут же заговорили о проклятье, пишет \"Телепрограмма\".\n",
      "\n",
      "Одну из самых заметных ролей Ромашин сыграл в фильме Станислава Говорухина \"Десять негритят\", вышедшем на экраны в 1987 г. и называемом первым советским триллером. В нем герой актера погиб страшной смертью – его сбросили со скалы. \n",
      "\n",
      "Как рассказывали тогда, Анатолий Владимирович отказался сниматься в этом эпизоде, и его заменил дублер, который во время съемок едва не погиб. Потом ушли из жизни партнеры Ромашина по этой картине, два Александра – Кайдановский и Абдулов, и сразу заговорили о \"нехорошей мистике\" и \"проклятии\" фильма. \n",
      "\n",
      "Широкую популярность Ромашину принесла роль царя Николая II в фильме \"Агония\". Она тоже, по мнению многих была роковой, так как рано покинули этот мир другие советские актеры, сыигравшие самодержца. После четырех инсультов в 66 лет умер Бронислав Брондуков. Запил и в 42 года скончался Юрий Демич. В 45 лет, сорвавшись со скалы через два года после гибели Ромашина, ушел из жизни Андрей Ростоцкий. А еще одного \"Романова\" – Олега Янковского - в 65 лет сжег рак.\n",
      "\n",
      "Но самым мистическим многие считают еще одно совпадение. Незадолго до несчастного случая, повлекшего смерть актера, Ромашин снялся в фильме Булата Мансурова \"Сага древних булгар\". Там сыгранного им героя – русского князя – раздавливает деревянный настил. \n",
      "\n",
      "И, когда Анатолия Владимировича не стало, эту роль назвали пророческой. Появились даже рассказы о некоем древнем проклятии, которое сгубило полного сил и замыслов талантливого и любимого человека...\n"
     ]
    }
   ],
   "source": [
    "print(\"HEADLINE: {0}\\n\\nARTICLE: {1}\".format(example_title, example_body))"
   ]
  },
  {
   "cell_type": "code",
   "execution_count": 62,
   "metadata": {},
   "outputs": [
    {
     "name": "stderr",
     "output_type": "stream",
     "text": [
      "1it [00:00,  1.74it/s]\n",
      "1it [00:00,  5.44it/s]\n",
      "1it [00:00,  5.09it/s]\n",
      "1it [00:00,  4.50it/s]\n"
     ]
    }
   ],
   "source": [
    "example_tfidf_title = tfidf.transform([\" \".join(example_title)])\n",
    "example_tfidf_text = tfidf.transform([\" \".join(example_body)])\n",
    "\n",
    "example_bait = gen_or_load_feats(bait_features,\n",
    "                                   [\" \".join(example_title)],\n",
    "                                   [\" \".join(p.beautify(example_body))], \n",
    "                                   \"../data/interim/bait.example.npy\")\n",
    "\n",
    "example_polar = gen_or_load_feats(polarity_features,\n",
    "                                   [\" \".join(example_title)],\n",
    "                                   [\" \".join(example_body)], \n",
    "                                   \"../data/interim/polarity.example.npy\")\n",
    "\n",
    "example_overlap = gen_or_load_feats(word_overlap_features,\n",
    "                                    [\" \".join(example_title)],\n",
    "                                    [\" \".join(example_body)], \n",
    "                                    \"../data/interim/overlap.example.npy\")\n",
    "\n",
    "example_hand = gen_or_load_feats(hand_features,\n",
    "                                 [\" \".join(example_title)],\n",
    "                                 [\" \".join(example_body)],\n",
    "                                 \"../data/interim/hand.example.npy\")\n",
    "\n",
    "example_feats = hstack((example_tfidf_title, example_tfidf_text, example_bait, example_polar, example_overlap, example_hand))"
   ]
  },
  {
   "cell_type": "markdown",
   "metadata": {},
   "source": [
    "#### Prediction"
   ]
  },
  {
   "cell_type": "code",
   "execution_count": 64,
   "metadata": {},
   "outputs": [
    {
     "data": {
      "text/plain": [
       "array(['Journalism'], dtype='<U10')"
      ]
     },
     "execution_count": 64,
     "metadata": {},
     "output_type": "execute_result"
    }
   ],
   "source": [
    "le.inverse_transform(gb_tfidf_gs.best_estimator_.predict(example_feats))"
   ]
  },
  {
   "cell_type": "code",
   "execution_count": 65,
   "metadata": {
    "scrolled": true
   },
   "outputs": [
    {
     "data": {
      "text/plain": [
       "array([[0.00124901, 0.00415559, 0.9945954 ]])"
      ]
     },
     "execution_count": 65,
     "metadata": {},
     "output_type": "execute_result"
    }
   ],
   "source": [
    "gb_tfidf_gs.best_estimator_.predict_proba(example_feats)"
   ]
  },
  {
   "cell_type": "markdown",
   "metadata": {},
   "source": [
    "### 2nd example"
   ]
  },
  {
   "cell_type": "code",
   "execution_count": 51,
   "metadata": {},
   "outputs": [],
   "source": [
    "example_title_2 = \"Адвокат уверен, что он докажет невиновность Бутиной, и ее освободят\"\n",
    "example_body_2 = \"Суд в США оставил обвиняемую в шпионаже россиянку под стражей из-за «риска побега» \\n\\n \\n\\nРоссиянку Марию Бутину, задержанную в Вашингтоне по подозрению в шпионаже, оставили под стражей до начала судебного разбирательства по ее делу, однако адвокат Нил Дрисколл не сомневается, что ему удастся доказать невиновность своей подзащитной, и в итоге девушку освободят. \\n\\n«Она не является агентом российского правительства, Российской Федерации. Она невиновна в том, что ей инкриминируют», - заявил он.\""
   ]
  },
  {
   "cell_type": "code",
   "execution_count": 52,
   "metadata": {},
   "outputs": [
    {
     "name": "stdout",
     "output_type": "stream",
     "text": [
      "HEADLINE: Адвокат уверен, что он докажет невиновность Бутиной, и ее освободят\n",
      "\n",
      "ARTICLE: Суд в США оставил обвиняемую в шпионаже россиянку под стражей из-за «риска побега» \n",
      "\n",
      " \n",
      "\n",
      "Россиянку Марию Бутину, задержанную в Вашингтоне по подозрению в шпионаже, оставили под стражей до начала судебного разбирательства по ее делу, однако адвокат Нил Дрисколл не сомневается, что ему удастся доказать невиновность своей подзащитной, и в итоге девушку освободят. \n",
      "\n",
      "«Она не является агентом российского правительства, Российской Федерации. Она невиновна в том, что ей инкриминируют», - заявил он.\n"
     ]
    }
   ],
   "source": [
    "print(\"HEADLINE: {0}\\n\\nARTICLE: {1}\".format(example_title_2, example_body_2))"
   ]
  },
  {
   "cell_type": "code",
   "execution_count": 67,
   "metadata": {},
   "outputs": [
    {
     "name": "stderr",
     "output_type": "stream",
     "text": [
      "1it [00:00, 14.58it/s]\n",
      "1it [00:00, 19.97it/s]\n",
      "1it [00:00, 21.17it/s]\n"
     ]
    }
   ],
   "source": [
    "example_tfidf_title_2 = tfidf.transform([\" \".join(example_title_2)])\n",
    "example_tfidf_text_2 = tfidf.transform([\" \".join(example_body_2)])\n",
    "\n",
    "example_bait_2 = gen_or_load_feats(bait_features,\n",
    "                                   [\" \".join(example_title_2)],\n",
    "                                   [\" \".join(p.beautify(example_body_2))], \n",
    "                                   \"../data/interim/bait_2.example.npy\")\n",
    "\n",
    "example_polar_2 = gen_or_load_feats(polarity_features,\n",
    "                                   [\" \".join(example_title_2)],\n",
    "                                   [\" \".join(example_body_2)], \n",
    "                                   \"../data/interim/polarity_2.example.npy\")\n",
    "\n",
    "example_overlap_2 = gen_or_load_feats(word_overlap_features,\n",
    "                                    [\" \".join(example_title_2)],\n",
    "                                    [\" \".join(example_body_2)], \n",
    "                                    \"../data/interim/overlap_2.example.npy\")\n",
    "\n",
    "example_hand_2 = gen_or_load_feats(hand_features,\n",
    "                                 [\" \".join(example_title_2)],\n",
    "                                 [\" \".join(example_body_2)],\n",
    "                                 \"../data/interim/hand_2.example.npy\")\n",
    "\n",
    "example_feats_2 = hstack((example_tfidf_title_2, example_tfidf_text_2, example_bait_2, example_polar_2, example_overlap_2, example_hand_2))"
   ]
  },
  {
   "cell_type": "markdown",
   "metadata": {},
   "source": [
    "#### Prediction"
   ]
  },
  {
   "cell_type": "code",
   "execution_count": 68,
   "metadata": {},
   "outputs": [
    {
     "data": {
      "text/plain": [
       "array(['Journalism'], dtype='<U10')"
      ]
     },
     "execution_count": 68,
     "metadata": {},
     "output_type": "execute_result"
    }
   ],
   "source": [
    "le.inverse_transform(gb_tfidf_gs.best_estimator_.predict(example_feats_2))"
   ]
  },
  {
   "cell_type": "code",
   "execution_count": 69,
   "metadata": {},
   "outputs": [
    {
     "data": {
      "text/plain": [
       "array([[0.00124901, 0.00415559, 0.9945954 ]])"
      ]
     },
     "execution_count": 69,
     "metadata": {},
     "output_type": "execute_result"
    }
   ],
   "source": [
    "gb_tfidf_gs.best_estimator_.predict_proba(example_feats_2)"
   ]
  },
  {
   "cell_type": "markdown",
   "metadata": {},
   "source": [
    "### 3rd example "
   ]
  },
  {
   "cell_type": "code",
   "execution_count": 217,
   "metadata": {},
   "outputs": [
    {
     "name": "stdout",
     "output_type": "stream",
     "text": [
      "HEADLINE: Кто подставил Путина: в Британии ищут виновников\n",
      "\n",
      "ARTICLE: Жители Соединенного Королевства все чаще сомневаются, что Скрипалей отравили по приказу Кремля \n",
      "\n",
      "Спустя три с половиной месяца после инцидента с бывшим офицером ГРУ Сергеем Скрипалем и его дочерью Юлией, обитатели Солсбери все чаще приходят к выводу, что Россия не виновата в случившемся. \n",
      "\n",
      "Путин – \"не глупый человек\", если бы он хотел убить кого-тот, тот был бы уже мертв, \"кто-то его подставил\", – приводит The New York Times слова жительницы Солсбери Лизы Кэри. Издание отмечает, что сразу после отравления Скрипалей правительство Великобритании выглядело победителем в в пиар-войне: союзники поддержали Терезу Мэй, и к концу марта из стран Евросоюза, США и Канады были высланы более 100 российских дипломатов. По теме Отец прикрылся Юлией Скрипаль Разгадку тайны Скрипалей нашли у США Англия боится повторить судьбу Скрипалей на ЧМ-2018 разведчик Сергей Скрипаль \n",
      "\n",
      "Однако затем Британия утратила контроль над информацией, сетует американский журналист, – российские издания начали активно продвигать альтернативные объяснения трагедии в Солсбери, – например, что за отравлением Скрипалей стоит Лондон, а сделано все это для того, чтобы отвлечь внимание от брексита.\n",
      "\n",
      "В итоге, жители Солсбери начали гадать, отчего Россия пытается найти причины ЧП, а правительство Соединенного Королевства не отвечает на выдвинутые версии. На нестыковки в деле Скрипалей ранее указывали и британские журналисты. Пока еще большинство жителей верят объяснениям официального Лондона, однако все больше становится тех, кто отмечает. что много вопросов остались без ответа. \n",
      "\n",
      "Так, горожане гадают, где сейчас находится полицейский Ник Бэйли (Nick Bailey), который первым попытался помочь Скрипалям и пострадал от нервно-паралитического газа. Других заботит, что стало с утками, которые плавали рядом с тем местом, где произошло ЧП. Власти утверждают, что утки просто улетели, но кое-кто подозревает, что их уничтожили, как кошку и морских свинок экс-шпиона.\n",
      "\n",
      "Также непонятно, одни места, которые посещали Скрипали в роковой для них день, одни были закрыты для людей, другие – нет. По мнению ряда местных жителей, есть ощущение, что им навязывают то, что к отравлению бывшего ГРУ и его дочери причастна Россия, однако в этой истории чего-то не хватает. \n",
      "\n",
      "Издание подчеркивает, что доверие британцев к своим институтам начало уменьшаться еще во время войны в Ираке, а сейчас Россия сделала максимум возможного, чтобы посеять в умах британцев недоверие к властям. Однако упомянутая выше Лиза Кэри утверждает, что она никогда не читала российские СМИ. А другие подчеркивают, что нападение на Скрипалей не было спецоперацией Москвы, потому что оно было \"слишком нескладным и безрассудным\".\n"
     ]
    }
   ],
   "source": [
    "example_title_3 = \"В Сочи пройдет зимняя Олимпиада\" \n",
    "example_body_3 =\"Спортивные соревнования предложили вновь провести на российском курорте \\n\\nВ 2026 г. на Красной Поляне могут пройти олимпийские соревнования по бобслею, скелетону и санному спорту. Это произойдет в том случае, если право принять у себя зимние Олимпийские игры получит турецкий город Эрзурум.\\n\\n\\n\\\"Мы много работаем, чтобы получить право на проведение Олимпиады. Мы думаем о том, чтобы провести Игры совместно с Сочи. В Сочи есть спортивные объекты, которых нет в Эрзуруме. Строить их у нас было бы слишком дорогой инвестицией, поэтому мы можем принять соревнования вместе \\\", - сообщил губернатор провинции Эрзурум Сейфеттин Азизоглу. Его слова приводит Inside the Games. По теме Россию обвинили в баснословных тратах на мегапроекты Олимпиада разорит хозяев \\n\\nВ Федерации санного спорта России с энтузиазмом восприняли эту идею.\\n\\n\\\"Отлично отношусь к этой идее и, как президент Федерации санного спорта России, ее поддерживаю. Россия – гостеприимная страна, мы всегда рады проведению мероприятий. А нам в родных стенах приятнее выступать. Но, к сожалению, этот вопрос решаю не я. Я бы каждый год международные соревнования проводила в Сочи\\\", – сообщила агентству \\\"Р-Спорт\\\" руководитель федерации Наталья Гарт. \\n\\nЭрзурум находится на северо-востоке Турции. Расстояние от него до Сочи по прямой, через горы и Черное море, составляет 431 километр. Если часть соревнований на играх в Эрзуруме будет отдана российскому курорту, то их участникам придется добираться до столицы Олимпиады и обратно на авиационном транспорте.\\n\\nСоревнования по указанным Азизоглу видам спорта во время сочинской Олимпиады проходили в центре \\\"Санки\\\", расположенном в Красной Поляне, в 60 км от аэропорта в Адлере. Объект был построен специально к играм. После Олимпиады на нем регулярно проводятся международные старты.\\n\\nТак, в сезоне 2014\\/15 гг. трасса \\\"Санки\\\" приняла этап Кубка мира по бобслею и скелетону, в 2015 г. – чемпионат Европы по санному спорту, а в сезоне-2015\\/16 – этап Кубка мира по санному спорту. В феврале 2017 г. в Сочи должен был пройти чемпионат мира по бобслею и скелетону, но Международная федерация бобслея и скелетона из-за допинг-скандала перенесла турнир в немецкий Кенигзее.\\n\\nНа проведение зимней Олимпиады в 2026 г. претендуют пять городов. Их список был обнародован в апреле этого года. Претендентами являются австрийский Грац, канадский Калгари, японский Саппоро, шведский Стокгольм, швейцарский Сьон и турецкий Эрзурум. Место проведения игр будет определено в сентябре 2019 года.\" \"https:\\/\\/www.utro.ru\\/sport\\/2018\\/09\\/25\\/1375031.shtml\"\n",
    "\n",
    "print(\"HEADLINE: {0}\\n\\nARTICLE: {1}\".format(example_title_3, example_body_3))"
   ]
  },
  {
   "cell_type": "code",
   "execution_count": 218,
   "metadata": {},
   "outputs": [
    {
     "name": "stderr",
     "output_type": "stream",
     "text": [
      "1it [00:00, 239.10it/s]\n",
      "1it [00:00, 263.94it/s]\n",
      "1it [00:00, 346.12it/s]\n"
     ]
    }
   ],
   "source": [
    "example_tfidf_title_3 = tfidf.transform([\" \".join(p.normalize_text(p.beautify(example_title_3, normalize_text=False)))])\n",
    "example_tfidf_text_3 = tfidf.transform([\" \".join(p.normalize_text(p.beautify(example_body_3, normalize_text=False)))])\n",
    "\n",
    "example_overlap_3 = gen_or_load_feats(word_overlap_features,\n",
    "                                    [\" \".join(p.normalize(p.beautify(example_title_3, normalize_text=False)))],\n",
    "                                    [\" \".join(p.normalize(p.beautify(example_body_3, normalize_text=False)))], \n",
    "                                    \"../data/interim/overlap.example_3.npy\")\n",
    "\n",
    "example_hand_3 = gen_or_load_feats(hand_features,\n",
    "                                 [\" \".join(p.normalize(p.beautify(example_title_3, normalize_text=False)))],\n",
    "                                 [\" \".join(p.normalize(p.beautify(example_body_3, normalize_text=False)))],\n",
    "                                 \"../data/interim/hand.example_3.npy\")\n",
    "\n",
    "example_cosine_3 = gen_or_load_feats(cosine_features,\n",
    "                                   [\" \".join(p.normalize(p.beautify(example_title_3, normalize_text=False)))],\n",
    "                                   [\" \".join(p.normalize(p.beautify(example_body_3, normalize_text=False)))], \n",
    "                                   \"../data/interim/cosine.example_3.npy\")"
   ]
  },
  {
   "cell_type": "code",
   "execution_count": 219,
   "metadata": {},
   "outputs": [],
   "source": [
    "if np.isnan(example_cosine_3[0]):\n",
    "    example_cosine_3[0]=0.5\n",
    "    \n",
    "example_feats_3 = hstack((example_tfidf_title_3, example_tfidf_text_3, \n",
    "                          example_overlap_3, example_hand_3, example_cosine_3.reshape(-1,1)))"
   ]
  },
  {
   "cell_type": "markdown",
   "metadata": {},
   "source": [
    "#### Prediction"
   ]
  },
  {
   "cell_type": "code",
   "execution_count": 220,
   "metadata": {},
   "outputs": [
    {
     "data": {
      "text/plain": [
       "array(['Journalism'], dtype='<U10')"
      ]
     },
     "execution_count": 220,
     "metadata": {},
     "output_type": "execute_result"
    }
   ],
   "source": [
    "le.inverse_transform(gb_tfidf_gs.best_estimator_.predict(example_feats_3))"
   ]
  },
  {
   "cell_type": "code",
   "execution_count": 221,
   "metadata": {},
   "outputs": [
    {
     "data": {
      "text/plain": [
       "array([[0.00124192, 0.02566426, 0.97309382]])"
      ]
     },
     "execution_count": 221,
     "metadata": {},
     "output_type": "execute_result"
    }
   ],
   "source": [
    "gb_tfidf_gs.best_estimator_.predict_proba(example_feats_3)"
   ]
  }
 ],
 "metadata": {
  "kernelspec": {
   "display_name": "Python 3",
   "language": "python",
   "name": "python3"
  },
  "language_info": {
   "codemirror_mode": {
    "name": "ipython",
    "version": 3
   },
   "file_extension": ".py",
   "mimetype": "text/x-python",
   "name": "python",
   "nbconvert_exporter": "python",
   "pygments_lexer": "ipython3",
   "version": "3.7.1"
  }
 },
 "nbformat": 4,
 "nbformat_minor": 2
}
