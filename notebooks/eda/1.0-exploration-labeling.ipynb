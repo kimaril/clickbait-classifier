{
 "cells": [
  {
   "cell_type": "code",
   "execution_count": 1,
   "metadata": {},
   "outputs": [],
   "source": [
    "import pandas as pd\n",
    "import os\n",
    "from tqdm._tqdm_notebook import tqdm_notebook\n",
    "from sklearn.model_selection import train_test_split\n",
    "from writingdirs import to_dirs"
   ]
  },
  {
   "cell_type": "markdown",
   "metadata": {},
   "source": [
    "1. Оставить ТОЛЬКО 2018\n",
    "2. Выделить рандомный слайс с тем же распределением источников (примерно 100К новостей)\n",
    "3. СОХРАНИТЬ ЭТОТ СЛАЙС (И МОЛИТЬСЯ ЗА ЕГО НЕПРИКОСНОВЕННОСТЬ)\n",
    "4. Отделить агенства от всего остального\n",
    "5. Все остальное раскидать по папкам в зависимости от источника и размечать"
   ]
  },
  {
   "cell_type": "code",
   "execution_count": 3,
   "metadata": {},
   "outputs": [],
   "source": [
    "news = pd.read_json(\"../../data/raw/cleaned/newsdump18.json\", compression='zip')"
   ]
  },
  {
   "cell_type": "code",
   "execution_count": 7,
   "metadata": {},
   "outputs": [],
   "source": [
    "news = news[news[\"year\"]==2018].copy(deep=True)"
   ]
  },
  {
   "cell_type": "code",
   "execution_count": 8,
   "metadata": {},
   "outputs": [
    {
     "name": "stdout",
     "output_type": "stream",
     "text": [
      "News dump size (2018): 518145\n"
     ]
    },
    {
     "data": {
      "text/html": [
       "<div>\n",
       "<style scoped>\n",
       "    .dataframe tbody tr th:only-of-type {\n",
       "        vertical-align: middle;\n",
       "    }\n",
       "\n",
       "    .dataframe tbody tr th {\n",
       "        vertical-align: top;\n",
       "    }\n",
       "\n",
       "    .dataframe thead th {\n",
       "        text-align: right;\n",
       "    }\n",
       "</style>\n",
       "<table border=\"1\" class=\"dataframe\">\n",
       "  <thead>\n",
       "    <tr style=\"text-align: right;\">\n",
       "      <th></th>\n",
       "      <th>doc_id</th>\n",
       "      <th>docdate</th>\n",
       "      <th>text</th>\n",
       "      <th>title</th>\n",
       "      <th>url</th>\n",
       "      <th>source</th>\n",
       "      <th>year</th>\n",
       "    </tr>\n",
       "  </thead>\n",
       "  <tbody>\n",
       "    <tr>\n",
       "      <th>0</th>\n",
       "      <td>124272138</td>\n",
       "      <td>1542727380000</td>\n",
       "      <td>Россия поставила Анголе четыре истреьителя Су-...</td>\n",
       "      <td>Россия поставила Анголе четыре истребителя Су-...</td>\n",
       "      <td>http://www.interfax.ru/world/638657</td>\n",
       "      <td>Interfax</td>\n",
       "      <td>2018</td>\n",
       "    </tr>\n",
       "    <tr>\n",
       "      <th>1</th>\n",
       "      <td>124272120</td>\n",
       "      <td>1542726600000</td>\n",
       "      <td>Нерезиденты и дочерние иностранные банки в окт...</td>\n",
       "      <td>Нерезиденты в октябре купили ОФЗ на аукционах ...</td>\n",
       "      <td>http://www.interfax.ru/business/638658</td>\n",
       "      <td>Interfax</td>\n",
       "      <td>2018</td>\n",
       "    </tr>\n",
       "    <tr>\n",
       "      <th>10</th>\n",
       "      <td>111233217</td>\n",
       "      <td>1536057660000</td>\n",
       "      <td>Северо-Кавказский окружной военный суд вынес о...</td>\n",
       "      <td>Житель Ростовской области осужден на 11 лет за...</td>\n",
       "      <td>http://www.interfax.ru/russia/627809</td>\n",
       "      <td>Interfax</td>\n",
       "      <td>2018</td>\n",
       "    </tr>\n",
       "    <tr>\n",
       "      <th>100</th>\n",
       "      <td>110816371</td>\n",
       "      <td>1535913600000</td>\n",
       "      <td>Футболисты московского \"Динамо\" нанесли пораже...</td>\n",
       "      <td>Динамо\" обыграло \"Оренбург\" в матче чемпионата...</td>\n",
       "      <td>http://www.interfax.ru/sport/627601</td>\n",
       "      <td>Interfax</td>\n",
       "      <td>2018</td>\n",
       "    </tr>\n",
       "    <tr>\n",
       "      <th>1000</th>\n",
       "      <td>121896641</td>\n",
       "      <td>1541949840000</td>\n",
       "      <td>Движение FEMEN взяло на себя ответственность з...</td>\n",
       "      <td>Активистки FEMEN провели в Париже акцию против...</td>\n",
       "      <td>http://www.interfax.ru/world/637359</td>\n",
       "      <td>Interfax</td>\n",
       "      <td>2018</td>\n",
       "    </tr>\n",
       "  </tbody>\n",
       "</table>\n",
       "</div>"
      ],
      "text/plain": [
       "         doc_id        docdate  \\\n",
       "0     124272138  1542727380000   \n",
       "1     124272120  1542726600000   \n",
       "10    111233217  1536057660000   \n",
       "100   110816371  1535913600000   \n",
       "1000  121896641  1541949840000   \n",
       "\n",
       "                                                   text  \\\n",
       "0     Россия поставила Анголе четыре истреьителя Су-...   \n",
       "1     Нерезиденты и дочерние иностранные банки в окт...   \n",
       "10    Северо-Кавказский окружной военный суд вынес о...   \n",
       "100   Футболисты московского \"Динамо\" нанесли пораже...   \n",
       "1000  Движение FEMEN взяло на себя ответственность з...   \n",
       "\n",
       "                                                  title  \\\n",
       "0     Россия поставила Анголе четыре истребителя Су-...   \n",
       "1     Нерезиденты в октябре купили ОФЗ на аукционах ...   \n",
       "10    Житель Ростовской области осужден на 11 лет за...   \n",
       "100   Динамо\" обыграло \"Оренбург\" в матче чемпионата...   \n",
       "1000  Активистки FEMEN провели в Париже акцию против...   \n",
       "\n",
       "                                         url    source  year  \n",
       "0        http://www.interfax.ru/world/638657  Interfax  2018  \n",
       "1     http://www.interfax.ru/business/638658  Interfax  2018  \n",
       "10      http://www.interfax.ru/russia/627809  Interfax  2018  \n",
       "100      http://www.interfax.ru/sport/627601  Interfax  2018  \n",
       "1000     http://www.interfax.ru/world/637359  Interfax  2018  "
      ]
     },
     "execution_count": 8,
     "metadata": {},
     "output_type": "execute_result"
    }
   ],
   "source": [
    "print(\"News dump size (2018): {}\".format(news.shape[0]))\n",
    "news.head()"
   ]
  },
  {
   "cell_type": "code",
   "execution_count": 9,
   "metadata": {},
   "outputs": [
    {
     "data": {
      "text/html": [
       "<div>\n",
       "<style scoped>\n",
       "    .dataframe tbody tr th:only-of-type {\n",
       "        vertical-align: middle;\n",
       "    }\n",
       "\n",
       "    .dataframe tbody tr th {\n",
       "        vertical-align: top;\n",
       "    }\n",
       "\n",
       "    .dataframe thead th {\n",
       "        text-align: right;\n",
       "    }\n",
       "</style>\n",
       "<table border=\"1\" class=\"dataframe\">\n",
       "  <thead>\n",
       "    <tr style=\"text-align: right;\">\n",
       "      <th></th>\n",
       "      <th>doc_id</th>\n",
       "      <th>docdate</th>\n",
       "      <th>text</th>\n",
       "      <th>title</th>\n",
       "      <th>url</th>\n",
       "      <th>source</th>\n",
       "      <th>year</th>\n",
       "    </tr>\n",
       "  </thead>\n",
       "  <tbody>\n",
       "    <tr>\n",
       "      <th>999983</th>\n",
       "      <td>101505811</td>\n",
       "      <td>1532886060000</td>\n",
       "      <td>ЛОНДОН, 29 июля. /ТАСС/. Спекуляции британских...</td>\n",
       "      <td>Посольство РФ: спекуляции вокруг событий в Сол...</td>\n",
       "      <td>http://tass.ru/politika/5412449</td>\n",
       "      <td>TASS</td>\n",
       "      <td>2018</td>\n",
       "    </tr>\n",
       "    <tr>\n",
       "      <th>999984</th>\n",
       "      <td>101514291</td>\n",
       "      <td>1532877000000</td>\n",
       "      <td>Отмечается, что водитель транспортного средств...</td>\n",
       "      <td>СМИ: в Шанхае более 20 человек пострадали при ...</td>\n",
       "      <td>http://tass.ru/proisshestviya/5412332</td>\n",
       "      <td>TASS</td>\n",
       "      <td>2018</td>\n",
       "    </tr>\n",
       "    <tr>\n",
       "      <th>999985</th>\n",
       "      <td>101514298</td>\n",
       "      <td>1532863500000</td>\n",
       "      <td>Сообщается, что на борту транспортного средств...</td>\n",
       "      <td>СМИ: два человека погибли в ДТП с туристически...</td>\n",
       "      <td>http://tass.ru/proisshestviya/5412130</td>\n",
       "      <td>TASS</td>\n",
       "      <td>2018</td>\n",
       "    </tr>\n",
       "    <tr>\n",
       "      <th>999986</th>\n",
       "      <td>101505845</td>\n",
       "      <td>1532885880000</td>\n",
       "      <td>НЬЮ-ЙОРК, 29 июля. /ТАСС/. Президент США Донал...</td>\n",
       "      <td>Пенс: Трамп не хочет, чтобы политика ФРС повре...</td>\n",
       "      <td>http://tass.ru/ekonomika/5412445</td>\n",
       "      <td>TASS</td>\n",
       "      <td>2018</td>\n",
       "    </tr>\n",
       "    <tr>\n",
       "      <th>99999</th>\n",
       "      <td>58291380</td>\n",
       "      <td>1518621780000</td>\n",
       "      <td>Команда Олега Знарка начала выступление на Оли...</td>\n",
       "      <td>Россия забросила первую шайбу на Олимпиаде</td>\n",
       "      <td>http://www.dni.ru/sport/2018/2/14/391331.html</td>\n",
       "      <td>Dni.ru</td>\n",
       "      <td>2018</td>\n",
       "    </tr>\n",
       "  </tbody>\n",
       "</table>\n",
       "</div>"
      ],
      "text/plain": [
       "           doc_id        docdate  \\\n",
       "999983  101505811  1532886060000   \n",
       "999984  101514291  1532877000000   \n",
       "999985  101514298  1532863500000   \n",
       "999986  101505845  1532885880000   \n",
       "99999    58291380  1518621780000   \n",
       "\n",
       "                                                     text  \\\n",
       "999983  ЛОНДОН, 29 июля. /ТАСС/. Спекуляции британских...   \n",
       "999984  Отмечается, что водитель транспортного средств...   \n",
       "999985  Сообщается, что на борту транспортного средств...   \n",
       "999986  НЬЮ-ЙОРК, 29 июля. /ТАСС/. Президент США Донал...   \n",
       "99999   Команда Олега Знарка начала выступление на Оли...   \n",
       "\n",
       "                                                    title  \\\n",
       "999983  Посольство РФ: спекуляции вокруг событий в Сол...   \n",
       "999984  СМИ: в Шанхае более 20 человек пострадали при ...   \n",
       "999985  СМИ: два человека погибли в ДТП с туристически...   \n",
       "999986  Пенс: Трамп не хочет, чтобы политика ФРС повре...   \n",
       "99999          Россия забросила первую шайбу на Олимпиаде   \n",
       "\n",
       "                                                  url  source  year  \n",
       "999983                http://tass.ru/politika/5412449    TASS  2018  \n",
       "999984          http://tass.ru/proisshestviya/5412332    TASS  2018  \n",
       "999985          http://tass.ru/proisshestviya/5412130    TASS  2018  \n",
       "999986               http://tass.ru/ekonomika/5412445    TASS  2018  \n",
       "99999   http://www.dni.ru/sport/2018/2/14/391331.html  Dni.ru  2018  "
      ]
     },
     "execution_count": 9,
     "metadata": {},
     "output_type": "execute_result"
    }
   ],
   "source": [
    "news.tail()"
   ]
  },
  {
   "cell_type": "code",
   "execution_count": 11,
   "metadata": {},
   "outputs": [],
   "source": [
    "news.to_json(\"../../data/raw/cleaned/newsdump18.json\", force_ascii=False, orient='records', lines=True)"
   ]
  },
  {
   "cell_type": "code",
   "execution_count": 29,
   "metadata": {},
   "outputs": [],
   "source": [
    "rest, to_label = train_test_split(news.copy(deep=True), test_size=0.15, stratify=news.source)"
   ]
  },
  {
   "cell_type": "code",
   "execution_count": 30,
   "metadata": {},
   "outputs": [
    {
     "name": "stdout",
     "output_type": "stream",
     "text": [
      "News dump size (2018): 77722\n"
     ]
    },
    {
     "data": {
      "text/html": [
       "<div>\n",
       "<style scoped>\n",
       "    .dataframe tbody tr th:only-of-type {\n",
       "        vertical-align: middle;\n",
       "    }\n",
       "\n",
       "    .dataframe tbody tr th {\n",
       "        vertical-align: top;\n",
       "    }\n",
       "\n",
       "    .dataframe thead th {\n",
       "        text-align: right;\n",
       "    }\n",
       "</style>\n",
       "<table border=\"1\" class=\"dataframe\">\n",
       "  <thead>\n",
       "    <tr style=\"text-align: right;\">\n",
       "      <th></th>\n",
       "      <th>doc_id</th>\n",
       "      <th>docdate</th>\n",
       "      <th>text</th>\n",
       "      <th>title</th>\n",
       "      <th>url</th>\n",
       "      <th>source</th>\n",
       "      <th>year</th>\n",
       "    </tr>\n",
       "  </thead>\n",
       "  <tbody>\n",
       "    <tr>\n",
       "      <th>371344</th>\n",
       "      <td>51241521</td>\n",
       "      <td>1515507120000</td>\n",
       "      <td>Верховный руководитель и духовный лидер Исламс...</td>\n",
       "      <td>Хаменеи: США и Великобритании не удалось сломи...</td>\n",
       "      <td>https://rg.ru/2018/01/09/hamenei-ssha-i-veliko...</td>\n",
       "      <td>RG</td>\n",
       "      <td>2018</td>\n",
       "    </tr>\n",
       "    <tr>\n",
       "      <th>30445</th>\n",
       "      <td>57591582</td>\n",
       "      <td>1518370800000</td>\n",
       "      <td>Ространснадзор проведет внеплановую проверку а...</td>\n",
       "      <td>Ространснадзор проведет внеплановую проверку \"...</td>\n",
       "      <td>http://www.interfax.ru/russia/599464</td>\n",
       "      <td>Interfax</td>\n",
       "      <td>2018</td>\n",
       "    </tr>\n",
       "    <tr>\n",
       "      <th>14173</th>\n",
       "      <td>84832703</td>\n",
       "      <td>1527590760000</td>\n",
       "      <td>Ранее сообщалось, что боец смешанных единоборс...</td>\n",
       "      <td>На сайте Кремля опубликован указ о приеме Джеф...</td>\n",
       "      <td>http://www.interfax.ru/sport/614697</td>\n",
       "      <td>Interfax</td>\n",
       "      <td>2018</td>\n",
       "    </tr>\n",
       "    <tr>\n",
       "      <th>304511</th>\n",
       "      <td>91333741</td>\n",
       "      <td>1529611560000</td>\n",
       "      <td>Знакомство с производственным объединением \"Ма...</td>\n",
       "      <td>История создания первого промышленного реактор...</td>\n",
       "      <td>https://rg.ru/2018/06/21/reg-urfo/istoriia-soz...</td>\n",
       "      <td>RG</td>\n",
       "      <td>2018</td>\n",
       "    </tr>\n",
       "    <tr>\n",
       "      <th>753328</th>\n",
       "      <td>104267551</td>\n",
       "      <td>1533834840000</td>\n",
       "      <td>МОСКВА, 9 авг — РИА Новости. Россия не выдавал...</td>\n",
       "      <td>Стивену Сигалу не выдавали российский дипломат...</td>\n",
       "      <td>https://ria.ru/politics/20180809/1526264866.html</td>\n",
       "      <td>RIA</td>\n",
       "      <td>2018</td>\n",
       "    </tr>\n",
       "  </tbody>\n",
       "</table>\n",
       "</div>"
      ],
      "text/plain": [
       "           doc_id        docdate  \\\n",
       "371344   51241521  1515507120000   \n",
       "30445    57591582  1518370800000   \n",
       "14173    84832703  1527590760000   \n",
       "304511   91333741  1529611560000   \n",
       "753328  104267551  1533834840000   \n",
       "\n",
       "                                                     text  \\\n",
       "371344  Верховный руководитель и духовный лидер Исламс...   \n",
       "30445   Ространснадзор проведет внеплановую проверку а...   \n",
       "14173   Ранее сообщалось, что боец смешанных единоборс...   \n",
       "304511  Знакомство с производственным объединением \"Ма...   \n",
       "753328  МОСКВА, 9 авг — РИА Новости. Россия не выдавал...   \n",
       "\n",
       "                                                    title  \\\n",
       "371344  Хаменеи: США и Великобритании не удалось сломи...   \n",
       "30445   Ространснадзор проведет внеплановую проверку \"...   \n",
       "14173   На сайте Кремля опубликован указ о приеме Джеф...   \n",
       "304511  История создания первого промышленного реактор...   \n",
       "753328  Стивену Сигалу не выдавали российский дипломат...   \n",
       "\n",
       "                                                      url    source  year  \n",
       "371344  https://rg.ru/2018/01/09/hamenei-ssha-i-veliko...        RG  2018  \n",
       "30445                http://www.interfax.ru/russia/599464  Interfax  2018  \n",
       "14173                 http://www.interfax.ru/sport/614697  Interfax  2018  \n",
       "304511  https://rg.ru/2018/06/21/reg-urfo/istoriia-soz...        RG  2018  \n",
       "753328   https://ria.ru/politics/20180809/1526264866.html       RIA  2018  "
      ]
     },
     "execution_count": 30,
     "metadata": {},
     "output_type": "execute_result"
    }
   ],
   "source": [
    "print(\"News dump size (2018): {}\".format(to_label.shape[0]))\n",
    "to_label.head()"
   ]
  },
  {
   "cell_type": "code",
   "execution_count": 41,
   "metadata": {},
   "outputs": [],
   "source": [
    "if not os.path.exists(\"../../data/labeling\"):\n",
    "    os.mkdir(\"../../data/labeling\")"
   ]
  },
  {
   "cell_type": "code",
   "execution_count": 42,
   "metadata": {},
   "outputs": [],
   "source": [
    "to_label.to_json(\"../../data/labeling/26-02-to-label.json\", force_ascii=False, orient='records', lines=True)"
   ]
  },
  {
   "cell_type": "code",
   "execution_count": 2,
   "metadata": {},
   "outputs": [],
   "source": [
    "to_label = pd.read_json(\"../../data/labeling/26-02-to-label.json\", orient='records', lines=True)"
   ]
  },
  {
   "cell_type": "code",
   "execution_count": 8,
   "metadata": {},
   "outputs": [
    {
     "name": "stdout",
     "output_type": "stream",
     "text": [
      "Writing to RG directory...\n",
      "Writing to Novaya Gazeta directory...\n",
      "Writing to KP directory...\n",
      "Writing to Dni.ru directory...\n",
      "Writing to Utro.ru directory...\n",
      "Writing to Meduza directory...\n",
      "Writing to МК directory...\n"
     ]
    }
   ],
   "source": [
    "to_dirs(to_label[to_label.source.isin(['Interfax', 'RIA','TASS'])!=True], rootdir=\"../../data/labeling\", col=\"source\", content=[\"doc_id\", \"title\", \"text\", \"url\"])"
   ]
  },
  {
   "cell_type": "code",
   "execution_count": null,
   "metadata": {},
   "outputs": [],
   "source": []
  }
 ],
 "metadata": {
  "kernelspec": {
   "display_name": "Python2 (tf-gpu)",
   "language": "python",
   "name": "testenv"
  },
  "language_info": {
   "codemirror_mode": {
    "name": "ipython",
    "version": 3
   },
   "file_extension": ".py",
   "mimetype": "text/x-python",
   "name": "python",
   "nbconvert_exporter": "python",
   "pygments_lexer": "ipython3",
   "version": "3.6.8"
  }
 },
 "nbformat": 4,
 "nbformat_minor": 2
}
