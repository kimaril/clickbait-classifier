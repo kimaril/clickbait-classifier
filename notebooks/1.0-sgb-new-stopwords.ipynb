{
 "cells": [
  {
   "cell_type": "code",
   "execution_count": 1,
   "metadata": {},
   "outputs": [],
   "source": [
    "import pandas as pd\n",
    "import os\n",
    "import re\n",
    "import glob\n",
    "import json\n",
    "import matplotlib.pyplot as plt \n",
    "from tqdm._tqdm_notebook import tqdm_notebook\n",
    "import numpy as np\n",
    "from scipy.sparse import hstack, vstack\n",
    "import seaborn as sns\n",
    "\n",
    "from sklearn.feature_extraction.text import TfidfVectorizer\n",
    "from feature_extraction import hand_features, gen_or_load_feats, word_overlap_features, cosine_features\n",
    "from sklearn.ensemble import GradientBoostingClassifier\n",
    "from sklearn.model_selection import train_test_split, GridSearchCV\n",
    "\n",
    "from sklearn.preprocessing import LabelEncoder\n",
    "from sklearn.metrics import confusion_matrix\n",
    "from sklearn.externals import joblib\n",
    "\n",
    "%matplotlib inline"
   ]
  },
  {
   "cell_type": "code",
   "execution_count": 2,
   "metadata": {},
   "outputs": [],
   "source": [
    "import ipywidgets as widgets\n",
    "from ipywidgets import interact"
   ]
  },
  {
   "cell_type": "code",
   "execution_count": 3,
   "metadata": {},
   "outputs": [],
   "source": [
    "import sys\n",
    "\n",
    "my_utils_path = '/home/kim/spam-detector/src/utils'\n",
    "if my_utils_path not in sys.path:\n",
    "    sys.path.append(my_utils_path)\n",
    "\n",
    "from text_preprocessing import Preprocessor\n",
    "from plot_tools import plot_cm"
   ]
  },
  {
   "cell_type": "code",
   "execution_count": 7,
   "metadata": {},
   "outputs": [
    {
     "name": "stdout",
     "output_type": "stream",
     "text": [
      "HEADLINE: Сбитый над Донбассом \"Боинг\" выбрали спецслужбы\n",
      "\n",
      "ARTICLE: \n",
      "Среди погибших не было граждан США и Израиля \n",
      "\n",
      "Операцию по крушению пассажирского лайнера над Донбассом Украина готовила совместно с западными спецслужбами. Только упасть самолет должен был в Ростовской области. Но исполнители немного не рассчитали, и малазийский \"Боинг\" до России не дотянул, рухнул на украинской территории. Поэтому обвинить Россию в терроризме в 2014 году не удалось, отмечает военный эксперт Алексей Леонков. \n",
      "\n",
      "\"Здесь была грамотная работа специальных служб, которые способны выстроить сложный сценарий. По нему самолет должен был упасть на территории Ростовской области. И тогда неопровержимые доказательства того, что Россия причастна к этому, были бы предъявлены всему миру. Но что-то пошло не так\", – приводит \"Царьград\" слова Леонкова. По теме Казнить нельзя, помиловать: украинцам простят сбитый под Донбассом \"Боинг\" \"Боинг\" над Донбассом сбила Украина. LIVE \n",
      "\n",
      "Он обращает внимание, что на борту сбитого лайнера были граждане многих стран, однако – ни одного американца или жителя Израиля. По мнению эксперта, тут дело не только в том, что Израиль – союзник США. Просто украинцы в 2001 г. уже сбивали пассажирский самолет. Тогда погибли 78 человек, из них 51 - гражданин Израиля. \"Она сбила самолет своим комплексом С-200 во время учений. Не закрыла небо в том месте, где проводила учения\", – напомнил Леонков. \n",
      "\n",
      "Небо над Донбассом, где в 2014 г. шла настоящая война, Киев также \"забывчиво\" не закрыл. Однако подстраховался и проследил, чтобы на сбитом лайнере не было пассажиров из стран, отношения с которыми портить никак нельзя. \n",
      "\n",
      "Накануне Минобороны РФ обнародовало информацию, согласно которой \"Боинг\" Малазийских авиалиний был сбит из \"Бука\", принадлежащего украинской армии.\n",
      "\n",
      "LINK: https:\\/\\/www.utro.ru\\/politics\\/2018\\/09\\/18\\/1374232.shtml\n"
     ]
    }
   ],
   "source": [
    "fake_headline = \"Сбитый над Донбассом \\\"Боинг\\\" выбрали спецслужбы\"\n",
    "fake_body = \"Среди погибших не было граждан США и Израиля \\n\\nОперацию по крушению пассажирского лайнера над Донбассом Украина готовила совместно с западными спецслужбами. Только упасть самолет должен был в Ростовской области. Но исполнители немного не рассчитали, и малазийский \\\"Боинг\\\" до России не дотянул, рухнул на украинской территории. Поэтому обвинить Россию в терроризме в 2014 году не удалось, отмечает военный эксперт Алексей Леонков. \\n\\n\\\"Здесь была грамотная работа специальных служб, которые способны выстроить сложный сценарий. По нему самолет должен был упасть на территории Ростовской области. И тогда неопровержимые доказательства того, что Россия причастна к этому, были бы предъявлены всему миру. Но что-то пошло не так\\\", – приводит \\\"Царьград\\\" слова Леонкова. По теме Казнить нельзя, помиловать: украинцам простят сбитый под Донбассом \\\"Боинг\\\" \\\"Боинг\\\" над Донбассом сбила Украина. LIVE \\n\\nОн обращает внимание, что на борту сбитого лайнера были граждане многих стран, однако – ни одного американца или жителя Израиля. По мнению эксперта, тут дело не только в том, что Израиль – союзник США. Просто украинцы в 2001 г. уже сбивали пассажирский самолет. Тогда погибли 78 человек, из них 51 - гражданин Израиля. \\\"Она сбила самолет своим комплексом С-200 во время учений. Не закрыла небо в том месте, где проводила учения\\\", – напомнил Леонков. \\n\\nНебо над Донбассом, где в 2014 г. шла настоящая война, Киев также \\\"забывчиво\\\" не закрыл. Однако подстраховался и проследил, чтобы на сбитом лайнере не было пассажиров из стран, отношения с которыми портить никак нельзя. \\n\\nНакануне Минобороны РФ обнародовало информацию, согласно которой \\\"Боинг\\\" Малазийских авиалиний был сбит из \\\"Бука\\\", принадлежащего украинской армии.\"\n",
    "fake_url = \"https:\\/\\/www.utro.ru\\/politics\\/2018\\/09\\/18\\/1374232.shtml\"\n",
    "\n",
    "print(\"HEADLINE: {0}\\n\\nARTICLE: \\n{1}\\n\\nLINK: {2}\".format(fake_headline, fake_body, fake_url))"
   ]
  },
  {
   "cell_type": "markdown",
   "metadata": {},
   "source": [
    "# More bait "
   ]
  },
  {
   "cell_type": "code",
   "execution_count": 4,
   "metadata": {},
   "outputs": [],
   "source": [
    "data = pd.read_json(\"../data/interim/training-gbc-normalized-02-04.json\", orient='records', lines=True)"
   ]
  },
  {
   "cell_type": "code",
   "execution_count": 5,
   "metadata": {},
   "outputs": [
    {
     "data": {
      "application/vnd.jupyter.widget-view+json": {
       "model_id": "82a74c7cf01d4369957bfa536a0f3416",
       "version_major": 2,
       "version_minor": 0
      },
      "text/plain": [
       "interactive(children=(Dropdown(description='source', options=('interfax.ru', 'dni.ru', 'utro.ru', 'artificial'…"
      ]
     },
     "metadata": {},
     "output_type": "display_data"
    }
   ],
   "source": [
    "@interact\n",
    "def show_by_source(source=data.source.unique()):\n",
    "    df=data\n",
    "    print(\"Total number of posts: {}\".format(df.shape[0]))\n",
    "    print(\"Number of posts from source {0}: {1}\".format(source, df[df[\"source\"]==source].shape[0]))\n",
    "    return df[df[\"source\"]==source].head(10)"
   ]
  },
  {
   "cell_type": "markdown",
   "metadata": {},
   "source": [
    "## Preprocessing 2.0"
   ]
  },
  {
   "cell_type": "code",
   "execution_count": 6,
   "metadata": {},
   "outputs": [],
   "source": [
    "with open(\"../data/external/stopwords.txt\", mode=\"r\") as f:\n",
    "    stopwords = [s.replace(\"\\n\", \"\") for s in f.readlines()]\n",
    "    \n",
    "stopwords.remove(\"не\")\n",
    "stopwords.remove(\"нет\")\n",
    "\n",
    "p = Preprocessor(stopwords=stopwords)"
   ]
  },
  {
   "cell_type": "code",
   "execution_count": 7,
   "metadata": {},
   "outputs": [
    {
     "data": {
      "application/vnd.jupyter.widget-view+json": {
       "model_id": "458f807c42c34a03bcac81536f412cb5",
       "version_major": 2,
       "version_minor": 0
      },
      "text/plain": [
       "HBox(children=(IntProgress(value=0, description='Beautify', max=12575, style=ProgressStyle(description_width='…"
      ]
     },
     "metadata": {},
     "output_type": "display_data"
    },
    {
     "name": "stdout",
     "output_type": "stream",
     "text": [
      "\n"
     ]
    },
    {
     "data": {
      "application/vnd.jupyter.widget-view+json": {
       "model_id": "5b4a763a3d9441c3b7253af3b51e42a7",
       "version_major": 2,
       "version_minor": 0
      },
      "text/plain": [
       "HBox(children=(IntProgress(value=0, description='Beautify', max=12575, style=ProgressStyle(description_width='…"
      ]
     },
     "metadata": {},
     "output_type": "display_data"
    },
    {
     "name": "stdout",
     "output_type": "stream",
     "text": [
      "\n"
     ]
    }
   ],
   "source": [
    "tqdm_notebook.pandas(desc=\"Beautify\")\n",
    "\n",
    "data[\"text_norm\"] = data.text.progress_apply(lambda t : p.beautify(t, normalize_text=True))\n",
    "data[\"title_norm\"] = data.title.progress_apply(lambda t : p.beautify(t, normalize_text=True))"
   ]
  },
  {
   "cell_type": "code",
   "execution_count": 8,
   "metadata": {},
   "outputs": [
    {
     "name": "stderr",
     "output_type": "stream",
     "text": [
      "12575it [02:16, 91.88it/s] \n",
      "12575it [03:23, 61.76it/s]\n",
      "12575it [02:26, 85.76it/s] \n"
     ]
    }
   ],
   "source": [
    "if not os.path.exists(\"../data/interim/features/new_stopwords\"):\n",
    "    os.mkdir(\"../data/interim/features/new_stopwords\")\n",
    "\n",
    "overlap = gen_or_load_feats(word_overlap_features,\n",
    "                            data.title_norm.tolist(), \n",
    "                            data.text_norm.tolist(), \n",
    "                            \"../data/interim/features/new_stopwords/overlap.npy\")\n",
    "\n",
    "hand = gen_or_load_feats(hand_features,\n",
    "                         data.title_norm.tolist(), \n",
    "                         data.text_norm.tolist(), \n",
    "                         \"../data/interim/features/new_stopwords/hand.npy\")\n",
    "\n",
    "cosine = gen_or_load_feats(cosine_features, \n",
    "                           data.title_norm.tolist(), \n",
    "                           data.text_norm.tolist(), \n",
    "                           \"../data/interim/features/new_stopwords/cosine.npy\")"
   ]
  },
  {
   "cell_type": "code",
   "execution_count": 9,
   "metadata": {},
   "outputs": [],
   "source": [
    "generated_features = np.hstack((overlap, hand, cosine.reshape(-1,1)))   \n",
    "\n",
    "if not os.path.exists(\"../data/interim/matrixform/new_stopwords/\"):\n",
    "    os.mkdir(\"../data/interim/matrixform/new_stopwords/\")\n",
    "    \n",
    "np.save(\"../data/interim/matrixform/new_stopwords/generated_features.npy\", generated_features)"
   ]
  },
  {
   "cell_type": "code",
   "execution_count": 10,
   "metadata": {
    "scrolled": true
   },
   "outputs": [
    {
     "data": {
      "application/vnd.jupyter.widget-view+json": {
       "model_id": "224b85545699453b8bdc4079465a85eb",
       "version_major": 2,
       "version_minor": 0
      },
      "text/plain": [
       "interactive(children=(Dropdown(description='label', options=('Journalism', 'Clickbait', 'Artificial'), value='…"
      ]
     },
     "metadata": {},
     "output_type": "display_data"
    }
   ],
   "source": [
    "@interact\n",
    "def show_by_label(label=data.label.unique()):\n",
    "    df=data\n",
    "    print(\"Total number of posts: {}\".format(df.shape[0]))\n",
    "    print(\"Number of posts labeled {0}: {1}\".format(label, df[df[\"label\"]==label].shape[0]))\n",
    "    return df[df[\"label\"]==label].head(10)"
   ]
  },
  {
   "cell_type": "code",
   "execution_count": 11,
   "metadata": {},
   "outputs": [],
   "source": [
    "le = LabelEncoder()\n",
    "y = le.fit_transform(data[\"label\"].tolist())"
   ]
  },
  {
   "cell_type": "markdown",
   "metadata": {},
   "source": [
    "### Train Stochastic Gradient Boosting Classifier on generated features"
   ]
  },
  {
   "cell_type": "code",
   "execution_count": 12,
   "metadata": {},
   "outputs": [],
   "source": [
    "X_train, X_test, y_train, y_test = train_test_split(generated_features, y, test_size=0.2)"
   ]
  },
  {
   "cell_type": "code",
   "execution_count": 13,
   "metadata": {},
   "outputs": [],
   "source": [
    "parameters = {\"n_estimators\" : 50*np.linspace(start=2, stop=8, num=6, dtype=int),\n",
    "              \"subsample\" : 0.1*np.linspace(start=5, stop=9, num=5, dtype=int)}\n",
    "\n",
    "clf = GradientBoostingClassifier(random_state=42, verbose=False)\n",
    "gb_gs = GridSearchCV(estimator=clf, param_grid=parameters, cv=5, verbose=1, n_jobs=8)"
   ]
  },
  {
   "cell_type": "code",
   "execution_count": 14,
   "metadata": {},
   "outputs": [
    {
     "name": "stdout",
     "output_type": "stream",
     "text": [
      "Fitting 5 folds for each of 30 candidates, totalling 150 fits\n"
     ]
    },
    {
     "name": "stderr",
     "output_type": "stream",
     "text": [
      "[Parallel(n_jobs=8)]: Using backend LokyBackend with 8 concurrent workers.\n",
      "[Parallel(n_jobs=8)]: Done  34 tasks      | elapsed:   11.4s\n",
      "[Parallel(n_jobs=8)]: Done 150 out of 150 | elapsed:  1.4min finished\n"
     ]
    },
    {
     "data": {
      "text/plain": [
       "GridSearchCV(cv=5, error_score='raise-deprecating',\n",
       "       estimator=GradientBoostingClassifier(criterion='friedman_mse', init=None,\n",
       "              learning_rate=0.1, loss='deviance', max_depth=3,\n",
       "              max_features=None, max_leaf_nodes=None,\n",
       "              min_impurity_decrease=0.0, min_impurity_split=None,\n",
       "              min_samples_leaf=1, min_sampl...  subsample=1.0, tol=0.0001, validation_fraction=0.1,\n",
       "              verbose=False, warm_start=False),\n",
       "       fit_params=None, iid='warn', n_jobs=8,\n",
       "       param_grid={'n_estimators': array([100, 150, 200, 250, 300, 400]), 'subsample': array([0.5, 0.6, 0.7, 0.8, 0.9])},\n",
       "       pre_dispatch='2*n_jobs', refit=True, return_train_score='warn',\n",
       "       scoring=None, verbose=1)"
      ]
     },
     "execution_count": 14,
     "metadata": {},
     "output_type": "execute_result"
    }
   ],
   "source": [
    "gb_gs.fit(X_train, y_train)"
   ]
  },
  {
   "cell_type": "code",
   "execution_count": 15,
   "metadata": {},
   "outputs": [
    {
     "data": {
      "text/plain": [
       "0.8985089463220676"
      ]
     },
     "execution_count": 15,
     "metadata": {},
     "output_type": "execute_result"
    }
   ],
   "source": [
    "gb_gs.best_score_"
   ]
  },
  {
   "cell_type": "code",
   "execution_count": 16,
   "metadata": {},
   "outputs": [
    {
     "data": {
      "text/plain": [
       "{'n_estimators': 100, 'subsample': 0.7000000000000001}"
      ]
     },
     "execution_count": 16,
     "metadata": {},
     "output_type": "execute_result"
    }
   ],
   "source": [
    "gb_gs.best_params_"
   ]
  },
  {
   "cell_type": "code",
   "execution_count": 17,
   "metadata": {
    "scrolled": false
   },
   "outputs": [
    {
     "data": {
      "image/png": "[encoded data removed]",
      "text/plain": [
       "<Figure size 720x504 with 2 Axes>"
      ]
     },
     "metadata": {
      "needs_background": "light"
     },
     "output_type": "display_data"
    }
   ],
   "source": [
    "plot_cm(confusion_matrix(y_test, gb_gs.best_estimator_.predict(X_test)), \n",
    "        classes=gb_gs.classes_, classifier_name=\"Stochastic Gradient Boosting\")"
   ]
  },
  {
   "cell_type": "markdown",
   "metadata": {},
   "source": [
    "## With TF-IDF"
   ]
  },
  {
   "cell_type": "code",
   "execution_count": 21,
   "metadata": {},
   "outputs": [],
   "source": [
    "tfidf = TfidfVectorizer(min_df=0.001, max_df=0.9, ngram_range=(1,2))\n",
    "text_tfidf = tfidf.fit_transform(data.title_norm.values.flatten())\n",
    "title_tfidf = tfidf.transform(data.text_norm.values.flatten())"
   ]
  },
  {
   "cell_type": "code",
   "execution_count": 22,
   "metadata": {},
   "outputs": [
    {
     "data": {
      "text/plain": [
       "1638"
      ]
     },
     "execution_count": 22,
     "metadata": {},
     "output_type": "execute_result"
    }
   ],
   "source": [
    "len(tfidf.vocabulary_)"
   ]
  },
  {
   "cell_type": "code",
   "execution_count": 23,
   "metadata": {},
   "outputs": [],
   "source": [
    "X = hstack((title_tfidf, text_tfidf, generated_features))"
   ]
  },
  {
   "cell_type": "code",
   "execution_count": 24,
   "metadata": {},
   "outputs": [],
   "source": [
    "X_train, X_test, y_train, y_test = train_test_split(X, y, test_size=0.2)"
   ]
  },
  {
   "cell_type": "code",
   "execution_count": 80,
   "metadata": {},
   "outputs": [],
   "source": [
    "parameters = {\"n_estimators\" : np.linspace(start=200, stop=300, num=5, dtype=int),\n",
    "              \"subsample\" : np.linspace(start=0.5, stop=0.9, num=5)}\n",
    "\n",
    "clf = GradientBoostingClassifier(random_state=42, verbose=True)\n",
    "gb_tfidf_gs = GridSearchCV(estimator=clf, param_grid=parameters, cv=5, verbose=1, n_jobs=10)"
   ]
  },
  {
   "cell_type": "code",
   "execution_count": 81,
   "metadata": {
    "scrolled": true
   },
   "outputs": [
    {
     "name": "stdout",
     "output_type": "stream",
     "text": [
      "Fitting 5 folds for each of 25 candidates, totalling 125 fits\n"
     ]
    },
    {
     "name": "stderr",
     "output_type": "stream",
     "text": [
      "[Parallel(n_jobs=10)]: Using backend LokyBackend with 10 concurrent workers.\n",
      "[Parallel(n_jobs=10)]: Done  30 tasks      | elapsed:  3.2min\n",
      "[Parallel(n_jobs=10)]: Done 125 out of 125 | elapsed: 16.4min finished\n"
     ]
    },
    {
     "name": "stdout",
     "output_type": "stream",
     "text": [
      "      Iter       Train Loss      OOB Improve   Remaining Time \n",
      "         1        6696.2117          95.4159            2.33m\n",
      "         2        5987.2962          77.6086            2.16m\n",
      "         3        5395.9929          63.8416            2.06m\n",
      "         4        4898.9563          54.5757            2.00m\n",
      "         5        4465.2243          44.4757            1.97m\n",
      "         6        4127.8258          39.0127            1.94m\n",
      "         7        3818.9877          33.3368            1.93m\n",
      "         8        3550.0354          29.0193            1.92m\n",
      "         9        3317.7118          24.9600            1.90m\n",
      "        10        3102.7994          21.4787            1.88m\n",
      "        20        1921.8237           7.4130            1.78m\n",
      "        30        1449.4309           2.1927            1.70m\n",
      "        40        1178.5072           0.5658            1.62m\n",
      "        50        1052.5645           0.2051            1.55m\n",
      "        60         905.5623           0.1467            1.48m\n",
      "        70         815.6906          -0.0354            1.41m\n",
      "        80         764.4757          -0.0252            1.34m\n",
      "        90         718.3893          -0.0305            1.27m\n",
      "       100         674.0858           0.0124            1.20m\n",
      "       200         464.9683          -0.0536           30.57s\n"
     ]
    },
    {
     "data": {
      "text/plain": [
       "GridSearchCV(cv=5, error_score='raise-deprecating',\n",
       "       estimator=GradientBoostingClassifier(criterion='friedman_mse', init=None,\n",
       "              learning_rate=0.1, loss='deviance', max_depth=3,\n",
       "              max_features=None, max_leaf_nodes=None,\n",
       "              min_impurity_decrease=0.0, min_impurity_split=None,\n",
       "              min_samples_leaf=1, min_sampl...   subsample=1.0, tol=0.0001, validation_fraction=0.1,\n",
       "              verbose=True, warm_start=False),\n",
       "       fit_params=None, iid='warn', n_jobs=10,\n",
       "       param_grid={'n_estimators': array([200, 225, 250, 275, 300]), 'subsample': array([0.5, 0.6, 0.7, 0.8, 0.9])},\n",
       "       pre_dispatch='2*n_jobs', refit=True, return_train_score='warn',\n",
       "       scoring=None, verbose=1)"
      ]
     },
     "execution_count": 81,
     "metadata": {},
     "output_type": "execute_result"
    }
   ],
   "source": [
    "gb_tfidf_gs.fit(X_train, y_train)"
   ]
  },
  {
   "cell_type": "code",
   "execution_count": 82,
   "metadata": {},
   "outputs": [
    {
     "data": {
      "text/plain": [
       "{'n_estimators': 275, 'subsample': 0.9}"
      ]
     },
     "execution_count": 82,
     "metadata": {},
     "output_type": "execute_result"
    }
   ],
   "source": [
    "gb_tfidf_gs.best_params_"
   ]
  },
  {
   "cell_type": "code",
   "execution_count": 83,
   "metadata": {
    "scrolled": false
   },
   "outputs": [
    {
     "data": {
      "image/png": "[encoded data removed]",
      "text/plain": [
       "<Figure size 720x504 with 2 Axes>"
      ]
     },
     "metadata": {
      "needs_background": "light"
     },
     "output_type": "display_data"
    }
   ],
   "source": [
    "plot_cm(confusion_matrix(y_test, gb_tfidf_gs.best_estimator_.predict(X_test)), \n",
    "        classes=gb_gs.classes_, classifier_name=\"Stochastic Gradient Boosting\")"
   ]
  },
  {
   "cell_type": "code",
   "execution_count": 84,
   "metadata": {},
   "outputs": [
    {
     "data": {
      "image/png": "[encoded data removed]",
      "text/plain": [
       "<Figure size 720x504 with 2 Axes>"
      ]
     },
     "metadata": {
      "needs_background": "light"
     },
     "output_type": "display_data"
    }
   ],
   "source": [
    "plot_cm(confusion_matrix(y, gb_tfidf_gs.best_estimator_.predict(X)), \n",
    "        classes=gb_gs.classes_, classifier_name=\"Stochastic Gradient Boosting (full sample)\")"
   ]
  },
  {
   "cell_type": "markdown",
   "metadata": {},
   "source": [
    "Let's save our data and models and souls"
   ]
  },
  {
   "cell_type": "code",
   "execution_count": 138,
   "metadata": {},
   "outputs": [],
   "source": [
    "np.save(\"../data/interim/matrixform/text-tfidf-02-04.npy\", text_tfidf)\n",
    "np.save(\"../data/interim/matrixform/title-tfidf-02-04.npy\", title_tfidf)"
   ]
  },
  {
   "cell_type": "code",
   "execution_count": 139,
   "metadata": {},
   "outputs": [],
   "source": [
    "data.to_json(\"../data/interim/training-gbc-normalized-02-04.json\", force_ascii=False, orient='records', lines=True)"
   ]
  },
  {
   "cell_type": "code",
   "execution_count": 141,
   "metadata": {},
   "outputs": [
    {
     "data": {
      "text/plain": [
       "['../models/ensemble/gbc-generated-feats-with-tf-idf-02-04.pkl']"
      ]
     },
     "execution_count": 141,
     "metadata": {},
     "output_type": "execute_result"
    }
   ],
   "source": [
    "if not os.path.exists(\"../models/ensemble\"):\n",
    "    os.mkdir(\"../models/ensemble\")\n",
    "\n",
    "joblib.dump(gb_gs.best_estimator_, \"../models/ensemble/gbc-generated-feats-no-tf-idf-02-04.pkl\")\n",
    "joblib.dump(gb_tfidf_gs.best_estimator_, \"../models/ensemble/gbc-generated-feats-with-tf-idf-02-04.pkl\")"
   ]
  },
  {
   "cell_type": "markdown",
   "metadata": {},
   "source": [
    "### Test on completly new unseen data"
   ]
  },
  {
   "cell_type": "markdown",
   "metadata": {},
   "source": [
    "**NB:** NaN cosine distance values will be replaced with 0.5"
   ]
  },
  {
   "cell_type": "markdown",
   "metadata": {},
   "source": [
    "### 1st example"
   ]
  },
  {
   "cell_type": "code",
   "execution_count": 85,
   "metadata": {},
   "outputs": [],
   "source": [
    "example_title = \"Звезду первого советского фильма ужасов убило проклятье\"\n",
    "example_body = \"В студенческие годы она напророчила Анатолию Ромашину трех жен, столько же детей (двух дочерей и сына) и смерть в 83 года. Сбылось все, кроме последнего. Актер погиб не старым – в 69 лет. А виною всему, по мнению поклонников, – его роковые роли.\\n\\nАктер не раз \\\"умирал\\\" и на театральной сцене, и в кино. Жизнь Анатолия Владимировича оборвала наполовину подпиленная сосна, которая упала на него, и он мгновенно скончался. После этого пошли слухи, что актер перед смертью выглядел подавленным, как будто что-то предчувствовал. И фанаты тут же заговорили о проклятье, пишет \\\"Телепрограмма\\\".\\n\\nОдну из самых заметных ролей Ромашин сыграл в фильме Станислава Говорухина \\\"Десять негритят\\\", вышедшем на экраны в 1987 г. и называемом первым советским триллером. В нем герой актера погиб страшной смертью – его сбросили со скалы. \\n\\nКак рассказывали тогда, Анатолий Владимирович отказался сниматься в этом эпизоде, и его заменил дублер, который во время съемок едва не погиб. Потом ушли из жизни партнеры Ромашина по этой картине, два Александра – Кайдановский и Абдулов, и сразу заговорили о \\\"нехорошей мистике\\\" и \\\"проклятии\\\" фильма. \\n\\nШирокую популярность Ромашину принесла роль царя Николая II в фильме \\\"Агония\\\". Она тоже, по мнению многих была роковой, так как рано покинули этот мир другие советские актеры, сыигравшие самодержца. После четырех инсультов в 66 лет умер Бронислав Брондуков. Запил и в 42 года скончался Юрий Демич. В 45 лет, сорвавшись со скалы через два года после гибели Ромашина, ушел из жизни Андрей Ростоцкий. А еще одного \\\"Романова\\\" – Олега Янковского - в 65 лет сжег рак.\\n\\nНо самым мистическим многие считают еще одно совпадение. Незадолго до несчастного случая, повлекшего смерть актера, Ромашин снялся в фильме Булата Мансурова \\\"Сага древних булгар\\\". Там сыгранного им героя – русского князя – раздавливает деревянный настил. \\n\\nИ, когда Анатолия Владимировича не стало, эту роль назвали пророческой. Появились даже рассказы о некоем древнем проклятии, которое сгубило полного сил и замыслов талантливого и любимого человека...\""
   ]
  },
  {
   "cell_type": "code",
   "execution_count": 86,
   "metadata": {
    "scrolled": false
   },
   "outputs": [
    {
     "name": "stdout",
     "output_type": "stream",
     "text": [
      "HEADLINE: Звезду первого советского фильма ужасов убило проклятье\n",
      "\n",
      "ARTICLE: В студенческие годы она напророчила Анатолию Ромашину трех жен, столько же детей (двух дочерей и сына) и смерть в 83 года. Сбылось все, кроме последнего. Актер погиб не старым – в 69 лет. А виною всему, по мнению поклонников, – его роковые роли.\n",
      "\n",
      "Актер не раз \"умирал\" и на театральной сцене, и в кино. Жизнь Анатолия Владимировича оборвала наполовину подпиленная сосна, которая упала на него, и он мгновенно скончался. После этого пошли слухи, что актер перед смертью выглядел подавленным, как будто что-то предчувствовал. И фанаты тут же заговорили о проклятье, пишет \"Телепрограмма\".\n",
      "\n",
      "Одну из самых заметных ролей Ромашин сыграл в фильме Станислава Говорухина \"Десять негритят\", вышедшем на экраны в 1987 г. и называемом первым советским триллером. В нем герой актера погиб страшной смертью – его сбросили со скалы. \n",
      "\n",
      "Как рассказывали тогда, Анатолий Владимирович отказался сниматься в этом эпизоде, и его заменил дублер, который во время съемок едва не погиб. Потом ушли из жизни партнеры Ромашина по этой картине, два Александра – Кайдановский и Абдулов, и сразу заговорили о \"нехорошей мистике\" и \"проклятии\" фильма. \n",
      "\n",
      "Широкую популярность Ромашину принесла роль царя Николая II в фильме \"Агония\". Она тоже, по мнению многих была роковой, так как рано покинули этот мир другие советские актеры, сыигравшие самодержца. После четырех инсультов в 66 лет умер Бронислав Брондуков. Запил и в 42 года скончался Юрий Демич. В 45 лет, сорвавшись со скалы через два года после гибели Ромашина, ушел из жизни Андрей Ростоцкий. А еще одного \"Романова\" – Олега Янковского - в 65 лет сжег рак.\n",
      "\n",
      "Но самым мистическим многие считают еще одно совпадение. Незадолго до несчастного случая, повлекшего смерть актера, Ромашин снялся в фильме Булата Мансурова \"Сага древних булгар\". Там сыгранного им героя – русского князя – раздавливает деревянный настил. \n",
      "\n",
      "И, когда Анатолия Владимировича не стало, эту роль назвали пророческой. Появились даже рассказы о некоем древнем проклятии, которое сгубило полного сил и замыслов талантливого и любимого человека...\n"
     ]
    }
   ],
   "source": [
    "print(\"HEADLINE: {0}\\n\\nARTICLE: {1}\".format(example_title, example_body))"
   ]
  },
  {
   "cell_type": "code",
   "execution_count": 88,
   "metadata": {},
   "outputs": [
    {
     "name": "stderr",
     "output_type": "stream",
     "text": [
      "1it [00:00, 286.22it/s]\n",
      "1it [00:00, 214.59it/s]\n",
      "0it [00:00, ?it/s]/home/kim/anaconda3/lib/python3.7/site-packages/numpy/core/fromnumeric.py:2920: RuntimeWarning: Mean of empty slice.\n",
      "  out=out, **kwargs)\n",
      "/home/kim/anaconda3/lib/python3.7/site-packages/numpy/core/_methods.py:85: RuntimeWarning: invalid value encountered in double_scalars\n",
      "  ret = ret.dtype.type(ret / rcount)\n",
      "1it [00:00, 260.48it/s]\n"
     ]
    }
   ],
   "source": [
    "example_tfidf_title = tfidf.transform([\" \".join(p.normalize_text(p.beautify(example_title, normalize_text=True)))])\n",
    "example_tfidf_text = tfidf.transform([\" \".join(p.normalize_text(p.beautify(example_body, normalize_text=True)))])\n",
    "\n",
    "example_overlap = gen_or_load_feats(word_overlap_features,\n",
    "                                    [\" \".join(p.normalize(p.beautify(example_title, normalize_text=True)))],\n",
    "                                    [\" \".join(p.normalize(p.beautify(example_body, normalize_text=True)))], \n",
    "                                    \"../data/interim/overlap.example_.npy\")\n",
    "\n",
    "example_hand = gen_or_load_feats(hand_features,\n",
    "                                 [\" \".join(p.normalize(p.beautify(example_title, normalize_text=True)))],\n",
    "                                 [\" \".join(p.normalize(p.beautify(example_body, normalize_text=True)))],\n",
    "                                 \"../data/interim/hand.example_.npy\")\n",
    "\n",
    "example_cosine = gen_or_load_feats(cosine_features,\n",
    "                                   [\" \".join(p.normalize(p.beautify(example_title, normalize_text=True)))],\n",
    "                                   [\" \".join(p.normalize(p.beautify(example_body, normalize_text=True)))], \n",
    "                                   \"../data/interim/cosine.example_.npy\")"
   ]
  },
  {
   "cell_type": "code",
   "execution_count": 125,
   "metadata": {},
   "outputs": [],
   "source": [
    "if np.isnan(example_cosine[0]):\n",
    "    example_cosine[0]=0.5"
   ]
  },
  {
   "cell_type": "code",
   "execution_count": 126,
   "metadata": {},
   "outputs": [],
   "source": [
    "example_feats = hstack((example_tfidf_title, example_tfidf_text, example_overlap, example_hand, example_cosine.reshape(-1,1)))"
   ]
  },
  {
   "cell_type": "markdown",
   "metadata": {},
   "source": [
    "#### Prediction"
   ]
  },
  {
   "cell_type": "code",
   "execution_count": 127,
   "metadata": {},
   "outputs": [
    {
     "data": {
      "text/plain": [
       "array(['Journalism'], dtype='<U10')"
      ]
     },
     "execution_count": 127,
     "metadata": {},
     "output_type": "execute_result"
    }
   ],
   "source": [
    "le.inverse_transform(gb_tfidf_gs.best_estimator_.predict(example_feats))"
   ]
  },
  {
   "cell_type": "code",
   "execution_count": 124,
   "metadata": {
    "scrolled": true
   },
   "outputs": [
    {
     "data": {
      "text/plain": [
       "array([[0.00478959, 0.34798739, 0.64722301]])"
      ]
     },
     "execution_count": 124,
     "metadata": {},
     "output_type": "execute_result"
    }
   ],
   "source": [
    "gb_tfidf_gs.best_estimator_.predict_proba(example_feats)"
   ]
  },
  {
   "cell_type": "code",
   "execution_count": 93,
   "metadata": {},
   "outputs": [
    {
     "data": {
      "text/plain": [
       "array(['Journalism'], dtype='<U10')"
      ]
     },
     "execution_count": 93,
     "metadata": {},
     "output_type": "execute_result"
    }
   ],
   "source": [
    "le.inverse_transform(gb_gs.predict(np.hstack((example_overlap, example_hand, example_cosine.reshape(-1,1)))))"
   ]
  },
  {
   "cell_type": "code",
   "execution_count": 94,
   "metadata": {},
   "outputs": [
    {
     "data": {
      "text/plain": [
       "array([[0.00279031, 0.09932313, 0.89788656]])"
      ]
     },
     "execution_count": 94,
     "metadata": {},
     "output_type": "execute_result"
    }
   ],
   "source": [
    "gb_gs.predict_proba(np.hstack((example_overlap, example_hand, example_cosine.reshape(-1,1))))"
   ]
  },
  {
   "cell_type": "markdown",
   "metadata": {},
   "source": [
    "### 2nd example"
   ]
  },
  {
   "cell_type": "code",
   "execution_count": 95,
   "metadata": {},
   "outputs": [],
   "source": [
    "example_title_2 = \"Адвокат уверен, что он докажет невиновность Бутиной, и ее освободят\"\n",
    "example_body_2 = \"Суд в США оставил обвиняемую в шпионаже россиянку под стражей из-за «риска побега» \\n\\n \\n\\nРоссиянку Марию Бутину, задержанную в Вашингтоне по подозрению в шпионаже, оставили под стражей до начала судебного разбирательства по ее делу, однако адвокат Нил Дрисколл не сомневается, что ему удастся доказать невиновность своей подзащитной, и в итоге девушку освободят. \\n\\n«Она не является агентом российского правительства, Российской Федерации. Она невиновна в том, что ей инкриминируют», - заявил он.\""
   ]
  },
  {
   "cell_type": "code",
   "execution_count": 96,
   "metadata": {},
   "outputs": [
    {
     "name": "stdout",
     "output_type": "stream",
     "text": [
      "HEADLINE: Адвокат уверен, что он докажет невиновность Бутиной, и ее освободят\n",
      "\n",
      "ARTICLE: Суд в США оставил обвиняемую в шпионаже россиянку под стражей из-за «риска побега» \n",
      "\n",
      " \n",
      "\n",
      "Россиянку Марию Бутину, задержанную в Вашингтоне по подозрению в шпионаже, оставили под стражей до начала судебного разбирательства по ее делу, однако адвокат Нил Дрисколл не сомневается, что ему удастся доказать невиновность своей подзащитной, и в итоге девушку освободят. \n",
      "\n",
      "«Она не является агентом российского правительства, Российской Федерации. Она невиновна в том, что ей инкриминируют», - заявил он.\n"
     ]
    }
   ],
   "source": [
    "print(\"HEADLINE: {0}\\n\\nARTICLE: {1}\".format(example_title_2, example_body_2))"
   ]
  },
  {
   "cell_type": "code",
   "execution_count": 97,
   "metadata": {},
   "outputs": [
    {
     "name": "stderr",
     "output_type": "stream",
     "text": [
      "1it [00:00, 305.06it/s]\n",
      "1it [00:00, 266.42it/s]\n",
      "0it [00:00, ?it/s]/home/kim/anaconda3/lib/python3.7/site-packages/numpy/core/fromnumeric.py:2920: RuntimeWarning: Mean of empty slice.\n",
      "  out=out, **kwargs)\n",
      "/home/kim/anaconda3/lib/python3.7/site-packages/numpy/core/_methods.py:85: RuntimeWarning: invalid value encountered in double_scalars\n",
      "  ret = ret.dtype.type(ret / rcount)\n",
      "1it [00:00, 300.15it/s]\n"
     ]
    }
   ],
   "source": [
    "example_tfidf_title_2 = tfidf.transform([\" \".join(p.normalize_text(p.beautify(example_title_2, normalize_text=True)))])\n",
    "example_tfidf_text_2 = tfidf.transform([\" \".join(p.normalize_text(p.beautify(example_body_2, normalize_text=True)))])\n",
    "\n",
    "example_overlap_2 = gen_or_load_feats(word_overlap_features,\n",
    "                                    [\" \".join(p.normalize(p.beautify(example_title_2, normalize_text=True)))],\n",
    "                                    [\" \".join(p.normalize(p.beautify(example_body_2, normalize_text=True)))], \n",
    "                                    \"../data/interim/overlap.example_2_.npy\")\n",
    "\n",
    "example_hand_2 = gen_or_load_feats(hand_features,\n",
    "                                 [\" \".join(p.normalize(p.beautify(example_title_2, normalize_text=True)))],\n",
    "                                 [\" \".join(p.normalize(p.beautify(example_body_2, normalize_text=True)))],\n",
    "                                 \"../data/interim/hand.example_2_.npy\")\n",
    "\n",
    "example_cosine_2 = gen_or_load_feats(cosine_features,\n",
    "                                   [\" \".join(p.normalize(p.beautify(example_title_2, normalize_text=True)))],\n",
    "                                   [\" \".join(p.normalize(p.beautify(example_body_2, normalize_text=True)))], \n",
    "                                   \"../data/interim/cosine.example_2_.npy\")"
   ]
  },
  {
   "cell_type": "code",
   "execution_count": 98,
   "metadata": {},
   "outputs": [],
   "source": [
    "if np.isnan(example_cosine_2[0]):\n",
    "    example_cosine_2[0]=0.5"
   ]
  },
  {
   "cell_type": "code",
   "execution_count": 99,
   "metadata": {},
   "outputs": [],
   "source": [
    "example_feats_2 = hstack((example_tfidf_title_2, example_tfidf_text_2, \n",
    "                          example_overlap_2, example_hand_2, example_cosine_2.reshape(-1,1)))"
   ]
  },
  {
   "cell_type": "markdown",
   "metadata": {},
   "source": [
    "#### Prediction"
   ]
  },
  {
   "cell_type": "code",
   "execution_count": 100,
   "metadata": {},
   "outputs": [
    {
     "data": {
      "text/plain": [
       "array(['Journalism'], dtype='<U10')"
      ]
     },
     "execution_count": 100,
     "metadata": {},
     "output_type": "execute_result"
    }
   ],
   "source": [
    "le.inverse_transform(gb_tfidf_gs.best_estimator_.predict(example_feats_2))"
   ]
  },
  {
   "cell_type": "code",
   "execution_count": 101,
   "metadata": {},
   "outputs": [
    {
     "data": {
      "text/plain": [
       "array([[0.03771177, 0.27197635, 0.69031187]])"
      ]
     },
     "execution_count": 101,
     "metadata": {},
     "output_type": "execute_result"
    }
   ],
   "source": [
    "gb_tfidf_gs.best_estimator_.predict_proba(example_feats_2)"
   ]
  },
  {
   "cell_type": "code",
   "execution_count": 102,
   "metadata": {},
   "outputs": [
    {
     "data": {
      "text/plain": [
       "array(['Journalism'], dtype='<U10')"
      ]
     },
     "execution_count": 102,
     "metadata": {},
     "output_type": "execute_result"
    }
   ],
   "source": [
    "le.inverse_transform(gb_gs.predict(np.hstack((example_overlap_2, example_hand_2, example_cosine_2.reshape(-1,1)))))"
   ]
  },
  {
   "cell_type": "markdown",
   "metadata": {},
   "source": [
    "### 3rd example "
   ]
  },
  {
   "cell_type": "code",
   "execution_count": 106,
   "metadata": {},
   "outputs": [
    {
     "name": "stdout",
     "output_type": "stream",
     "text": [
      "HEADLINE: В Сочи пройдет зимняя Олимпиада\n",
      "\n",
      "ARTICLE: Спортивные соревнования предложили вновь провести на российском курорте \n",
      "\n",
      "В 2026 г. на Красной Поляне могут пройти олимпийские соревнования по бобслею, скелетону и санному спорту. Это произойдет в том случае, если право принять у себя зимние Олимпийские игры получит турецкий город Эрзурум.\n",
      "\n",
      "\n",
      "\"Мы много работаем, чтобы получить право на проведение Олимпиады. Мы думаем о том, чтобы провести Игры совместно с Сочи. В Сочи есть спортивные объекты, которых нет в Эрзуруме. Строить их у нас было бы слишком дорогой инвестицией, поэтому мы можем принять соревнования вместе \", - сообщил губернатор провинции Эрзурум Сейфеттин Азизоглу. Его слова приводит Inside the Games. По теме Россию обвинили в баснословных тратах на мегапроекты Олимпиада разорит хозяев \n",
      "\n",
      "В Федерации санного спорта России с энтузиазмом восприняли эту идею.\n",
      "\n",
      "\"Отлично отношусь к этой идее и, как президент Федерации санного спорта России, ее поддерживаю. Россия – гостеприимная страна, мы всегда рады проведению мероприятий. А нам в родных стенах приятнее выступать. Но, к сожалению, этот вопрос решаю не я. Я бы каждый год международные соревнования проводила в Сочи\", – сообщила агентству \"Р-Спорт\" руководитель федерации Наталья Гарт. \n",
      "\n",
      "Эрзурум находится на северо-востоке Турции. Расстояние от него до Сочи по прямой, через горы и Черное море, составляет 431 километр. Если часть соревнований на играх в Эрзуруме будет отдана российскому курорту, то их участникам придется добираться до столицы Олимпиады и обратно на авиационном транспорте.\n",
      "\n",
      "Соревнования по указанным Азизоглу видам спорта во время сочинской Олимпиады проходили в центре \"Санки\", расположенном в Красной Поляне, в 60 км от аэропорта в Адлере. Объект был построен специально к играм. После Олимпиады на нем регулярно проводятся международные старты.\n",
      "\n",
      "Так, в сезоне 2014\\/15 гг. трасса \"Санки\" приняла этап Кубка мира по бобслею и скелетону, в 2015 г. – чемпионат Европы по санному спорту, а в сезоне-2015\\/16 – этап Кубка мира по санному спорту. В феврале 2017 г. в Сочи должен был пройти чемпионат мира по бобслею и скелетону, но Международная федерация бобслея и скелетона из-за допинг-скандала перенесла турнир в немецкий Кенигзее.\n",
      "\n",
      "На проведение зимней Олимпиады в 2026 г. претендуют пять городов. Их список был обнародован в апреле этого года. Претендентами являются австрийский Грац, канадский Калгари, японский Саппоро, шведский Стокгольм, швейцарский Сьон и турецкий Эрзурум. Место проведения игр будет определено в сентябре 2019 года.https:\\/\\/www.utro.ru\\/sport\\/2018\\/09\\/25\\/1375031.shtml\n"
     ]
    }
   ],
   "source": [
    "example_title_3 = \"В Сочи пройдет зимняя Олимпиада\" \n",
    "example_body_3 =\"Спортивные соревнования предложили вновь провести на российском курорте \\n\\nВ 2026 г. на Красной Поляне могут пройти олимпийские соревнования по бобслею, скелетону и санному спорту. Это произойдет в том случае, если право принять у себя зимние Олимпийские игры получит турецкий город Эрзурум.\\n\\n\\n\\\"Мы много работаем, чтобы получить право на проведение Олимпиады. Мы думаем о том, чтобы провести Игры совместно с Сочи. В Сочи есть спортивные объекты, которых нет в Эрзуруме. Строить их у нас было бы слишком дорогой инвестицией, поэтому мы можем принять соревнования вместе \\\", - сообщил губернатор провинции Эрзурум Сейфеттин Азизоглу. Его слова приводит Inside the Games. По теме Россию обвинили в баснословных тратах на мегапроекты Олимпиада разорит хозяев \\n\\nВ Федерации санного спорта России с энтузиазмом восприняли эту идею.\\n\\n\\\"Отлично отношусь к этой идее и, как президент Федерации санного спорта России, ее поддерживаю. Россия – гостеприимная страна, мы всегда рады проведению мероприятий. А нам в родных стенах приятнее выступать. Но, к сожалению, этот вопрос решаю не я. Я бы каждый год международные соревнования проводила в Сочи\\\", – сообщила агентству \\\"Р-Спорт\\\" руководитель федерации Наталья Гарт. \\n\\nЭрзурум находится на северо-востоке Турции. Расстояние от него до Сочи по прямой, через горы и Черное море, составляет 431 километр. Если часть соревнований на играх в Эрзуруме будет отдана российскому курорту, то их участникам придется добираться до столицы Олимпиады и обратно на авиационном транспорте.\\n\\nСоревнования по указанным Азизоглу видам спорта во время сочинской Олимпиады проходили в центре \\\"Санки\\\", расположенном в Красной Поляне, в 60 км от аэропорта в Адлере. Объект был построен специально к играм. После Олимпиады на нем регулярно проводятся международные старты.\\n\\nТак, в сезоне 2014\\/15 гг. трасса \\\"Санки\\\" приняла этап Кубка мира по бобслею и скелетону, в 2015 г. – чемпионат Европы по санному спорту, а в сезоне-2015\\/16 – этап Кубка мира по санному спорту. В феврале 2017 г. в Сочи должен был пройти чемпионат мира по бобслею и скелетону, но Международная федерация бобслея и скелетона из-за допинг-скандала перенесла турнир в немецкий Кенигзее.\\n\\nНа проведение зимней Олимпиады в 2026 г. претендуют пять городов. Их список был обнародован в апреле этого года. Претендентами являются австрийский Грац, канадский Калгари, японский Саппоро, шведский Стокгольм, швейцарский Сьон и турецкий Эрзурум. Место проведения игр будет определено в сентябре 2019 года.\" \"https:\\/\\/www.utro.ru\\/sport\\/2018\\/09\\/25\\/1375031.shtml\"\n",
    "\n",
    "print(\"HEADLINE: {0}\\n\\nARTICLE: {1}\".format(example_title_3, example_body_3))"
   ]
  },
  {
   "cell_type": "code",
   "execution_count": 108,
   "metadata": {},
   "outputs": [
    {
     "name": "stderr",
     "output_type": "stream",
     "text": [
      "1it [00:00, 261.85it/s]\n",
      "1it [00:00, 390.42it/s]\n",
      "1it [00:00, 305.48it/s]\n"
     ]
    }
   ],
   "source": [
    "example_tfidf_title_3 = tfidf.transform([\" \".join(p.normalize_text(p.beautify(example_title_3, normalize_text=False)))])\n",
    "example_tfidf_text_3 = tfidf.transform([\" \".join(p.normalize_text(p.beautify(example_body_3, normalize_text=False)))])\n",
    "\n",
    "example_overlap_3 = gen_or_load_feats(word_overlap_features,\n",
    "                                    [\" \".join(p.normalize(p.beautify(example_title_3, normalize_text=False)))],\n",
    "                                    [\" \".join(p.normalize(p.beautify(example_body_3, normalize_text=False)))], \n",
    "                                    \"../data/interim/overlap.example_3_.npy\")\n",
    "\n",
    "example_hand_3 = gen_or_load_feats(hand_features,\n",
    "                                 [\" \".join(p.normalize(p.beautify(example_title_3, normalize_text=False)))],\n",
    "                                 [\" \".join(p.normalize(p.beautify(example_body_3, normalize_text=False)))],\n",
    "                                 \"../data/interim/hand.example_3_.npy\")\n",
    "\n",
    "example_cosine_3 = gen_or_load_feats(cosine_features,\n",
    "                                   [\" \".join(p.normalize(p.beautify(example_title_3, normalize_text=False)))],\n",
    "                                   [\" \".join(p.normalize(p.beautify(example_body_3, normalize_text=False)))], \n",
    "                                   \"../data/interim/cosine.example_3_.npy\")"
   ]
  },
  {
   "cell_type": "code",
   "execution_count": 109,
   "metadata": {},
   "outputs": [],
   "source": [
    "if np.isnan(example_cosine_3[0]):\n",
    "    example_cosine_3[0]=0.5\n",
    "    \n",
    "example_feats_3 = np.hstack((example_overlap_3, example_hand_3, example_cosine_3.reshape(-1,1)))"
   ]
  },
  {
   "cell_type": "markdown",
   "metadata": {},
   "source": [
    "#### Prediction"
   ]
  },
  {
   "cell_type": "code",
   "execution_count": 110,
   "metadata": {},
   "outputs": [
    {
     "data": {
      "text/plain": [
       "array(['Clickbait'], dtype='<U10')"
      ]
     },
     "execution_count": 110,
     "metadata": {},
     "output_type": "execute_result"
    }
   ],
   "source": [
    "le.inverse_transform(gb_gs.best_estimator_.predict(example_feats_3))"
   ]
  },
  {
   "cell_type": "code",
   "execution_count": 111,
   "metadata": {},
   "outputs": [
    {
     "data": {
      "text/plain": [
       "array([[0.01418024, 0.49528605, 0.49053372]])"
      ]
     },
     "execution_count": 111,
     "metadata": {},
     "output_type": "execute_result"
    }
   ],
   "source": [
    "gb_gs.best_estimator_.predict_proba(example_feats_3)"
   ]
  },
  {
   "cell_type": "code",
   "execution_count": 112,
   "metadata": {},
   "outputs": [
    {
     "data": {
      "text/plain": [
       "3278"
      ]
     },
     "execution_count": 112,
     "metadata": {},
     "output_type": "execute_result"
    }
   ],
   "source": [
    "gb_tfidf_gs.best_estimator_.feature_importances_.argmax()"
   ]
  },
  {
   "cell_type": "code",
   "execution_count": 65,
   "metadata": {},
   "outputs": [
    {
     "data": {
      "text/plain": [
       "3276"
      ]
     },
     "execution_count": 65,
     "metadata": {},
     "output_type": "execute_result"
    }
   ],
   "source": [
    "len(tfidf.vocabulary_)*2"
   ]
  },
  {
   "cell_type": "code",
   "execution_count": 66,
   "metadata": {},
   "outputs": [
    {
     "data": {
      "text/plain": [
       "28"
      ]
     },
     "execution_count": 66,
     "metadata": {},
     "output_type": "execute_result"
    }
   ],
   "source": [
    "len(example_overlap_3.ravel()) + len(example_hand_3.ravel()) + len(example_cosine_3.ravel())"
   ]
  },
  {
   "cell_type": "code",
   "execution_count": 67,
   "metadata": {},
   "outputs": [
    {
     "data": {
      "text/plain": [
       "array([[4, 4, 4, 4, 0, 0, 0, 0, 0, 0, 0, 0, 0, 0, 0, 0, 0, 0, 0, 0, 0, 0,\n",
       "        0, 0, 0, 0]])"
      ]
     },
     "execution_count": 67,
     "metadata": {},
     "output_type": "execute_result"
    }
   ],
   "source": [
    "example_hand_3"
   ]
  },
  {
   "cell_type": "code",
   "execution_count": 68,
   "metadata": {},
   "outputs": [
    {
     "data": {
      "text/plain": [
       "(3304,)"
      ]
     },
     "execution_count": 68,
     "metadata": {},
     "output_type": "execute_result"
    }
   ],
   "source": [
    "gb_tfidf_gs.best_estimator_.feature_importances_.shape"
   ]
  }
 ],
 "metadata": {
  "kernelspec": {
   "display_name": "Python 3",
   "language": "python",
   "name": "python3"
  },
  "language_info": {
   "codemirror_mode": {
    "name": "ipython",
    "version": 3
   },
   "file_extension": ".py",
   "mimetype": "text/x-python",
   "name": "python",
   "nbconvert_exporter": "python",
   "pygments_lexer": "ipython3",
   "version": "3.7.1"
  }
 },
 "nbformat": 4,
 "nbformat_minor": 2
}
